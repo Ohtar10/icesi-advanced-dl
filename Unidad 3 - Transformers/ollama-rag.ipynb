{
 "cells": [
  {
   "cell_type": "markdown",
   "metadata": {},
   "source": [
    "[![Open In Colab](https://colab.research.google.com/assets/colab-badge.svg)](https://colab.research.google.com/github/Ohtar10/icesi-advanced-dl/blob/main/Unidad%203%20-%20Transformers/ollama-rag.ipynb)\n",
    "### References\n",
    "- https://github.com/LozanoAlvarezb/MLOPS-Newtral/tree/main"
   ]
  },
  {
   "cell_type": "code",
   "execution_count": 1,
   "metadata": {},
   "outputs": [],
   "source": [
    "import pkg_resources\n",
    "import warnings\n",
    "\n",
    "warnings.filterwarnings('ignore')\n",
    "\n",
    "installed_packages = [package.key for package in pkg_resources.working_set]\n",
    "IN_COLAB = 'google-colab' in installed_packages"
   ]
  },
  {
   "cell_type": "code",
   "execution_count": 2,
   "metadata": {},
   "outputs": [],
   "source": [
    "!test '{IN_COLAB}' = 'True' && wget  https://github.com/Ohtar10/icesi-advanced-dl/raw/main/Unidad%203%20-%20Transformers/requirements.txt && pip install -r requirements.txt"
   ]
  },
  {
   "cell_type": "code",
   "execution_count": 3,
   "metadata": {},
   "outputs": [
    {
     "data": {
      "text/plain": [
       "Dataset({\n",
       "    features: ['title', 'section_name', 'summary', 'document', 'english_section_name', 'english_url', 'url'],\n",
       "    num_rows: 90528\n",
       "})"
      ]
     },
     "execution_count": 3,
     "metadata": {},
     "output_type": "execute_result"
    }
   ],
   "source": [
    "from datasets import load_dataset\n",
    "\n",
    "dataset = load_dataset('somosnlp/wikihow_es', split='train')\n",
    "dataset"
   ]
  },
  {
   "cell_type": "code",
   "execution_count": 4,
   "metadata": {},
   "outputs": [
    {
     "data": {
      "text/html": [
       "<div>\n",
       "<style scoped>\n",
       "    .dataframe tbody tr th:only-of-type {\n",
       "        vertical-align: middle;\n",
       "    }\n",
       "\n",
       "    .dataframe tbody tr th {\n",
       "        vertical-align: top;\n",
       "    }\n",
       "\n",
       "    .dataframe thead th {\n",
       "        text-align: right;\n",
       "    }\n",
       "</style>\n",
       "<table border=\"1\" class=\"dataframe\">\n",
       "  <thead>\n",
       "    <tr style=\"text-align: right;\">\n",
       "      <th></th>\n",
       "      <th>title</th>\n",
       "      <th>section_name</th>\n",
       "      <th>summary</th>\n",
       "      <th>document</th>\n",
       "      <th>english_section_name</th>\n",
       "      <th>english_url</th>\n",
       "      <th>url</th>\n",
       "    </tr>\n",
       "  </thead>\n",
       "  <tbody>\n",
       "    <tr>\n",
       "      <th>0</th>\n",
       "      <td>¿Cómo cultivar Delphinium?</td>\n",
       "      <td>Tomar esquejes de delphinium</td>\n",
       "      <td>Cuando llegue marzo o abril, escoge brotes nuevos cerca de la base de la planta. Haz el corte ce...</td>\n",
       "      <td>Estos brotes serán jóvenes y sólidos, lo que es importante para un esqueje sano. A medida que la...</td>\n",
       "      <td>Taking Delphinium Cuttings</td>\n",
       "      <td>https://www.wikihow.com/Grow-Delphinium</td>\n",
       "      <td>https://es.wikihow.com/cultivar-delphinium</td>\n",
       "    </tr>\n",
       "    <tr>\n",
       "      <th>1</th>\n",
       "      <td>¿Cómo elegir Un buen nombre de dominio para tu sitio web?</td>\n",
       "      <td>Pensar en el futuro</td>\n",
       "      <td>Comprométete con el nombre de dominio. Escoge un nombre que deje espacio para el crecimiento. Ev...</td>\n",
       "      <td>Cualquiera sea el nombre de dominio que escojas, debes asegurarte de comprometerte con este a la...</td>\n",
       "      <td>Thinking About the Future</td>\n",
       "      <td>https://www.wikihow.com/Pick-a-Good-Domain-Name-for-Your-Website</td>\n",
       "      <td>https://es.wikihow.com/elegir-un-buen-nombre-de-dominio-para-tu-sitio-web</td>\n",
       "    </tr>\n",
       "    <tr>\n",
       "      <th>2</th>\n",
       "      <td>¿Cómo hacer Tus propios regalos de navidad?</td>\n",
       "      <td>Convierte fotos en regalos</td>\n",
       "      <td>. Toma una fotografía Prueba las fotos personales.</td>\n",
       "      <td>ecora un marco de fotos. Compra un marco de fotos barato. Puedes usar plástico, pero otros mater...</td>\n",
       "      <td>Turning Photos Into Gifts</td>\n",
       "      <td>https://www.wikihow.com/Make-Your-Own-Christmas-Gifts</td>\n",
       "      <td>https://es.wikihow.com/hacer-tus-propios-regalos-de-Navidad</td>\n",
       "    </tr>\n",
       "    <tr>\n",
       "      <th>3</th>\n",
       "      <td>¿Cómo soñar Despierto?</td>\n",
       "      <td>Saber qué soñar</td>\n",
       "      <td>Sueña con tu futuro deseado. Sueña con tus cosas favoritas. Actúa en tus sueños. Sueña con algo ...</td>\n",
       "      <td>Soñar despierto con una meta en mente puede ayudarte a obtener la motivación para alcanzarla. Im...</td>\n",
       "      <td>Knowing What to Dream About</td>\n",
       "      <td>https://www.wikihow.com/Daydream</td>\n",
       "      <td>https://es.wikihow.com/so%C3%B1ar-despierto</td>\n",
       "    </tr>\n",
       "    <tr>\n",
       "      <th>4</th>\n",
       "      <td>¿Cómo planear Una fiesta de navidad que sea elegante?</td>\n",
       "      <td>Comidas y bebidas</td>\n",
       "      <td>Debes decidir si vas a servir bebidas alcohólicas en tu fiesta: Los bocadillos y postres son una...</td>\n",
       "      <td>en caso de hacerlo, debes tener refrescos o ponche para aquellos que no beban alcohol. También e...</td>\n",
       "      <td>Refreshments and Food</td>\n",
       "      <td>https://www.wikihow.com/Plan-an-Elegant-Christmas-Party</td>\n",
       "      <td>https://es.wikihow.com/planear-una-fiesta-de-navidad-que-sea-elegante</td>\n",
       "    </tr>\n",
       "    <tr>\n",
       "      <th>5</th>\n",
       "      <td>¿Cómo ver Las descargas en android?</td>\n",
       "      <td>Usar un administrador de archivos</td>\n",
       "      <td>Abre la bandeja de aplicaciones. Pulsa Descargas, Mis archivos o Administrador de archivos. Sele...</td>\n",
       "      <td>Esta es la lista de aplicaciones del dispositivo Android. Por lo general, puedes abrirla pulsand...</td>\n",
       "      <td>Using a File Manager</td>\n",
       "      <td>https://www.wikihow.com/View-Downloads-on-Android</td>\n",
       "      <td>https://es.wikihow.com/ver-las-descargas-en-Android</td>\n",
       "    </tr>\n",
       "    <tr>\n",
       "      <th>6</th>\n",
       "      <td>¿Cómo deshacerse De los insectos de escama?</td>\n",
       "      <td>Eliminar los insectos de escama del jardín</td>\n",
       "      <td>Usa los mismos métodos que los que usaste para las plantas del interior al combatir un ataque de...</td>\n",
       "      <td>Estos insectos son más predominantes al aire libre donde infestan a todas las especies de árbole...</td>\n",
       "      <td>Removing Scales from the Garden</td>\n",
       "      <td>https://www.wikihow.com/Get-Rid-of-Scale-Insects</td>\n",
       "      <td>https://es.wikihow.com/deshacerse-de-los-insectos-de-escama</td>\n",
       "    </tr>\n",
       "    <tr>\n",
       "      <th>7</th>\n",
       "      <td>¿Cómo quitar Una mancha de vino tinto de una mesa de madera?</td>\n",
       "      <td>Mancha fresca de vino tinto</td>\n",
       "      <td>Seca el derrame de vino tinto con un paño absorbente húmedo inmediatamente. Usa una toalla suave...</td>\n",
       "      <td>Asegúrate de sólo secar el área; no lo frotes ya que se podría extender en la superficie de made...</td>\n",
       "      <td>Fresh Red Wine Stain</td>\n",
       "      <td>https://www.wikihow.com/Remove-a-Red-Wine-Stain-Ring-from-a-Wood-Table</td>\n",
       "      <td>https://es.wikihow.com/quitar-una-mancha-de-vino-tinto-de-una-mesa-de-madera</td>\n",
       "    </tr>\n",
       "    <tr>\n",
       "      <th>8</th>\n",
       "      <td>¿Cómo adiestrar A un gato con un clicker?</td>\n",
       "      <td>Prepárate para entrenar al gato</td>\n",
       "      <td>Consigue un clicker. Ten algunos premios a la mano. Consigue un artículo objetivo. Encuentra un ...</td>\n",
       "      <td>Un clicker es una caja de plástico pequeña con una pestaña de metal. Al presionarla, produce un ...</td>\n",
       "      <td>Getting Ready to Train Your Cat</td>\n",
       "      <td>https://www.wikihow.com/Clicker-Train-a-Cat</td>\n",
       "      <td>https://es.wikihow.com/adiestrar-a-un-gato-con-un-clicker</td>\n",
       "    </tr>\n",
       "    <tr>\n",
       "      <th>9</th>\n",
       "      <td>¿Cómo hacer Un mate pastor en el ajedrez?</td>\n",
       "      <td>Realizar la jugada</td>\n",
       "      <td>Juega con las piezas blancas. e4: Bc4: Qh5: Qxf7: ¡Jaque Mate!</td>\n",
       "      <td>mueve el peón de tu rey dos cuadros hacia adelante (E2-E4). mueve el alfil del rey 3 cuadros a ...</td>\n",
       "      <td>Performing the Play</td>\n",
       "      <td>https://www.wikihow.com/Do-Scholar%27s-Mate-in-Chess</td>\n",
       "      <td>https://es.wikihow.com/hacer-un-Mate-Pastor-en-el-ajedrez</td>\n",
       "    </tr>\n",
       "    <tr>\n",
       "      <th>10</th>\n",
       "      <td>¿Cómo estructurar Un currículo?</td>\n",
       "      <td>Incluye secciones esenciales</td>\n",
       "      <td>Proporciona tu información personal. Incluye un encabezado o título. Incluye entre tres y cinco ...</td>\n",
       "      <td>En el encabezado debes incluir tu información personal como tu nombre y número de teléfono. Colo...</td>\n",
       "      <td>Including Essential Sections</td>\n",
       "      <td>https://www.wikihow.com/Format-a-Resume</td>\n",
       "      <td>https://es.wikihow.com/estructurar-un-curr%C3%ADculo</td>\n",
       "    </tr>\n",
       "    <tr>\n",
       "      <th>11</th>\n",
       "      <td>¿Cómo ser Modelo infantil?</td>\n",
       "      <td>Escoger ser modelo</td>\n",
       "      <td>Cerciórate de que el modelaje en verdad te interese. Determina si cuentas con la personalidad co...</td>\n",
       "      <td>Ser modelo podría parecerte un trabajo emocionante y glamoroso; no obstante, este en verdad requ...</td>\n",
       "      <td>Deciding to be a Model</td>\n",
       "      <td>https://www.wikihow.com/Become-a-Child-Model</td>\n",
       "      <td>https://es.wikihow.com/ser-modelo-infantil</td>\n",
       "    </tr>\n",
       "    <tr>\n",
       "      <th>12</th>\n",
       "      <td>¿Cómo eliminar Un diente que has tragado?</td>\n",
       "      <td>Esperar y mirar</td>\n",
       "      <td>Ten en cuenta cuándo ver a un médico. Observa tus heces. Relájate. Come maíz. Come frutas, verdu...</td>\n",
       "      <td>La mayoría de los objetos que son tragados, como los dientes, pasarán sin problemas a través del...</td>\n",
       "      <td>Waiting and Watching</td>\n",
       "      <td>https://www.wikihow.com/Remove-a-Swallowed-Tooth</td>\n",
       "      <td>https://es.wikihow.com/eliminar-un-diente-que-has-tragado</td>\n",
       "    </tr>\n",
       "    <tr>\n",
       "      <th>13</th>\n",
       "      <td>¿Cómo superar El miedo a las aguas profundas?</td>\n",
       "      <td>Prepararte mentalmente</td>\n",
       "      <td>Reconoce tu miedo. Coloca tu miedo en perspectiva. Identifica el origen de tu miedo.</td>\n",
       "      <td>Muchas personas que padecen esta fobia se traumatizan más con la vergüenza que esta origina. Ell...</td>\n",
       "      <td>Mentally Preparing Yourself</td>\n",
       "      <td>https://www.wikihow.com/Get-over-a-Fear-of-Deep-Water</td>\n",
       "      <td>https://es.wikihow.com/superar-el-miedo-a-las-aguas-profundas</td>\n",
       "    </tr>\n",
       "    <tr>\n",
       "      <th>14</th>\n",
       "      <td>¿Cómo criar Periquitos?</td>\n",
       "      <td>Crear el hábitat</td>\n",
       "      <td>Escoge una jaula de al menos 60 x 40 cm (25 x 15 pulgadas). Cubre la rejilla con periódico, en c...</td>\n",
       "      <td>Esto les dará espacio para que vuelen y estén separados. Si bien las aves disfrutan la compañía ...</td>\n",
       "      <td>Setting Up the Habitat</td>\n",
       "      <td>https://www.wikihow.com/Breed-Budgies</td>\n",
       "      <td>https://es.wikihow.com/criar-periquitos</td>\n",
       "    </tr>\n",
       "  </tbody>\n",
       "</table>\n",
       "</div>"
      ],
      "text/plain": [
       "                                                           title  \\\n",
       "0                                     ¿Cómo cultivar Delphinium?   \n",
       "1      ¿Cómo elegir Un buen nombre de dominio para tu sitio web?   \n",
       "2                    ¿Cómo hacer Tus propios regalos de navidad?   \n",
       "3                                         ¿Cómo soñar Despierto?   \n",
       "4          ¿Cómo planear Una fiesta de navidad que sea elegante?   \n",
       "5                            ¿Cómo ver Las descargas en android?   \n",
       "6                    ¿Cómo deshacerse De los insectos de escama?   \n",
       "7   ¿Cómo quitar Una mancha de vino tinto de una mesa de madera?   \n",
       "8                      ¿Cómo adiestrar A un gato con un clicker?   \n",
       "9                      ¿Cómo hacer Un mate pastor en el ajedrez?   \n",
       "10                               ¿Cómo estructurar Un currículo?   \n",
       "11                                    ¿Cómo ser Modelo infantil?   \n",
       "12                     ¿Cómo eliminar Un diente que has tragado?   \n",
       "13                 ¿Cómo superar El miedo a las aguas profundas?   \n",
       "14                                       ¿Cómo criar Periquitos?   \n",
       "\n",
       "                                  section_name  \\\n",
       "0                 Tomar esquejes de delphinium   \n",
       "1                          Pensar en el futuro   \n",
       "2                   Convierte fotos en regalos   \n",
       "3                              Saber qué soñar   \n",
       "4                            Comidas y bebidas   \n",
       "5            Usar un administrador de archivos   \n",
       "6   Eliminar los insectos de escama del jardín   \n",
       "7                  Mancha fresca de vino tinto   \n",
       "8              Prepárate para entrenar al gato   \n",
       "9                           Realizar la jugada   \n",
       "10                Incluye secciones esenciales   \n",
       "11                          Escoger ser modelo   \n",
       "12                             Esperar y mirar   \n",
       "13                      Prepararte mentalmente   \n",
       "14                            Crear el hábitat   \n",
       "\n",
       "                                                                                                summary  \\\n",
       "0   Cuando llegue marzo o abril, escoge brotes nuevos cerca de la base de la planta. Haz el corte ce...   \n",
       "1   Comprométete con el nombre de dominio. Escoge un nombre que deje espacio para el crecimiento. Ev...   \n",
       "2                                                    . Toma una fotografía Prueba las fotos personales.   \n",
       "3   Sueña con tu futuro deseado. Sueña con tus cosas favoritas. Actúa en tus sueños. Sueña con algo ...   \n",
       "4   Debes decidir si vas a servir bebidas alcohólicas en tu fiesta: Los bocadillos y postres son una...   \n",
       "5   Abre la bandeja de aplicaciones. Pulsa Descargas, Mis archivos o Administrador de archivos. Sele...   \n",
       "6   Usa los mismos métodos que los que usaste para las plantas del interior al combatir un ataque de...   \n",
       "7   Seca el derrame de vino tinto con un paño absorbente húmedo inmediatamente. Usa una toalla suave...   \n",
       "8   Consigue un clicker. Ten algunos premios a la mano. Consigue un artículo objetivo. Encuentra un ...   \n",
       "9                                        Juega con las piezas blancas. e4: Bc4: Qh5: Qxf7: ¡Jaque Mate!   \n",
       "10  Proporciona tu información personal. Incluye un encabezado o título. Incluye entre tres y cinco ...   \n",
       "11  Cerciórate de que el modelaje en verdad te interese. Determina si cuentas con la personalidad co...   \n",
       "12  Ten en cuenta cuándo ver a un médico. Observa tus heces. Relájate. Come maíz. Come frutas, verdu...   \n",
       "13                 Reconoce tu miedo. Coloca tu miedo en perspectiva. Identifica el origen de tu miedo.   \n",
       "14  Escoge una jaula de al menos 60 x 40 cm (25 x 15 pulgadas). Cubre la rejilla con periódico, en c...   \n",
       "\n",
       "                                                                                               document  \\\n",
       "0   Estos brotes serán jóvenes y sólidos, lo que es importante para un esqueje sano. A medida que la...   \n",
       "1   Cualquiera sea el nombre de dominio que escojas, debes asegurarte de comprometerte con este a la...   \n",
       "2   ecora un marco de fotos. Compra un marco de fotos barato. Puedes usar plástico, pero otros mater...   \n",
       "3   Soñar despierto con una meta en mente puede ayudarte a obtener la motivación para alcanzarla. Im...   \n",
       "4   en caso de hacerlo, debes tener refrescos o ponche para aquellos que no beban alcohol. También e...   \n",
       "5   Esta es la lista de aplicaciones del dispositivo Android. Por lo general, puedes abrirla pulsand...   \n",
       "6   Estos insectos son más predominantes al aire libre donde infestan a todas las especies de árbole...   \n",
       "7   Asegúrate de sólo secar el área; no lo frotes ya que se podría extender en la superficie de made...   \n",
       "8   Un clicker es una caja de plástico pequeña con una pestaña de metal. Al presionarla, produce un ...   \n",
       "9    mueve el peón de tu rey dos cuadros hacia adelante (E2-E4). mueve el alfil del rey 3 cuadros a ...   \n",
       "10  En el encabezado debes incluir tu información personal como tu nombre y número de teléfono. Colo...   \n",
       "11  Ser modelo podría parecerte un trabajo emocionante y glamoroso; no obstante, este en verdad requ...   \n",
       "12  La mayoría de los objetos que son tragados, como los dientes, pasarán sin problemas a través del...   \n",
       "13  Muchas personas que padecen esta fobia se traumatizan más con la vergüenza que esta origina. Ell...   \n",
       "14  Esto les dará espacio para que vuelen y estén separados. Si bien las aves disfrutan la compañía ...   \n",
       "\n",
       "               english_section_name  \\\n",
       "0        Taking Delphinium Cuttings   \n",
       "1         Thinking About the Future   \n",
       "2         Turning Photos Into Gifts   \n",
       "3       Knowing What to Dream About   \n",
       "4             Refreshments and Food   \n",
       "5              Using a File Manager   \n",
       "6   Removing Scales from the Garden   \n",
       "7              Fresh Red Wine Stain   \n",
       "8   Getting Ready to Train Your Cat   \n",
       "9               Performing the Play   \n",
       "10     Including Essential Sections   \n",
       "11           Deciding to be a Model   \n",
       "12             Waiting and Watching   \n",
       "13      Mentally Preparing Yourself   \n",
       "14           Setting Up the Habitat   \n",
       "\n",
       "                                                               english_url  \\\n",
       "0                                  https://www.wikihow.com/Grow-Delphinium   \n",
       "1         https://www.wikihow.com/Pick-a-Good-Domain-Name-for-Your-Website   \n",
       "2                    https://www.wikihow.com/Make-Your-Own-Christmas-Gifts   \n",
       "3                                         https://www.wikihow.com/Daydream   \n",
       "4                  https://www.wikihow.com/Plan-an-Elegant-Christmas-Party   \n",
       "5                        https://www.wikihow.com/View-Downloads-on-Android   \n",
       "6                         https://www.wikihow.com/Get-Rid-of-Scale-Insects   \n",
       "7   https://www.wikihow.com/Remove-a-Red-Wine-Stain-Ring-from-a-Wood-Table   \n",
       "8                              https://www.wikihow.com/Clicker-Train-a-Cat   \n",
       "9                     https://www.wikihow.com/Do-Scholar%27s-Mate-in-Chess   \n",
       "10                                 https://www.wikihow.com/Format-a-Resume   \n",
       "11                            https://www.wikihow.com/Become-a-Child-Model   \n",
       "12                        https://www.wikihow.com/Remove-a-Swallowed-Tooth   \n",
       "13                   https://www.wikihow.com/Get-over-a-Fear-of-Deep-Water   \n",
       "14                                   https://www.wikihow.com/Breed-Budgies   \n",
       "\n",
       "                                                                             url  \n",
       "0                                     https://es.wikihow.com/cultivar-delphinium  \n",
       "1      https://es.wikihow.com/elegir-un-buen-nombre-de-dominio-para-tu-sitio-web  \n",
       "2                    https://es.wikihow.com/hacer-tus-propios-regalos-de-Navidad  \n",
       "3                                    https://es.wikihow.com/so%C3%B1ar-despierto  \n",
       "4          https://es.wikihow.com/planear-una-fiesta-de-navidad-que-sea-elegante  \n",
       "5                            https://es.wikihow.com/ver-las-descargas-en-Android  \n",
       "6                    https://es.wikihow.com/deshacerse-de-los-insectos-de-escama  \n",
       "7   https://es.wikihow.com/quitar-una-mancha-de-vino-tinto-de-una-mesa-de-madera  \n",
       "8                      https://es.wikihow.com/adiestrar-a-un-gato-con-un-clicker  \n",
       "9                      https://es.wikihow.com/hacer-un-Mate-Pastor-en-el-ajedrez  \n",
       "10                          https://es.wikihow.com/estructurar-un-curr%C3%ADculo  \n",
       "11                                    https://es.wikihow.com/ser-modelo-infantil  \n",
       "12                     https://es.wikihow.com/eliminar-un-diente-que-has-tragado  \n",
       "13                 https://es.wikihow.com/superar-el-miedo-a-las-aguas-profundas  \n",
       "14                                       https://es.wikihow.com/criar-periquitos  "
      ]
     },
     "execution_count": 4,
     "metadata": {},
     "output_type": "execute_result"
    }
   ],
   "source": [
    "import pandas as pd\n",
    "\n",
    "pd.set_option('display.max_colwidth', 100)\n",
    "dataset.set_format(type='pandas')\n",
    "df = dataset.to_pandas()\n",
    "df.head(15)\n"
   ]
  },
  {
   "cell_type": "code",
   "execution_count": 5,
   "metadata": {},
   "outputs": [
    {
     "data": {
      "text/plain": [
       "(90528, 7)"
      ]
     },
     "execution_count": 5,
     "metadata": {},
     "output_type": "execute_result"
    }
   ],
   "source": [
    "df.shape"
   ]
  },
  {
   "cell_type": "code",
   "execution_count": 6,
   "metadata": {},
   "outputs": [
    {
     "data": {
      "text/plain": [
       "Dataset({\n",
       "    features: ['title', 'url', 'text'],\n",
       "    num_rows: 734449\n",
       "})"
      ]
     },
     "execution_count": 6,
     "metadata": {},
     "output_type": "execute_result"
    }
   ],
   "source": [
    "from typing import Callable, Dict, List, Optional\n",
    "from collections import defaultdict\n",
    "\n",
    "\n",
    "def split_text(chunk_size: int, sliding_window: int = 0) -> Callable:\n",
    "    def _split_text(batch):\n",
    "        articles = {url: summary.split(' ') + document.split(' ') for url, summary, document in zip(batch['url'], batch['summary'], batch['document'])}\n",
    "        chunks = defaultdict(list)\n",
    "\n",
    "        for title, (url, doc_words) in zip(batch['title'], articles.items()):\n",
    "            buffer = []\n",
    "            for word in doc_words:\n",
    "                if len(buffer) < chunk_size:\n",
    "                    buffer.append(word)\n",
    "                else:\n",
    "                    chunk_text = ' '.join(buffer)\n",
    "                    chunks['title'].append(title)\n",
    "                    chunks['text'].append(chunk_text)\n",
    "                    chunks['url'].append(url)\n",
    "                    if sliding_window == 0:\n",
    "                        del buffer[:]\n",
    "                    else:\n",
    "                        del buffer[0: sliding_window]\n",
    "                    buffer.append(word)\n",
    "            if buffer:\n",
    "                chunk_text = ' '.join(buffer)\n",
    "                chunks['title'].append(title)\n",
    "                chunks['text'].append(chunk_text)\n",
    "                chunks['url'].append(url)\n",
    "\n",
    "        return chunks\n",
    "    return _split_text\n",
    "\n",
    "\n",
    "documents = dataset.map(split_text(chunk_size=100, sliding_window=50), batched=True, remove_columns=dataset.column_names)\n",
    "documents"
   ]
  },
  {
   "cell_type": "code",
   "execution_count": 7,
   "metadata": {},
   "outputs": [
    {
     "data": {
      "text/html": [
       "<div>\n",
       "<style scoped>\n",
       "    .dataframe tbody tr th:only-of-type {\n",
       "        vertical-align: middle;\n",
       "    }\n",
       "\n",
       "    .dataframe tbody tr th {\n",
       "        vertical-align: top;\n",
       "    }\n",
       "\n",
       "    .dataframe thead th {\n",
       "        text-align: right;\n",
       "    }\n",
       "</style>\n",
       "<table border=\"1\" class=\"dataframe\">\n",
       "  <thead>\n",
       "    <tr style=\"text-align: right;\">\n",
       "      <th></th>\n",
       "      <th>title</th>\n",
       "      <th>url</th>\n",
       "      <th>text</th>\n",
       "    </tr>\n",
       "  </thead>\n",
       "  <tbody>\n",
       "    <tr>\n",
       "      <th>0</th>\n",
       "      <td>¿Cómo cultivar Delphinium?</td>\n",
       "      <td>https://es.wikihow.com/cultivar-delphinium</td>\n",
       "      <td>Cuando llegue marzo o abril, escoge brotes nuevos cerca de la base de la planta. Haz el corte ce...</td>\n",
       "    </tr>\n",
       "    <tr>\n",
       "      <th>1</th>\n",
       "      <td>¿Cómo colocar Los espejos según el feng shui?</td>\n",
       "      <td>https://es.wikihow.com/colocar-los-espejos-seg%C3%BAn-el-Feng-Shui</td>\n",
       "      <td>es muy malo para el feng shui de tu hogar. Evita utilizar espejos redondeados u ovalados en tu h...</td>\n",
       "    </tr>\n",
       "    <tr>\n",
       "      <th>2</th>\n",
       "      <td>¿Cómo seguir Los requerimientos nutricionales para la anemia?</td>\n",
       "      <td>https://es.wikihow.com/seguir-los-requerimientos-nutricionales-para-la-anemia</td>\n",
       "      <td>están en un riesgo elevado de sufrir de anemia y estos son:  las mujeres (a causa de la pérdida ...</td>\n",
       "    </tr>\n",
       "    <tr>\n",
       "      <th>3</th>\n",
       "      <td>¿Cómo preparar Vermicompost?</td>\n",
       "      <td>https://es.wikihow.com/preparar-vermicompost</td>\n",
       "      <td>los granos de café también servirán.  Es importante en especial que no agregues carne, huesos ni...</td>\n",
       "    </tr>\n",
       "    <tr>\n",
       "      <th>4</th>\n",
       "      <td>¿Cómo rellenar Tu sostén?</td>\n",
       "      <td>https://es.wikihow.com/colocar-letreros-de-Prohibido-el-Paso</td>\n",
       "      <td>señalización permanezca legible con el tiempo. Tu área puede tener requisitos específicos sobre ...</td>\n",
       "    </tr>\n",
       "  </tbody>\n",
       "</table>\n",
       "</div>"
      ],
      "text/plain": [
       "                                                           title  \\\n",
       "0                                     ¿Cómo cultivar Delphinium?   \n",
       "1                  ¿Cómo colocar Los espejos según el feng shui?   \n",
       "2  ¿Cómo seguir Los requerimientos nutricionales para la anemia?   \n",
       "3                                   ¿Cómo preparar Vermicompost?   \n",
       "4                                      ¿Cómo rellenar Tu sostén?   \n",
       "\n",
       "                                                                             url  \\\n",
       "0                                     https://es.wikihow.com/cultivar-delphinium   \n",
       "1             https://es.wikihow.com/colocar-los-espejos-seg%C3%BAn-el-Feng-Shui   \n",
       "2  https://es.wikihow.com/seguir-los-requerimientos-nutricionales-para-la-anemia   \n",
       "3                                   https://es.wikihow.com/preparar-vermicompost   \n",
       "4                   https://es.wikihow.com/colocar-letreros-de-Prohibido-el-Paso   \n",
       "\n",
       "                                                                                                  text  \n",
       "0  Cuando llegue marzo o abril, escoge brotes nuevos cerca de la base de la planta. Haz el corte ce...  \n",
       "1  es muy malo para el feng shui de tu hogar. Evita utilizar espejos redondeados u ovalados en tu h...  \n",
       "2  están en un riesgo elevado de sufrir de anemia y estos son:  las mujeres (a causa de la pérdida ...  \n",
       "3  los granos de café también servirán.  Es importante en especial que no agregues carne, huesos ni...  \n",
       "4  señalización permanezca legible con el tiempo. Tu área puede tener requisitos específicos sobre ...  "
      ]
     },
     "execution_count": 7,
     "metadata": {},
     "output_type": "execute_result"
    }
   ],
   "source": [
    "documents[0:2500:500]"
   ]
  },
  {
   "cell_type": "code",
   "execution_count": 8,
   "metadata": {},
   "outputs": [],
   "source": [
    "documents.reset_format()"
   ]
  },
  {
   "cell_type": "code",
   "execution_count": 26,
   "metadata": {},
   "outputs": [
    {
     "ename": "OutOfMemoryError",
     "evalue": "CUDA out of memory. Tried to allocate 368.00 MiB. GPU 0 has a total capacity of 7.78 GiB of which 231.56 MiB is free. Including non-PyTorch memory, this process has 1002.00 MiB memory in use. Process 1583794 has 4.87 GiB memory in use. Of the allocated memory 846.20 MiB is allocated by PyTorch, and 29.80 MiB is reserved by PyTorch but unallocated. If reserved but unallocated memory is large try setting PYTORCH_CUDA_ALLOC_CONF=expandable_segments:True to avoid fragmentation.  See documentation for Memory Management  (https://pytorch.org/docs/stable/notes/cuda.html#environment-variables)",
     "output_type": "error",
     "traceback": [
      "\u001b[0;31m---------------------------------------------------------------------------\u001b[0m",
      "\u001b[0;31mOutOfMemoryError\u001b[0m                          Traceback (most recent call last)",
      "Cell \u001b[0;32mIn[26], line 10\u001b[0m\n\u001b[1;32m      7\u001b[0m embeddings_path \u001b[38;5;241m=\u001b[39m Path(\u001b[38;5;124m'\u001b[39m\u001b[38;5;124mdata/vectorstore.npy\u001b[39m\u001b[38;5;124m'\u001b[39m)\n\u001b[1;32m      8\u001b[0m limit \u001b[38;5;241m=\u001b[39m \u001b[38;5;241m5000\u001b[39m\n\u001b[0;32m---> 10\u001b[0m model \u001b[38;5;241m=\u001b[39m \u001b[43mSentenceTransformer\u001b[49m\u001b[43m(\u001b[49m\u001b[43mmodel_ckpt\u001b[49m\u001b[43m)\u001b[49m\n\u001b[1;32m     12\u001b[0m \u001b[38;5;28;01mif\u001b[39;00m embeddings_path\u001b[38;5;241m.\u001b[39mexists():\n\u001b[1;32m     13\u001b[0m     vectorstore \u001b[38;5;241m=\u001b[39m np\u001b[38;5;241m.\u001b[39mload(\u001b[38;5;28mstr\u001b[39m(embeddings_path))\n",
      "File \u001b[0;32m~/miniconda3/envs/icesi-advanced-dl/lib/python3.10/site-packages/sentence_transformers/SentenceTransformer.py:316\u001b[0m, in \u001b[0;36mSentenceTransformer.__init__\u001b[0;34m(self, model_name_or_path, modules, device, prompts, default_prompt_name, similarity_fn_name, cache_folder, trust_remote_code, revision, local_files_only, token, use_auth_token, truncate_dim, model_kwargs, tokenizer_kwargs, config_kwargs, model_card_data)\u001b[0m\n\u001b[1;32m    312\u001b[0m     modules \u001b[38;5;241m=\u001b[39m OrderedDict([(\u001b[38;5;28mstr\u001b[39m(idx), module) \u001b[38;5;28;01mfor\u001b[39;00m idx, module \u001b[38;5;129;01min\u001b[39;00m \u001b[38;5;28menumerate\u001b[39m(modules)])\n\u001b[1;32m    314\u001b[0m \u001b[38;5;28msuper\u001b[39m()\u001b[38;5;241m.\u001b[39m\u001b[38;5;21m__init__\u001b[39m(modules)\n\u001b[0;32m--> 316\u001b[0m \u001b[38;5;28;43mself\u001b[39;49m\u001b[38;5;241;43m.\u001b[39;49m\u001b[43mto\u001b[49m\u001b[43m(\u001b[49m\u001b[43mdevice\u001b[49m\u001b[43m)\u001b[49m\n\u001b[1;32m    317\u001b[0m \u001b[38;5;28mself\u001b[39m\u001b[38;5;241m.\u001b[39mis_hpu_graph_enabled \u001b[38;5;241m=\u001b[39m \u001b[38;5;28;01mFalse\u001b[39;00m\n\u001b[1;32m    319\u001b[0m \u001b[38;5;28;01mif\u001b[39;00m \u001b[38;5;28mself\u001b[39m\u001b[38;5;241m.\u001b[39mdefault_prompt_name \u001b[38;5;129;01mis\u001b[39;00m \u001b[38;5;129;01mnot\u001b[39;00m \u001b[38;5;28;01mNone\u001b[39;00m \u001b[38;5;129;01mand\u001b[39;00m \u001b[38;5;28mself\u001b[39m\u001b[38;5;241m.\u001b[39mdefault_prompt_name \u001b[38;5;129;01mnot\u001b[39;00m \u001b[38;5;129;01min\u001b[39;00m \u001b[38;5;28mself\u001b[39m\u001b[38;5;241m.\u001b[39mprompts:\n",
      "File \u001b[0;32m~/miniconda3/envs/icesi-advanced-dl/lib/python3.10/site-packages/torch/nn/modules/module.py:1152\u001b[0m, in \u001b[0;36mModule.to\u001b[0;34m(self, *args, **kwargs)\u001b[0m\n\u001b[1;32m   1148\u001b[0m         \u001b[38;5;28;01mreturn\u001b[39;00m t\u001b[38;5;241m.\u001b[39mto(device, dtype \u001b[38;5;28;01mif\u001b[39;00m t\u001b[38;5;241m.\u001b[39mis_floating_point() \u001b[38;5;129;01mor\u001b[39;00m t\u001b[38;5;241m.\u001b[39mis_complex() \u001b[38;5;28;01melse\u001b[39;00m \u001b[38;5;28;01mNone\u001b[39;00m,\n\u001b[1;32m   1149\u001b[0m                     non_blocking, memory_format\u001b[38;5;241m=\u001b[39mconvert_to_format)\n\u001b[1;32m   1150\u001b[0m     \u001b[38;5;28;01mreturn\u001b[39;00m t\u001b[38;5;241m.\u001b[39mto(device, dtype \u001b[38;5;28;01mif\u001b[39;00m t\u001b[38;5;241m.\u001b[39mis_floating_point() \u001b[38;5;129;01mor\u001b[39;00m t\u001b[38;5;241m.\u001b[39mis_complex() \u001b[38;5;28;01melse\u001b[39;00m \u001b[38;5;28;01mNone\u001b[39;00m, non_blocking)\n\u001b[0;32m-> 1152\u001b[0m \u001b[38;5;28;01mreturn\u001b[39;00m \u001b[38;5;28;43mself\u001b[39;49m\u001b[38;5;241;43m.\u001b[39;49m\u001b[43m_apply\u001b[49m\u001b[43m(\u001b[49m\u001b[43mconvert\u001b[49m\u001b[43m)\u001b[49m\n",
      "File \u001b[0;32m~/miniconda3/envs/icesi-advanced-dl/lib/python3.10/site-packages/torch/nn/modules/module.py:802\u001b[0m, in \u001b[0;36mModule._apply\u001b[0;34m(self, fn, recurse)\u001b[0m\n\u001b[1;32m    800\u001b[0m \u001b[38;5;28;01mif\u001b[39;00m recurse:\n\u001b[1;32m    801\u001b[0m     \u001b[38;5;28;01mfor\u001b[39;00m module \u001b[38;5;129;01min\u001b[39;00m \u001b[38;5;28mself\u001b[39m\u001b[38;5;241m.\u001b[39mchildren():\n\u001b[0;32m--> 802\u001b[0m         \u001b[43mmodule\u001b[49m\u001b[38;5;241;43m.\u001b[39;49m\u001b[43m_apply\u001b[49m\u001b[43m(\u001b[49m\u001b[43mfn\u001b[49m\u001b[43m)\u001b[49m\n\u001b[1;32m    804\u001b[0m \u001b[38;5;28;01mdef\u001b[39;00m \u001b[38;5;21mcompute_should_use_set_data\u001b[39m(tensor, tensor_applied):\n\u001b[1;32m    805\u001b[0m     \u001b[38;5;28;01mif\u001b[39;00m torch\u001b[38;5;241m.\u001b[39m_has_compatible_shallow_copy_type(tensor, tensor_applied):\n\u001b[1;32m    806\u001b[0m         \u001b[38;5;66;03m# If the new tensor has compatible tensor type as the existing tensor,\u001b[39;00m\n\u001b[1;32m    807\u001b[0m         \u001b[38;5;66;03m# the current behavior is to change the tensor in-place using `.data =`,\u001b[39;00m\n\u001b[0;32m   (...)\u001b[0m\n\u001b[1;32m    812\u001b[0m         \u001b[38;5;66;03m# global flag to let the user control whether they want the future\u001b[39;00m\n\u001b[1;32m    813\u001b[0m         \u001b[38;5;66;03m# behavior of overwriting the existing tensor or not.\u001b[39;00m\n",
      "File \u001b[0;32m~/miniconda3/envs/icesi-advanced-dl/lib/python3.10/site-packages/torch/nn/modules/module.py:802\u001b[0m, in \u001b[0;36mModule._apply\u001b[0;34m(self, fn, recurse)\u001b[0m\n\u001b[1;32m    800\u001b[0m \u001b[38;5;28;01mif\u001b[39;00m recurse:\n\u001b[1;32m    801\u001b[0m     \u001b[38;5;28;01mfor\u001b[39;00m module \u001b[38;5;129;01min\u001b[39;00m \u001b[38;5;28mself\u001b[39m\u001b[38;5;241m.\u001b[39mchildren():\n\u001b[0;32m--> 802\u001b[0m         \u001b[43mmodule\u001b[49m\u001b[38;5;241;43m.\u001b[39;49m\u001b[43m_apply\u001b[49m\u001b[43m(\u001b[49m\u001b[43mfn\u001b[49m\u001b[43m)\u001b[49m\n\u001b[1;32m    804\u001b[0m \u001b[38;5;28;01mdef\u001b[39;00m \u001b[38;5;21mcompute_should_use_set_data\u001b[39m(tensor, tensor_applied):\n\u001b[1;32m    805\u001b[0m     \u001b[38;5;28;01mif\u001b[39;00m torch\u001b[38;5;241m.\u001b[39m_has_compatible_shallow_copy_type(tensor, tensor_applied):\n\u001b[1;32m    806\u001b[0m         \u001b[38;5;66;03m# If the new tensor has compatible tensor type as the existing tensor,\u001b[39;00m\n\u001b[1;32m    807\u001b[0m         \u001b[38;5;66;03m# the current behavior is to change the tensor in-place using `.data =`,\u001b[39;00m\n\u001b[0;32m   (...)\u001b[0m\n\u001b[1;32m    812\u001b[0m         \u001b[38;5;66;03m# global flag to let the user control whether they want the future\u001b[39;00m\n\u001b[1;32m    813\u001b[0m         \u001b[38;5;66;03m# behavior of overwriting the existing tensor or not.\u001b[39;00m\n",
      "    \u001b[0;31m[... skipping similar frames: Module._apply at line 802 (1 times)]\u001b[0m\n",
      "File \u001b[0;32m~/miniconda3/envs/icesi-advanced-dl/lib/python3.10/site-packages/torch/nn/modules/module.py:802\u001b[0m, in \u001b[0;36mModule._apply\u001b[0;34m(self, fn, recurse)\u001b[0m\n\u001b[1;32m    800\u001b[0m \u001b[38;5;28;01mif\u001b[39;00m recurse:\n\u001b[1;32m    801\u001b[0m     \u001b[38;5;28;01mfor\u001b[39;00m module \u001b[38;5;129;01min\u001b[39;00m \u001b[38;5;28mself\u001b[39m\u001b[38;5;241m.\u001b[39mchildren():\n\u001b[0;32m--> 802\u001b[0m         \u001b[43mmodule\u001b[49m\u001b[38;5;241;43m.\u001b[39;49m\u001b[43m_apply\u001b[49m\u001b[43m(\u001b[49m\u001b[43mfn\u001b[49m\u001b[43m)\u001b[49m\n\u001b[1;32m    804\u001b[0m \u001b[38;5;28;01mdef\u001b[39;00m \u001b[38;5;21mcompute_should_use_set_data\u001b[39m(tensor, tensor_applied):\n\u001b[1;32m    805\u001b[0m     \u001b[38;5;28;01mif\u001b[39;00m torch\u001b[38;5;241m.\u001b[39m_has_compatible_shallow_copy_type(tensor, tensor_applied):\n\u001b[1;32m    806\u001b[0m         \u001b[38;5;66;03m# If the new tensor has compatible tensor type as the existing tensor,\u001b[39;00m\n\u001b[1;32m    807\u001b[0m         \u001b[38;5;66;03m# the current behavior is to change the tensor in-place using `.data =`,\u001b[39;00m\n\u001b[0;32m   (...)\u001b[0m\n\u001b[1;32m    812\u001b[0m         \u001b[38;5;66;03m# global flag to let the user control whether they want the future\u001b[39;00m\n\u001b[1;32m    813\u001b[0m         \u001b[38;5;66;03m# behavior of overwriting the existing tensor or not.\u001b[39;00m\n",
      "File \u001b[0;32m~/miniconda3/envs/icesi-advanced-dl/lib/python3.10/site-packages/torch/nn/modules/module.py:825\u001b[0m, in \u001b[0;36mModule._apply\u001b[0;34m(self, fn, recurse)\u001b[0m\n\u001b[1;32m    821\u001b[0m \u001b[38;5;66;03m# Tensors stored in modules are graph leaves, and we don't want to\u001b[39;00m\n\u001b[1;32m    822\u001b[0m \u001b[38;5;66;03m# track autograd history of `param_applied`, so we have to use\u001b[39;00m\n\u001b[1;32m    823\u001b[0m \u001b[38;5;66;03m# `with torch.no_grad():`\u001b[39;00m\n\u001b[1;32m    824\u001b[0m \u001b[38;5;28;01mwith\u001b[39;00m torch\u001b[38;5;241m.\u001b[39mno_grad():\n\u001b[0;32m--> 825\u001b[0m     param_applied \u001b[38;5;241m=\u001b[39m \u001b[43mfn\u001b[49m\u001b[43m(\u001b[49m\u001b[43mparam\u001b[49m\u001b[43m)\u001b[49m\n\u001b[1;32m    826\u001b[0m should_use_set_data \u001b[38;5;241m=\u001b[39m compute_should_use_set_data(param, param_applied)\n\u001b[1;32m    827\u001b[0m \u001b[38;5;28;01mif\u001b[39;00m should_use_set_data:\n",
      "File \u001b[0;32m~/miniconda3/envs/icesi-advanced-dl/lib/python3.10/site-packages/torch/nn/modules/module.py:1150\u001b[0m, in \u001b[0;36mModule.to.<locals>.convert\u001b[0;34m(t)\u001b[0m\n\u001b[1;32m   1147\u001b[0m \u001b[38;5;28;01mif\u001b[39;00m convert_to_format \u001b[38;5;129;01mis\u001b[39;00m \u001b[38;5;129;01mnot\u001b[39;00m \u001b[38;5;28;01mNone\u001b[39;00m \u001b[38;5;129;01mand\u001b[39;00m t\u001b[38;5;241m.\u001b[39mdim() \u001b[38;5;129;01min\u001b[39;00m (\u001b[38;5;241m4\u001b[39m, \u001b[38;5;241m5\u001b[39m):\n\u001b[1;32m   1148\u001b[0m     \u001b[38;5;28;01mreturn\u001b[39;00m t\u001b[38;5;241m.\u001b[39mto(device, dtype \u001b[38;5;28;01mif\u001b[39;00m t\u001b[38;5;241m.\u001b[39mis_floating_point() \u001b[38;5;129;01mor\u001b[39;00m t\u001b[38;5;241m.\u001b[39mis_complex() \u001b[38;5;28;01melse\u001b[39;00m \u001b[38;5;28;01mNone\u001b[39;00m,\n\u001b[1;32m   1149\u001b[0m                 non_blocking, memory_format\u001b[38;5;241m=\u001b[39mconvert_to_format)\n\u001b[0;32m-> 1150\u001b[0m \u001b[38;5;28;01mreturn\u001b[39;00m \u001b[43mt\u001b[49m\u001b[38;5;241;43m.\u001b[39;49m\u001b[43mto\u001b[49m\u001b[43m(\u001b[49m\u001b[43mdevice\u001b[49m\u001b[43m,\u001b[49m\u001b[43m \u001b[49m\u001b[43mdtype\u001b[49m\u001b[43m \u001b[49m\u001b[38;5;28;43;01mif\u001b[39;49;00m\u001b[43m \u001b[49m\u001b[43mt\u001b[49m\u001b[38;5;241;43m.\u001b[39;49m\u001b[43mis_floating_point\u001b[49m\u001b[43m(\u001b[49m\u001b[43m)\u001b[49m\u001b[43m \u001b[49m\u001b[38;5;129;43;01mor\u001b[39;49;00m\u001b[43m \u001b[49m\u001b[43mt\u001b[49m\u001b[38;5;241;43m.\u001b[39;49m\u001b[43mis_complex\u001b[49m\u001b[43m(\u001b[49m\u001b[43m)\u001b[49m\u001b[43m \u001b[49m\u001b[38;5;28;43;01melse\u001b[39;49;00m\u001b[43m \u001b[49m\u001b[38;5;28;43;01mNone\u001b[39;49;00m\u001b[43m,\u001b[49m\u001b[43m \u001b[49m\u001b[43mnon_blocking\u001b[49m\u001b[43m)\u001b[49m\n",
      "\u001b[0;31mOutOfMemoryError\u001b[0m: CUDA out of memory. Tried to allocate 368.00 MiB. GPU 0 has a total capacity of 7.78 GiB of which 231.56 MiB is free. Including non-PyTorch memory, this process has 1002.00 MiB memory in use. Process 1583794 has 4.87 GiB memory in use. Of the allocated memory 846.20 MiB is allocated by PyTorch, and 29.80 MiB is reserved by PyTorch but unallocated. If reserved but unallocated memory is large try setting PYTORCH_CUDA_ALLOC_CONF=expandable_segments:True to avoid fragmentation.  See documentation for Memory Management  (https://pytorch.org/docs/stable/notes/cuda.html#environment-variables)"
     ]
    }
   ],
   "source": [
    "import os\n",
    "from pathlib import Path\n",
    "import numpy as np\n",
    "from sentence_transformers import SentenceTransformer\n",
    "\n",
    "model_ckpt = 'intfloat/multilingual-e5-small'\n",
    "embeddings_path = Path('data/vectorstore.npy')\n",
    "limit = 5000\n",
    "\n",
    "model = SentenceTransformer(model_ckpt)\n",
    "\n",
    "if embeddings_path.exists():\n",
    "    vectorstore = np.load(str(embeddings_path))\n",
    "else:\n",
    "    vectorstore = documents.take(limit).map(lambda example: {'embedding': model.encode(example['text'])}, remove_columns=documents.column_names)\n",
    "    vectorstore.reset_format()\n",
    "    vectorstore = np.concatenate([np.array(v['embedding'], dtype=np.float32).reshape(1, -1) for v in vectorstore.to_iterable_dataset()], axis=0)\n",
    "    os.makedirs(embeddings_path.parent, exist_ok=True)\n",
    "    np.save(str(embeddings_path), vectorstore)\n"
   ]
  },
  {
   "cell_type": "code",
   "execution_count": 10,
   "metadata": {},
   "outputs": [
    {
     "data": {
      "text/plain": [
       "(1000, 384)"
      ]
     },
     "execution_count": 10,
     "metadata": {},
     "output_type": "execute_result"
    }
   ],
   "source": [
    "vectorstore.shape"
   ]
  },
  {
   "cell_type": "code",
   "execution_count": 11,
   "metadata": {},
   "outputs": [],
   "source": [
    "documents.reset_format()"
   ]
  },
  {
   "cell_type": "code",
   "execution_count": 12,
   "metadata": {},
   "outputs": [],
   "source": [
    "from datasets import Dataset\n",
    "from sentence_transformers import util as st_util\n",
    "\n",
    "class DocumentRetriever:\n",
    "\n",
    "    def __init__(self, documents: Dataset, vectorstore: np.ndarray, model: SentenceTransformer) -> None:\n",
    "        self.documents = documents\n",
    "        self.vectorstore = vectorstore\n",
    "        self.model = model\n",
    "\n",
    "    def search(self, query: str, k: int = 5):\n",
    "        q = self.model.encode(query)\n",
    "        scores = st_util.dot_score(q, self.vectorstore)\n",
    "        scores = scores.squeeze()\n",
    "\n",
    "        topk = (-scores).argsort()[:k].numpy().tolist()\n",
    "\n",
    "        return [{**self.documents[i], \"score\": scores[i].item()} for i in topk]"
   ]
  },
  {
   "cell_type": "code",
   "execution_count": 13,
   "metadata": {},
   "outputs": [
    {
     "data": {
      "text/plain": [
       "[{'title': '¿Cómo colocar Los espejos según el feng shui?',\n",
       "  'url': 'https://es.wikihow.com/colocar-los-espejos-seg%C3%BAn-el-Feng-Shui',\n",
       "  'text': 'pero evita aquellos que son pequeños o facetados. Lo aconsejable es poder verte de pies a cabeza. Evita escoger espejos con superficies distorsionadas. Esto también aplica a los espejos con superficies anticuadas. Se cree que observar a través de estos espejos hace que las personas se sientan distorsionadas, y esto es muy malo para el feng shui de tu hogar. Evita utilizar espejos redondeados u ovalados en tu hogar. Por lo general, los espejos cuadrados o rectangulares se consideran mejores para crear un buen feng shui. No cuelgues espejos rotos o rajados en tu hogar. Si un espejo que tienes',\n",
       "  'score': 0.8721307516098022},\n",
       " {'title': '¿Cómo colocar Los espejos según el feng shui?',\n",
       "  'url': 'https://es.wikihow.com/colocar-los-espejos-seg%C3%BAn-el-Feng-Shui',\n",
       "  'text': 'es muy malo para el feng shui de tu hogar. Evita utilizar espejos redondeados u ovalados en tu hogar. Por lo general, los espejos cuadrados o rectangulares se consideran mejores para crear un buen feng shui. No cuelgues espejos rotos o rajados en tu hogar. Si un espejo que tienes en tu hogar se rompe, tíralo inmediatamente.',\n",
       "  'score': 0.8667315244674683},\n",
       " {'title': '¿Cómo comer Fideos?',\n",
       "  'url': 'https://es.wikihow.com/comer-fideos',\n",
       "  'text': 'debes de mover al manipular el otro con tus dedos índice y pulgar, para poder sostener así los fideos entre ambos palillos. Se utiliza la misma técnica para comer los fideos sin caldo con palillos. En algunos países asiáticos como China, Japón, Vietnam y Tailandia, utilizan los palillos para agarrar los fideos. Después los ponen en una cuchara grande y, finalmente, se comen todo el contenido a la vez. Depende de la cultura, pero en muchos países asiáticos no se considera de mala educación sorber los fideos y el caldo al llevártelos a la boca. En otros países, sin embargo,',\n",
       "  'score': 0.7935861349105835},\n",
       " {'title': '¿Cómo soñar Despierto?',\n",
       "  'url': 'https://es.wikihow.com/so%C3%B1ar-despierto',\n",
       "  'text': 'dándote al mismo tiempo una libertad total para satisfacer tus fantasías. ¿Te convertirás en presidente? ¿Viajarás a una isla tropical? ¿Fundarás tu propia empresa? ¿Te enamorarás y formarás una familia? Cuando sueñas despierto, todo es posible.  Intenta imaginar todas las cosas que te harían feliz y ponlas en una historia. Mantener la historia y los personajes consistentes hará que sea más divertido y fácil cuando te encuentres en entornos distintos. Mantén las historias y situaciones con un tono positivo, y desarróllalas cada vez que sueñes despierto. Quizás no sea tan productivo como soñar con tus metas, pero es divertido',\n",
       "  'score': 0.7920055389404297},\n",
       " {'title': '¿Cómo lograr Tener paz interior?',\n",
       "  'url': 'https://es.wikihow.com/lograr-tener-paz-interior',\n",
       "  'text': 'Sé paciente. Experimenta el momento actual. Trata de no prejuzgar. Sé feliz. Siente orgullo. Debes estar satisfecho. Asume responsabilidades. Sé optimista. Recuerda que la paz interior se desarrolla con el tiempo. Las fluctuaciones se dan a lo largo del día. Habrá momentos en los que te sientas más tranquilo que en otros. Recuerda que eres una obra en progreso y, aunque siempre estás cambiando, eres una persona hermosa en cada momento. Piensa solo en lo que está enfrente de ti. Piensa menos en el pasado o en el futuro. El presente es diferente al pasado. Tener consciencia plena de cada',\n",
       "  'score': 0.7916587591171265}]"
      ]
     },
     "execution_count": 13,
     "metadata": {},
     "output_type": "execute_result"
    }
   ],
   "source": [
    "retriever = DocumentRetriever(documents, vectorstore, model)\n",
    "retriever.search('Qué es feng shui?')"
   ]
  },
  {
   "cell_type": "code",
   "execution_count": 14,
   "metadata": {},
   "outputs": [],
   "source": [
    "from abc import abstractmethod\n",
    "from typing import Any, Generator\n",
    "\n",
    "class LLM:\n",
    "\n",
    "    @abstractmethod\n",
    "    def completion_stream(self, *args: Any, **kwargs: Any) -> Generator:\n",
    "        raise NotImplementedError\n",
    "    \n",
    "\n",
    "    def completion(self, *args, **kwargs):\n",
    "        return \"\".join(self.completion_stream(*args, **kwargs))\n",
    "\n"
   ]
  },
  {
   "cell_type": "code",
   "execution_count": 15,
   "metadata": {},
   "outputs": [],
   "source": [
    "from typing import Any, Generator\n",
    "import ollama\n",
    "\n",
    "class Ollama(LLM):\n",
    "\n",
    "    def __init__(self, model: str) -> None:\n",
    "        super().__init__()\n",
    "        self.model = model\n",
    "\n",
    "    def completion_stream(self, messages) -> Generator[Any, None, None]:\n",
    "        stream = ollama.chat(\n",
    "            model=self.model,\n",
    "            messages=messages,\n",
    "            stream=True\n",
    "        )\n",
    "        for chunk in stream:\n",
    "            content = chunk[\"message\"][\"content\"]\n",
    "            token = content if content is not None else \"\"\n",
    "            yield token"
   ]
  },
  {
   "cell_type": "code",
   "execution_count": 16,
   "metadata": {},
   "outputs": [
    {
     "name": "stderr",
     "output_type": "stream",
     "text": [
      "huggingface/tokenizers: The current process just got forked, after parallelism has already been used. Disabling parallelism to avoid deadlocks...\n",
      "To disable this warning, you can either:\n",
      "\t- Avoid using `tokenizers` before the fork if possible\n",
      "\t- Explicitly set the environment variable TOKENIZERS_PARALLELISM=(true | false)\n"
     ]
    },
    {
     "name": "stdout",
     "output_type": "stream",
     "text": [
      "Ollama ya está instalado.\n"
     ]
    }
   ],
   "source": [
    "!if ! type ollama > /dev/null; then curl -fsSL https://ollama.com/install.sh | sh; else echo \"Ollama ya está instalado.\"; fi"
   ]
  },
  {
   "cell_type": "code",
   "execution_count": 17,
   "metadata": {},
   "outputs": [
    {
     "name": "stderr",
     "output_type": "stream",
     "text": [
      "huggingface/tokenizers: The current process just got forked, after parallelism has already been used. Disabling parallelism to avoid deadlocks...\n",
      "To disable this warning, you can either:\n",
      "\t- Avoid using `tokenizers` before the fork if possible\n",
      "\t- Explicitly set the environment variable TOKENIZERS_PARALLELISM=(true | false)\n"
     ]
    },
    {
     "name": "stdout",
     "output_type": "stream",
     "text": [
      "\u001b[?25lpulling manifest ⠋ \u001b[?25h\u001b[?25l\u001b[2K\u001b[1Gpulling manifest ⠙ \u001b[?25h\u001b[?25l\u001b[2K\u001b[1Gpulling manifest ⠹ \u001b[?25h\u001b[?25l\u001b[2K\u001b[1Gpulling manifest ⠸ \u001b[?25h\u001b[?25l\u001b[2K\u001b[1Gpulling manifest ⠼ \u001b[?25h\u001b[?25l\u001b[2K\u001b[1Gpulling manifest ⠴ \u001b[?25h\u001b[?25l\u001b[2K\u001b[1Gpulling manifest ⠦ \u001b[?25h\u001b[?25l\u001b[2K\u001b[1Gpulling manifest ⠧ \u001b[?25h\u001b[?25l\u001b[2K\u001b[1Gpulling manifest ⠇ \u001b[?25h\u001b[?25l\u001b[2K\u001b[1Gpulling manifest \n",
      "pulling 6a0746a1ec1a... 100% ▕████████████████▏ 4.7 GB                         \n",
      "pulling 4fa551d4f938... 100% ▕████████████████▏  12 KB                         \n",
      "pulling 8ab4849b038c... 100% ▕████████████████▏  254 B                         \n",
      "pulling 577073ffcc6c... 100% ▕████████████████▏  110 B                         \n",
      "pulling 3f8eb4da87fa... 100% ▕████████████████▏  485 B                         \n",
      "verifying sha256 digest \n",
      "writing manifest \n",
      "removing any unused layers \n",
      "success \u001b[?25h\n"
     ]
    }
   ],
   "source": [
    "!ollama pull llama3"
   ]
  },
  {
   "cell_type": "code",
   "execution_count": 18,
   "metadata": {},
   "outputs": [],
   "source": [
    "llm_ollama = Ollama(model=\"llama3\")"
   ]
  },
  {
   "cell_type": "code",
   "execution_count": 19,
   "metadata": {},
   "outputs": [],
   "source": [
    "document_separator = \"\\n\\n\"\n",
    "\n",
    "question_template = \"\"\"Utiliza los siguientes fragmentos de contexto para responder la pregunta al final. Si no sabes la respuesta, di que no lo sabes. Responde como en una conversación natural.\n",
    "\n",
    "{context}\n",
    "\n",
    "Pregunta: {question}\n",
    "Respuesta Útil\"\"\"\n",
    "\n",
    "history_remplate = \"\"\"Dada la siguiente conversación y la pregunta, expresa de otro modo la pregunta para que todo sea una sola pregunta en general\n",
    "\n",
    "Historial:\n",
    "{chat_history}\n",
    "Siguiente pregunta: {question}\n",
    "Pregunta general:\"\"\""
   ]
  },
  {
   "cell_type": "code",
   "execution_count": 20,
   "metadata": {},
   "outputs": [],
   "source": [
    "class ChatBot:\n",
    "\n",
    "    def __init__(self, document_retriever: DocumentRetriever, llm: LLM, topk: int = 5) -> None:\n",
    "        self.dr = document_retriever\n",
    "        self.llm = llm\n",
    "        self.topk = topk\n",
    "        self.history = []\n",
    "\n",
    "    def reset(self):\n",
    "        del self.history[:]\n",
    "\n",
    "    def follow_up_query(self, question):\n",
    "        prompt = history_remplate.format(chat_history=\"\\n\".join(self.history), question=question)\n",
    "        query = self.llm.completion(prompt)\n",
    "        return query\n",
    "    \n",
    "    def __call__(self, question: str, history: bool = False):\n",
    "        if history and len(self.history):\n",
    "            query = self.follow_up_query(question)\n",
    "        else:\n",
    "            query = question\n",
    "\n",
    "        documents = self.dr.search(query, k = self.topk)\n",
    "\n",
    "        contexts = [document['text'] for document in documents]\n",
    "        context = document_separator.join(contexts)\n",
    "        prompt = question_template.format(context=context, question=query)\n",
    "\n",
    "        messages = [{'role': 'system', 'content': prompt}]\n",
    "\n",
    "        answer = self.llm.completion(messages)\n",
    "\n",
    "        if history:\n",
    "            self.history.append('\\n'.join([f'Pregunta: {prompt}', f'Respuesta: {answer}']))\n",
    "\n",
    "        citation = {document['title']: document['url'] for document in documents}\n",
    "        citation = [f\"{idx}. {title} - {url}\" for idx, (title, url) in enumerate(citation.items(), 1)]\n",
    "        return '\\n'.join([answer, *citation])\n",
    "        "
   ]
  },
  {
   "cell_type": "code",
   "execution_count": 21,
   "metadata": {},
   "outputs": [],
   "source": [
    "chatbot = ChatBot(retriever, llm_ollama)"
   ]
  },
  {
   "cell_type": "code",
   "execution_count": 22,
   "metadata": {},
   "outputs": [
    {
     "name": "stdout",
     "output_type": "stream",
     "text": [
      "Según los fragmentos de contexto que me proporcionaste, el feng shui se refiere a la concepción china de la energía y el espacio. En general, se considera que el feng shui es una práctica que busca crear un equilibrio y armonía en el entorno, utilizando elementos como los espejos, la forma y orientación de las habitaciones, entre otros.\n",
      "1. ¿Cómo colocar Los espejos según el feng shui? - https://es.wikihow.com/colocar-los-espejos-seg%C3%BAn-el-Feng-Shui\n",
      "2. ¿Cómo comer Fideos? - https://es.wikihow.com/comer-fideos\n",
      "3. ¿Cómo lograr Tener paz interior? - https://es.wikihow.com/lograr-tener-paz-interior\n",
      "4. ¿Cómo hacer Que no te importe lo que la gente piense? - https://es.wikihow.com/hacer-que-no-te-importe-lo-que-la-gente-piense\n"
     ]
    }
   ],
   "source": [
    "print(chatbot(\"¿Qué es el feng shui?\"))"
   ]
  },
  {
   "cell_type": "code",
   "execution_count": 23,
   "metadata": {},
   "outputs": [
    {
     "name": "stdout",
     "output_type": "stream",
     "text": [
      "Running on local URL:  http://127.0.0.1:7860\n",
      "\n",
      "To create a public link, set `share=True` in `launch()`.\n"
     ]
    },
    {
     "data": {
      "text/plain": []
     },
     "execution_count": 23,
     "metadata": {},
     "output_type": "execute_result"
    }
   ],
   "source": [
    "import gradio as gr\n",
    "\n",
    "with gr.Blocks() as gr_blocks:\n",
    "    chatbot = gr.Chatbot()\n",
    "    bot = ChatBot(retriever, llm_ollama)\n",
    "    msg = gr.Textbox(\n",
    "        label=\"Sobre qué quieres conversar?\",\n",
    "        placeholder=\"Ház tu pregunta aquí y presiona enter.\"\n",
    "    )\n",
    "    clear = gr.Button(\"Limpiar\")\n",
    "\n",
    "    def respond(question, chat_history):\n",
    "        bot_message = bot(question)\n",
    "        chat_history.append((question, bot_message))\n",
    "        return \"\", chat_history\n",
    "    \n",
    "    def reset_chat():\n",
    "        bot.reset()\n",
    "        return \"\"\n",
    "    \n",
    "    msg.submit(respond, [msg, chatbot], [msg, chatbot])\n",
    "    clear.click(reset_chat, None, chatbot, queue=False)\n",
    "\n",
    "gr_blocks.launch(inline=False)"
   ]
  },
  {
   "cell_type": "code",
   "execution_count": 24,
   "metadata": {},
   "outputs": [
    {
     "name": "stdout",
     "output_type": "stream",
     "text": [
      "Closing server running on port: 7860\n"
     ]
    }
   ],
   "source": [
    "gr_blocks.close()"
   ]
  },
  {
   "cell_type": "code",
   "execution_count": null,
   "metadata": {},
   "outputs": [],
   "source": []
  }
 ],
 "metadata": {
  "kernelspec": {
   "display_name": "icesi-advanced-dl",
   "language": "python",
   "name": "python3"
  },
  "language_info": {
   "codemirror_mode": {
    "name": "ipython",
    "version": 3
   },
   "file_extension": ".py",
   "mimetype": "text/x-python",
   "name": "python",
   "nbconvert_exporter": "python",
   "pygments_lexer": "ipython3",
   "version": "3.10.14"
  }
 },
 "nbformat": 4,
 "nbformat_minor": 2
}
