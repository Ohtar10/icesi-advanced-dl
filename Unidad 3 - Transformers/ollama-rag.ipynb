{
 "cells": [
  {
   "cell_type": "markdown",
   "metadata": {},
   "source": [
    "# Retrieval-Augmented Generation (RAG), Ollama y ChatBots\n",
    "\n",
    "[![Open In Colab](https://colab.research.google.com/assets/colab-badge.svg)](https://colab.research.google.com/github/Ohtar10/icesi-advanced-dl/blob/main/Unidad%203%20-%20Transformers/ollama-rag.ipynb)\n",
    "\n",
    "En este notebook exploraremos una implementación simple de un modelo RAG para un corpus de [Wikihow](https://es.wikihow.com/Portada), un popular sitio con tutoriales de todo tipo. Además de eso, exploraremos el uso de [Ollama](https://ollama.com) una librería de reciente salida que facilita enormemente el poder instalar y correr localmente grandes modelos de lenguaje como [Llama 3](https://ai.meta.com/blog/meta-llama-3/) de Meta, el cual utilizarémos como motor de lenguaje base para crear un ChatBot conversacional adaptado al corpus de Wikihow en español.\n",
    "\n",
    "**Nota:** En este notebook no se realizará el entrenamiento de ningún modelo, se utilizarán modelos pre-entrenados y se combinaran de una forma interesante para hacer uso de cada componente a su modo y crear un agente de conversación\n",
    "\n",
    "\n",
    "### References\n",
    "- [Newtral Simple RAG Example](https://github.com/LozanoAlvarezb/MLOPS-Newtral)\n",
    "- [Retrieval-Augmented Generation for Knowledge-Intensive NLP Tasks](http://arxiv.org/abs/2005.11401)\n",
    "- [Natural Language Processing with Transformers: Building Language Applications With Hugging Face](https://www.amazon.com/Natural-Language-Processing-Transformers-Applications/dp/1098103246)\n",
    "- [Hugging Face Transformers](https://huggingface.co/docs/transformers/v4.41.3/en/index)"
   ]
  },
  {
   "cell_type": "code",
   "execution_count": 1,
   "metadata": {},
   "outputs": [],
   "source": [
    "import pkg_resources\n",
    "import warnings\n",
    "\n",
    "warnings.filterwarnings('ignore')\n",
    "\n",
    "installed_packages = [package.key for package in pkg_resources.working_set]\n",
    "IN_COLAB = 'google-colab' in installed_packages"
   ]
  },
  {
   "cell_type": "code",
   "execution_count": 2,
   "metadata": {},
   "outputs": [],
   "source": [
    "!test '{IN_COLAB}' = 'True' && wget  https://github.com/Ohtar10/icesi-advanced-dl/raw/main/Unidad%203%20-%20Transformers/requirements.txt && pip install -r requirements.txt && apt update && apt install -y lshw && pip install colab-xterm #https://pypi.org/project/colab-xterm/ "
   ]
  },
  {
   "cell_type": "markdown",
   "metadata": {},
   "source": [
    "### Dataset de Wikihow\n",
    "\n",
    "Este es una traducción por máquina del dataset de Wikihow del popular sitio [www.wikihow.com](https://www.wikihow.com/Main-Page) que publica tutoriales para todo tipo de situaciones y actividades cotidianas.\n",
    "\n",
    "- https://huggingface.co/datasets/somosnlp/wikihow_es\n"
   ]
  },
  {
   "cell_type": "code",
   "execution_count": 3,
   "metadata": {},
   "outputs": [
    {
     "data": {
      "text/plain": [
       "Dataset({\n",
       "    features: ['title', 'section_name', 'summary', 'document', 'english_section_name', 'english_url', 'url'],\n",
       "    num_rows: 90528\n",
       "})"
      ]
     },
     "execution_count": 3,
     "metadata": {},
     "output_type": "execute_result"
    }
   ],
   "source": [
    "from datasets import load_dataset\n",
    "\n",
    "dataset = load_dataset('somosnlp/wikihow_es', split='train')\n",
    "dataset"
   ]
  },
  {
   "cell_type": "code",
   "execution_count": 26,
   "metadata": {},
   "outputs": [
    {
     "data": {
      "text/html": [
       "<div>\n",
       "<style scoped>\n",
       "    .dataframe tbody tr th:only-of-type {\n",
       "        vertical-align: middle;\n",
       "    }\n",
       "\n",
       "    .dataframe tbody tr th {\n",
       "        vertical-align: top;\n",
       "    }\n",
       "\n",
       "    .dataframe thead th {\n",
       "        text-align: right;\n",
       "    }\n",
       "</style>\n",
       "<table border=\"1\" class=\"dataframe\">\n",
       "  <thead>\n",
       "    <tr style=\"text-align: right;\">\n",
       "      <th></th>\n",
       "      <th>title</th>\n",
       "      <th>section_name</th>\n",
       "      <th>summary</th>\n",
       "      <th>document</th>\n",
       "      <th>english_section_name</th>\n",
       "      <th>english_url</th>\n",
       "      <th>url</th>\n",
       "    </tr>\n",
       "  </thead>\n",
       "  <tbody>\n",
       "    <tr>\n",
       "      <th>0</th>\n",
       "      <td>¿Cómo cultivar Delphinium?</td>\n",
       "      <td>Tomar esquejes de delphinium</td>\n",
       "      <td>Cuando llegue marzo o abril, escoge brotes nuevos cerca de la base de la planta. Haz el corte ce...</td>\n",
       "      <td>Estos brotes serán jóvenes y sólidos, lo que es importante para un esqueje sano. A medida que la...</td>\n",
       "      <td>Taking Delphinium Cuttings</td>\n",
       "      <td>https://www.wikihow.com/Grow-Delphinium</td>\n",
       "      <td>https://es.wikihow.com/cultivar-delphinium</td>\n",
       "    </tr>\n",
       "    <tr>\n",
       "      <th>1</th>\n",
       "      <td>¿Cómo elegir Un buen nombre de dominio para tu sitio web?</td>\n",
       "      <td>Pensar en el futuro</td>\n",
       "      <td>Comprométete con el nombre de dominio. Escoge un nombre que deje espacio para el crecimiento. Ev...</td>\n",
       "      <td>Cualquiera sea el nombre de dominio que escojas, debes asegurarte de comprometerte con este a la...</td>\n",
       "      <td>Thinking About the Future</td>\n",
       "      <td>https://www.wikihow.com/Pick-a-Good-Domain-Name-for-Your-Website</td>\n",
       "      <td>https://es.wikihow.com/elegir-un-buen-nombre-de-dominio-para-tu-sitio-web</td>\n",
       "    </tr>\n",
       "    <tr>\n",
       "      <th>2</th>\n",
       "      <td>¿Cómo hacer Tus propios regalos de navidad?</td>\n",
       "      <td>Convierte fotos en regalos</td>\n",
       "      <td>. Toma una fotografía Prueba las fotos personales.</td>\n",
       "      <td>ecora un marco de fotos. Compra un marco de fotos barato. Puedes usar plástico, pero otros mater...</td>\n",
       "      <td>Turning Photos Into Gifts</td>\n",
       "      <td>https://www.wikihow.com/Make-Your-Own-Christmas-Gifts</td>\n",
       "      <td>https://es.wikihow.com/hacer-tus-propios-regalos-de-Navidad</td>\n",
       "    </tr>\n",
       "    <tr>\n",
       "      <th>3</th>\n",
       "      <td>¿Cómo soñar Despierto?</td>\n",
       "      <td>Saber qué soñar</td>\n",
       "      <td>Sueña con tu futuro deseado. Sueña con tus cosas favoritas. Actúa en tus sueños. Sueña con algo ...</td>\n",
       "      <td>Soñar despierto con una meta en mente puede ayudarte a obtener la motivación para alcanzarla. Im...</td>\n",
       "      <td>Knowing What to Dream About</td>\n",
       "      <td>https://www.wikihow.com/Daydream</td>\n",
       "      <td>https://es.wikihow.com/so%C3%B1ar-despierto</td>\n",
       "    </tr>\n",
       "    <tr>\n",
       "      <th>4</th>\n",
       "      <td>¿Cómo planear Una fiesta de navidad que sea elegante?</td>\n",
       "      <td>Comidas y bebidas</td>\n",
       "      <td>Debes decidir si vas a servir bebidas alcohólicas en tu fiesta: Los bocadillos y postres son una...</td>\n",
       "      <td>en caso de hacerlo, debes tener refrescos o ponche para aquellos que no beban alcohol. También e...</td>\n",
       "      <td>Refreshments and Food</td>\n",
       "      <td>https://www.wikihow.com/Plan-an-Elegant-Christmas-Party</td>\n",
       "      <td>https://es.wikihow.com/planear-una-fiesta-de-navidad-que-sea-elegante</td>\n",
       "    </tr>\n",
       "    <tr>\n",
       "      <th>5</th>\n",
       "      <td>¿Cómo ver Las descargas en android?</td>\n",
       "      <td>Usar un administrador de archivos</td>\n",
       "      <td>Abre la bandeja de aplicaciones. Pulsa Descargas, Mis archivos o Administrador de archivos. Sele...</td>\n",
       "      <td>Esta es la lista de aplicaciones del dispositivo Android. Por lo general, puedes abrirla pulsand...</td>\n",
       "      <td>Using a File Manager</td>\n",
       "      <td>https://www.wikihow.com/View-Downloads-on-Android</td>\n",
       "      <td>https://es.wikihow.com/ver-las-descargas-en-Android</td>\n",
       "    </tr>\n",
       "    <tr>\n",
       "      <th>6</th>\n",
       "      <td>¿Cómo deshacerse De los insectos de escama?</td>\n",
       "      <td>Eliminar los insectos de escama del jardín</td>\n",
       "      <td>Usa los mismos métodos que los que usaste para las plantas del interior al combatir un ataque de...</td>\n",
       "      <td>Estos insectos son más predominantes al aire libre donde infestan a todas las especies de árbole...</td>\n",
       "      <td>Removing Scales from the Garden</td>\n",
       "      <td>https://www.wikihow.com/Get-Rid-of-Scale-Insects</td>\n",
       "      <td>https://es.wikihow.com/deshacerse-de-los-insectos-de-escama</td>\n",
       "    </tr>\n",
       "    <tr>\n",
       "      <th>7</th>\n",
       "      <td>¿Cómo quitar Una mancha de vino tinto de una mesa de madera?</td>\n",
       "      <td>Mancha fresca de vino tinto</td>\n",
       "      <td>Seca el derrame de vino tinto con un paño absorbente húmedo inmediatamente. Usa una toalla suave...</td>\n",
       "      <td>Asegúrate de sólo secar el área; no lo frotes ya que se podría extender en la superficie de made...</td>\n",
       "      <td>Fresh Red Wine Stain</td>\n",
       "      <td>https://www.wikihow.com/Remove-a-Red-Wine-Stain-Ring-from-a-Wood-Table</td>\n",
       "      <td>https://es.wikihow.com/quitar-una-mancha-de-vino-tinto-de-una-mesa-de-madera</td>\n",
       "    </tr>\n",
       "    <tr>\n",
       "      <th>8</th>\n",
       "      <td>¿Cómo adiestrar A un gato con un clicker?</td>\n",
       "      <td>Prepárate para entrenar al gato</td>\n",
       "      <td>Consigue un clicker. Ten algunos premios a la mano. Consigue un artículo objetivo. Encuentra un ...</td>\n",
       "      <td>Un clicker es una caja de plástico pequeña con una pestaña de metal. Al presionarla, produce un ...</td>\n",
       "      <td>Getting Ready to Train Your Cat</td>\n",
       "      <td>https://www.wikihow.com/Clicker-Train-a-Cat</td>\n",
       "      <td>https://es.wikihow.com/adiestrar-a-un-gato-con-un-clicker</td>\n",
       "    </tr>\n",
       "    <tr>\n",
       "      <th>9</th>\n",
       "      <td>¿Cómo hacer Un mate pastor en el ajedrez?</td>\n",
       "      <td>Realizar la jugada</td>\n",
       "      <td>Juega con las piezas blancas. e4: Bc4: Qh5: Qxf7: ¡Jaque Mate!</td>\n",
       "      <td>mueve el peón de tu rey dos cuadros hacia adelante (E2-E4). mueve el alfil del rey 3 cuadros a ...</td>\n",
       "      <td>Performing the Play</td>\n",
       "      <td>https://www.wikihow.com/Do-Scholar%27s-Mate-in-Chess</td>\n",
       "      <td>https://es.wikihow.com/hacer-un-Mate-Pastor-en-el-ajedrez</td>\n",
       "    </tr>\n",
       "    <tr>\n",
       "      <th>10</th>\n",
       "      <td>¿Cómo estructurar Un currículo?</td>\n",
       "      <td>Incluye secciones esenciales</td>\n",
       "      <td>Proporciona tu información personal. Incluye un encabezado o título. Incluye entre tres y cinco ...</td>\n",
       "      <td>En el encabezado debes incluir tu información personal como tu nombre y número de teléfono. Colo...</td>\n",
       "      <td>Including Essential Sections</td>\n",
       "      <td>https://www.wikihow.com/Format-a-Resume</td>\n",
       "      <td>https://es.wikihow.com/estructurar-un-curr%C3%ADculo</td>\n",
       "    </tr>\n",
       "    <tr>\n",
       "      <th>11</th>\n",
       "      <td>¿Cómo ser Modelo infantil?</td>\n",
       "      <td>Escoger ser modelo</td>\n",
       "      <td>Cerciórate de que el modelaje en verdad te interese. Determina si cuentas con la personalidad co...</td>\n",
       "      <td>Ser modelo podría parecerte un trabajo emocionante y glamoroso; no obstante, este en verdad requ...</td>\n",
       "      <td>Deciding to be a Model</td>\n",
       "      <td>https://www.wikihow.com/Become-a-Child-Model</td>\n",
       "      <td>https://es.wikihow.com/ser-modelo-infantil</td>\n",
       "    </tr>\n",
       "    <tr>\n",
       "      <th>12</th>\n",
       "      <td>¿Cómo eliminar Un diente que has tragado?</td>\n",
       "      <td>Esperar y mirar</td>\n",
       "      <td>Ten en cuenta cuándo ver a un médico. Observa tus heces. Relájate. Come maíz. Come frutas, verdu...</td>\n",
       "      <td>La mayoría de los objetos que son tragados, como los dientes, pasarán sin problemas a través del...</td>\n",
       "      <td>Waiting and Watching</td>\n",
       "      <td>https://www.wikihow.com/Remove-a-Swallowed-Tooth</td>\n",
       "      <td>https://es.wikihow.com/eliminar-un-diente-que-has-tragado</td>\n",
       "    </tr>\n",
       "    <tr>\n",
       "      <th>13</th>\n",
       "      <td>¿Cómo superar El miedo a las aguas profundas?</td>\n",
       "      <td>Prepararte mentalmente</td>\n",
       "      <td>Reconoce tu miedo. Coloca tu miedo en perspectiva. Identifica el origen de tu miedo.</td>\n",
       "      <td>Muchas personas que padecen esta fobia se traumatizan más con la vergüenza que esta origina. Ell...</td>\n",
       "      <td>Mentally Preparing Yourself</td>\n",
       "      <td>https://www.wikihow.com/Get-over-a-Fear-of-Deep-Water</td>\n",
       "      <td>https://es.wikihow.com/superar-el-miedo-a-las-aguas-profundas</td>\n",
       "    </tr>\n",
       "    <tr>\n",
       "      <th>14</th>\n",
       "      <td>¿Cómo criar Periquitos?</td>\n",
       "      <td>Crear el hábitat</td>\n",
       "      <td>Escoge una jaula de al menos 60 x 40 cm (25 x 15 pulgadas). Cubre la rejilla con periódico, en c...</td>\n",
       "      <td>Esto les dará espacio para que vuelen y estén separados. Si bien las aves disfrutan la compañía ...</td>\n",
       "      <td>Setting Up the Habitat</td>\n",
       "      <td>https://www.wikihow.com/Breed-Budgies</td>\n",
       "      <td>https://es.wikihow.com/criar-periquitos</td>\n",
       "    </tr>\n",
       "  </tbody>\n",
       "</table>\n",
       "</div>"
      ],
      "text/plain": [
       "                                                           title  \\\n",
       "0                                     ¿Cómo cultivar Delphinium?   \n",
       "1      ¿Cómo elegir Un buen nombre de dominio para tu sitio web?   \n",
       "2                    ¿Cómo hacer Tus propios regalos de navidad?   \n",
       "3                                         ¿Cómo soñar Despierto?   \n",
       "4          ¿Cómo planear Una fiesta de navidad que sea elegante?   \n",
       "5                            ¿Cómo ver Las descargas en android?   \n",
       "6                    ¿Cómo deshacerse De los insectos de escama?   \n",
       "7   ¿Cómo quitar Una mancha de vino tinto de una mesa de madera?   \n",
       "8                      ¿Cómo adiestrar A un gato con un clicker?   \n",
       "9                      ¿Cómo hacer Un mate pastor en el ajedrez?   \n",
       "10                               ¿Cómo estructurar Un currículo?   \n",
       "11                                    ¿Cómo ser Modelo infantil?   \n",
       "12                     ¿Cómo eliminar Un diente que has tragado?   \n",
       "13                 ¿Cómo superar El miedo a las aguas profundas?   \n",
       "14                                       ¿Cómo criar Periquitos?   \n",
       "\n",
       "                                  section_name  \\\n",
       "0                 Tomar esquejes de delphinium   \n",
       "1                          Pensar en el futuro   \n",
       "2                   Convierte fotos en regalos   \n",
       "3                              Saber qué soñar   \n",
       "4                            Comidas y bebidas   \n",
       "5            Usar un administrador de archivos   \n",
       "6   Eliminar los insectos de escama del jardín   \n",
       "7                  Mancha fresca de vino tinto   \n",
       "8              Prepárate para entrenar al gato   \n",
       "9                           Realizar la jugada   \n",
       "10                Incluye secciones esenciales   \n",
       "11                          Escoger ser modelo   \n",
       "12                             Esperar y mirar   \n",
       "13                      Prepararte mentalmente   \n",
       "14                            Crear el hábitat   \n",
       "\n",
       "                                                                                                summary  \\\n",
       "0   Cuando llegue marzo o abril, escoge brotes nuevos cerca de la base de la planta. Haz el corte ce...   \n",
       "1   Comprométete con el nombre de dominio. Escoge un nombre que deje espacio para el crecimiento. Ev...   \n",
       "2                                                    . Toma una fotografía Prueba las fotos personales.   \n",
       "3   Sueña con tu futuro deseado. Sueña con tus cosas favoritas. Actúa en tus sueños. Sueña con algo ...   \n",
       "4   Debes decidir si vas a servir bebidas alcohólicas en tu fiesta: Los bocadillos y postres son una...   \n",
       "5   Abre la bandeja de aplicaciones. Pulsa Descargas, Mis archivos o Administrador de archivos. Sele...   \n",
       "6   Usa los mismos métodos que los que usaste para las plantas del interior al combatir un ataque de...   \n",
       "7   Seca el derrame de vino tinto con un paño absorbente húmedo inmediatamente. Usa una toalla suave...   \n",
       "8   Consigue un clicker. Ten algunos premios a la mano. Consigue un artículo objetivo. Encuentra un ...   \n",
       "9                                        Juega con las piezas blancas. e4: Bc4: Qh5: Qxf7: ¡Jaque Mate!   \n",
       "10  Proporciona tu información personal. Incluye un encabezado o título. Incluye entre tres y cinco ...   \n",
       "11  Cerciórate de que el modelaje en verdad te interese. Determina si cuentas con la personalidad co...   \n",
       "12  Ten en cuenta cuándo ver a un médico. Observa tus heces. Relájate. Come maíz. Come frutas, verdu...   \n",
       "13                 Reconoce tu miedo. Coloca tu miedo en perspectiva. Identifica el origen de tu miedo.   \n",
       "14  Escoge una jaula de al menos 60 x 40 cm (25 x 15 pulgadas). Cubre la rejilla con periódico, en c...   \n",
       "\n",
       "                                                                                               document  \\\n",
       "0   Estos brotes serán jóvenes y sólidos, lo que es importante para un esqueje sano. A medida que la...   \n",
       "1   Cualquiera sea el nombre de dominio que escojas, debes asegurarte de comprometerte con este a la...   \n",
       "2   ecora un marco de fotos. Compra un marco de fotos barato. Puedes usar plástico, pero otros mater...   \n",
       "3   Soñar despierto con una meta en mente puede ayudarte a obtener la motivación para alcanzarla. Im...   \n",
       "4   en caso de hacerlo, debes tener refrescos o ponche para aquellos que no beban alcohol. También e...   \n",
       "5   Esta es la lista de aplicaciones del dispositivo Android. Por lo general, puedes abrirla pulsand...   \n",
       "6   Estos insectos son más predominantes al aire libre donde infestan a todas las especies de árbole...   \n",
       "7   Asegúrate de sólo secar el área; no lo frotes ya que se podría extender en la superficie de made...   \n",
       "8   Un clicker es una caja de plástico pequeña con una pestaña de metal. Al presionarla, produce un ...   \n",
       "9    mueve el peón de tu rey dos cuadros hacia adelante (E2-E4). mueve el alfil del rey 3 cuadros a ...   \n",
       "10  En el encabezado debes incluir tu información personal como tu nombre y número de teléfono. Colo...   \n",
       "11  Ser modelo podría parecerte un trabajo emocionante y glamoroso; no obstante, este en verdad requ...   \n",
       "12  La mayoría de los objetos que son tragados, como los dientes, pasarán sin problemas a través del...   \n",
       "13  Muchas personas que padecen esta fobia se traumatizan más con la vergüenza que esta origina. Ell...   \n",
       "14  Esto les dará espacio para que vuelen y estén separados. Si bien las aves disfrutan la compañía ...   \n",
       "\n",
       "               english_section_name  \\\n",
       "0        Taking Delphinium Cuttings   \n",
       "1         Thinking About the Future   \n",
       "2         Turning Photos Into Gifts   \n",
       "3       Knowing What to Dream About   \n",
       "4             Refreshments and Food   \n",
       "5              Using a File Manager   \n",
       "6   Removing Scales from the Garden   \n",
       "7              Fresh Red Wine Stain   \n",
       "8   Getting Ready to Train Your Cat   \n",
       "9               Performing the Play   \n",
       "10     Including Essential Sections   \n",
       "11           Deciding to be a Model   \n",
       "12             Waiting and Watching   \n",
       "13      Mentally Preparing Yourself   \n",
       "14           Setting Up the Habitat   \n",
       "\n",
       "                                                               english_url  \\\n",
       "0                                  https://www.wikihow.com/Grow-Delphinium   \n",
       "1         https://www.wikihow.com/Pick-a-Good-Domain-Name-for-Your-Website   \n",
       "2                    https://www.wikihow.com/Make-Your-Own-Christmas-Gifts   \n",
       "3                                         https://www.wikihow.com/Daydream   \n",
       "4                  https://www.wikihow.com/Plan-an-Elegant-Christmas-Party   \n",
       "5                        https://www.wikihow.com/View-Downloads-on-Android   \n",
       "6                         https://www.wikihow.com/Get-Rid-of-Scale-Insects   \n",
       "7   https://www.wikihow.com/Remove-a-Red-Wine-Stain-Ring-from-a-Wood-Table   \n",
       "8                              https://www.wikihow.com/Clicker-Train-a-Cat   \n",
       "9                     https://www.wikihow.com/Do-Scholar%27s-Mate-in-Chess   \n",
       "10                                 https://www.wikihow.com/Format-a-Resume   \n",
       "11                            https://www.wikihow.com/Become-a-Child-Model   \n",
       "12                        https://www.wikihow.com/Remove-a-Swallowed-Tooth   \n",
       "13                   https://www.wikihow.com/Get-over-a-Fear-of-Deep-Water   \n",
       "14                                   https://www.wikihow.com/Breed-Budgies   \n",
       "\n",
       "                                                                             url  \n",
       "0                                     https://es.wikihow.com/cultivar-delphinium  \n",
       "1      https://es.wikihow.com/elegir-un-buen-nombre-de-dominio-para-tu-sitio-web  \n",
       "2                    https://es.wikihow.com/hacer-tus-propios-regalos-de-Navidad  \n",
       "3                                    https://es.wikihow.com/so%C3%B1ar-despierto  \n",
       "4          https://es.wikihow.com/planear-una-fiesta-de-navidad-que-sea-elegante  \n",
       "5                            https://es.wikihow.com/ver-las-descargas-en-Android  \n",
       "6                    https://es.wikihow.com/deshacerse-de-los-insectos-de-escama  \n",
       "7   https://es.wikihow.com/quitar-una-mancha-de-vino-tinto-de-una-mesa-de-madera  \n",
       "8                      https://es.wikihow.com/adiestrar-a-un-gato-con-un-clicker  \n",
       "9                      https://es.wikihow.com/hacer-un-Mate-Pastor-en-el-ajedrez  \n",
       "10                          https://es.wikihow.com/estructurar-un-curr%C3%ADculo  \n",
       "11                                    https://es.wikihow.com/ser-modelo-infantil  \n",
       "12                     https://es.wikihow.com/eliminar-un-diente-que-has-tragado  \n",
       "13                 https://es.wikihow.com/superar-el-miedo-a-las-aguas-profundas  \n",
       "14                                       https://es.wikihow.com/criar-periquitos  "
      ]
     },
     "execution_count": 26,
     "metadata": {},
     "output_type": "execute_result"
    }
   ],
   "source": [
    "import pandas as pd\n",
    "\n",
    "pd.set_option('display.max_colwidth', 100)\n",
    "dataset.set_format(type='pandas')\n",
    "df = dataset.to_pandas()\n",
    "df.head(15)\n"
   ]
  },
  {
   "cell_type": "code",
   "execution_count": 36,
   "metadata": {},
   "outputs": [
    {
     "data": {
      "image/png": "[encoded data removed]",
      "text/plain": [
       "<Figure size 1000x600 with 1 Axes>"
      ]
     },
     "metadata": {},
     "output_type": "display_data"
    }
   ],
   "source": [
    "import matplotlib.pyplot as plt\n",
    "\n",
    "fig, ax = plt.subplots(1, 1, figsize=(10, 6))\n",
    "df.document.apply(lambda text: len(text.split(' '))).hist(ax=ax)\n",
    "ax.set_title(\"Distribución por número de palabras por documento\")\n",
    "ax.set_xlabel(\"Número de palabras\")\n",
    "ax.set_ylabel(\"Frecuencia\")\n",
    "plt.show()"
   ]
  },
  {
   "cell_type": "markdown",
   "metadata": {},
   "source": [
    "## Partiendo los documentos\n",
    "\n",
    "Los modelos de lenguaje tienden a tener un tamaño de contexto limitado y muchas veces no podemos volcar documentos enteros en el contexto bien sea porque simplemente no caben o porque les estaría restando espacio a otros documentos que podrían ser relevantes. Por eso, es necesario partir los documentos en \"chunks\" de tal forma que al momento de hacer la búsqueda de documentos, no solo los documentos obtenidos quepan en el contexto del LLM, sino que pueda haber algo de diversidad.\n",
    "\n",
    "Hay diferentes estrategias para partir los documentos, una de ellas, como los autores del paper original de RAG, es partir los documentos por una cantidad de palabras fijas, e incluso podemos permitirnos que haya un solapamiento entre los documentos una vez partidos con el fin de que haya oportunidad de recuperar un contexto más global cuando la información relevante se expande por varias oraciones en el documento."
   ]
  },
  {
   "cell_type": "code",
   "execution_count": 6,
   "metadata": {},
   "outputs": [
    {
     "data": {
      "text/plain": [
       "Dataset({\n",
       "    features: ['title', 'url', 'text'],\n",
       "    num_rows: 734449\n",
       "})"
      ]
     },
     "execution_count": 6,
     "metadata": {},
     "output_type": "execute_result"
    }
   ],
   "source": [
    "from typing import Callable, Dict, List, Optional\n",
    "from collections import defaultdict\n",
    "\n",
    "\n",
    "def split_text(chunk_size: int, sliding_window: int = 0) -> Callable:\n",
    "    \"\"\"split_text\n",
    "    \n",
    "    Retorna una función a aplicar sobre un dataset de hf que:\n",
    "    1. Separará cada documento en pedazos de tamaño chunk_size\n",
    "    2. Creará documentos solapados entre si para un mismo original,\n",
    "       dependiendo del sliding_window especificado. Es decir:\n",
    "\n",
    "       - sliding_window = 0: No habrá solapamiento, cada sub-documento\n",
    "       estará uno inmediatamente seguido del final del otro.\n",
    "\n",
    "       - sliding_window > 0: Habrá solapamiento de todo el documento\n",
    "       excepto por la cantidad de palabras en el sliding_window\n",
    "    \"\"\"\n",
    "    def _split_text(batch):\n",
    "        # juntamos el resumen y el documento, partiendolos por palabras.\n",
    "        # Esto ya que el resumen suele contener parte del texto del articulo, entonces sirve para evitar pérdidas de información.\n",
    "        articles = {url: summary.split(' ') + document.split(' ') for url, summary, document in zip(batch['url'], batch['summary'], batch['document'])}\n",
    "        chunks = defaultdict(list)\n",
    "\n",
    "        # procedemos a iterar cada articulo para crear un nuevo dataset de documentos\n",
    "        for title, (url, doc_words) in zip(batch['title'], articles.items()):\n",
    "            # mantenemos un buffer para almacenar sub-documentos del tamaño de chunk\n",
    "            buffer = []\n",
    "            for word in doc_words:\n",
    "                # llenamos el buffer hasta que sea igual o superior al chunk size esperado\n",
    "                if len(buffer) < chunk_size:\n",
    "                    buffer.append(word)\n",
    "                else:\n",
    "                    # Cuando el buffer se llena, creamos un nuevo documento para el mismo titulo\n",
    "                    chunk_text = ' '.join(buffer)\n",
    "                    # guardamos titulo y url para usarlos como referencia después.\n",
    "                    chunks['title'].append(title)\n",
    "                    chunks['text'].append(chunk_text)\n",
    "                    chunks['url'].append(url)\n",
    "                    # nos desplazamos hacia adelante tanto como hayamos definido el\n",
    "                    # sliding window, esto permite el solapamiento del documento\n",
    "                    if sliding_window == 0:\n",
    "                        del buffer[:]\n",
    "                    else:\n",
    "                        del buffer[0: sliding_window]\n",
    "                    buffer.append(word)\n",
    "            # si el buffer aún tiene información, creamos un nuevo documento para no perder información\n",
    "            if buffer:\n",
    "                chunk_text = ' '.join(buffer)\n",
    "                chunks['title'].append(title)\n",
    "                chunks['text'].append(chunk_text)\n",
    "                chunks['url'].append(url)\n",
    "\n",
    "        return chunks\n",
    "    return _split_text\n",
    "\n",
    "# Creamos chunks de 100 paralbras ya que se considera una buena medida segun el paper original y la frecuencia de palabras por documento observada anteriormente\n",
    "# Se establece un sliding_window de 50, lo cual quiere decir que los sub-documentos de un mismo documento original compartiran la mitad entre si.\n",
    "documents = dataset.map(split_text(chunk_size=100, sliding_window=50), batched=True, remove_columns=dataset.column_names)\n",
    "documents"
   ]
  },
  {
   "cell_type": "markdown",
   "metadata": {},
   "source": [
    "Vemos que el dataset ha aumentado de tamañó, esto es esperado ya que hemos partido cada documento en pedazos de a 100. Ahora observemos algunos ejemplares:"
   ]
  },
  {
   "cell_type": "code",
   "execution_count": 7,
   "metadata": {},
   "outputs": [
    {
     "data": {
      "text/html": [
       "<div>\n",
       "<style scoped>\n",
       "    .dataframe tbody tr th:only-of-type {\n",
       "        vertical-align: middle;\n",
       "    }\n",
       "\n",
       "    .dataframe tbody tr th {\n",
       "        vertical-align: top;\n",
       "    }\n",
       "\n",
       "    .dataframe thead th {\n",
       "        text-align: right;\n",
       "    }\n",
       "</style>\n",
       "<table border=\"1\" class=\"dataframe\">\n",
       "  <thead>\n",
       "    <tr style=\"text-align: right;\">\n",
       "      <th></th>\n",
       "      <th>title</th>\n",
       "      <th>url</th>\n",
       "      <th>text</th>\n",
       "    </tr>\n",
       "  </thead>\n",
       "  <tbody>\n",
       "    <tr>\n",
       "      <th>0</th>\n",
       "      <td>¿Cómo cultivar Delphinium?</td>\n",
       "      <td>https://es.wikihow.com/cultivar-delphinium</td>\n",
       "      <td>Cuando llegue marzo o abril, escoge brotes nuevos cerca de la base de la planta. Haz el corte ce...</td>\n",
       "    </tr>\n",
       "    <tr>\n",
       "      <th>1</th>\n",
       "      <td>¿Cómo hacer Una batería casera?</td>\n",
       "      <td>https://es.wikihow.com/hacer-una-bater%C3%ADa-casera</td>\n",
       "      <td>Reúne los materiales. Llena un vaso de plástico con agua a 3/4 de su capacidad. Agrega 1 cuchara...</td>\n",
       "    </tr>\n",
       "    <tr>\n",
       "      <th>2</th>\n",
       "      <td>¿Cómo colocar Los espejos según el feng shui?</td>\n",
       "      <td>https://es.wikihow.com/colocar-los-espejos-seg%C3%BAn-el-Feng-Shui</td>\n",
       "      <td>es muy malo para el feng shui de tu hogar. Evita utilizar espejos redondeados u ovalados en tu h...</td>\n",
       "    </tr>\n",
       "    <tr>\n",
       "      <th>3</th>\n",
       "      <td>¿Cómo dividir Una planta flox?</td>\n",
       "      <td>https://es.wikihow.com/dividir-una-planta-flox</td>\n",
       "      <td>de debilidad o sobrepoblación antes de dividirla. Como regla de dedo, permite que el racimo de l...</td>\n",
       "    </tr>\n",
       "    <tr>\n",
       "      <th>4</th>\n",
       "      <td>¿Cómo seguir Los requerimientos nutricionales para la anemia?</td>\n",
       "      <td>https://es.wikihow.com/seguir-los-requerimientos-nutricionales-para-la-anemia</td>\n",
       "      <td>están en un riesgo elevado de sufrir de anemia y estos son:  las mujeres (a causa de la pérdida ...</td>\n",
       "    </tr>\n",
       "    <tr>\n",
       "      <th>5</th>\n",
       "      <td>¿Cómo compartir Una carpeta en la red?</td>\n",
       "      <td>https://es.wikihow.com/compartir-una-carpeta-en-la-red</td>\n",
       "      <td>en esta carpeta. Esto también le otorga a este usuario la capacidad para cambiar los permisos en...</td>\n",
       "    </tr>\n",
       "    <tr>\n",
       "      <th>6</th>\n",
       "      <td>¿Cómo preparar Vermicompost?</td>\n",
       "      <td>https://es.wikihow.com/preparar-vermicompost</td>\n",
       "      <td>los granos de café también servirán.  Es importante en especial que no agregues carne, huesos ni...</td>\n",
       "    </tr>\n",
       "    <tr>\n",
       "      <th>7</th>\n",
       "      <td>¿Cómo curar El daño del reflujo gástrico?</td>\n",
       "      <td>https://es.wikihow.com/evitar-que-tu-gato-engorde-y-se-vuelva-perezoso</td>\n",
       "      <td>de la constitución, tamaño, raza y sexo de tu mascota. Tal vez quieras comprar una taza medidora...</td>\n",
       "    </tr>\n",
       "    <tr>\n",
       "      <th>8</th>\n",
       "      <td>¿Cómo rellenar Tu sostén?</td>\n",
       "      <td>https://es.wikihow.com/colocar-letreros-de-Prohibido-el-Paso</td>\n",
       "      <td>señalización permanezca legible con el tiempo. Tu área puede tener requisitos específicos sobre ...</td>\n",
       "    </tr>\n",
       "    <tr>\n",
       "      <th>9</th>\n",
       "      <td>¿Cómo teñirte El cabello con té, café o especias?</td>\n",
       "      <td>https://es.wikihow.com/preparar-un-blanqueador-de-dientes</td>\n",
       "      <td>de la superficie de los dientes. Puedes aplicarlo como blanqueador de diversos modos:  Introduce...</td>\n",
       "    </tr>\n",
       "  </tbody>\n",
       "</table>\n",
       "</div>"
      ],
      "text/plain": [
       "                                                           title  \\\n",
       "0                                     ¿Cómo cultivar Delphinium?   \n",
       "1                                ¿Cómo hacer Una batería casera?   \n",
       "2                  ¿Cómo colocar Los espejos según el feng shui?   \n",
       "3                                 ¿Cómo dividir Una planta flox?   \n",
       "4  ¿Cómo seguir Los requerimientos nutricionales para la anemia?   \n",
       "5                         ¿Cómo compartir Una carpeta en la red?   \n",
       "6                                   ¿Cómo preparar Vermicompost?   \n",
       "7                      ¿Cómo curar El daño del reflujo gástrico?   \n",
       "8                                      ¿Cómo rellenar Tu sostén?   \n",
       "9              ¿Cómo teñirte El cabello con té, café o especias?   \n",
       "\n",
       "                                                                             url  \\\n",
       "0                                     https://es.wikihow.com/cultivar-delphinium   \n",
       "1                           https://es.wikihow.com/hacer-una-bater%C3%ADa-casera   \n",
       "2             https://es.wikihow.com/colocar-los-espejos-seg%C3%BAn-el-Feng-Shui   \n",
       "3                                 https://es.wikihow.com/dividir-una-planta-flox   \n",
       "4  https://es.wikihow.com/seguir-los-requerimientos-nutricionales-para-la-anemia   \n",
       "5                         https://es.wikihow.com/compartir-una-carpeta-en-la-red   \n",
       "6                                   https://es.wikihow.com/preparar-vermicompost   \n",
       "7         https://es.wikihow.com/evitar-que-tu-gato-engorde-y-se-vuelva-perezoso   \n",
       "8                   https://es.wikihow.com/colocar-letreros-de-Prohibido-el-Paso   \n",
       "9                      https://es.wikihow.com/preparar-un-blanqueador-de-dientes   \n",
       "\n",
       "                                                                                                  text  \n",
       "0  Cuando llegue marzo o abril, escoge brotes nuevos cerca de la base de la planta. Haz el corte ce...  \n",
       "1  Reúne los materiales. Llena un vaso de plástico con agua a 3/4 de su capacidad. Agrega 1 cuchara...  \n",
       "2  es muy malo para el feng shui de tu hogar. Evita utilizar espejos redondeados u ovalados en tu h...  \n",
       "3  de debilidad o sobrepoblación antes de dividirla. Como regla de dedo, permite que el racimo de l...  \n",
       "4  están en un riesgo elevado de sufrir de anemia y estos son:  las mujeres (a causa de la pérdida ...  \n",
       "5  en esta carpeta. Esto también le otorga a este usuario la capacidad para cambiar los permisos en...  \n",
       "6  los granos de café también servirán.  Es importante en especial que no agregues carne, huesos ni...  \n",
       "7  de la constitución, tamaño, raza y sexo de tu mascota. Tal vez quieras comprar una taza medidora...  \n",
       "8  señalización permanezca legible con el tiempo. Tu área puede tener requisitos específicos sobre ...  \n",
       "9  de la superficie de los dientes. Puedes aplicarlo como blanqueador de diversos modos:  Introduce...  "
      ]
     },
     "execution_count": 7,
     "metadata": {},
     "output_type": "execute_result"
    }
   ],
   "source": [
    "documents[0:2500:250]"
   ]
  },
  {
   "cell_type": "code",
   "execution_count": 8,
   "metadata": {},
   "outputs": [],
   "source": [
    "documents.reset_format()"
   ]
  },
  {
   "cell_type": "markdown",
   "metadata": {},
   "source": [
    "## Creando el vector store\n",
    "\n",
    "El vector store es la \"base de datos\" a la que el modelo puede acceder para recuperar documentos relevantes a una petición que se le haga al chatbot y que podrá utilizar como contexto para generar una respuesta. Este vector store es en si los embeddings de los documentos que hemos generado anteriormente.\n",
    "\n",
    "Para el encoder, utilizaremos un modelo pre-entrenado [Multilingual E5](https://huggingface.co/intfloat/multilingual-e5-small), que es un modelo de lenguaje multi-idiomas que utiliza arquitecturas de transformers, similar a BERT y GPT. El propósito de esta parte es simplemente construir un vector store de la que podamos recuperar documentos relevantes en función de la entrada del usuario, tal cual, por lo que la recuperación de documentos en si, no estará conectada con el proceso de predicción de tokens. Esto es una diferencia clave con el paper original ya que en este último si que se entrena un modelo de recuperación de documentos. Pero ya que vamos a utilizar otro LLM el cual no podemos manipular, simplemente podemos conectarlos a través de sus entradas y salidas."
   ]
  },
  {
   "cell_type": "code",
   "execution_count": 9,
   "metadata": {},
   "outputs": [],
   "source": [
    "import os\n",
    "from pathlib import Path\n",
    "import numpy as np\n",
    "from sentence_transformers import SentenceTransformer\n",
    "\n",
    "model_ckpt = 'intfloat/multilingual-e5-small'\n",
    "embeddings_path = Path('data/vectorstore.npy')\n",
    "# limitamos el tamaño del store para hacer más rápido el ejercicio, incrementar para mejores resultados.\n",
    "limit = 5000\n",
    "\n",
    "model = SentenceTransformer(model_ckpt)\n",
    "\n",
    "if embeddings_path.exists():\n",
    "    vectorstore = np.load(str(embeddings_path))\n",
    "else:\n",
    "    vectorstore = documents.shuffle().take(limit).map(lambda example: {'embedding': model.encode(example['text'])}, remove_columns=documents.column_names)\n",
    "    vectorstore.reset_format()\n",
    "    vectorstore = np.concatenate([np.array(v['embedding'], dtype=np.float32).reshape(1, -1) for v in vectorstore.to_iterable_dataset()], axis=0)\n",
    "    os.makedirs(embeddings_path.parent, exist_ok=True)\n",
    "    np.save(str(embeddings_path), vectorstore)\n"
   ]
  },
  {
   "cell_type": "code",
   "execution_count": 10,
   "metadata": {},
   "outputs": [
    {
     "data": {
      "text/plain": [
       "(1000, 384)"
      ]
     },
     "execution_count": 10,
     "metadata": {},
     "output_type": "execute_result"
    }
   ],
   "source": [
    "vectorstore.shape"
   ]
  },
  {
   "cell_type": "code",
   "execution_count": 11,
   "metadata": {},
   "outputs": [],
   "source": [
    "documents.reset_format()"
   ]
  },
  {
   "attachments": {
    "image.png": {
     "image/png": "[encoded data removed]"
    }
   },
   "cell_type": "markdown",
   "metadata": {},
   "source": [
    "## Creando el `DocumentRetriever`\n",
    "\n",
    "![](attachment:image.png)\n",
    "\n",
    "El document retriever es la porción del modelo que va a encontrar aquellos documentos con una gran relevancia con la entrada del usuario. Esta operación, lo que hace es calcular la similitud entre dos textos, el query y los documentos, ambos proyectados en el espacio denso de los embeddings según el modelo que estemos usando. Recordemos que los embeddings semanticamente similares tienden a estar cercanos el uno del otro, por tanto, debería tener sentido obtener los documentos similares en función del producto punto entre el query y los documentos. Esto es justamente lo que hace el Document Retriever. Esto puede ser una red entrenable, justamente para mejorar la calidad de las representaciones de los embeddings y asi obtener mejores similitudes entre queries y documentos.\n",
    "\n",
    "En esta implementación, como utilizarémos más adelante un LLM externo el cual tiene sus propios codificadores, lo mejor es recuperar los documentos como texto y no como embeddings, de lo contrario podemos obtener resultados inesperados."
   ]
  },
  {
   "cell_type": "code",
   "execution_count": 12,
   "metadata": {},
   "outputs": [],
   "source": [
    "from datasets import Dataset\n",
    "from sentence_transformers import util as st_util\n",
    "\n",
    "class DocumentRetriever:\n",
    "\n",
    "    def __init__(self, documents: Dataset, vectorstore: np.ndarray, model: SentenceTransformer) -> None:\n",
    "        self.documents = documents\n",
    "        self.vectorstore = vectorstore\n",
    "        self.model = model\n",
    "\n",
    "    def search(self, query: str, k: int = 5):\n",
    "        # el query debe ser proyectado en el espacio del embedding para poder operar contra el vector store, generado con el mismo encoder.\n",
    "        q = self.model.encode(query)\n",
    "        # calculamos el dot product similarity entre ambos\n",
    "        scores = st_util.dot_score(q, self.vectorstore)\n",
    "        scores = scores.squeeze()\n",
    "\n",
    "        # ordenamos por el mayor logit y obtenemos el topk\n",
    "        topk = (-scores).argsort()[:k].numpy().tolist()\n",
    "\n",
    "        # retornamos los documentos (texto real) de los documentos topk\n",
    "        return [{**self.documents[i], \"score\": scores[i].item()} for i in topk]"
   ]
  },
  {
   "cell_type": "markdown",
   "metadata": {},
   "source": [
    "Ahora observemos unos resultados. Recordemos uno de los articulos que obtuvimos anteriormente tras pre-procesar el dataset y pongamos a prueba el retriever."
   ]
  },
  {
   "cell_type": "code",
   "execution_count": 13,
   "metadata": {},
   "outputs": [
    {
     "data": {
      "text/plain": [
       "[{'title': '¿Cómo colocar Los espejos según el feng shui?',\n",
       "  'url': 'https://es.wikihow.com/colocar-los-espejos-seg%C3%BAn-el-Feng-Shui',\n",
       "  'text': 'pero evita aquellos que son pequeños o facetados. Lo aconsejable es poder verte de pies a cabeza. Evita escoger espejos con superficies distorsionadas. Esto también aplica a los espejos con superficies anticuadas. Se cree que observar a través de estos espejos hace que las personas se sientan distorsionadas, y esto es muy malo para el feng shui de tu hogar. Evita utilizar espejos redondeados u ovalados en tu hogar. Por lo general, los espejos cuadrados o rectangulares se consideran mejores para crear un buen feng shui. No cuelgues espejos rotos o rajados en tu hogar. Si un espejo que tienes',\n",
       "  'score': 0.8721307516098022},\n",
       " {'title': '¿Cómo colocar Los espejos según el feng shui?',\n",
       "  'url': 'https://es.wikihow.com/colocar-los-espejos-seg%C3%BAn-el-Feng-Shui',\n",
       "  'text': 'es muy malo para el feng shui de tu hogar. Evita utilizar espejos redondeados u ovalados en tu hogar. Por lo general, los espejos cuadrados o rectangulares se consideran mejores para crear un buen feng shui. No cuelgues espejos rotos o rajados en tu hogar. Si un espejo que tienes en tu hogar se rompe, tíralo inmediatamente.',\n",
       "  'score': 0.8667315244674683},\n",
       " {'title': '¿Cómo comer Fideos?',\n",
       "  'url': 'https://es.wikihow.com/comer-fideos',\n",
       "  'text': 'debes de mover al manipular el otro con tus dedos índice y pulgar, para poder sostener así los fideos entre ambos palillos. Se utiliza la misma técnica para comer los fideos sin caldo con palillos. En algunos países asiáticos como China, Japón, Vietnam y Tailandia, utilizan los palillos para agarrar los fideos. Después los ponen en una cuchara grande y, finalmente, se comen todo el contenido a la vez. Depende de la cultura, pero en muchos países asiáticos no se considera de mala educación sorber los fideos y el caldo al llevártelos a la boca. En otros países, sin embargo,',\n",
       "  'score': 0.7935861349105835},\n",
       " {'title': '¿Cómo soñar Despierto?',\n",
       "  'url': 'https://es.wikihow.com/so%C3%B1ar-despierto',\n",
       "  'text': 'dándote al mismo tiempo una libertad total para satisfacer tus fantasías. ¿Te convertirás en presidente? ¿Viajarás a una isla tropical? ¿Fundarás tu propia empresa? ¿Te enamorarás y formarás una familia? Cuando sueñas despierto, todo es posible.  Intenta imaginar todas las cosas que te harían feliz y ponlas en una historia. Mantener la historia y los personajes consistentes hará que sea más divertido y fácil cuando te encuentres en entornos distintos. Mantén las historias y situaciones con un tono positivo, y desarróllalas cada vez que sueñes despierto. Quizás no sea tan productivo como soñar con tus metas, pero es divertido',\n",
       "  'score': 0.7920055389404297},\n",
       " {'title': '¿Cómo lograr Tener paz interior?',\n",
       "  'url': 'https://es.wikihow.com/lograr-tener-paz-interior',\n",
       "  'text': 'Sé paciente. Experimenta el momento actual. Trata de no prejuzgar. Sé feliz. Siente orgullo. Debes estar satisfecho. Asume responsabilidades. Sé optimista. Recuerda que la paz interior se desarrolla con el tiempo. Las fluctuaciones se dan a lo largo del día. Habrá momentos en los que te sientas más tranquilo que en otros. Recuerda que eres una obra en progreso y, aunque siempre estás cambiando, eres una persona hermosa en cada momento. Piensa solo en lo que está enfrente de ti. Piensa menos en el pasado o en el futuro. El presente es diferente al pasado. Tener consciencia plena de cada',\n",
       "  'score': 0.7916587591171265}]"
      ]
     },
     "execution_count": 13,
     "metadata": {},
     "output_type": "execute_result"
    }
   ],
   "source": [
    "retriever = DocumentRetriever(documents, vectorstore, model)\n",
    "retriever.search('Qué es feng shui?')"
   ]
  },
  {
   "cell_type": "markdown",
   "metadata": {},
   "source": [
    "Vemos que por lo menos dentro de los resultados hemos recuperado el articulo sobre feng shui, lo cual nos indica que el retriever si podría entregarnos resultados relevantes.\n",
    "\n",
    "## Implementando el LLM\n",
    "\n",
    "Ahora, vamos a implementar la clase que hará interface entre el modelo LLM que utilizaremos (Llama 3) y el resto de la aplicación."
   ]
  },
  {
   "cell_type": "code",
   "execution_count": 14,
   "metadata": {},
   "outputs": [],
   "source": [
    "from abc import abstractmethod\n",
    "from typing import Any, Generator\n",
    "\n",
    "class LLM:\n",
    "\n",
    "    @abstractmethod\n",
    "    def completion_stream(self, *args: Any, **kwargs: Any) -> Generator:\n",
    "        raise NotImplementedError\n",
    "    \n",
    "\n",
    "    def completion(self, *args, **kwargs):\n",
    "        return \"\".join(self.completion_stream(*args, **kwargs))\n",
    "\n"
   ]
  },
  {
   "cell_type": "code",
   "execution_count": 48,
   "metadata": {},
   "outputs": [],
   "source": [
    "from typing import Any, Generator\n",
    "import ollama\n",
    "import time\n",
    "\n",
    "class Ollama(LLM):\n",
    "\n",
    "    def __init__(self, model: str) -> None:\n",
    "        super().__init__()\n",
    "        self.model = model\n",
    "\n",
    "    def completion_stream(self, messages) -> Generator[Any, None, None]:\n",
    "        stream = ollama.chat(\n",
    "            model=self.model,\n",
    "            messages=messages,\n",
    "            stream=True\n",
    "        )\n",
    "        for chunk in stream:\n",
    "            content = chunk[\"message\"][\"content\"]\n",
    "            token = content if content is not None else \"\"\n",
    "            yield token"
   ]
  },
  {
   "cell_type": "markdown",
   "metadata": {},
   "source": [
    "Instalamos ollama si ya no lo está."
   ]
  },
  {
   "cell_type": "code",
   "execution_count": 16,
   "metadata": {},
   "outputs": [
    {
     "name": "stderr",
     "output_type": "stream",
     "text": [
      "huggingface/tokenizers: The current process just got forked, after parallelism has already been used. Disabling parallelism to avoid deadlocks...\n",
      "To disable this warning, you can either:\n",
      "\t- Avoid using `tokenizers` before the fork if possible\n",
      "\t- Explicitly set the environment variable TOKENIZERS_PARALLELISM=(true | false)\n"
     ]
    },
    {
     "name": "stdout",
     "output_type": "stream",
     "text": [
      "Ollama ya está instalado.\n"
     ]
    }
   ],
   "source": [
    "!if ! type ollama > /dev/null; then curl -fsSL https://ollama.com/install.sh | sh; else echo \"Ollama ya está instalado.\"; fi"
   ]
  },
  {
   "cell_type": "markdown",
   "metadata": {},
   "source": [
    "#### ATENCIÓN!\n",
    "Si estás corriendo el notebook en Colab, descomenta las líneas de la siguiente celda y cuando cargue la terminal, ejecuta el commando `ollama serve &`"
   ]
  },
  {
   "cell_type": "code",
   "execution_count": 17,
   "metadata": {},
   "outputs": [],
   "source": [
    "# %load_ext colabxterm\n",
    "# %xterm"
   ]
  },
  {
   "cell_type": "markdown",
   "metadata": {},
   "source": [
    "Descargamos el modelo llama3"
   ]
  },
  {
   "cell_type": "code",
   "execution_count": 18,
   "metadata": {},
   "outputs": [
    {
     "name": "stderr",
     "output_type": "stream",
     "text": [
      "huggingface/tokenizers: The current process just got forked, after parallelism has already been used. Disabling parallelism to avoid deadlocks...\n",
      "To disable this warning, you can either:\n",
      "\t- Avoid using `tokenizers` before the fork if possible\n",
      "\t- Explicitly set the environment variable TOKENIZERS_PARALLELISM=(true | false)\n"
     ]
    },
    {
     "name": "stdout",
     "output_type": "stream",
     "text": [
      "\u001b[?25lpulling manifest ⠋ \u001b[?25h\u001b[?25l\u001b[2K\u001b[1Gpulling manifest ⠙ \u001b[?25h\u001b[?25l\u001b[2K\u001b[1Gpulling manifest ⠹ \u001b[?25h\u001b[?25l\u001b[2K\u001b[1Gpulling manifest ⠸ \u001b[?25h\u001b[?25l\u001b[2K\u001b[1Gpulling manifest ⠼ \u001b[?25h\u001b[?25l\u001b[2K\u001b[1Gpulling manifest ⠴ \u001b[?25h\u001b[?25l\u001b[2K\u001b[1Gpulling manifest ⠦ \u001b[?25h\u001b[?25l\u001b[2K\u001b[1Gpulling manifest ⠧ \u001b[?25h\u001b[?25l\u001b[2K\u001b[1Gpulling manifest ⠇ \u001b[?25h\u001b[?25l\u001b[2K\u001b[1Gpulling manifest \n",
      "pulling 6a0746a1ec1a... 100% ▕████████████████▏ 4.7 GB                         \n",
      "pulling 4fa551d4f938... 100% ▕████████████████▏  12 KB                         \n",
      "pulling 8ab4849b038c... 100% ▕████████████████▏  254 B                         \n",
      "pulling 577073ffcc6c... 100% ▕████████████████▏  110 B                         \n",
      "pulling 3f8eb4da87fa... 100% ▕████████████████▏  485 B                         \n",
      "verifying sha256 digest \n",
      "writing manifest \n",
      "removing any unused layers \n",
      "success \u001b[?25h\n"
     ]
    }
   ],
   "source": [
    "!ollama pull llama3"
   ]
  },
  {
   "cell_type": "markdown",
   "metadata": {},
   "source": [
    "Y creamos una instancia del modelo."
   ]
  },
  {
   "cell_type": "code",
   "execution_count": null,
   "metadata": {},
   "outputs": [],
   "source": [
    "llm_ollama = Ollama(model=\"llama3\")"
   ]
  },
  {
   "cell_type": "markdown",
   "metadata": {},
   "source": [
    "Recordemos que el modelo que se utilizó para el encoding (multilingual E5) es muy diferente al modelo de chat que aquí vamos a usar (llama3), razón por la cual la recuperación de documentos la hemos implementado de forma que entrega texto y no embeddings. Entonces, la forma como vamos a hacer interface con llama 3 es mediante prompts cuidadosamente organizados, incluyendo el contexto en texto plano según la conversación y los documentos recuperados. Es por esto que se preparan unas plantillas de conversación, pero estas plantillas son de cara a llama 3, con el que el usuario no va a hablar directamente. Le pediremos a llama 3 que responda a un texto que le pasarémos combinando el texto que hemos recuperado."
   ]
  },
  {
   "cell_type": "code",
   "execution_count": 20,
   "metadata": {},
   "outputs": [],
   "source": [
    "document_separator = \"\\n\\n\"\n",
    "\n",
    "# Este es el prompt que le enviaremos a llama3 para que genere la respuesta.\n",
    "# 'context' contendrá el texto de los documentos recuperados y la conversación con el usuario que tengamos de nuestro aldo\n",
    "# 'question' será la última preguna hecha por el usuario.\n",
    "question_template = \"\"\"Utiliza los siguientes fragmentos de contexto para responder la pregunta al final. Si no sabes la respuesta, di que no lo sabes. Responde como en una conversación natural.\n",
    "\n",
    "{context}\n",
    "\n",
    "Pregunta: {question}\n",
    "Respuesta Útil\"\"\"\n",
    "\n",
    "# Este es otro prompt que se utilizará para generar una pregunta resumida con el historial de chat que el usuario lleve hasta el momento.\n",
    "history_remplate = \"\"\"Dada la siguiente conversación y la pregunta, expresa de otro modo la pregunta para que todo sea una sola pregunta en general\n",
    "\n",
    "Historial:\n",
    "{chat_history}\n",
    "Siguiente pregunta: {question}\n",
    "Pregunta general:\"\"\""
   ]
  },
  {
   "cell_type": "markdown",
   "metadata": {},
   "source": [
    "### Definición del Chatbot\n",
    "\n",
    "Finalmente implementaremos la clase que combinará todos los componentes. Esta clase es la que se encarga de recibir las peticiones e invocar cada componente según corresponda, esto es:\n",
    "\n",
    "1. Recibir el query del usuario\n",
    "2. Utilizar el document retriever para recuperar documentos relevantes a la pregunta\n",
    "3. Construir un prompt para llama 3 con el **texto** de la pregunta y los documentos encontrados.\n",
    "4. Interactuar con llama 3 para recuperar sus respuestas y almacenarlas en el historial.\n",
    "5. Identificar los documentos relevantes para el contexto y construir citas de referencia."
   ]
  },
  {
   "cell_type": "code",
   "execution_count": 21,
   "metadata": {},
   "outputs": [],
   "source": [
    "class ChatBot:\n",
    "\n",
    "    def __init__(self, document_retriever: DocumentRetriever, llm: LLM, topk: int = 5) -> None:\n",
    "        self.dr = document_retriever\n",
    "        self.llm = llm\n",
    "        self.topk = topk\n",
    "        self.history = []\n",
    "\n",
    "    def reset(self):\n",
    "        del self.history[:]\n",
    "\n",
    "    def follow_up_query(self, question):\n",
    "        prompt = history_remplate.format(chat_history=\"\\n\".join(self.history), question=question)\n",
    "        query = self.llm.completion(prompt)\n",
    "        return query\n",
    "    \n",
    "    def __call__(self, question: str, history: bool = False):\n",
    "        if history and len(self.history):\n",
    "            query = self.follow_up_query(question)\n",
    "        else:\n",
    "            query = question\n",
    "\n",
    "        documents = self.dr.search(query, k = self.topk)\n",
    "\n",
    "        contexts = [document['text'] for document in documents]\n",
    "        context = document_separator.join(contexts)\n",
    "        prompt = question_template.format(context=context, question=query)\n",
    "\n",
    "        messages = [{'role': 'system', 'content': prompt}]\n",
    "\n",
    "        answer = self.llm.completion(messages)\n",
    "\n",
    "        if history:\n",
    "            self.history.append('\\n'.join([f'Pregunta: {prompt}', f'Respuesta: {answer}']))\n",
    "\n",
    "        citation = {document['title']: document['url'] for document in documents}\n",
    "        citation = [f\"{idx}. {title} - {url}\" for idx, (title, url) in enumerate(citation.items(), 1)]\n",
    "        return '\\n'.join([answer, *citation])\n",
    "        "
   ]
  },
  {
   "cell_type": "markdown",
   "metadata": {},
   "source": [
    "Pongamos a prueba el chatbot, hagámos la misma pregunta que hemos hecho antes al document retriever."
   ]
  },
  {
   "cell_type": "code",
   "execution_count": 50,
   "metadata": {},
   "outputs": [],
   "source": [
    "chatbot = ChatBot(retriever, llm_ollama)"
   ]
  },
  {
   "cell_type": "code",
   "execution_count": 51,
   "metadata": {},
   "outputs": [
    {
     "name": "stdout",
     "output_type": "stream",
     "text": [
      "El feng shui! Según los fragmentos de contexto, parece que el feng shui se refiere a la disposición y selección de elementos en tu hogar, como espejos, para crear un ambiente equilibrado y positivo. Se sugiere evitar espejos pequeños o con superficies distorsionadas, y optar por espejos cuadrados o rectangulares. También se recomienda no colocar espejos rotos o rajados en tu hogar.\n",
      "1. ¿Cómo colocar Los espejos según el feng shui? - https://es.wikihow.com/colocar-los-espejos-seg%C3%BAn-el-Feng-Shui\n",
      "2. ¿Cómo comer Fideos? - https://es.wikihow.com/comer-fideos\n",
      "3. ¿Cómo lograr Tener paz interior? - https://es.wikihow.com/lograr-tener-paz-interior\n",
      "4. ¿Cómo hacer Que no te importe lo que la gente piense? - https://es.wikihow.com/hacer-que-no-te-importe-lo-que-la-gente-piense\n"
     ]
    }
   ],
   "source": [
    "print(chatbot(\"¿Qué es el feng shui?\"))"
   ]
  },
  {
   "cell_type": "markdown",
   "metadata": {},
   "source": [
    "Vemos que responde coherentemente y ha citado el articulo donde justamente se hace mención al feng sui, proveniente de nuestro vector store.\n",
    "\n",
    "### Usando Gradio para crear una interfaz de chat"
   ]
  },
  {
   "cell_type": "code",
   "execution_count": 24,
   "metadata": {},
   "outputs": [
    {
     "name": "stdout",
     "output_type": "stream",
     "text": [
      "Running on local URL:  http://127.0.0.1:7860\n",
      "\n",
      "To create a public link, set `share=True` in `launch()`.\n"
     ]
    },
    {
     "data": {
      "text/plain": []
     },
     "execution_count": 24,
     "metadata": {},
     "output_type": "execute_result"
    }
   ],
   "source": [
    "import gradio as gr\n",
    "\n",
    "with gr.Blocks() as gr_blocks:\n",
    "    chatbot = gr.Chatbot()\n",
    "    bot = ChatBot(retriever, llm_ollama)\n",
    "    msg = gr.Textbox(\n",
    "        label=\"Sobre qué quieres conversar?\",\n",
    "        placeholder=\"Ház tu pregunta aquí y presiona enter.\"\n",
    "    )\n",
    "    clear = gr.Button(\"Limpiar\")\n",
    "\n",
    "    def respond(question, chat_history):\n",
    "        bot_message = bot(question)\n",
    "        chat_history.append((question, bot_message))\n",
    "        return \"\", chat_history\n",
    "    \n",
    "    def reset_chat():\n",
    "        bot.reset()\n",
    "        return \"\"\n",
    "    \n",
    "    msg.submit(respond, [msg, chatbot], [msg, chatbot])\n",
    "    clear.click(reset_chat, None, chatbot, queue=False)\n",
    "\n",
    "gr_blocks.launch(inline=False)"
   ]
  },
  {
   "cell_type": "markdown",
   "metadata": {},
   "source": [
    "#### Atención!\n",
    "Abre el enlace que te entrega la celda de arriba en una pestaña aparte y disfruta!"
   ]
  },
  {
   "cell_type": "code",
   "execution_count": 25,
   "metadata": {},
   "outputs": [
    {
     "name": "stdout",
     "output_type": "stream",
     "text": [
      "Closing server running on port: 7860\n"
     ]
    }
   ],
   "source": [
    "gr_blocks.close()"
   ]
  },
  {
   "cell_type": "markdown",
   "metadata": {},
   "source": [
    "## Conclusiones\n",
    "\n",
    "- Los modelos de lenguaje tienden a ser estáticos, su conocimiento se limita a el corpus con los cuales fueron entrenados o hecho fine tuning. Esto presenta una limitante al momento de requerir información más actualizada puesto que el modelo no cuenta con mecanismos \"rápidos\" para hacerlo por si solo. Re-entrenar el modelo puede resultar costoso o inviable en algunos casos.\n",
    "- RAG es una popular técnica para dotar a estos modelos de cierto dinamismo y acceso a información más reciente que puede que no haya sido parte de su proceso de entrenamiento. El trabajo del modelo base es entonces el de generar secuencias coherentes de forma condicionada a un contexto que le estamos proveyendo a través de los documentos relevantes recuperados.\n",
    "- El hecho de poder separar la recuperación de la generación hace que sea mucho más factible la actualización de información del agente conversacional, ya no sería tan necesario re-entrenar el modelo base en si, sino el modelo de recuperación de documentos y/o su respectivo codificador. Esta es una tarea de significativo menor esfuerzo que re-entrenar el modelo base para muchos casos.\n",
    "- RAG no es perfecto, lo que estamos haciendo aquí es simplemente condicionar al modelo un poco más de lo que normalmente lo estaría, estos agentes realmnete NO están razonando ni planificando nada, simplemente estamos influyendo en las probabilidades del siguiente token de las secuencias que se generan. Además, si tenemos un buen retriever pero un mal modelo base, los resultados que podemos obtener no van a ser tan buenos de igual modo.\n",
    "- Esta implementación, si bien funciona relativamente bien, no entrena un Document Retriever, por lo que las similitudes de documentos y queries podrían ser mejores, dando lugar a una mejor calidad de resultado conversacional.\n",
    "- Asimismo, en cuanto a los datos, cada escenario puede ser diferente y merezca ser atentido de forma particular, por ejemplo la partición de documentos puede seguir estrategias diferentes, como un chunk size mayor o menor, con o sin solapamiento. Estos hyper-parámetros tienen un efecto en la calidad de los resultados del modelo y deben ser explorados en función del caso de uso.\n",
    "\n",
    "Felicidades! has llegado al final del curso! espero que toda esta información te haya sido de utilidad."
   ]
  },
  {
   "cell_type": "markdown",
   "metadata": {},
   "source": []
  }
 ],
 "metadata": {
  "kernelspec": {
   "display_name": "icesi-advanced-dl",
   "language": "python",
   "name": "python3"
  },
  "language_info": {
   "codemirror_mode": {
    "name": "ipython",
    "version": 3
   },
   "file_extension": ".py",
   "mimetype": "text/x-python",
   "name": "python",
   "nbconvert_exporter": "python",
   "pygments_lexer": "ipython3",
   "version": "3.10.14"
  }
 },
 "nbformat": 4,
 "nbformat_minor": 2
}
