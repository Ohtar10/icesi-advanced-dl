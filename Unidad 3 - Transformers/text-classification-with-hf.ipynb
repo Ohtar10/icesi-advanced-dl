{
 "cells": [
  {
   "cell_type": "markdown",
   "metadata": {},
   "source": [
    "# Clasificación de Texto con BERT y Hugging Face\n",
    "\n",
    "[![Open In Colab](https://colab.research.google.com/assets/colab-badge.svg)](https://colab.research.google.com/github/Ohtar10/icesi-advanced-dl/blob/main/Unidad%203%20-%20Transformers/text-classification-with-hf.ipynb)\n",
    "\n",
    "En este notebook implementaremos un clasificador de noticias en español utilizando transformers pero ya basandonos en un modelo pre-entrenado tipo Bidirectional Encoder Representation from Transformers o BERT por sus siglas y disponible en Hugging Face Hub. El propósito de esta tarea es aprender a utilizar modelos pre-entrenados que por si mismos, sería sumamente costoso entrenar desde cero, tanto por el poder de computo como la disponibilidad de datos de entrenamiento. Entonces gran parte de la labor ya ha sido realizada por nosotros. Nuestra tarea ahora es especializar el modelo en la tarea que tenemos a la mano.\n",
    "\n",
    "En esta ocasión, vamos a apartarnos de Pytorch Lightning y harémos uso extensivo de la herramientas de Hugging Face, las cuales están especialmente desarrolladas para este tipo de tareas, incluyendo la interacción con modelos pre-entrenados.\n",
    "\n",
    "#### Referencias\n",
    "- Dataset: https://huggingface.co/datasets/MarcOrfilaCarreras/spanish-news\n",
    "- [BETO: Spanish BERT](https://huggingface.co/dccuchile/bert-base-spanish-wwm-cased)\n",
    "- [BERT: Pre-training of Deep Bidirectional Transformers for Language Understanding](http://arxiv.org/abs/1810.04805)\n",
    "- [Natural Language Processing with Transformers: Building Language Applications With Hugging Face](https://www.amazon.com/Natural-Language-Processing-Transformers-Applications/dp/1098103246)\n",
    "- [Hugging Face Transformers](https://huggingface.co/docs/transformers/v4.41.3/en/index)\n",
    "- [Hugging Face Accelerate](https://huggingface.co/docs/accelerate/index)\n",
    "- [Hugging Face Evaluate](https://huggingface.co/docs/evaluate/v0.4.0/en/index)\n",
    "- [Hugging Face Datasets](https://huggingface.co/docs/datasets/v2.19.0/en/index)"
   ]
  },
  {
   "cell_type": "code",
   "execution_count": 1,
   "metadata": {},
   "outputs": [],
   "source": [
    "import pkg_resources\n",
    "import warnings\n",
    "\n",
    "warnings.filterwarnings('ignore')\n",
    "\n",
    "installed_packages = [package.key for package in pkg_resources.working_set]\n",
    "IN_COLAB = 'google-colab' in installed_packages"
   ]
  },
  {
   "cell_type": "code",
   "execution_count": 2,
   "metadata": {},
   "outputs": [],
   "source": [
    "!test '{IN_COLAB}' = 'True' && wget  https://github.com/Ohtar10/icesi-advanced-dl/raw/main/Unidad%203%20-%20Transformers/requirements.txt && pip install -r requirements.txt"
   ]
  },
  {
   "cell_type": "markdown",
   "metadata": {},
   "source": [
    "### Cargando el dataset\n",
    "Este es un dataset pequeño de articulos de noticias en idioma español con sus respectivas categorías. El dataset está disponible en el HuggingFace Hub y puede ser fácilmente descargado con la librería."
   ]
  },
  {
   "cell_type": "code",
   "execution_count": 3,
   "metadata": {},
   "outputs": [
    {
     "data": {
      "text/html": [
       "<div>\n",
       "<style scoped>\n",
       "    .dataframe tbody tr th:only-of-type {\n",
       "        vertical-align: middle;\n",
       "    }\n",
       "\n",
       "    .dataframe tbody tr th {\n",
       "        vertical-align: top;\n",
       "    }\n",
       "\n",
       "    .dataframe thead th {\n",
       "        text-align: right;\n",
       "    }\n",
       "</style>\n",
       "<table border=\"1\" class=\"dataframe\">\n",
       "  <thead>\n",
       "    <tr style=\"text-align: right;\">\n",
       "      <th></th>\n",
       "      <th>language</th>\n",
       "      <th>category</th>\n",
       "      <th>newspaper</th>\n",
       "      <th>hash</th>\n",
       "      <th>text</th>\n",
       "    </tr>\n",
       "  </thead>\n",
       "  <tbody>\n",
       "    <tr>\n",
       "      <th>0</th>\n",
       "      <td>es</td>\n",
       "      <td>play</td>\n",
       "      <td>de_lector_a_lector</td>\n",
       "      <td>1bcca6442ad224ca731b6e99b018ac219116e34c</td>\n",
       "      <td>Valladolid misteriosa es el título del nuevo l...</td>\n",
       "    </tr>\n",
       "    <tr>\n",
       "      <th>1</th>\n",
       "      <td>es</td>\n",
       "      <td>play</td>\n",
       "      <td>de_lector_a_lector</td>\n",
       "      <td>b387bc0a5ad68524c8aa5da489555ca41d5a3575</td>\n",
       "      <td>El coraje de ser, de Mónica Cavallé, la aventu...</td>\n",
       "    </tr>\n",
       "    <tr>\n",
       "      <th>2</th>\n",
       "      <td>es</td>\n",
       "      <td>play</td>\n",
       "      <td>de_lector_a_lector</td>\n",
       "      <td>cd4829e6999bb9e5cbb417daf6fd34b4fb8a86dc</td>\n",
       "      <td>En la Tercera el francés, de Federico Supervie...</td>\n",
       "    </tr>\n",
       "    <tr>\n",
       "      <th>3</th>\n",
       "      <td>es</td>\n",
       "      <td>play</td>\n",
       "      <td>de_lector_a_lector</td>\n",
       "      <td>467ba1276df60fdcfbe997d5f77e6136a028ee92</td>\n",
       "      <td>No fue Un fuego azul la primera novela de Pedr...</td>\n",
       "    </tr>\n",
       "    <tr>\n",
       "      <th>4</th>\n",
       "      <td>es</td>\n",
       "      <td>play</td>\n",
       "      <td>de_lector_a_lector</td>\n",
       "      <td>ef1dfb73db89b8ed5d0c66ed0ad03ab1d12a8157</td>\n",
       "      <td>El tropiezo del tiempo, de Eduardo Álvarez Tuñ...</td>\n",
       "    </tr>\n",
       "  </tbody>\n",
       "</table>\n",
       "</div>"
      ],
      "text/plain": [
       "  language category           newspaper  \\\n",
       "0       es     play  de_lector_a_lector   \n",
       "1       es     play  de_lector_a_lector   \n",
       "2       es     play  de_lector_a_lector   \n",
       "3       es     play  de_lector_a_lector   \n",
       "4       es     play  de_lector_a_lector   \n",
       "\n",
       "                                       hash  \\\n",
       "0  1bcca6442ad224ca731b6e99b018ac219116e34c   \n",
       "1  b387bc0a5ad68524c8aa5da489555ca41d5a3575   \n",
       "2  cd4829e6999bb9e5cbb417daf6fd34b4fb8a86dc   \n",
       "3  467ba1276df60fdcfbe997d5f77e6136a028ee92   \n",
       "4  ef1dfb73db89b8ed5d0c66ed0ad03ab1d12a8157   \n",
       "\n",
       "                                                text  \n",
       "0  Valladolid misteriosa es el título del nuevo l...  \n",
       "1  El coraje de ser, de Mónica Cavallé, la aventu...  \n",
       "2  En la Tercera el francés, de Federico Supervie...  \n",
       "3  No fue Un fuego azul la primera novela de Pedr...  \n",
       "4  El tropiezo del tiempo, de Eduardo Álvarez Tuñ...  "
      ]
     },
     "execution_count": 3,
     "metadata": {},
     "output_type": "execute_result"
    }
   ],
   "source": [
    "from datasets import load_dataset\n",
    "import warnings\n",
    "import os\n",
    "\n",
    "warnings.filterwarnings(\"ignore\")\n",
    "dataset = load_dataset('MarcOrfilaCarreras/spanish-news', split='train')\n",
    "dataset.set_format(type=\"pandas\")\n",
    "df = dataset.to_pandas()\n",
    "df.head()"
   ]
  },
  {
   "cell_type": "code",
   "execution_count": 4,
   "metadata": {},
   "outputs": [
    {
     "data": {
      "text/html": [
       "<div>\n",
       "<style scoped>\n",
       "    .dataframe tbody tr th:only-of-type {\n",
       "        vertical-align: middle;\n",
       "    }\n",
       "\n",
       "    .dataframe tbody tr th {\n",
       "        vertical-align: top;\n",
       "    }\n",
       "\n",
       "    .dataframe thead th {\n",
       "        text-align: right;\n",
       "    }\n",
       "</style>\n",
       "<table border=\"1\" class=\"dataframe\">\n",
       "  <thead>\n",
       "    <tr style=\"text-align: right;\">\n",
       "      <th></th>\n",
       "      <th>text</th>\n",
       "      <th>category</th>\n",
       "      <th>category_id</th>\n",
       "    </tr>\n",
       "  </thead>\n",
       "  <tbody>\n",
       "    <tr>\n",
       "      <th>0</th>\n",
       "      <td>Jon Garay  Necesitas ser suscriptor para acced...</td>\n",
       "      <td>astronomy</td>\n",
       "      <td>1</td>\n",
       "    </tr>\n",
       "    <tr>\n",
       "      <th>1</th>\n",
       "      <td>Tras conocerse el informe de la UCA que reveló...</td>\n",
       "      <td>politics</td>\n",
       "      <td>8</td>\n",
       "    </tr>\n",
       "    <tr>\n",
       "      <th>2</th>\n",
       "      <td>El PSOE sigue inmerso en el análisis de su deb...</td>\n",
       "      <td>politics</td>\n",
       "      <td>8</td>\n",
       "    </tr>\n",
       "    <tr>\n",
       "      <th>3</th>\n",
       "      <td>Muchos arrendadores no cumplen con los plazos ...</td>\n",
       "      <td>economy</td>\n",
       "      <td>2</td>\n",
       "    </tr>\n",
       "    <tr>\n",
       "      <th>4</th>\n",
       "      <td>El éxito comercial conseguido por el CUPRA Bor...</td>\n",
       "      <td>motor</td>\n",
       "      <td>6</td>\n",
       "    </tr>\n",
       "  </tbody>\n",
       "</table>\n",
       "</div>"
      ],
      "text/plain": [
       "                                                text   category  category_id\n",
       "0  Jon Garay  Necesitas ser suscriptor para acced...  astronomy            1\n",
       "1  Tras conocerse el informe de la UCA que reveló...   politics            8\n",
       "2  El PSOE sigue inmerso en el análisis de su deb...   politics            8\n",
       "3  Muchos arrendadores no cumplen con los plazos ...    economy            2\n",
       "4  El éxito comercial conseguido por el CUPRA Bor...      motor            6"
      ]
     },
     "execution_count": 4,
     "metadata": {},
     "output_type": "execute_result"
    }
   ],
   "source": [
    "import numpy as np\n",
    "\n",
    "id2category = dict(enumerate(np.unique(df['category'])))\n",
    "category2id = {v: k for k, v in id2category.items()}\n",
    "\n",
    "df['category_id'] = df['category'].apply(lambda x: category2id[x])\n",
    "df = df[['text', 'category', 'category_id']].sample(frac=1).reset_index(drop=True)\n",
    "df.head()"
   ]
  },
  {
   "cell_type": "markdown",
   "metadata": {},
   "source": [
    "En esta ocasión, vamos a explorar un poco más las características del dataset a manera ilustrativa.\n",
    "\n",
    "Primero, observemos la distribución de las clases:"
   ]
  },
  {
   "cell_type": "code",
   "execution_count": 5,
   "metadata": {},
   "outputs": [
    {
     "data": {
      "image/png": "[encoded data removed]",
      "text/plain": [
       "<Figure size 640x480 with 1 Axes>"
      ]
     },
     "metadata": {},
     "output_type": "display_data"
    }
   ],
   "source": [
    "import matplotlib.pyplot as plt\n",
    "\n",
    "df.category.value_counts(ascending=True).plot.barh()\n",
    "plt.title('Distribución de categorías de clases')\n",
    "plt.show()"
   ]
  },
  {
   "cell_type": "code",
   "execution_count": 169,
   "metadata": {},
   "outputs": [
    {
     "data": {
      "text/plain": [
       "category\n",
       "sport           94\n",
       "economy         92\n",
       "tech            91\n",
       "alimentation    91\n",
       "fashion         89\n",
       "military        87\n",
       "religion        86\n",
       "play            84\n",
       "astronomy       78\n",
       "medicine        78\n",
       "politics        75\n",
       "motor           75\n",
       "Name: count, dtype: int64"
      ]
     },
     "execution_count": 169,
     "metadata": {},
     "output_type": "execute_result"
    }
   ],
   "source": [
    "df.category.value_counts()"
   ]
  },
  {
   "cell_type": "markdown",
   "metadata": {},
   "source": [
    "Observamos que es un dataset balanceado.\n",
    "\n",
    "Ahora observemos la dispersión de las palabras por cada categoría."
   ]
  },
  {
   "cell_type": "code",
   "execution_count": 170,
   "metadata": {},
   "outputs": [
    {
     "data": {
      "image/png": "[encoded data removed]",
      "text/plain": [
       "<Figure size 1600x800 with 1 Axes>"
      ]
     },
     "metadata": {},
     "output_type": "display_data"
    }
   ],
   "source": [
    "df['Palabras por Texto'] = df['text'].str.split().apply(len)\n",
    "df.boxplot('Palabras por Texto', by='category', grid=False, showfliers=False, color='black', figsize=(16, 8))\n",
    "plt.suptitle('')\n",
    "plt.xlabel('')\n",
    "plt.show()"
   ]
  },
  {
   "cell_type": "markdown",
   "metadata": {},
   "source": [
    "Aquí observamos mayor diversidad. Observamos que algunas clases tienden a tener más palabras que otras, e incluso algunas tienen outliers en cuanto a la longitud de los textos. Sin embargo, como nuestra tarea es de clasificación según el texto y durante el entrenamiento vamos a manejar cadenas de tamaño fijo, lo que nos debería importar más que todo es la media/mediana entre todas las categorías."
   ]
  },
  {
   "cell_type": "code",
   "execution_count": 173,
   "metadata": {},
   "outputs": [
    {
     "data": {
      "text/plain": [
       "category\n",
       "alimentation    504.0\n",
       "astronomy       367.5\n",
       "economy         568.5\n",
       "fashion         449.0\n",
       "medicine        923.5\n",
       "military        878.0\n",
       "motor           593.0\n",
       "play            667.0\n",
       "politics        496.0\n",
       "religion        576.0\n",
       "sport           541.0\n",
       "tech            506.0\n",
       "Name: Palabras por Texto, dtype: float64"
      ]
     },
     "execution_count": 173,
     "metadata": {},
     "output_type": "execute_result"
    }
   ],
   "source": [
    "df.groupby('category')['Palabras por Texto'].median()"
   ]
  },
  {
   "cell_type": "markdown",
   "metadata": {},
   "source": [
    "Como podemos observar, la mediana, que como media de tendencia central, tiende a ser más robusta que la media, nos indica que la longitud mediana de los textos entre todas las categorías tiende a rondar por las $\\approx500$ palabras. Entonces utilizaremos una longitud de texto acorde durante nuestro entrenamiento."
   ]
  },
  {
   "cell_type": "code",
   "execution_count": 7,
   "metadata": {},
   "outputs": [],
   "source": [
    "dataset.reset_format()"
   ]
  },
  {
   "cell_type": "markdown",
   "metadata": {},
   "source": [
    "### Definiendo el Tokenizer\n",
    "\n",
    "Como la idea en este notebook es la de re-utilizar modelos pre-entrenados, algo a tener en cuenta es que para que esto funcione correctamente, debemos **siempre** utilizar el mismo tokenizador que se usó para entrenar el modelo. Recordemos que el tokenizador asigna un código a cada token del vocabulario, y durante la creación de los embeddings, el modelo asume esto como entrada, por lo que su usamos otro tokenizador, el modelo va a ser incapaz de derivar las relaciones semánticas apropiadas.\n",
    "\n",
    "Para esta tarea, haremos uso de un modelo BERT pre-entrenado en corpus del idioma español. El modelo puede ser encontrado [aquí](https://huggingface.co/dccuchile/bert-base-spanish-wwm-cased), es un modelo entrenado por el [Departamento de Ciencias de la Computación de la Universidad de Chile](https://www.dcc.uchile.cl), el cual según los autores, fue entrenado en un gran corpus de idioma español por lo que resulta un buen candidato para la tarea en cuestión."
   ]
  },
  {
   "cell_type": "code",
   "execution_count": 8,
   "metadata": {},
   "outputs": [],
   "source": [
    "from transformers import AutoTokenizer\n",
    "\n",
    "model_ckpt = \"dccuchile/bert-base-spanish-wwm-cased\"\n",
    "tokenizer = AutoTokenizer.from_pretrained(model_ckpt)"
   ]
  },
  {
   "cell_type": "markdown",
   "metadata": {},
   "source": [
    "Ahora sometamos a prueba el tokenizador con la misma frase del notebook anterior."
   ]
  },
  {
   "cell_type": "code",
   "execution_count": 83,
   "metadata": {},
   "outputs": [
    {
     "data": {
      "text/plain": [
       "['[CLS]',\n",
       " 'hola',\n",
       " 'mundo',\n",
       " '!',\n",
       " '!',\n",
       " '[SEP]',\n",
       " '[PAD]',\n",
       " '[PAD]',\n",
       " '[PAD]',\n",
       " '[PAD]']"
      ]
     },
     "execution_count": 83,
     "metadata": {},
     "output_type": "execute_result"
    }
   ],
   "source": [
    "tokenizer.pad_token = '[PAD]'\n",
    "tokenizer(\"hola mundo!!\", max_length=10, truncation=True, padding='max_length').tokens()"
   ]
  },
  {
   "cell_type": "markdown",
   "metadata": {},
   "source": [
    "Algo interesante, este tokenizador, por lo menos para las palabras de esta frase de prueba, no separa en tokens distintos estas palabras, esto es justamente la razón por la cual no deberíamos usar un tokenizador diferente con un modelo pre-entrenado, habríamos obtenido tokens diferentes y el modelo no lograría interpretar la semantica como se espera.\n",
    "\n",
    "Ahora, observemos su vocabulario."
   ]
  },
  {
   "cell_type": "code",
   "execution_count": 10,
   "metadata": {},
   "outputs": [
    {
     "data": {
      "text/plain": [
       "31002"
      ]
     },
     "execution_count": 10,
     "metadata": {},
     "output_type": "execute_result"
    }
   ],
   "source": [
    "tokenizer.vocab_size"
   ]
  },
  {
   "cell_type": "markdown",
   "metadata": {},
   "source": [
    "Tenemos $31002$ tokens, es una cantidad inferior que el modelo manual que intentamos en la lección anterior, pero lo suficientemente amplio para una tarea de NLP.\n",
    "\n",
    "Ahora, observemos otros parámetros del tokenizador."
   ]
  },
  {
   "cell_type": "code",
   "execution_count": 11,
   "metadata": {},
   "outputs": [
    {
     "data": {
      "text/plain": [
       "512"
      ]
     },
     "execution_count": 11,
     "metadata": {},
     "output_type": "execute_result"
    }
   ],
   "source": [
    "tokenizer.model_max_length"
   ]
  },
  {
   "cell_type": "code",
   "execution_count": 12,
   "metadata": {},
   "outputs": [
    {
     "data": {
      "text/plain": [
       "['input_ids', 'token_type_ids', 'attention_mask']"
      ]
     },
     "execution_count": 12,
     "metadata": {},
     "output_type": "execute_result"
    }
   ],
   "source": [
    "tokenizer.model_input_names"
   ]
  },
  {
   "cell_type": "markdown",
   "metadata": {},
   "source": [
    "Primero, observamos que el tokenizador por defecto maneja un tamaño de secuencia de $512$, convenientemente al rededor de la misma longitud mediana de nuestro dataset, por lo que resulta perfecto para nuestro caso de uso. Finalmente, observamos sus salidas, las cuales serán las entradas a nuestro modelo. Como ya debemos saber, `input_ids` son los indices de los tokens y `attention_mask` es la máscara de atención cuando tenemos tokens irrelevantes (como el padding) en la cadena.\n",
    "\n",
    "## Usando un modelo BERT pre-entrenado sencillo\n",
    "\n",
    "![](../assets/bert-architecture.png)\n",
    "![](../assets/bert-tokenization.png)\n",
    "Primero, vamos a probar con un modelo pre-entrenado sin mayor modificación a la capa de clasificación. Hugging Face ofrece una clase utilitaria para inicializar el modelo en modo de clasificación de secuencias, lo cual hará que convenientemente tengamos una capa o cabeza de clasificación en el modelo, justo con la cantidad de clases que definamos.\n",
    "\n",
    "Recordemos que el modelo y el tokenizador deben pertenecer al mismo \"paquete\", por lo que invocamos a `from_pretrained` con el mismo id que al tokenizer.\n",
    "\n",
    "Técnicamente hay dos formas de utilizar un modelo pre-entrenado:\n",
    "\n",
    "1. Como Featurizer: Es decir, vamos a utilizar todas las capas de codificación del modelo **sin re-entrenarlas** o lo que sería lo mismo **congelandolas** haciendo que lo único que vayamos a entrenar sea el clasificador en si.\n",
    "2. Fine Tuning: Es decir, dejar todas las capas entrenables y entrenar el modelo en su totalidad, a partir del checkpoint del modelo pre-entrenado, para nuestra tarea especifica.\n",
    "\n",
    "### BERT pre-entrenado como featurizer (simple)\n",
    "\n",
    "Una ventaja de este enfoque es que es menos costoso de entrenar, a nivel de recursos de computo, ya que no vamos a calcular gradientes para todas las capas sino para la capa de clasificación. Incluso, no es necesario que utilicemos deep learning para la clasificación final, podemos usar algoritmos clasicos, que parten de los embeddings producidos por el modelo pre-entrenado.\n",
    "\n",
    "Otra ventaja es que debido a que puede ser mucho más rápido de entrenar que no solo un modelo desde cero, sino más rápido que fine tuning, nuevamente, porque ya no es necesario calcular gradientes para todo el modelo, sino solo para la capa de clasificación de nuestro interes."
   ]
  },
  {
   "cell_type": "code",
   "execution_count": 148,
   "metadata": {},
   "outputs": [
    {
     "name": "stdout",
     "output_type": "stream",
     "text": [
      "Input Shapes & Types:\n",
      "{'input_ids': (torch.Size([1, 10]), torch.int64), 'token_type_ids': (torch.Size([1, 10]), torch.int64), 'attention_mask': (torch.Size([1, 10]), torch.int64)}\n"
     ]
    },
    {
     "name": "stderr",
     "output_type": "stream",
     "text": [
      "Some weights of BertForSequenceClassification were not initialized from the model checkpoint at dccuchile/bert-base-spanish-wwm-cased and are newly initialized: ['bert.pooler.dense.bias', 'bert.pooler.dense.weight', 'classifier.bias', 'classifier.weight']\n",
      "You should probably TRAIN this model on a down-stream task to be able to use it for predictions and inference.\n"
     ]
    },
    {
     "name": "stdout",
     "output_type": "stream",
     "text": [
      "================================================================================================================================================================\n",
      "Layer (type:depth-idx)                                       Input Shape               Output Shape              Param #                   Trainable\n",
      "================================================================================================================================================================\n",
      "BertForSequenceClassification                                [1, 10]                   [1, 12]                   --                        Partial\n",
      "├─BertModel: 1-1                                             [1, 10]                   [1, 768]                  --                        False\n",
      "│    └─BertEmbeddings: 2-1                                   --                        [1, 10, 768]              --                        False\n",
      "│    │    └─Embedding: 3-1                                   [1, 10]                   [1, 10, 768]              (23,809,536)              False\n",
      "│    │    └─Embedding: 3-2                                   [1, 10]                   [1, 10, 768]              (1,536)                   False\n",
      "│    │    └─Embedding: 3-3                                   [1, 10]                   [1, 10, 768]              (393,216)                 False\n",
      "│    │    └─LayerNorm: 3-4                                   [1, 10, 768]              [1, 10, 768]              (1,536)                   False\n",
      "│    │    └─Dropout: 3-5                                     [1, 10, 768]              [1, 10, 768]              --                        --\n",
      "│    └─BertEncoder: 2-2                                      [1, 10, 768]              [1, 10, 768]              --                        False\n",
      "│    │    └─ModuleList: 3-6                                  --                        --                        (85,054,464)              False\n",
      "│    └─BertPooler: 2-3                                       [1, 10, 768]              [1, 768]                  --                        False\n",
      "│    │    └─Linear: 3-7                                      [1, 768]                  [1, 768]                  (590,592)                 False\n",
      "│    │    └─Tanh: 3-8                                        [1, 768]                  [1, 768]                  --                        --\n",
      "├─Dropout: 1-2                                               [1, 768]                  [1, 768]                  --                        --\n",
      "├─Linear: 1-3                                                [1, 768]                  [1, 12]                   9,228                     True\n",
      "================================================================================================================================================================\n",
      "Total params: 109,860,108\n",
      "Trainable params: 9,228\n",
      "Non-trainable params: 109,850,880\n",
      "Total mult-adds (M): 109.86\n",
      "================================================================================================================================================================\n",
      "Input size (MB): 0.00\n",
      "Forward/backward pass size (MB): 8.36\n",
      "Params size (MB): 439.44\n",
      "Estimated Total Size (MB): 447.80\n",
      "================================================================================================================================================================\n"
     ]
    }
   ],
   "source": [
    "import torch\n",
    "from torchinfo import summary\n",
    "from transformers import AutoModelForSequenceClassification\n",
    "\n",
    "device = \"cuda\" if torch.cuda.is_available() else \"cpu\"\n",
    "inputs = tokenizer(\"hola mundo!!!\", max_length=10, truncation=True, padding='max_length', return_tensors='pt')\n",
    "\n",
    "print(f\"Input Shapes & Types:\")\n",
    "print({k: (v.shape, v.dtype) for k, v in inputs.items()})\n",
    "\n",
    "model = AutoModelForSequenceClassification.from_pretrained(model_ckpt, num_labels=len(category2id)).to(device)\n",
    "\n",
    "# Congelamos los pesos del modelo base para usarlo como featurizer solamente.\n",
    "for param in model.base_model.parameters():\n",
    "    param.requires_grad = False\n",
    "    \n",
    "  \n",
    "input_sizes = [inputs['input_ids'].shape] * 3\n",
    "input_types = [inputs['input_ids'].dtype] * 3\n",
    "with torch.no_grad():\n",
    "    print(summary(model, input_size=input_sizes, dtypes=input_types, col_names=['input_size', 'output_size', 'num_params', 'trainable']))\n",
    "\n"
   ]
  },
  {
   "cell_type": "markdown",
   "metadata": {},
   "source": [
    "Observamos que el modelo tiene una capa `BertModel` que corresponde al modelo pre-entrenado y finaliza con una capa lineal que sería nuestro clasificador, esta es una capa proporcionada para nosotros al momento de inicializar el modelo. Además, observamos que solamente la capa lineal que hemos especificado tiene parámetros entrenables. Entonces, a pesar de que el modelo en si tiene más de 100 millones de parámetros, solamente menos de 10 mil son entrenables.\n",
    "\n",
    "Observemos todos los modulos registrados en el modelo:"
   ]
  },
  {
   "cell_type": "code",
   "execution_count": 149,
   "metadata": {},
   "outputs": [
    {
     "data": {
      "text/plain": [
       "['',\n",
       " 'bert',\n",
       " 'bert.embeddings',\n",
       " 'bert.embeddings.word_embeddings',\n",
       " 'bert.embeddings.position_embeddings',\n",
       " 'bert.embeddings.token_type_embeddings',\n",
       " 'bert.embeddings.LayerNorm',\n",
       " 'bert.embeddings.dropout',\n",
       " 'bert.encoder',\n",
       " 'bert.encoder.layer',\n",
       " 'bert.encoder.layer.0',\n",
       " 'bert.encoder.layer.0.attention',\n",
       " 'bert.encoder.layer.0.attention.self',\n",
       " 'bert.encoder.layer.0.attention.self.query',\n",
       " 'bert.encoder.layer.0.attention.self.key',\n",
       " 'bert.encoder.layer.0.attention.self.value',\n",
       " 'bert.encoder.layer.0.attention.self.dropout',\n",
       " 'bert.encoder.layer.0.attention.output',\n",
       " 'bert.encoder.layer.0.attention.output.dense',\n",
       " 'bert.encoder.layer.0.attention.output.LayerNorm',\n",
       " 'bert.encoder.layer.0.attention.output.dropout',\n",
       " 'bert.encoder.layer.0.intermediate',\n",
       " 'bert.encoder.layer.0.intermediate.dense',\n",
       " 'bert.encoder.layer.0.intermediate.intermediate_act_fn',\n",
       " 'bert.encoder.layer.0.output',\n",
       " 'bert.encoder.layer.0.output.dense',\n",
       " 'bert.encoder.layer.0.output.LayerNorm',\n",
       " 'bert.encoder.layer.0.output.dropout',\n",
       " 'bert.encoder.layer.1',\n",
       " 'bert.encoder.layer.1.attention',\n",
       " 'bert.encoder.layer.1.attention.self',\n",
       " 'bert.encoder.layer.1.attention.self.query',\n",
       " 'bert.encoder.layer.1.attention.self.key',\n",
       " 'bert.encoder.layer.1.attention.self.value',\n",
       " 'bert.encoder.layer.1.attention.self.dropout',\n",
       " 'bert.encoder.layer.1.attention.output',\n",
       " 'bert.encoder.layer.1.attention.output.dense',\n",
       " 'bert.encoder.layer.1.attention.output.LayerNorm',\n",
       " 'bert.encoder.layer.1.attention.output.dropout',\n",
       " 'bert.encoder.layer.1.intermediate',\n",
       " 'bert.encoder.layer.1.intermediate.dense',\n",
       " 'bert.encoder.layer.1.intermediate.intermediate_act_fn',\n",
       " 'bert.encoder.layer.1.output',\n",
       " 'bert.encoder.layer.1.output.dense',\n",
       " 'bert.encoder.layer.1.output.LayerNorm',\n",
       " 'bert.encoder.layer.1.output.dropout',\n",
       " 'bert.encoder.layer.2',\n",
       " 'bert.encoder.layer.2.attention',\n",
       " 'bert.encoder.layer.2.attention.self',\n",
       " 'bert.encoder.layer.2.attention.self.query',\n",
       " 'bert.encoder.layer.2.attention.self.key',\n",
       " 'bert.encoder.layer.2.attention.self.value',\n",
       " 'bert.encoder.layer.2.attention.self.dropout',\n",
       " 'bert.encoder.layer.2.attention.output',\n",
       " 'bert.encoder.layer.2.attention.output.dense',\n",
       " 'bert.encoder.layer.2.attention.output.LayerNorm',\n",
       " 'bert.encoder.layer.2.attention.output.dropout',\n",
       " 'bert.encoder.layer.2.intermediate',\n",
       " 'bert.encoder.layer.2.intermediate.dense',\n",
       " 'bert.encoder.layer.2.intermediate.intermediate_act_fn',\n",
       " 'bert.encoder.layer.2.output',\n",
       " 'bert.encoder.layer.2.output.dense',\n",
       " 'bert.encoder.layer.2.output.LayerNorm',\n",
       " 'bert.encoder.layer.2.output.dropout',\n",
       " 'bert.encoder.layer.3',\n",
       " 'bert.encoder.layer.3.attention',\n",
       " 'bert.encoder.layer.3.attention.self',\n",
       " 'bert.encoder.layer.3.attention.self.query',\n",
       " 'bert.encoder.layer.3.attention.self.key',\n",
       " 'bert.encoder.layer.3.attention.self.value',\n",
       " 'bert.encoder.layer.3.attention.self.dropout',\n",
       " 'bert.encoder.layer.3.attention.output',\n",
       " 'bert.encoder.layer.3.attention.output.dense',\n",
       " 'bert.encoder.layer.3.attention.output.LayerNorm',\n",
       " 'bert.encoder.layer.3.attention.output.dropout',\n",
       " 'bert.encoder.layer.3.intermediate',\n",
       " 'bert.encoder.layer.3.intermediate.dense',\n",
       " 'bert.encoder.layer.3.intermediate.intermediate_act_fn',\n",
       " 'bert.encoder.layer.3.output',\n",
       " 'bert.encoder.layer.3.output.dense',\n",
       " 'bert.encoder.layer.3.output.LayerNorm',\n",
       " 'bert.encoder.layer.3.output.dropout',\n",
       " 'bert.encoder.layer.4',\n",
       " 'bert.encoder.layer.4.attention',\n",
       " 'bert.encoder.layer.4.attention.self',\n",
       " 'bert.encoder.layer.4.attention.self.query',\n",
       " 'bert.encoder.layer.4.attention.self.key',\n",
       " 'bert.encoder.layer.4.attention.self.value',\n",
       " 'bert.encoder.layer.4.attention.self.dropout',\n",
       " 'bert.encoder.layer.4.attention.output',\n",
       " 'bert.encoder.layer.4.attention.output.dense',\n",
       " 'bert.encoder.layer.4.attention.output.LayerNorm',\n",
       " 'bert.encoder.layer.4.attention.output.dropout',\n",
       " 'bert.encoder.layer.4.intermediate',\n",
       " 'bert.encoder.layer.4.intermediate.dense',\n",
       " 'bert.encoder.layer.4.intermediate.intermediate_act_fn',\n",
       " 'bert.encoder.layer.4.output',\n",
       " 'bert.encoder.layer.4.output.dense',\n",
       " 'bert.encoder.layer.4.output.LayerNorm',\n",
       " 'bert.encoder.layer.4.output.dropout',\n",
       " 'bert.encoder.layer.5',\n",
       " 'bert.encoder.layer.5.attention',\n",
       " 'bert.encoder.layer.5.attention.self',\n",
       " 'bert.encoder.layer.5.attention.self.query',\n",
       " 'bert.encoder.layer.5.attention.self.key',\n",
       " 'bert.encoder.layer.5.attention.self.value',\n",
       " 'bert.encoder.layer.5.attention.self.dropout',\n",
       " 'bert.encoder.layer.5.attention.output',\n",
       " 'bert.encoder.layer.5.attention.output.dense',\n",
       " 'bert.encoder.layer.5.attention.output.LayerNorm',\n",
       " 'bert.encoder.layer.5.attention.output.dropout',\n",
       " 'bert.encoder.layer.5.intermediate',\n",
       " 'bert.encoder.layer.5.intermediate.dense',\n",
       " 'bert.encoder.layer.5.intermediate.intermediate_act_fn',\n",
       " 'bert.encoder.layer.5.output',\n",
       " 'bert.encoder.layer.5.output.dense',\n",
       " 'bert.encoder.layer.5.output.LayerNorm',\n",
       " 'bert.encoder.layer.5.output.dropout',\n",
       " 'bert.encoder.layer.6',\n",
       " 'bert.encoder.layer.6.attention',\n",
       " 'bert.encoder.layer.6.attention.self',\n",
       " 'bert.encoder.layer.6.attention.self.query',\n",
       " 'bert.encoder.layer.6.attention.self.key',\n",
       " 'bert.encoder.layer.6.attention.self.value',\n",
       " 'bert.encoder.layer.6.attention.self.dropout',\n",
       " 'bert.encoder.layer.6.attention.output',\n",
       " 'bert.encoder.layer.6.attention.output.dense',\n",
       " 'bert.encoder.layer.6.attention.output.LayerNorm',\n",
       " 'bert.encoder.layer.6.attention.output.dropout',\n",
       " 'bert.encoder.layer.6.intermediate',\n",
       " 'bert.encoder.layer.6.intermediate.dense',\n",
       " 'bert.encoder.layer.6.intermediate.intermediate_act_fn',\n",
       " 'bert.encoder.layer.6.output',\n",
       " 'bert.encoder.layer.6.output.dense',\n",
       " 'bert.encoder.layer.6.output.LayerNorm',\n",
       " 'bert.encoder.layer.6.output.dropout',\n",
       " 'bert.encoder.layer.7',\n",
       " 'bert.encoder.layer.7.attention',\n",
       " 'bert.encoder.layer.7.attention.self',\n",
       " 'bert.encoder.layer.7.attention.self.query',\n",
       " 'bert.encoder.layer.7.attention.self.key',\n",
       " 'bert.encoder.layer.7.attention.self.value',\n",
       " 'bert.encoder.layer.7.attention.self.dropout',\n",
       " 'bert.encoder.layer.7.attention.output',\n",
       " 'bert.encoder.layer.7.attention.output.dense',\n",
       " 'bert.encoder.layer.7.attention.output.LayerNorm',\n",
       " 'bert.encoder.layer.7.attention.output.dropout',\n",
       " 'bert.encoder.layer.7.intermediate',\n",
       " 'bert.encoder.layer.7.intermediate.dense',\n",
       " 'bert.encoder.layer.7.intermediate.intermediate_act_fn',\n",
       " 'bert.encoder.layer.7.output',\n",
       " 'bert.encoder.layer.7.output.dense',\n",
       " 'bert.encoder.layer.7.output.LayerNorm',\n",
       " 'bert.encoder.layer.7.output.dropout',\n",
       " 'bert.encoder.layer.8',\n",
       " 'bert.encoder.layer.8.attention',\n",
       " 'bert.encoder.layer.8.attention.self',\n",
       " 'bert.encoder.layer.8.attention.self.query',\n",
       " 'bert.encoder.layer.8.attention.self.key',\n",
       " 'bert.encoder.layer.8.attention.self.value',\n",
       " 'bert.encoder.layer.8.attention.self.dropout',\n",
       " 'bert.encoder.layer.8.attention.output',\n",
       " 'bert.encoder.layer.8.attention.output.dense',\n",
       " 'bert.encoder.layer.8.attention.output.LayerNorm',\n",
       " 'bert.encoder.layer.8.attention.output.dropout',\n",
       " 'bert.encoder.layer.8.intermediate',\n",
       " 'bert.encoder.layer.8.intermediate.dense',\n",
       " 'bert.encoder.layer.8.intermediate.intermediate_act_fn',\n",
       " 'bert.encoder.layer.8.output',\n",
       " 'bert.encoder.layer.8.output.dense',\n",
       " 'bert.encoder.layer.8.output.LayerNorm',\n",
       " 'bert.encoder.layer.8.output.dropout',\n",
       " 'bert.encoder.layer.9',\n",
       " 'bert.encoder.layer.9.attention',\n",
       " 'bert.encoder.layer.9.attention.self',\n",
       " 'bert.encoder.layer.9.attention.self.query',\n",
       " 'bert.encoder.layer.9.attention.self.key',\n",
       " 'bert.encoder.layer.9.attention.self.value',\n",
       " 'bert.encoder.layer.9.attention.self.dropout',\n",
       " 'bert.encoder.layer.9.attention.output',\n",
       " 'bert.encoder.layer.9.attention.output.dense',\n",
       " 'bert.encoder.layer.9.attention.output.LayerNorm',\n",
       " 'bert.encoder.layer.9.attention.output.dropout',\n",
       " 'bert.encoder.layer.9.intermediate',\n",
       " 'bert.encoder.layer.9.intermediate.dense',\n",
       " 'bert.encoder.layer.9.intermediate.intermediate_act_fn',\n",
       " 'bert.encoder.layer.9.output',\n",
       " 'bert.encoder.layer.9.output.dense',\n",
       " 'bert.encoder.layer.9.output.LayerNorm',\n",
       " 'bert.encoder.layer.9.output.dropout',\n",
       " 'bert.encoder.layer.10',\n",
       " 'bert.encoder.layer.10.attention',\n",
       " 'bert.encoder.layer.10.attention.self',\n",
       " 'bert.encoder.layer.10.attention.self.query',\n",
       " 'bert.encoder.layer.10.attention.self.key',\n",
       " 'bert.encoder.layer.10.attention.self.value',\n",
       " 'bert.encoder.layer.10.attention.self.dropout',\n",
       " 'bert.encoder.layer.10.attention.output',\n",
       " 'bert.encoder.layer.10.attention.output.dense',\n",
       " 'bert.encoder.layer.10.attention.output.LayerNorm',\n",
       " 'bert.encoder.layer.10.attention.output.dropout',\n",
       " 'bert.encoder.layer.10.intermediate',\n",
       " 'bert.encoder.layer.10.intermediate.dense',\n",
       " 'bert.encoder.layer.10.intermediate.intermediate_act_fn',\n",
       " 'bert.encoder.layer.10.output',\n",
       " 'bert.encoder.layer.10.output.dense',\n",
       " 'bert.encoder.layer.10.output.LayerNorm',\n",
       " 'bert.encoder.layer.10.output.dropout',\n",
       " 'bert.encoder.layer.11',\n",
       " 'bert.encoder.layer.11.attention',\n",
       " 'bert.encoder.layer.11.attention.self',\n",
       " 'bert.encoder.layer.11.attention.self.query',\n",
       " 'bert.encoder.layer.11.attention.self.key',\n",
       " 'bert.encoder.layer.11.attention.self.value',\n",
       " 'bert.encoder.layer.11.attention.self.dropout',\n",
       " 'bert.encoder.layer.11.attention.output',\n",
       " 'bert.encoder.layer.11.attention.output.dense',\n",
       " 'bert.encoder.layer.11.attention.output.LayerNorm',\n",
       " 'bert.encoder.layer.11.attention.output.dropout',\n",
       " 'bert.encoder.layer.11.intermediate',\n",
       " 'bert.encoder.layer.11.intermediate.dense',\n",
       " 'bert.encoder.layer.11.intermediate.intermediate_act_fn',\n",
       " 'bert.encoder.layer.11.output',\n",
       " 'bert.encoder.layer.11.output.dense',\n",
       " 'bert.encoder.layer.11.output.LayerNorm',\n",
       " 'bert.encoder.layer.11.output.dropout',\n",
       " 'bert.pooler',\n",
       " 'bert.pooler.dense',\n",
       " 'bert.pooler.activation',\n",
       " 'dropout',\n",
       " 'classifier']"
      ]
     },
     "execution_count": 149,
     "metadata": {},
     "output_type": "execute_result"
    }
   ],
   "source": [
    "modules = [m for m, _ in model.named_modules()]\n",
    "modules"
   ]
  },
  {
   "cell_type": "markdown",
   "metadata": {},
   "source": [
    "Observamos que la capa final es efectivamente el clasificador. Ahora hagamos una prueba pasando un dummy input:"
   ]
  },
  {
   "cell_type": "code",
   "execution_count": 150,
   "metadata": {},
   "outputs": [
    {
     "name": "stdout",
     "output_type": "stream",
     "text": [
      "{'logits': torch.Size([1, 12])}\n"
     ]
    }
   ],
   "source": [
    "with torch.no_grad():\n",
    "    inputs = {k: v.to(device) for k, v in inputs.items()}\n",
    "    outputs = model(**inputs)\n",
    "print({k: v.shape for k, v in outputs.items()})"
   ]
  },
  {
   "cell_type": "code",
   "execution_count": 151,
   "metadata": {},
   "outputs": [
    {
     "data": {
      "text/plain": [
       "SequenceClassifierOutput(loss=None, logits=tensor([[-0.0792,  0.1481, -0.0138, -0.0293, -0.0857,  0.1632,  0.0180, -0.0194,\n",
       "         -0.1558,  0.0228, -0.0831, -0.1927]], device='cuda:0'), hidden_states=None, attentions=None)"
      ]
     },
     "execution_count": 151,
     "metadata": {},
     "output_type": "execute_result"
    }
   ],
   "source": [
    "outputs"
   ]
  },
  {
   "cell_type": "code",
   "execution_count": 152,
   "metadata": {},
   "outputs": [
    {
     "data": {
      "text/plain": [
       "Linear(in_features=768, out_features=12, bias=True)"
      ]
     },
     "execution_count": 152,
     "metadata": {},
     "output_type": "execute_result"
    }
   ],
   "source": [
    "model.classifier"
   ]
  },
  {
   "cell_type": "markdown",
   "metadata": {},
   "source": [
    "Observamos que tras invocar el modelo, en efecto, obtenemos una salida de 12 dimensiones, correspondientes al número de clases.\n",
    "\n",
    "Ahora preparemos los datos para el entrenamiento.\n",
    "\n",
    "Hugging Face Datasets convenientemente implementa una función para hacer el train-test splig en nuestro dataset y automáticamente creará nuevas llaves en el mismo para diferenciarlo."
   ]
  },
  {
   "cell_type": "code",
   "execution_count": 153,
   "metadata": {},
   "outputs": [],
   "source": [
    "training_dataset = dataset.train_test_split(train_size=0.8)\n",
    "validation_dataset = training_dataset['test'].train_test_split(train_size=0.5)"
   ]
  },
  {
   "cell_type": "code",
   "execution_count": 154,
   "metadata": {},
   "outputs": [
    {
     "data": {
      "text/plain": [
       "DatasetDict({\n",
       "    train: Dataset({\n",
       "        features: ['language', 'category', 'newspaper', 'hash', 'text'],\n",
       "        num_rows: 8160\n",
       "    })\n",
       "    val: Dataset({\n",
       "        features: ['language', 'category', 'newspaper', 'hash', 'text'],\n",
       "        num_rows: 1020\n",
       "    })\n",
       "    test: Dataset({\n",
       "        features: ['language', 'category', 'newspaper', 'hash', 'text'],\n",
       "        num_rows: 1020\n",
       "    })\n",
       "})"
      ]
     },
     "execution_count": 154,
     "metadata": {},
     "output_type": "execute_result"
    }
   ],
   "source": [
    "from datasets.dataset_dict import DatasetDict\n",
    "\n",
    "new_dataset = DatasetDict({\n",
    "    'train': training_dataset['train'],\n",
    "    'val': validation_dataset['train'],\n",
    "    'test': validation_dataset['test'],\n",
    "})\n",
    "new_dataset"
   ]
  },
  {
   "cell_type": "markdown",
   "metadata": {},
   "source": [
    "Tenemos nuestros tres conjuntos, sin embargo, esto es la información cruda, debemos preparar los datos para el modelo, lo gual incluye tokenizar y convertir las categorías a ids. Preparamos entonces unas funciones utilitarias."
   ]
  },
  {
   "cell_type": "code",
   "execution_count": 155,
   "metadata": {},
   "outputs": [],
   "source": [
    "def preprocess_function(max_len):\n",
    "    def _preprocess_function(examples):\n",
    "        return tokenizer(examples['text'], max_length=max_len, truncation=True, padding='max_length')\n",
    "    return _preprocess_function\n",
    "\n",
    "def tokenize(max_len: int = 8):\n",
    "    def _tokenize(batch):\n",
    "        return tokenizer(batch['text'], max_length=max_len, truncation=True, padding='max_length')\n",
    "    return _tokenize\n",
    "\n",
    "def category_names_2_ids(batch):\n",
    "    batch['label'] = category2id[batch['category']]\n",
    "    return batch\n"
   ]
  },
  {
   "cell_type": "markdown",
   "metadata": {},
   "source": [
    "Y procedemos a invocarlas. Nótese que para la tokenización, estamos forzando a que las cadenas sean de 512 tokens, según el análisis que hemos hecho anteriormente."
   ]
  },
  {
   "cell_type": "code",
   "execution_count": 156,
   "metadata": {},
   "outputs": [
    {
     "name": "stderr",
     "output_type": "stream",
     "text": [
      "Map:   0%|          | 0/8160 [00:00<?, ? examples/s]"
     ]
    },
    {
     "name": "stderr",
     "output_type": "stream",
     "text": [
      "Map: 100%|██████████| 8160/8160 [00:04<00:00, 1704.85 examples/s]\n",
      "Map: 100%|██████████| 1020/1020 [00:00<00:00, 1763.31 examples/s]\n",
      "Map: 100%|██████████| 1020/1020 [00:00<00:00, 1773.88 examples/s]\n",
      "Map: 100%|██████████| 8160/8160 [00:00<00:00, 13127.88 examples/s]\n",
      "Map: 100%|██████████| 1020/1020 [00:00<00:00, 12518.04 examples/s]\n",
      "Map: 100%|██████████| 1020/1020 [00:00<00:00, 11995.35 examples/s]\n"
     ]
    },
    {
     "data": {
      "text/plain": [
       "DatasetDict({\n",
       "    train: Dataset({\n",
       "        features: ['language', 'category', 'newspaper', 'hash', 'text', 'input_ids', 'token_type_ids', 'attention_mask', 'label'],\n",
       "        num_rows: 8160\n",
       "    })\n",
       "    val: Dataset({\n",
       "        features: ['language', 'category', 'newspaper', 'hash', 'text', 'input_ids', 'token_type_ids', 'attention_mask', 'label'],\n",
       "        num_rows: 1020\n",
       "    })\n",
       "    test: Dataset({\n",
       "        features: ['language', 'category', 'newspaper', 'hash', 'text', 'input_ids', 'token_type_ids', 'attention_mask', 'label'],\n",
       "        num_rows: 1020\n",
       "    })\n",
       "})"
      ]
     },
     "execution_count": 156,
     "metadata": {},
     "output_type": "execute_result"
    }
   ],
   "source": [
    "tokenized_dataset = new_dataset.map(preprocess_function(max_len=512), batched=True)\n",
    "tokenized_dataset = tokenized_dataset.map(category_names_2_ids)\n",
    "tokenized_dataset"
   ]
  },
  {
   "cell_type": "markdown",
   "metadata": {},
   "source": [
    "#### Entrenamiento\n",
    "\n",
    "Ahora procederemos al entrenamiento. Aquí harémos uso de las API de HuggingFace directamente."
   ]
  },
  {
   "cell_type": "code",
   "execution_count": 157,
   "metadata": {},
   "outputs": [],
   "source": [
    "from transformers import Trainer, TrainingArguments\n",
    "from typing import Dict, Any\n",
    "import evaluate\n",
    "\n",
    "# Definimos la función métrica de calidad\n",
    "accuracy = evaluate.load(\"accuracy\")\n",
    "\n",
    "def compute_metrics(pred) -> Dict[str, Any]:\n",
    "    \"\"\"compute metrics\n",
    "\n",
    "    Esta función será invocada en\n",
    "    cada epoca y la utilizaremos para\n",
    "    calcular la métrica de calidad.\n",
    "    \"\"\" \n",
    "    labels = pred.label_ids \n",
    "    preds = pred.predictions.argmax(-1) \n",
    "    # Retorna un diccionario como {'nombre-metrica': valor}\n",
    "    acc = accuracy.compute(predictions=preds, references=labels)\n",
    "    return acc\n",
    "\n",
    "\n",
    "batch_size = 8 if IN_COLAB else 4\n",
    "logging_steps = len(tokenized_dataset['train']) // batch_size\n",
    "# Definimos los parámetros globales de entrenamiento\n",
    "training_args = TrainingArguments(\n",
    "    output_dir='./hf',\n",
    "    num_train_epochs=2,\n",
    "    learning_rate=2e-5,\n",
    "    per_device_eval_batch_size=batch_size,\n",
    "    per_device_train_batch_size=batch_size,\n",
    "    weight_decay=0.01,\n",
    "    evaluation_strategy='epoch',\n",
    "    save_strategy='epoch',\n",
    "    load_best_model_at_end=True,\n",
    "    disable_tqdm=False,\n",
    "    logging_steps=logging_steps\n",
    ")\n",
    "\n",
    "# Y definimos el entrenador, especificando el modelo, datasets y el tokenizador\n",
    "trainer = Trainer(\n",
    "    model=model,\n",
    "    args=training_args,\n",
    "    compute_metrics=compute_metrics,\n",
    "    train_dataset=tokenized_dataset['train'],\n",
    "    eval_dataset=tokenized_dataset['val'],\n",
    "    tokenizer=tokenizer\n",
    ")"
   ]
  },
  {
   "cell_type": "markdown",
   "metadata": {},
   "source": [
    "Con esto nos basta para ejecutar el entrenamiento:"
   ]
  },
  {
   "cell_type": "code",
   "execution_count": 158,
   "metadata": {},
   "outputs": [
    {
     "name": "stderr",
     "output_type": "stream",
     "text": [
      " 50%|█████     | 2040/4080 [03:34<03:41,  9.22it/s]"
     ]
    },
    {
     "name": "stdout",
     "output_type": "stream",
     "text": [
      "{'loss': 2.2785, 'grad_norm': 7.424057960510254, 'learning_rate': 1e-05, 'epoch': 1.0}\n"
     ]
    },
    {
     "name": "stderr",
     "output_type": "stream",
     "text": [
      "\n",
      " 50%|█████     | 2040/4080 [04:01<03:41,  9.22it/s]"
     ]
    },
    {
     "name": "stdout",
     "output_type": "stream",
     "text": [
      "{'eval_loss': 2.0742106437683105, 'eval_accuracy': 0.7313725490196078, 'eval_runtime': 26.5389, 'eval_samples_per_second': 38.434, 'eval_steps_per_second': 9.609, 'epoch': 1.0}\n"
     ]
    },
    {
     "name": "stderr",
     "output_type": "stream",
     "text": [
      "100%|██████████| 4080/4080 [07:46<00:00,  9.22it/s]  "
     ]
    },
    {
     "name": "stdout",
     "output_type": "stream",
     "text": [
      "{'loss': 2.0121, 'grad_norm': 4.705126762390137, 'learning_rate': 0.0, 'epoch': 2.0}\n"
     ]
    },
    {
     "name": "stderr",
     "output_type": "stream",
     "text": [
      "\n",
      "100%|██████████| 4080/4080 [08:13<00:00,  9.22it/s]"
     ]
    },
    {
     "name": "stdout",
     "output_type": "stream",
     "text": [
      "{'eval_loss': 1.9427815675735474, 'eval_accuracy': 0.7823529411764706, 'eval_runtime': 26.7366, 'eval_samples_per_second': 38.15, 'eval_steps_per_second': 9.537, 'epoch': 2.0}\n"
     ]
    },
    {
     "name": "stderr",
     "output_type": "stream",
     "text": [
      "100%|██████████| 4080/4080 [08:14<00:00,  8.26it/s]"
     ]
    },
    {
     "name": "stdout",
     "output_type": "stream",
     "text": [
      "{'train_runtime': 494.241, 'train_samples_per_second': 33.02, 'train_steps_per_second': 8.255, 'train_loss': 2.145275519875919, 'epoch': 2.0}\n",
      "CPU times: user 8min 10s, sys: 4.91 s, total: 8min 15s\n",
      "Wall time: 8min 14s\n"
     ]
    },
    {
     "name": "stderr",
     "output_type": "stream",
     "text": [
      "\n"
     ]
    },
    {
     "data": {
      "text/plain": [
       "TrainOutput(global_step=4080, training_loss=2.145275519875919, metrics={'train_runtime': 494.241, 'train_samples_per_second': 33.02, 'train_steps_per_second': 8.255, 'total_flos': 4294357961932800.0, 'train_loss': 2.145275519875919, 'epoch': 2.0})"
      ]
     },
     "execution_count": 158,
     "metadata": {},
     "output_type": "execute_result"
    }
   ],
   "source": [
    "%%time\n",
    "trainer.train()"
   ]
  },
  {
   "cell_type": "markdown",
   "metadata": {},
   "source": [
    "Algo importante a resaltar es que fueron necesarias solo 2 iteraciones para alcanzar un ta tasa de correctitud $\\approx 79%$, algo que con el modelo de transformers crudo nos costó muchas más iteraciones. Esto demuestra la importancia de partir de modelos pre-entrenados para este tipo de tareas.\n",
    "\n",
    "Una ventaja adicional de Hugging Face transformers, es que publica automáticamente el progreso del entrenamiento a tensorboard, en el directorio que hemos especificado. Observemos entonces el proceso de entrenamiento:"
   ]
  },
  {
   "cell_type": "code",
   "execution_count": 113,
   "metadata": {},
   "outputs": [],
   "source": [
    "%load_ext tensorboard"
   ]
  },
  {
   "cell_type": "code",
   "execution_count": 115,
   "metadata": {},
   "outputs": [
    {
     "data": {
      "text/plain": [
       "Reusing TensorBoard on port 6006 (pid 249533), started 0:00:06 ago. (Use '!kill 249533' to kill it.)"
      ]
     },
     "metadata": {},
     "output_type": "display_data"
    },
    {
     "data": {
      "text/html": [
       "\n",
       "      <iframe id=\"tensorboard-frame-bdd640fb06671ad1\" width=\"100%\" height=\"800\" frameborder=\"0\">\n",
       "      </iframe>\n",
       "      <script>\n",
       "        (function() {\n",
       "          const frame = document.getElementById(\"tensorboard-frame-bdd640fb06671ad1\");\n",
       "          const url = new URL(\"http://localhost\");\n",
       "          const port = 6006;\n",
       "          if (port) {\n",
       "            url.port = port;\n",
       "          }\n",
       "          frame.src = url;\n",
       "        })();\n",
       "      </script>\n",
       "    "
      ],
      "text/plain": [
       "<IPython.core.display.HTML object>"
      ]
     },
     "metadata": {},
     "output_type": "display_data"
    }
   ],
   "source": [
    "%tensorboard --logdir hf/runs"
   ]
  },
  {
   "cell_type": "markdown",
   "metadata": {},
   "source": [
    "Y ahora evaluemos el modelo en el conjunto de prueba:"
   ]
  },
  {
   "cell_type": "code",
   "execution_count": 116,
   "metadata": {},
   "outputs": [
    {
     "name": "stderr",
     "output_type": "stream",
     "text": [
      "100%|██████████| 255/255 [00:23<00:00, 10.71it/s]Trainer is attempting to log a value of \"{'accuracy': 0.8}\" of type <class 'dict'> for key \"eval/accuracy\" as a scalar. This invocation of Tensorboard's writer.add_scalar() is incorrect so we dropped this attribute.\n",
      "100%|██████████| 255/255 [00:23<00:00, 10.72it/s]\n"
     ]
    },
    {
     "data": {
      "text/plain": [
       "{'eval_loss': 1.9222784042358398,\n",
       " 'eval_accuracy': {'accuracy': 0.8},\n",
       " 'eval_runtime': 23.9368,\n",
       " 'eval_samples_per_second': 42.612,\n",
       " 'eval_steps_per_second': 10.653,\n",
       " 'epoch': 2.0}"
      ]
     },
     "execution_count": 116,
     "metadata": {},
     "output_type": "execute_result"
    }
   ],
   "source": [
    "model.eval()\n",
    "trainer.evaluate(tokenized_dataset['test'])"
   ]
  },
  {
   "cell_type": "markdown",
   "metadata": {},
   "source": [
    "Hemos alcanzado una correctitud del $\\approx 80\\%$, lo cual, nuevamente, en comparación con el modelo de transformers crudo nos costó muchisimo más lograr.\n",
    "\n",
    "### Haciendo uso del modelo\n",
    "Ahora, hagamos predicciónes con el modelo y observemos los resultados."
   ]
  },
  {
   "cell_type": "code",
   "execution_count": 124,
   "metadata": {},
   "outputs": [
    {
     "name": "stderr",
     "output_type": "stream",
     "text": [
      "100%|██████████| 255/255 [00:25<00:00, 10.13it/s]\n"
     ]
    },
    {
     "data": {
      "text/plain": [
       "PredictionOutput(predictions=array([[-0.1759461 ,  0.03346141, -0.31834364, ..., -0.4287671 ,\n",
       "        -0.27118292, -0.43549633],\n",
       "       [-0.32801855, -0.29997566, -0.08530736, ..., -0.64627326,\n",
       "        -0.54211295,  0.34910655],\n",
       "       [-0.5921599 , -0.42809874, -0.40451598, ...,  0.00901892,\n",
       "        -0.20639794, -0.49397892],\n",
       "       ...,\n",
       "       [-0.6039256 , -0.11674692, -0.14230804, ...,  0.14269981,\n",
       "        -0.06863043, -0.616503  ],\n",
       "       [-0.04611844, -0.29109478, -0.22758298, ..., -0.28031257,\n",
       "         0.03396798, -0.03944831],\n",
       "       [-0.30645755, -0.4548075 ,  0.3070608 , ..., -0.37898403,\n",
       "        -0.53923965,  0.07778741]], dtype=float32), label_ids=array([ 7, 11,  2, ...,  5,  3,  6]), metrics={'test_loss': 1.9222784042358398, 'test_accuracy': {'accuracy': 0.8}, 'test_runtime': 25.303, 'test_samples_per_second': 40.311, 'test_steps_per_second': 10.078})"
      ]
     },
     "execution_count": 124,
     "metadata": {},
     "output_type": "execute_result"
    }
   ],
   "source": [
    "predictions = trainer.predict(tokenized_dataset['test'])\n",
    "predictions"
   ]
  },
  {
   "cell_type": "code",
   "execution_count": 143,
   "metadata": {},
   "outputs": [
    {
     "data": {
      "text/plain": [
       "Dataset({\n",
       "    features: ['language', 'category', 'newspaper', 'hash', 'text', 'input_ids', 'token_type_ids', 'attention_mask', 'label', 'prediction_label', 'prediction'],\n",
       "    num_rows: 1020\n",
       "})"
      ]
     },
     "execution_count": 143,
     "metadata": {},
     "output_type": "execute_result"
    }
   ],
   "source": [
    "predicted_labels = np.argmax(predictions.predictions, axis=-1)\n",
    "test_set = tokenized_dataset['test']\n",
    "test_set = test_set.add_column('prediction_label', predicted_labels)\n",
    "test_set = test_set.add_column('prediction', list(map(lambda label: id2category[label], predicted_labels)))\n",
    "test_set"
   ]
  },
  {
   "cell_type": "code",
   "execution_count": 144,
   "metadata": {},
   "outputs": [
    {
     "data": {
      "text/html": [
       "<div>\n",
       "<style scoped>\n",
       "    .dataframe tbody tr th:only-of-type {\n",
       "        vertical-align: middle;\n",
       "    }\n",
       "\n",
       "    .dataframe tbody tr th {\n",
       "        vertical-align: top;\n",
       "    }\n",
       "\n",
       "    .dataframe thead th {\n",
       "        text-align: right;\n",
       "    }\n",
       "</style>\n",
       "<table border=\"1\" class=\"dataframe\">\n",
       "  <thead>\n",
       "    <tr style=\"text-align: right;\">\n",
       "      <th></th>\n",
       "      <th>text</th>\n",
       "      <th>label</th>\n",
       "      <th>prediction_label</th>\n",
       "      <th>category</th>\n",
       "      <th>prediction</th>\n",
       "    </tr>\n",
       "  </thead>\n",
       "  <tbody>\n",
       "    <tr>\n",
       "      <th>0</th>\n",
       "      <td>El verano de 2023 está repleto de películas qu...</td>\n",
       "      <td>7</td>\n",
       "      <td>7</td>\n",
       "      <td>play</td>\n",
       "      <td>play</td>\n",
       "    </tr>\n",
       "    <tr>\n",
       "      <th>1</th>\n",
       "      <td>El OnePlus 12 se lleva filtrando prácticamente...</td>\n",
       "      <td>11</td>\n",
       "      <td>11</td>\n",
       "      <td>tech</td>\n",
       "      <td>tech</td>\n",
       "    </tr>\n",
       "    <tr>\n",
       "      <th>2</th>\n",
       "      <td>El exministro y empresario José Lladó, preside...</td>\n",
       "      <td>2</td>\n",
       "      <td>8</td>\n",
       "      <td>economy</td>\n",
       "      <td>politics</td>\n",
       "    </tr>\n",
       "    <tr>\n",
       "      <th>3</th>\n",
       "      <td>Hoy se estrena en los cines El exorcista: Crey...</td>\n",
       "      <td>9</td>\n",
       "      <td>7</td>\n",
       "      <td>religion</td>\n",
       "      <td>play</td>\n",
       "    </tr>\n",
       "    <tr>\n",
       "      <th>4</th>\n",
       "      <td>Si hay algo que los italianos se toman especia...</td>\n",
       "      <td>0</td>\n",
       "      <td>0</td>\n",
       "      <td>alimentation</td>\n",
       "      <td>alimentation</td>\n",
       "    </tr>\n",
       "    <tr>\n",
       "      <th>5</th>\n",
       "      <td>Podcast: Play in new window | DownloadHoy conv...</td>\n",
       "      <td>1</td>\n",
       "      <td>1</td>\n",
       "      <td>astronomy</td>\n",
       "      <td>astronomy</td>\n",
       "    </tr>\n",
       "    <tr>\n",
       "      <th>6</th>\n",
       "      <td>Un estudio paneuropeo sobre la concienciación,...</td>\n",
       "      <td>11</td>\n",
       "      <td>4</td>\n",
       "      <td>tech</td>\n",
       "      <td>medicine</td>\n",
       "    </tr>\n",
       "    <tr>\n",
       "      <th>7</th>\n",
       "      <td>Puede que quede muy poco para que 2023 llegue ...</td>\n",
       "      <td>7</td>\n",
       "      <td>7</td>\n",
       "      <td>play</td>\n",
       "      <td>play</td>\n",
       "    </tr>\n",
       "    <tr>\n",
       "      <th>8</th>\n",
       "      <td>Por Peter Pinedo 15 de febrero de 2024 / 07:03...</td>\n",
       "      <td>9</td>\n",
       "      <td>1</td>\n",
       "      <td>religion</td>\n",
       "      <td>astronomy</td>\n",
       "    </tr>\n",
       "    <tr>\n",
       "      <th>9</th>\n",
       "      <td>En la búsqueda de respuestas sobre nuestra exi...</td>\n",
       "      <td>1</td>\n",
       "      <td>1</td>\n",
       "      <td>astronomy</td>\n",
       "      <td>astronomy</td>\n",
       "    </tr>\n",
       "    <tr>\n",
       "      <th>10</th>\n",
       "      <td>No hace mucho recordábamos los intentos de Mar...</td>\n",
       "      <td>11</td>\n",
       "      <td>11</td>\n",
       "      <td>tech</td>\n",
       "      <td>tech</td>\n",
       "    </tr>\n",
       "    <tr>\n",
       "      <th>11</th>\n",
       "      <td>El mercado de las pantallas portátiles, quizá ...</td>\n",
       "      <td>11</td>\n",
       "      <td>11</td>\n",
       "      <td>tech</td>\n",
       "      <td>tech</td>\n",
       "    </tr>\n",
       "    <tr>\n",
       "      <th>12</th>\n",
       "      <td>La multinacional belga John Cockerill ha anunc...</td>\n",
       "      <td>5</td>\n",
       "      <td>5</td>\n",
       "      <td>military</td>\n",
       "      <td>military</td>\n",
       "    </tr>\n",
       "    <tr>\n",
       "      <th>13</th>\n",
       "      <td>La española SAES ha tomado parte en el II Cong...</td>\n",
       "      <td>5</td>\n",
       "      <td>5</td>\n",
       "      <td>military</td>\n",
       "      <td>military</td>\n",
       "    </tr>\n",
       "    <tr>\n",
       "      <th>14</th>\n",
       "      <td>El Partido Socialista Obrero Español (PSOE) de...</td>\n",
       "      <td>8</td>\n",
       "      <td>2</td>\n",
       "      <td>politics</td>\n",
       "      <td>economy</td>\n",
       "    </tr>\n",
       "  </tbody>\n",
       "</table>\n",
       "</div>"
      ],
      "text/plain": [
       "                                                 text  label  \\\n",
       "0   El verano de 2023 está repleto de películas qu...      7   \n",
       "1   El OnePlus 12 se lleva filtrando prácticamente...     11   \n",
       "2   El exministro y empresario José Lladó, preside...      2   \n",
       "3   Hoy se estrena en los cines El exorcista: Crey...      9   \n",
       "4   Si hay algo que los italianos se toman especia...      0   \n",
       "5   Podcast: Play in new window | DownloadHoy conv...      1   \n",
       "6   Un estudio paneuropeo sobre la concienciación,...     11   \n",
       "7   Puede que quede muy poco para que 2023 llegue ...      7   \n",
       "8   Por Peter Pinedo 15 de febrero de 2024 / 07:03...      9   \n",
       "9   En la búsqueda de respuestas sobre nuestra exi...      1   \n",
       "10  No hace mucho recordábamos los intentos de Mar...     11   \n",
       "11  El mercado de las pantallas portátiles, quizá ...     11   \n",
       "12  La multinacional belga John Cockerill ha anunc...      5   \n",
       "13  La española SAES ha tomado parte en el II Cong...      5   \n",
       "14  El Partido Socialista Obrero Español (PSOE) de...      8   \n",
       "\n",
       "    prediction_label      category    prediction  \n",
       "0                  7          play          play  \n",
       "1                 11          tech          tech  \n",
       "2                  8       economy      politics  \n",
       "3                  7      religion          play  \n",
       "4                  0  alimentation  alimentation  \n",
       "5                  1     astronomy     astronomy  \n",
       "6                  4          tech      medicine  \n",
       "7                  7          play          play  \n",
       "8                  1      religion     astronomy  \n",
       "9                  1     astronomy     astronomy  \n",
       "10                11          tech          tech  \n",
       "11                11          tech          tech  \n",
       "12                 5      military      military  \n",
       "13                 5      military      military  \n",
       "14                 2      politics       economy  "
      ]
     },
     "execution_count": 144,
     "metadata": {},
     "output_type": "execute_result"
    }
   ],
   "source": [
    "columns = ['text', 'label', 'prediction_label', 'category', 'prediction']\n",
    "test_set.set_format('pandas', columns=columns)\n",
    "df = test_set.to_pandas()[columns]\n",
    "df.style.set_table_styles(\n",
    "    [\n",
    "        {'selector': 'td', 'props': [('word-wrap', 'break-word')]}\n",
    "    ]\n",
    ")\n",
    "df.head(15)"
   ]
  },
  {
   "cell_type": "markdown",
   "metadata": {},
   "source": [
    "Los resultados no lucen nada mal, aún se cometen un par de errores, pero de resto, parece bastante aceptable. Observemos los errores."
   ]
  },
  {
   "cell_type": "code",
   "execution_count": 145,
   "metadata": {},
   "outputs": [
    {
     "data": {
      "text/html": [
       "<div>\n",
       "<style scoped>\n",
       "    .dataframe tbody tr th:only-of-type {\n",
       "        vertical-align: middle;\n",
       "    }\n",
       "\n",
       "    .dataframe tbody tr th {\n",
       "        vertical-align: top;\n",
       "    }\n",
       "\n",
       "    .dataframe thead th {\n",
       "        text-align: right;\n",
       "    }\n",
       "</style>\n",
       "<table border=\"1\" class=\"dataframe\">\n",
       "  <thead>\n",
       "    <tr style=\"text-align: right;\">\n",
       "      <th></th>\n",
       "      <th>text</th>\n",
       "      <th>label</th>\n",
       "      <th>prediction_label</th>\n",
       "      <th>category</th>\n",
       "      <th>prediction</th>\n",
       "    </tr>\n",
       "  </thead>\n",
       "  <tbody>\n",
       "    <tr>\n",
       "      <th>2</th>\n",
       "      <td>El exministro y empresario José Lladó, preside...</td>\n",
       "      <td>2</td>\n",
       "      <td>8</td>\n",
       "      <td>economy</td>\n",
       "      <td>politics</td>\n",
       "    </tr>\n",
       "    <tr>\n",
       "      <th>3</th>\n",
       "      <td>Hoy se estrena en los cines El exorcista: Crey...</td>\n",
       "      <td>9</td>\n",
       "      <td>7</td>\n",
       "      <td>religion</td>\n",
       "      <td>play</td>\n",
       "    </tr>\n",
       "    <tr>\n",
       "      <th>6</th>\n",
       "      <td>Un estudio paneuropeo sobre la concienciación,...</td>\n",
       "      <td>11</td>\n",
       "      <td>4</td>\n",
       "      <td>tech</td>\n",
       "      <td>medicine</td>\n",
       "    </tr>\n",
       "    <tr>\n",
       "      <th>8</th>\n",
       "      <td>Por Peter Pinedo 15 de febrero de 2024 / 07:03...</td>\n",
       "      <td>9</td>\n",
       "      <td>1</td>\n",
       "      <td>religion</td>\n",
       "      <td>astronomy</td>\n",
       "    </tr>\n",
       "    <tr>\n",
       "      <th>14</th>\n",
       "      <td>El Partido Socialista Obrero Español (PSOE) de...</td>\n",
       "      <td>8</td>\n",
       "      <td>2</td>\n",
       "      <td>politics</td>\n",
       "      <td>economy</td>\n",
       "    </tr>\n",
       "    <tr>\n",
       "      <th>15</th>\n",
       "      <td>Muchos acelerados de la pasión alonsera dispar...</td>\n",
       "      <td>6</td>\n",
       "      <td>10</td>\n",
       "      <td>motor</td>\n",
       "      <td>sport</td>\n",
       "    </tr>\n",
       "    <tr>\n",
       "      <th>20</th>\n",
       "      <td>La Unidad de Integridad del Atletismo no ha es...</td>\n",
       "      <td>10</td>\n",
       "      <td>1</td>\n",
       "      <td>sport</td>\n",
       "      <td>astronomy</td>\n",
       "    </tr>\n",
       "    <tr>\n",
       "      <th>21</th>\n",
       "      <td>Fuente de la imagen, BBC World ServiceErbil, c...</td>\n",
       "      <td>9</td>\n",
       "      <td>8</td>\n",
       "      <td>religion</td>\n",
       "      <td>politics</td>\n",
       "    </tr>\n",
       "    <tr>\n",
       "      <th>30</th>\n",
       "      <td>Andrea TornielliEl cardenal secretario de Esta...</td>\n",
       "      <td>9</td>\n",
       "      <td>8</td>\n",
       "      <td>religion</td>\n",
       "      <td>politics</td>\n",
       "    </tr>\n",
       "    <tr>\n",
       "      <th>32</th>\n",
       "      <td>Car and Driver participa en varios programas d...</td>\n",
       "      <td>6</td>\n",
       "      <td>10</td>\n",
       "      <td>motor</td>\n",
       "      <td>sport</td>\n",
       "    </tr>\n",
       "    <tr>\n",
       "      <th>33</th>\n",
       "      <td>Las plataformas de venta de segunda mano, como...</td>\n",
       "      <td>2</td>\n",
       "      <td>1</td>\n",
       "      <td>economy</td>\n",
       "      <td>astronomy</td>\n",
       "    </tr>\n",
       "    <tr>\n",
       "      <th>34</th>\n",
       "      <td>Los precios de la gasolina en Córdoba varían e...</td>\n",
       "      <td>2</td>\n",
       "      <td>5</td>\n",
       "      <td>economy</td>\n",
       "      <td>military</td>\n",
       "    </tr>\n",
       "    <tr>\n",
       "      <th>42</th>\n",
       "      <td>Los que se van de excursión al campo, los depo...</td>\n",
       "      <td>0</td>\n",
       "      <td>9</td>\n",
       "      <td>alimentation</td>\n",
       "      <td>religion</td>\n",
       "    </tr>\n",
       "    <tr>\n",
       "      <th>43</th>\n",
       "      <td>Seguro que te suena mucho el concepto, pero es...</td>\n",
       "      <td>3</td>\n",
       "      <td>0</td>\n",
       "      <td>fashion</td>\n",
       "      <td>alimentation</td>\n",
       "    </tr>\n",
       "    <tr>\n",
       "      <th>44</th>\n",
       "      <td>En enero de 2017, la mundialmente conocida Nat...</td>\n",
       "      <td>9</td>\n",
       "      <td>1</td>\n",
       "      <td>religion</td>\n",
       "      <td>astronomy</td>\n",
       "    </tr>\n",
       "  </tbody>\n",
       "</table>\n",
       "</div>"
      ],
      "text/plain": [
       "                                                 text  label  \\\n",
       "2   El exministro y empresario José Lladó, preside...      2   \n",
       "3   Hoy se estrena en los cines El exorcista: Crey...      9   \n",
       "6   Un estudio paneuropeo sobre la concienciación,...     11   \n",
       "8   Por Peter Pinedo 15 de febrero de 2024 / 07:03...      9   \n",
       "14  El Partido Socialista Obrero Español (PSOE) de...      8   \n",
       "15  Muchos acelerados de la pasión alonsera dispar...      6   \n",
       "20  La Unidad de Integridad del Atletismo no ha es...     10   \n",
       "21  Fuente de la imagen, BBC World ServiceErbil, c...      9   \n",
       "30  Andrea TornielliEl cardenal secretario de Esta...      9   \n",
       "32  Car and Driver participa en varios programas d...      6   \n",
       "33  Las plataformas de venta de segunda mano, como...      2   \n",
       "34  Los precios de la gasolina en Córdoba varían e...      2   \n",
       "42  Los que se van de excursión al campo, los depo...      0   \n",
       "43  Seguro que te suena mucho el concepto, pero es...      3   \n",
       "44  En enero de 2017, la mundialmente conocida Nat...      9   \n",
       "\n",
       "    prediction_label      category    prediction  \n",
       "2                  8       economy      politics  \n",
       "3                  7      religion          play  \n",
       "6                  4          tech      medicine  \n",
       "8                  1      religion     astronomy  \n",
       "14                 2      politics       economy  \n",
       "15                10         motor         sport  \n",
       "20                 1         sport     astronomy  \n",
       "21                 8      religion      politics  \n",
       "30                 8      religion      politics  \n",
       "32                10         motor         sport  \n",
       "33                 1       economy     astronomy  \n",
       "34                 5       economy      military  \n",
       "42                 9  alimentation      religion  \n",
       "43                 0       fashion  alimentation  \n",
       "44                 1      religion     astronomy  "
      ]
     },
     "execution_count": 145,
     "metadata": {},
     "output_type": "execute_result"
    }
   ],
   "source": [
    "errors = df[df['label'] != df['prediction_label']]\n",
    "errors.head(15)"
   ]
  },
  {
   "cell_type": "markdown",
   "metadata": {},
   "source": [
    "Los errores parece que son mucho más interesantes que en nuestro mdelo pasado.\n",
    "\n",
    "Los errores parecen algo mucho más genuino, economía y política son categorías que tienen algo de superposición entre si, al igual que motor y deportes, según sea el caso.\n",
    "\n",
    "## Usando una capa más especializada como clasificador\n",
    "\n",
    "Quizás podemos hacerlo mejor, hemos observado que por defecto, cuando cargamos la clase, Hugging Face nos da un clasificador muy simple, solo una capa lineal. Pero podemos utilizar un clasificador más complejo que definamos nosotros. Esta técnica seguiría utilizando el resto del modelo como featurizer, pero ahora añadimos complejidad a la capa de clasificación en búsqueda de una mejor calidad en los resutlados.\n",
    "\n",
    "Entonces, volvemos a cargar el modelo tal como hemos hecho antes:"
   ]
  },
  {
   "cell_type": "code",
   "execution_count": 159,
   "metadata": {},
   "outputs": [
    {
     "name": "stderr",
     "output_type": "stream",
     "text": [
      "Some weights of BertForSequenceClassification were not initialized from the model checkpoint at dccuchile/bert-base-spanish-wwm-cased and are newly initialized: ['bert.pooler.dense.bias', 'bert.pooler.dense.weight', 'classifier.bias', 'classifier.weight']\n",
      "You should probably TRAIN this model on a down-stream task to be able to use it for predictions and inference.\n"
     ]
    },
    {
     "name": "stdout",
     "output_type": "stream",
     "text": [
      "================================================================================================================================================================\n",
      "Layer (type:depth-idx)                                       Input Shape               Output Shape              Param #                   Trainable\n",
      "================================================================================================================================================================\n",
      "BertForSequenceClassification                                [1, 10]                   [1, 12]                   --                        Partial\n",
      "├─BertModel: 1-1                                             [1, 10]                   [1, 768]                  --                        False\n",
      "│    └─BertEmbeddings: 2-1                                   --                        [1, 10, 768]              --                        False\n",
      "│    │    └─Embedding: 3-1                                   [1, 10]                   [1, 10, 768]              (23,809,536)              False\n",
      "│    │    └─Embedding: 3-2                                   [1, 10]                   [1, 10, 768]              (1,536)                   False\n",
      "│    │    └─Embedding: 3-3                                   [1, 10]                   [1, 10, 768]              (393,216)                 False\n",
      "│    │    └─LayerNorm: 3-4                                   [1, 10, 768]              [1, 10, 768]              (1,536)                   False\n",
      "│    │    └─Dropout: 3-5                                     [1, 10, 768]              [1, 10, 768]              --                        --\n",
      "│    └─BertEncoder: 2-2                                      [1, 10, 768]              [1, 10, 768]              --                        False\n",
      "│    │    └─ModuleList: 3-6                                  --                        --                        (85,054,464)              False\n",
      "│    └─BertPooler: 2-3                                       [1, 10, 768]              [1, 768]                  --                        False\n",
      "│    │    └─Linear: 3-7                                      [1, 768]                  [1, 768]                  (590,592)                 False\n",
      "│    │    └─Tanh: 3-8                                        [1, 768]                  [1, 768]                  --                        --\n",
      "├─Dropout: 1-2                                               [1, 768]                  [1, 768]                  --                        --\n",
      "├─Linear: 1-3                                                [1, 768]                  [1, 12]                   9,228                     True\n",
      "================================================================================================================================================================\n",
      "Total params: 109,860,108\n",
      "Trainable params: 9,228\n",
      "Non-trainable params: 109,850,880\n",
      "Total mult-adds (M): 109.86\n",
      "================================================================================================================================================================\n",
      "Input size (MB): 0.00\n",
      "Forward/backward pass size (MB): 8.36\n",
      "Params size (MB): 439.44\n",
      "Estimated Total Size (MB): 447.80\n",
      "================================================================================================================================================================\n"
     ]
    }
   ],
   "source": [
    "model = AutoModelForSequenceClassification.from_pretrained(model_ckpt, num_labels=len(category2id)).to(device)\n",
    "\n",
    "for param in model.base_model.parameters():\n",
    "    param.requires_grad = False\n",
    "    \n",
    "  \n",
    "input_sizes = [inputs['input_ids'].shape] * 3\n",
    "input_types = [inputs['input_ids'].dtype] * 3\n",
    "with torch.no_grad():\n",
    "    print(summary(model, input_size=input_sizes, dtypes=input_types, col_names=['input_size', 'output_size', 'num_params', 'trainable']))"
   ]
  },
  {
   "cell_type": "code",
   "execution_count": 160,
   "metadata": {},
   "outputs": [
    {
     "data": {
      "text/plain": [
       "Linear(in_features=768, out_features=12, bias=True)"
      ]
     },
     "execution_count": 160,
     "metadata": {},
     "output_type": "execute_result"
    }
   ],
   "source": [
    "model.classifier"
   ]
  },
  {
   "cell_type": "markdown",
   "metadata": {},
   "source": [
    "### Definimos un clasificador propio\n",
    "\n",
    "Podemos definir cualquier tipo de clasificador que se nos ocurra, siempre que se ajuste a las entradas y salidas del clasificador existente. Vamos a utilizar por ejemplo la misma capa lineal que definimos en el notebook anterior:"
   ]
  },
  {
   "cell_type": "code",
   "execution_count": 161,
   "metadata": {},
   "outputs": [
    {
     "name": "stdout",
     "output_type": "stream",
     "text": [
      "================================================================================================================================================================\n",
      "Layer (type:depth-idx)                                       Input Shape               Output Shape              Param #                   Trainable\n",
      "================================================================================================================================================================\n",
      "BertForSequenceClassification                                [1, 10]                   [1, 12]                   --                        Partial\n",
      "├─BertModel: 1-1                                             [1, 10]                   [1, 768]                  --                        False\n",
      "│    └─BertEmbeddings: 2-1                                   --                        [1, 10, 768]              --                        False\n",
      "│    │    └─Embedding: 3-1                                   [1, 10]                   [1, 10, 768]              (23,809,536)              False\n",
      "│    │    └─Embedding: 3-2                                   [1, 10]                   [1, 10, 768]              (1,536)                   False\n",
      "│    │    └─Embedding: 3-3                                   [1, 10]                   [1, 10, 768]              (393,216)                 False\n",
      "│    │    └─LayerNorm: 3-4                                   [1, 10, 768]              [1, 10, 768]              (1,536)                   False\n",
      "│    │    └─Dropout: 3-5                                     [1, 10, 768]              [1, 10, 768]              --                        --\n",
      "│    └─BertEncoder: 2-2                                      [1, 10, 768]              [1, 10, 768]              --                        False\n",
      "│    │    └─ModuleList: 3-6                                  --                        --                        (85,054,464)              False\n",
      "│    └─BertPooler: 2-3                                       [1, 10, 768]              [1, 768]                  --                        False\n",
      "│    │    └─Linear: 3-7                                      [1, 768]                  [1, 768]                  (590,592)                 False\n",
      "│    │    └─Tanh: 3-8                                        [1, 768]                  [1, 768]                  --                        --\n",
      "├─Dropout: 1-2                                               [1, 768]                  [1, 768]                  --                        --\n",
      "├─Sequential: 1-3                                            [1, 768]                  [1, 12]                   --                        True\n",
      "│    └─Linear: 2-4                                           [1, 768]                  [1, 512]                  393,728                   True\n",
      "│    └─ReLU: 2-5                                             [1, 512]                  [1, 512]                  --                        --\n",
      "│    └─Dropout: 2-6                                          [1, 512]                  [1, 512]                  --                        --\n",
      "│    └─Linear: 2-7                                           [1, 512]                  [1, 256]                  131,328                   True\n",
      "│    └─ReLU: 2-8                                             [1, 256]                  [1, 256]                  --                        --\n",
      "│    └─Dropout: 2-9                                          [1, 256]                  [1, 256]                  --                        --\n",
      "│    └─Linear: 2-10                                          [1, 256]                  [1, 12]                   3,084                     True\n",
      "│    └─LogSoftmax: 2-11                                      [1, 12]                   [1, 12]                   --                        --\n",
      "================================================================================================================================================================\n",
      "Total params: 110,379,020\n",
      "Trainable params: 528,140\n",
      "Non-trainable params: 109,850,880\n",
      "Total mult-adds (M): 110.38\n",
      "================================================================================================================================================================\n",
      "Input size (MB): 0.00\n",
      "Forward/backward pass size (MB): 8.37\n",
      "Params size (MB): 441.52\n",
      "Estimated Total Size (MB): 449.88\n",
      "================================================================================================================================================================\n"
     ]
    }
   ],
   "source": [
    "import torch.nn as nn\n",
    "\n",
    "\n",
    "classifier = nn.Sequential(\n",
    "    nn.Linear(768, 512),\n",
    "    nn.ReLU(),\n",
    "    nn.Dropout(0.2),\n",
    "    nn.Linear(512, 256),\n",
    "    nn.ReLU(),\n",
    "    nn.Dropout(0.2),\n",
    "    nn.Linear(256, 12),\n",
    "    nn.LogSoftmax(dim=1)\n",
    ")\n",
    "\n",
    "# simplemente reemplazamos el clasificador existente por el nuestro:\n",
    "model.classifier = classifier\n",
    "with torch.no_grad():\n",
    "    print(summary(model, input_size=input_sizes, dtypes=input_types, col_names=['input_size', 'output_size', 'num_params', 'trainable']))"
   ]
  },
  {
   "cell_type": "markdown",
   "metadata": {},
   "source": [
    "Observamos que nuestro modelo ya tiene más parámetros para entrenar, producto de nuestro nuevo clasificador.\n",
    "\n",
    "Procedemos a definir nuevamente el entrenador."
   ]
  },
  {
   "cell_type": "code",
   "execution_count": 162,
   "metadata": {},
   "outputs": [],
   "source": [
    "trainer = Trainer(\n",
    "    model=model,\n",
    "    args=training_args,\n",
    "    compute_metrics=compute_metrics,\n",
    "    train_dataset=tokenized_dataset['train'],\n",
    "    eval_dataset=tokenized_dataset['val'],\n",
    "    tokenizer=tokenizer\n",
    ")"
   ]
  },
  {
   "cell_type": "markdown",
   "metadata": {},
   "source": [
    "Y a entrenar el modelo"
   ]
  },
  {
   "cell_type": "code",
   "execution_count": 163,
   "metadata": {},
   "outputs": [
    {
     "name": "stderr",
     "output_type": "stream",
     "text": [
      " 50%|█████     | 2040/4080 [03:42<03:43,  9.11it/s]"
     ]
    },
    {
     "name": "stdout",
     "output_type": "stream",
     "text": [
      "{'loss': 2.0531, 'grad_norm': 7.9846882820129395, 'learning_rate': 1e-05, 'epoch': 1.0}\n"
     ]
    },
    {
     "name": "stderr",
     "output_type": "stream",
     "text": [
      "\n",
      " 50%|█████     | 2040/4080 [04:08<03:43,  9.11it/s]"
     ]
    },
    {
     "name": "stdout",
     "output_type": "stream",
     "text": [
      "{'eval_loss': 1.483218789100647, 'eval_accuracy': 0.7852941176470588, 'eval_runtime': 26.7688, 'eval_samples_per_second': 38.104, 'eval_steps_per_second': 9.526, 'epoch': 1.0}\n"
     ]
    },
    {
     "name": "stderr",
     "output_type": "stream",
     "text": [
      "100%|██████████| 4080/4080 [07:50<00:00,  9.80it/s]  "
     ]
    },
    {
     "name": "stdout",
     "output_type": "stream",
     "text": [
      "{'loss': 1.346, 'grad_norm': 5.568023681640625, 'learning_rate': 0.0, 'epoch': 2.0}\n"
     ]
    },
    {
     "name": "stderr",
     "output_type": "stream",
     "text": [
      "\n",
      "100%|██████████| 4080/4080 [08:14<00:00,  9.80it/s]"
     ]
    },
    {
     "name": "stdout",
     "output_type": "stream",
     "text": [
      "{'eval_loss': 1.1355111598968506, 'eval_accuracy': 0.8313725490196079, 'eval_runtime': 24.8938, 'eval_samples_per_second': 40.974, 'eval_steps_per_second': 10.244, 'epoch': 2.0}\n"
     ]
    },
    {
     "name": "stderr",
     "output_type": "stream",
     "text": [
      "100%|██████████| 4080/4080 [08:16<00:00,  8.21it/s]"
     ]
    },
    {
     "name": "stdout",
     "output_type": "stream",
     "text": [
      "{'train_runtime': 496.8402, 'train_samples_per_second': 32.848, 'train_steps_per_second': 8.212, 'train_loss': 1.6995322433172488, 'epoch': 2.0}\n",
      "CPU times: user 8min 12s, sys: 5.1 s, total: 8min 18s\n",
      "Wall time: 8min 17s\n"
     ]
    },
    {
     "name": "stderr",
     "output_type": "stream",
     "text": [
      "\n"
     ]
    },
    {
     "data": {
      "text/plain": [
       "TrainOutput(global_step=4080, training_loss=1.6995322433172488, metrics={'train_runtime': 496.8402, 'train_samples_per_second': 32.848, 'train_steps_per_second': 8.212, 'total_flos': 4320373635809280.0, 'train_loss': 1.6995322433172488, 'epoch': 2.0})"
      ]
     },
     "execution_count": 163,
     "metadata": {},
     "output_type": "execute_result"
    }
   ],
   "source": [
    "%%time\n",
    "\n",
    "trainer.train()"
   ]
  },
  {
   "cell_type": "markdown",
   "metadata": {},
   "source": [
    "Y evaluamos el resultado:"
   ]
  },
  {
   "cell_type": "code",
   "execution_count": 164,
   "metadata": {},
   "outputs": [
    {
     "name": "stderr",
     "output_type": "stream",
     "text": [
      "100%|██████████| 255/255 [00:24<00:00, 10.53it/s]\n"
     ]
    },
    {
     "data": {
      "text/plain": [
       "{'eval_loss': 1.1573837995529175,\n",
       " 'eval_accuracy': 0.8264705882352941,\n",
       " 'eval_runtime': 24.36,\n",
       " 'eval_samples_per_second': 41.872,\n",
       " 'eval_steps_per_second': 10.468,\n",
       " 'epoch': 2.0}"
      ]
     },
     "execution_count": 164,
     "metadata": {},
     "output_type": "execute_result"
    }
   ],
   "source": [
    "model.eval()\n",
    "trainer.evaluate(tokenized_dataset['test'])"
   ]
  },
  {
   "cell_type": "markdown",
   "metadata": {},
   "source": [
    "Hemos obtenido una ligera mejora en nuestro modelo, lo cual sugiere que nuestro clasificador más complejo contribuye a una mayor calidad de los resultados.\n",
    "\n",
    "## Fine Tuning con BERT\n",
    "\n",
    "Para terminar, ahora harémos fine tuning, es decir, vamos a dejar libres todas las capas del modelo base para que todas calculen gradiente y entrenen sobre nuestra tarea específica.\n",
    "\n",
    "En este caso entonces no necesitamos modificar nada del modelo original, podemos instanciarlo y proceder directamente al entrenamiento:"
   ]
  },
  {
   "cell_type": "code",
   "execution_count": 165,
   "metadata": {},
   "outputs": [
    {
     "name": "stderr",
     "output_type": "stream",
     "text": [
      "Some weights of BertForSequenceClassification were not initialized from the model checkpoint at dccuchile/bert-base-spanish-wwm-cased and are newly initialized: ['bert.pooler.dense.bias', 'bert.pooler.dense.weight', 'classifier.bias', 'classifier.weight']\n",
      "You should probably TRAIN this model on a down-stream task to be able to use it for predictions and inference.\n"
     ]
    }
   ],
   "source": [
    "model = AutoModelForSequenceClassification.from_pretrained(model_ckpt, num_labels=len(category2id)).to(device)\n",
    "trainer = Trainer(\n",
    "    model=model,\n",
    "    args=training_args,\n",
    "    compute_metrics=compute_metrics,\n",
    "    train_dataset=tokenized_dataset['train'],\n",
    "    eval_dataset=tokenized_dataset['val'],\n",
    "    tokenizer=tokenizer\n",
    ")"
   ]
  },
  {
   "cell_type": "code",
   "execution_count": 167,
   "metadata": {},
   "outputs": [
    {
     "name": "stderr",
     "output_type": "stream",
     "text": [
      " 50%|█████     | 2040/4080 [11:54<12:11,  2.79it/s]"
     ]
    },
    {
     "name": "stdout",
     "output_type": "stream",
     "text": [
      "{'loss': 0.3499, 'grad_norm': 0.03925882652401924, 'learning_rate': 1e-05, 'epoch': 1.0}\n"
     ]
    },
    {
     "name": "stderr",
     "output_type": "stream",
     "text": [
      "\n",
      " 50%|█████     | 2040/4080 [12:20<12:11,  2.79it/s]"
     ]
    },
    {
     "name": "stdout",
     "output_type": "stream",
     "text": [
      "{'eval_loss': 0.3550916612148285, 'eval_accuracy': 0.9411764705882353, 'eval_runtime': 26.1445, 'eval_samples_per_second': 39.014, 'eval_steps_per_second': 9.753, 'epoch': 1.0}\n"
     ]
    },
    {
     "name": "stderr",
     "output_type": "stream",
     "text": [
      "100%|██████████| 4080/4080 [24:30<00:00,  1.92it/s]  "
     ]
    },
    {
     "name": "stdout",
     "output_type": "stream",
     "text": [
      "{'loss': 0.1276, 'grad_norm': 77.30023956298828, 'learning_rate': 0.0, 'epoch': 2.0}\n"
     ]
    },
    {
     "name": "stderr",
     "output_type": "stream",
     "text": [
      "\n",
      "100%|██████████| 4080/4080 [25:08<00:00,  1.92it/s]"
     ]
    },
    {
     "name": "stdout",
     "output_type": "stream",
     "text": [
      "{'eval_loss': 0.2835220694541931, 'eval_accuracy': 0.9509803921568627, 'eval_runtime': 37.9919, 'eval_samples_per_second': 26.848, 'eval_steps_per_second': 6.712, 'epoch': 2.0}\n"
     ]
    },
    {
     "name": "stderr",
     "output_type": "stream",
     "text": [
      "100%|██████████| 4080/4080 [25:13<00:00,  2.70it/s]"
     ]
    },
    {
     "name": "stdout",
     "output_type": "stream",
     "text": [
      "{'train_runtime': 1513.8263, 'train_samples_per_second': 10.781, 'train_steps_per_second': 2.695, 'train_loss': 0.2387611987544041, 'epoch': 2.0}\n",
      "CPU times: user 25min 7s, sys: 7.64 s, total: 25min 14s\n",
      "Wall time: 25min 14s\n"
     ]
    },
    {
     "name": "stderr",
     "output_type": "stream",
     "text": [
      "\n"
     ]
    },
    {
     "data": {
      "text/plain": [
       "TrainOutput(global_step=4080, training_loss=0.2387611987544041, metrics={'train_runtime': 1513.8263, 'train_samples_per_second': 10.781, 'train_steps_per_second': 2.695, 'total_flos': 4294357961932800.0, 'train_loss': 0.2387611987544041, 'epoch': 2.0})"
      ]
     },
     "execution_count": 167,
     "metadata": {},
     "output_type": "execute_result"
    }
   ],
   "source": [
    "%%time\n",
    "trainer.train()"
   ]
  },
  {
   "cell_type": "code",
   "execution_count": 168,
   "metadata": {},
   "outputs": [
    {
     "name": "stderr",
     "output_type": "stream",
     "text": [
      "100%|██████████| 255/255 [00:36<00:00,  6.92it/s]\n"
     ]
    },
    {
     "data": {
      "text/plain": [
       "{'eval_loss': 0.3077944815158844,\n",
       " 'eval_accuracy': 0.946078431372549,\n",
       " 'eval_runtime': 37.012,\n",
       " 'eval_samples_per_second': 27.559,\n",
       " 'eval_steps_per_second': 6.89,\n",
       " 'epoch': 2.0}"
      ]
     },
     "execution_count": 168,
     "metadata": {},
     "output_type": "execute_result"
    }
   ],
   "source": [
    "model.eval()\n",
    "trainer.evaluate(tokenized_dataset['test'])"
   ]
  },
  {
   "cell_type": "markdown",
   "metadata": {},
   "source": [
    "Hemos alcanzado una correctitud superior al $\\approx 90\\%$ en el conjunto de prueba!\n",
    "\n",
    "Con fine tuning, todas las capas del modelo ajustarán sus parámetros en respuesta al proceso de entrenamiento, por lo que es natural que la calidad de los resultados se incremente significativamente. Sin embargo, no hay que abusar del fine tuning ya que tiende a hacer overfitting al conjunto con el que se entrena, por eso también es recomendable no entrenarlo demasiado."
   ]
  },
  {
   "cell_type": "markdown",
   "metadata": {},
   "source": [
    "## Conclusiones\n",
    "- Trabajar con modelos pre-entrenados supone una mejora no solo en la calidad de los resultados, sino en los tiempos de entrenamiento y esfuerzo requerido para la labor.\n",
    "- En general, particularmente con modelos de lenguaje, dado lo costoso que puede resultar su entrenamiento desde cero, a día de hoy es mejor empezar con un modelo pre-entrenado y hacer bien transfer learning o fine tuning.\n",
    "- Implementar modelos nuevos tiene sentido cuando la tarea en cuestión es particularmente novedosa o definitivamente no se cuenta con un modelo pre-entrenado que por lo menos capture parte del contexto requerido para la tarea. Ejemplos de esto puede ser una tarea en un idioma para el cual no exista aún un modelo fundacional, o que los existentes hayan sido entrenados en un corpus limitado o sesgado a un campo de dominio por ejemplo, ciertamente sería difícil obtener resultados de buena calidad para un modelo de clasificación en el ámbito legal, partiendo de un modelo entrenado exclusivamente en el ámbito clínico.\n",
    "- Dentro de las posibilidades de usar un modelo pre-entrenado en forma de transfer learning o fine tuning, si fine tuning es superior, porque molestarse con las otras formas? porque no siempre se va a contar con los recursos (datos, computo y tiempo) para hacer fine tuning, o por ejemplo, en el runtime objetivo no se cuenta con GPU, por lo que quizás sea más factible usar modelos clásicos. Cada situación merece analizarse para hallar el mejor modo a implementar."
   ]
  },
  {
   "cell_type": "markdown",
   "metadata": {},
   "source": []
  }
 ],
 "metadata": {
  "kernelspec": {
   "display_name": "icesi-advanced-dl",
   "language": "python",
   "name": "python3"
  },
  "language_info": {
   "codemirror_mode": {
    "name": "ipython",
    "version": 3
   },
   "file_extension": ".py",
   "mimetype": "text/x-python",
   "name": "python",
   "nbconvert_exporter": "python",
   "pygments_lexer": "ipython3",
   "version": "3.10.14"
  }
 },
 "nbformat": 4,
 "nbformat_minor": 2
}
