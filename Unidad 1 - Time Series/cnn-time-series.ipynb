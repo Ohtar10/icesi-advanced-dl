{
 "cells": [
  {
   "cell_type": "markdown",
   "metadata": {},
   "source": [
    "# Hands-On Deep Learning modelo CNN para series de tiempo\n",
    "[![Open In Colab](https://colab.research.google.com/assets/colab-badge.svg)](https://colab.research.google.com/github/Ohtar10/icesi-advanced-dl/blob/main/Unidad%201%20-%20Time%20Series/cnn-time-series.ipynb)\n",
    "\n",
    "En este notebook vamos a usar capas CNN o Convotional Neural Networks para casos de series de tiempo. Vamos a continuar con el mismo dataset de la lección anterior con el fin de tener una visión holística de como se comparan las diferentes técnicas que hemos visto hasta ahora para el mismo problema. \n",
    "\n",
    "## Serie de tiempo del clima del laboratorio Max Planck\n",
    "Para este notebook vamos a trabajar sobre una serie de datos climáticos cuyo dataset pueden encontrar aquí: https://www.kaggle.com/datasets/arashnic/max-planck-weather-dataset/data. Debido a que el dataset son 42MB y requiere autenticación en kaggle para descargar, esto deberán hacerlo manualmente antes de continuar con el notebook.\n",
    "\n",
    "El objetivo de este caso es modelar la serie de tiempo de la temperatura atmosférica en grados centigrados. Para ello, contamos no solo con datos desde el 2009 al 2016 sobre la temperatura misma sino de otras mediciones como la presión atmosférica, presión de vapor, humedad, entre otros. Los datos fueron tomados especificamente en la estación del clima Beuternberg\n",
    "\n",
    "### Enlaces de interés\n",
    "- [Max-Planck Institut](https://mpimet.mpg.de/en/research/observations)\n",
    "- [Max-Planck Institut - Weather Station](https://www.bgc-jena.mpg.de/wetter/)\n",
    "- [Weather Station Beutenberg](https://www.bgc-jena.mpg.de/wetter/towercam.html)\n",
    "- [Beutenberg Campus](https://maps.app.goo.gl/fGJX1T9bjTJhueqJ9)"
   ]
  },
  {
   "cell_type": "code",
   "execution_count": 1,
   "metadata": {},
   "outputs": [],
   "source": [
    "import pkg_resources\n",
    "import warnings\n",
    "import os\n",
    "\n",
    "warnings.filterwarnings('ignore')\n",
    "\n",
    "installed_packages = [package.key for package in pkg_resources.working_set]\n",
    "IN_COLAB = 'google-colab' in installed_packages\n",
    "\n",
    "# Para guardar modelos entrenados y re-utilizarlos luego\n",
    "models_path = os.path.join(os.getcwd(), 'models')\n",
    "os.makedirs(models_path, exist_ok=True)"
   ]
  },
  {
   "cell_type": "code",
   "execution_count": 2,
   "metadata": {},
   "outputs": [],
   "source": [
    "!test '{IN_COLAB}' = 'True' && wget  https://github.com/Ohtar10/icesi-advanced-dl/raw/main/requirements.txt  && pip install -r requirements.txt"
   ]
  },
  {
   "cell_type": "markdown",
   "metadata": {},
   "source": [
    "Primero, vamos a observar los datos y hacernos una idea de con que estamos lidiando"
   ]
  },
  {
   "cell_type": "code",
   "execution_count": 3,
   "metadata": {},
   "outputs": [
    {
     "data": {
      "text/html": [
       "<div>\n",
       "<style scoped>\n",
       "    .dataframe tbody tr th:only-of-type {\n",
       "        vertical-align: middle;\n",
       "    }\n",
       "\n",
       "    .dataframe tbody tr th {\n",
       "        vertical-align: top;\n",
       "    }\n",
       "\n",
       "    .dataframe thead th {\n",
       "        text-align: right;\n",
       "    }\n",
       "</style>\n",
       "<table border=\"1\" class=\"dataframe\">\n",
       "  <thead>\n",
       "    <tr style=\"text-align: right;\">\n",
       "      <th></th>\n",
       "      <th>T (degC)</th>\n",
       "      <th>p (mbar)</th>\n",
       "      <th>VPact (mbar)</th>\n",
       "      <th>sh (g/kg)</th>\n",
       "      <th>Tdew (degC)</th>\n",
       "      <th>H2OC (mmol/mol)</th>\n",
       "    </tr>\n",
       "  </thead>\n",
       "  <tbody>\n",
       "    <tr>\n",
       "      <th>0</th>\n",
       "      <td>-8.02</td>\n",
       "      <td>996.52</td>\n",
       "      <td>3.11</td>\n",
       "      <td>1.94</td>\n",
       "      <td>-8.90</td>\n",
       "      <td>3.12</td>\n",
       "    </tr>\n",
       "    <tr>\n",
       "      <th>1</th>\n",
       "      <td>-8.41</td>\n",
       "      <td>996.57</td>\n",
       "      <td>3.02</td>\n",
       "      <td>1.89</td>\n",
       "      <td>-9.28</td>\n",
       "      <td>3.03</td>\n",
       "    </tr>\n",
       "    <tr>\n",
       "      <th>2</th>\n",
       "      <td>-8.51</td>\n",
       "      <td>996.53</td>\n",
       "      <td>3.01</td>\n",
       "      <td>1.88</td>\n",
       "      <td>-9.31</td>\n",
       "      <td>3.02</td>\n",
       "    </tr>\n",
       "    <tr>\n",
       "      <th>3</th>\n",
       "      <td>-8.31</td>\n",
       "      <td>996.51</td>\n",
       "      <td>3.07</td>\n",
       "      <td>1.92</td>\n",
       "      <td>-9.07</td>\n",
       "      <td>3.08</td>\n",
       "    </tr>\n",
       "    <tr>\n",
       "      <th>4</th>\n",
       "      <td>-8.27</td>\n",
       "      <td>996.51</td>\n",
       "      <td>3.08</td>\n",
       "      <td>1.92</td>\n",
       "      <td>-9.04</td>\n",
       "      <td>3.09</td>\n",
       "    </tr>\n",
       "    <tr>\n",
       "      <th>5</th>\n",
       "      <td>-8.05</td>\n",
       "      <td>996.50</td>\n",
       "      <td>3.14</td>\n",
       "      <td>1.96</td>\n",
       "      <td>-8.78</td>\n",
       "      <td>3.15</td>\n",
       "    </tr>\n",
       "    <tr>\n",
       "      <th>6</th>\n",
       "      <td>-7.62</td>\n",
       "      <td>996.50</td>\n",
       "      <td>3.26</td>\n",
       "      <td>2.04</td>\n",
       "      <td>-8.30</td>\n",
       "      <td>3.27</td>\n",
       "    </tr>\n",
       "    <tr>\n",
       "      <th>7</th>\n",
       "      <td>-7.62</td>\n",
       "      <td>996.50</td>\n",
       "      <td>3.25</td>\n",
       "      <td>2.03</td>\n",
       "      <td>-8.36</td>\n",
       "      <td>3.26</td>\n",
       "    </tr>\n",
       "    <tr>\n",
       "      <th>8</th>\n",
       "      <td>-7.91</td>\n",
       "      <td>996.50</td>\n",
       "      <td>3.15</td>\n",
       "      <td>1.97</td>\n",
       "      <td>-8.73</td>\n",
       "      <td>3.16</td>\n",
       "    </tr>\n",
       "    <tr>\n",
       "      <th>9</th>\n",
       "      <td>-8.43</td>\n",
       "      <td>996.53</td>\n",
       "      <td>3.00</td>\n",
       "      <td>1.88</td>\n",
       "      <td>-9.34</td>\n",
       "      <td>3.02</td>\n",
       "    </tr>\n",
       "    <tr>\n",
       "      <th>10</th>\n",
       "      <td>-8.76</td>\n",
       "      <td>996.62</td>\n",
       "      <td>2.93</td>\n",
       "      <td>1.83</td>\n",
       "      <td>-9.66</td>\n",
       "      <td>2.94</td>\n",
       "    </tr>\n",
       "    <tr>\n",
       "      <th>11</th>\n",
       "      <td>-8.88</td>\n",
       "      <td>996.62</td>\n",
       "      <td>2.90</td>\n",
       "      <td>1.81</td>\n",
       "      <td>-9.77</td>\n",
       "      <td>2.91</td>\n",
       "    </tr>\n",
       "    <tr>\n",
       "      <th>12</th>\n",
       "      <td>-8.85</td>\n",
       "      <td>996.63</td>\n",
       "      <td>2.92</td>\n",
       "      <td>1.82</td>\n",
       "      <td>-9.70</td>\n",
       "      <td>2.93</td>\n",
       "    </tr>\n",
       "    <tr>\n",
       "      <th>13</th>\n",
       "      <td>-8.83</td>\n",
       "      <td>996.74</td>\n",
       "      <td>2.92</td>\n",
       "      <td>1.83</td>\n",
       "      <td>-9.68</td>\n",
       "      <td>2.93</td>\n",
       "    </tr>\n",
       "    <tr>\n",
       "      <th>14</th>\n",
       "      <td>-8.66</td>\n",
       "      <td>996.81</td>\n",
       "      <td>2.98</td>\n",
       "      <td>1.86</td>\n",
       "      <td>-9.46</td>\n",
       "      <td>2.99</td>\n",
       "    </tr>\n",
       "  </tbody>\n",
       "</table>\n",
       "</div>"
      ],
      "text/plain": [
       "    T (degC)  p (mbar)  VPact (mbar)  sh (g/kg)  Tdew (degC)  H2OC (mmol/mol)\n",
       "0      -8.02    996.52          3.11       1.94        -8.90             3.12\n",
       "1      -8.41    996.57          3.02       1.89        -9.28             3.03\n",
       "2      -8.51    996.53          3.01       1.88        -9.31             3.02\n",
       "3      -8.31    996.51          3.07       1.92        -9.07             3.08\n",
       "4      -8.27    996.51          3.08       1.92        -9.04             3.09\n",
       "5      -8.05    996.50          3.14       1.96        -8.78             3.15\n",
       "6      -7.62    996.50          3.26       2.04        -8.30             3.27\n",
       "7      -7.62    996.50          3.25       2.03        -8.36             3.26\n",
       "8      -7.91    996.50          3.15       1.97        -8.73             3.16\n",
       "9      -8.43    996.53          3.00       1.88        -9.34             3.02\n",
       "10     -8.76    996.62          2.93       1.83        -9.66             2.94\n",
       "11     -8.88    996.62          2.90       1.81        -9.77             2.91\n",
       "12     -8.85    996.63          2.92       1.82        -9.70             2.93\n",
       "13     -8.83    996.74          2.92       1.83        -9.68             2.93\n",
       "14     -8.66    996.81          2.98       1.86        -9.46             2.99"
      ]
     },
     "execution_count": 3,
     "metadata": {},
     "output_type": "execute_result"
    }
   ],
   "source": [
    "import pandas as pd\n",
    "import numpy as np\n",
    "\n",
    "# El dataset cuenta con temperatura en grados Kelvin también\n",
    "# Pero no queremos incluir esta columna porque está midiendo exactamente lo mismo\n",
    "columns = ['T (degC)', 'p (mbar)', 'VPact (mbar)', 'sh (g/kg)', 'Tdew (degC)', 'H2OC (mmol/mol)']\n",
    "# Cambiar según la localización del archivo.\n",
    "dataset = pd.read_csv('../datasets/max_planck_weather_ts.csv')[columns]\n",
    "\n",
    "dataset.head(15)"
   ]
  },
  {
   "cell_type": "markdown",
   "metadata": {},
   "source": [
    "## Train-test split\n",
    "Como este es un experimento un poco más realista, vamos a separar los conjuntos de datos en train y test. Como ya debemos saber, el conjunto de entrenamiento es exclusivamente para ese fin y el conjunto de prueba únicamente debemos usarlo para validar el modelo ante información no vista durante el entrenamiento y así poner a prueba su capacidad predictiva.\n",
    "\n",
    "Como esto es una serie de tiempo, no podemos hacer un random sample ya que romperíamos la estructura secuencial de los datos. Asi que vamos a hacer algo más simple y dividir el conjunto en un punto particular. Vamos a trabajar con un train set correspondiente al 90% del conjunto original."
   ]
  },
  {
   "cell_type": "code",
   "execution_count": 4,
   "metadata": {},
   "outputs": [],
   "source": [
    "train_chunk = int(dataset.shape[0] * 0.9)\n",
    "\n",
    "# Solo nos interesa trabajar con estas columnas por ahora\n",
    "columns = ['T (degC)', 'p (mbar)', 'Tdew (degC)', 'H2OC (mmol/mol)']\n",
    "\n",
    "# Necesitamos trabajar solo con datos informados, por lo que debemos descartar registros que no los tengan\n",
    "train_set = dataset.iloc[:train_chunk][columns].dropna()\n",
    "test_set = dataset.iloc[train_chunk:][columns].dropna()"
   ]
  },
  {
   "cell_type": "markdown",
   "metadata": {},
   "source": [
    "## Baseline - Modelo SARIMAX\n",
    "Preparamos un modelo SARIMAX como en la lección anterior para tenerlo como comparativa."
   ]
  },
  {
   "cell_type": "code",
   "execution_count": 101,
   "metadata": {},
   "outputs": [
    {
     "name": "stdout",
     "output_type": "stream",
     "text": [
      "Usando un modelo pre-entrenado en models/sarimax_model.pkl\n",
      "                                     SARIMAX Results                                     \n",
      "=========================================================================================\n",
      "Dep. Variable:                          T (degC)   No. Observations:               200000\n",
      "Model:             SARIMAX(1, 1, 2)x(1, 1, 2, 4)   Log Likelihood               46387.378\n",
      "Date:                           Sat, 02 Mar 2024   AIC                         -92754.757\n",
      "Time:                                   12:23:07   BIC                         -92652.696\n",
      "Sample:                                        0   HQIC                        -92724.718\n",
      "                                        - 200000                                         \n",
      "Covariance Type:                             opg                                         \n",
      "==============================================================================\n",
      "                 coef    std err          z      P>|z|      [0.025      0.975]\n",
      "------------------------------------------------------------------------------\n",
      "x1            -0.2991   3.35e-06  -8.93e+04      0.000      -0.299      -0.299\n",
      "x2             0.4635   2.16e-06   2.14e+05      0.000       0.463       0.463\n",
      "x3            -0.3504   2.86e-06  -1.23e+05      0.000      -0.350      -0.350\n",
      "ar.L1          0.3446   2.91e-06   1.19e+05      0.000       0.345       0.345\n",
      "ma.L1          0.0924      1e-05   9215.202      0.000       0.092       0.092\n",
      "ma.L2         -0.1080   9.28e-06  -1.16e+04      0.000      -0.108      -0.108\n",
      "ar.S.L4       -0.4569   2.19e-06  -2.08e+05      0.000      -0.457      -0.457\n",
      "ma.S.L4       -0.2995   3.35e-06  -8.95e+04      0.000      -0.299      -0.299\n",
      "ma.S.L8       -0.3367   2.98e-06  -1.13e+05      0.000      -0.337      -0.337\n",
      "sigma2         0.0689      1e-05   6873.811      0.000       0.069       0.069\n",
      "===================================================================================\n",
      "Ljung-Box (L1) (Q):                   1.48   Jarque-Bera (JB):           3702156.27\n",
      "Prob(Q):                              0.22   Prob(JB):                         0.00\n",
      "Heteroskedasticity (H):               0.98   Skew:                            -1.14\n",
      "Prob(H) (two-sided):                  0.03   Kurtosis:                        23.95\n",
      "===================================================================================\n",
      "\n",
      "Warnings:\n",
      "[1] Covariance matrix calculated using the outer product of gradients (complex-step).\n",
      "[2] Covariance matrix is singular or near-singular, with condition number 1.43e+35. Standard errors may be unstable.\n",
      "CPU times: user 1min 21s, sys: 1min 34s, total: 2min 55s\n",
      "Wall time: 59.7 s\n"
     ]
    }
   ],
   "source": [
    "%%time\n",
    "import pickle\n",
    "from statsmodels.tsa.statespace.sarimax import SARIMAX\n",
    "\n",
    "sarimax_model_path = os.path.join(models_path, 'sarimax_model.pkl')\n",
    "relative_path = os.path.relpath(sarimax_model_path, os.getcwd())\n",
    "if os.path.exists(sarimax_model_path):\n",
    "    with open(sarimax_model_path, 'rb') as f:\n",
    "        sarimax_model = pickle.load(f)\n",
    "    \n",
    "    print(f'Usando un modelo pre-entrenado en {relative_path}')\n",
    "else:\n",
    "    # Trabajaremos con los últimos 200k pasos de tiempo solamente.\n",
    "    endog = train_set.loc[len(train_set)-200000:, 'T (degC)']\n",
    "    exog = train_set.loc[len(train_set)-200000:, ['p (mbar)', 'Tdew (degC)', 'H2OC (mmol/mol)']].values\n",
    "\n",
    "    sarimax_model = SARIMAX(endog, exog, order=(1, 1, 2), seasonal_order=(1, 1, 2, 4), simple_differencing=False)\n",
    "    res = sarimax_model.fit(disp=False)\n",
    "\n",
    "    with open(sarimax_model_path, 'wb') as f:\n",
    "        pickle.dump(sarimax_model, f)\n",
    "\n",
    "    print(f'Guardando modelo en {relative_path}')\n",
    "\n",
    "res = sarimax_model.fit(disp=False)\n",
    "print(res.summary())"
   ]
  },
  {
   "cell_type": "code",
   "execution_count": 6,
   "metadata": {},
   "outputs": [
    {
     "name": "stdout",
     "output_type": "stream",
     "text": [
      "MSE Modelo SARIMAX: 75.0673\n"
     ]
    }
   ],
   "source": [
    "from sklearn.metrics import mean_squared_error\n",
    "\n",
    "test_endog = test_set['T (degC)']\n",
    "test_exog = test_set[['p (mbar)', 'Tdew (degC)', 'H2OC (mmol/mol)']]\n",
    "\n",
    "sarimax_preds = res.get_forecast(steps=test_endog.shape[0], exog=test_exog).predicted_mean\n",
    "\n",
    "validation = pd.DataFrame({'data': test_endog.values, 'prediction': sarimax_preds.values})\n",
    "\n",
    "mse = mean_squared_error(validation['data'], validation['prediction'])\n",
    "print(f\"MSE Modelo SARIMAX: {mse:.4f}\")"
   ]
  },
  {
   "cell_type": "markdown",
   "metadata": {},
   "source": [
    "## Modelo CNN simple\n",
    "\n",
    "![](../assets/TS-SimpleLSTM.drawio-wbg.png)\n",
    "\n",
    "En este caso vamos a trabajar dos versiones diferentes de un modelo CNN simple para este caso. En el primero, vamos a usar convoluciones 2D, para lo cual necesitaremos hacer algunos ajustes a los datos mientras pasan por la red. Luego, vamos a usar un modelo con convoluciones 1D, donde los datos que tenemos se facilitan más para este caso."
   ]
  },
  {
   "cell_type": "code",
   "execution_count": 7,
   "metadata": {},
   "outputs": [
    {
     "name": "stdout",
     "output_type": "stream",
     "text": [
      "CPU times: user 11min 45s, sys: 2.1 s, total: 11min 47s\n",
      "Wall time: 11min 47s\n"
     ]
    }
   ],
   "source": [
    "%%time\n",
    "import torch\n",
    "import torch.nn as nn\n",
    "from torch.utils.data import Dataset, DataLoader\n",
    "from sklearn.preprocessing import StandardScaler\n",
    "from sklearn.model_selection import train_test_split\n",
    "from pytorch_lightning import LightningModule, Trainer\n",
    "from typing import List, Tuple\n",
    "from torch.nn import functional as F\n",
    "from lightning.pytorch.loggers import TensorBoardLogger\n",
    "\n",
    "\n",
    "class TimeSeriesDataset(Dataset):\n",
    "    \"\"\"Time Series Dataset.\n",
    "    Define un pytorch dataset desde un pandas dataframe.\n",
    "    Asume que el dataframe provisto es una serie donde\n",
    "    cada fila corresponde a un paso de tiempo t y cada\n",
    "    columna son el vector a procesar.\n",
    "    \"\"\"\n",
    "    def __init__(self, \n",
    "                 dataframe: pd.DataFrame,\n",
    "                 target_col: str,\n",
    "                 feature_cols:  List[str],\n",
    "                 sequence_length: int = 10) -> None:\n",
    "        super().__init__()\n",
    "        self._dataframe = dataframe.reset_index(drop=True)\n",
    "        self.sequence_length = sequence_length\n",
    "        self.target_col = target_col\n",
    "        self.feature_cols = feature_cols\n",
    "        self.scaler = StandardScaler()\n",
    "\n",
    "    \n",
    "    def __len__(self):\n",
    "        # Porque a partir de n - sequence length, no se podrán extraer más secuencias.\n",
    "        return len(self._dataframe) - self.sequence_length\n",
    "    \n",
    "    def __getitem__(self, index) -> Tuple[torch.Tensor]:\n",
    "        start_idx = index\n",
    "        end_idx = index + self.sequence_length - 1\n",
    "\n",
    "        # Extraemos las secuencias, el valor objetivo debe estar incluido en la secuencia.\n",
    "        sequence = self._dataframe.loc[start_idx:end_idx, [self.target_col] + self.feature_cols].values\n",
    "        # Aplicamos escala si es necesario\n",
    "        sequence = self.scaler.fit_transform(sequence)\n",
    "        \n",
    "        # Extraemos el objetivo\n",
    "        target = self._dataframe.loc[end_idx, self.target_col]\n",
    "\n",
    "        # Convertimos a tensores de pytorch\n",
    "        sequence = torch.tensor(sequence, dtype=torch.float32)\n",
    "        target = torch.tensor(target, dtype=torch.float32)\n",
    "\n",
    "        return sequence, target\n",
    "\n",
    "\n",
    "sequence_length = 200\n",
    "train_dataset = TimeSeriesDataset(\n",
    "    train_set[columns], \n",
    "    target_col='T (degC)', \n",
    "    feature_cols=['p (mbar)', 'Tdew (degC)', 'H2OC (mmol/mol)'],\n",
    "    sequence_length = sequence_length\n",
    "    )\n",
    "\n",
    "train_dataset, val_dataset = train_test_split(train_dataset, test_size=0.2, train_size=0.8)\n",
    "\n",
    "# Creamos los dataloaders para el entrenamiento de la red\n",
    "train_loader = DataLoader(train_dataset, batch_size=128, shuffle=True, num_workers=6)\n",
    "val_loader = DataLoader(val_dataset, batch_size=128, num_workers=6)\n",
    "    "
   ]
  },
  {
   "cell_type": "markdown",
   "metadata": {},
   "source": [
    "### Definición del modelo y entrenamiento\n",
    "\n",
    "Ahora vamos a definir un modelo convolucional 2D. Recordemos que en redes convolucionales hay que ser cuidadosos con las dimensiones de entrada y salida de las capas ya que estas se van cambiando, en función de algunos hiper-parámetros, a medida que van pasando por las capas. Siempre tener presente las siguiente formulas:\n",
    "\n",
    "#### Dimensiones de salida de capa convolucional y pooling\n",
    "$$\n",
    "W_{out} = \\frac{W_{in} - K + 2P}{S} + 1 \\\\\n",
    "H_{out} = \\frac{H_{in} - K + 2P}{S} + 1\n",
    "$$\n",
    "\n",
    "Donde: \n",
    "- $W$ y $H$, en un tensor de rango 2, representarían el largo y ancho del mismo (si fuera una imágen), para tensores de rango 1, es único vector que lo compone.\n",
    "- $K$ es el tamaño del kernel que se usa en la capa\n",
    "- $P$ es el tamaño del padding definido. Cuando especificamos un padding tipo `same`, quiere decir que vamos a agregar padding hasta que el output tenga el mismo shape que el input.\n",
    "- $S$ es el stride of desplazamiento del kernel\n",
    "\n",
    "Por ejemplo, si esperamos un tensor de entrada de $200 \\times 4$ y definimos una capa convolucional 2D, con `kernel_size=4`, `padding=1` y `stride=1`, el output shape sería:\n",
    "$$\n",
    "W_{out} = \\frac{200 - 4 + 2 \\cdot 1}{1} + 1 = 199 \n",
    "$$\n"
   ]
  },
  {
   "cell_type": "code",
   "execution_count": 8,
   "metadata": {},
   "outputs": [
    {
     "name": "stderr",
     "output_type": "stream",
     "text": [
      "GPU available: True (cuda), used: True\n",
      "TPU available: False, using: 0 TPU cores\n",
      "IPU available: False, using: 0 IPUs\n",
      "HPU available: False, using: 0 HPUs\n",
      "LOCAL_RANK: 0 - CUDA_VISIBLE_DEVICES: [0]\n",
      "\n",
      "  | Name      | Type       | Params\n",
      "-----------------------------------------\n",
      "0 | cnn_block | Sequential | 9.6 K \n",
      "1 | fc_block  | Sequential | 557 K \n",
      "-----------------------------------------\n",
      "566 K     Trainable params\n",
      "0         Non-trainable params\n",
      "566 K     Total params\n",
      "2.268     Total estimated model params size (MB)\n"
     ]
    },
    {
     "name": "stdout",
     "output_type": "stream",
     "text": [
      "Epoch 9: 100%|██████████| 2365/2365 [00:17<00:00, 135.69it/s, v_num=3, train_loss=3.680]"
     ]
    },
    {
     "name": "stderr",
     "output_type": "stream",
     "text": [
      "`Trainer.fit` stopped: `max_epochs=10` reached.\n"
     ]
    },
    {
     "name": "stdout",
     "output_type": "stream",
     "text": [
      "Epoch 9: 100%|██████████| 2365/2365 [00:17<00:00, 135.52it/s, v_num=3, train_loss=3.680]\n",
      "CPU times: user 2min 28s, sys: 27.7 s, total: 2min 55s\n",
      "Wall time: 2min 57s\n"
     ]
    }
   ],
   "source": [
    "%%time\n",
    "from pytorch_lightning.callbacks.early_stopping import EarlyStopping\n",
    "\n",
    "class SimpleCNN2D(LightningModule):\n",
    "\n",
    "    def __init__(self):\n",
    "        super(SimpleCNN2D, self).__init__()\n",
    "\n",
    "        # entra (1, 200, 4) => (un canal, longitud de la secuencia, features del time step)\n",
    "        self.cnn_block = nn.Sequential(\n",
    "            nn.Conv2d(in_channels=1, out_channels=16, kernel_size=4, padding='same', padding_mode='replicate', stride=1),  # sale (16, 200, 4)\n",
    "            nn.ReLU(),\n",
    "            nn.MaxPool2d(kernel_size=2, padding=1),  # sale (16, 101, 3)\n",
    "            nn.Conv2d(16, 64, kernel_size=3, padding='same', stride=1),  # sale (64, 101, 3)\n",
    "            nn.ReLU(),\n",
    "            nn.MaxPool2d(kernel_size=3),  # sale (64, 33, 1)\n",
    "            nn.Flatten(start_dim=1)  # sale (2112)\n",
    "        )\n",
    "\n",
    "        self.fc_block = nn.Sequential(\n",
    "            nn.Linear(2112, 256),\n",
    "            nn.ReLU(),\n",
    "            nn.Linear(256, 64),\n",
    "            nn.ReLU(),\n",
    "            nn.Linear(64, 1)\n",
    "        )\n",
    "\n",
    "        self.hparams['cnn_block'] = str(self.cnn_block)\n",
    "        self.hparams['fc_block'] = str(self.fc_block)\n",
    "        self.save_hyperparameters()\n",
    "\n",
    "    def forward(self, x):\n",
    "        # Como nuestro dato de entrada solo tiene un valor por cada par tiempo-feature y\n",
    "        # Las capas convolucionales esperan un tensor de tercer rango, debemos\n",
    "        # expandir el rango del tensor, entonces pasamos de\n",
    "        # (batch, sequence_length, feature_dim) a (batch, channel, sequence_length, feature_dim)\n",
    "        # aquí channel es un placeholder para reservar el espacio para esa dimension.\n",
    "        x = x.unsqueeze(1)\n",
    "        x = self.cnn_block(x)\n",
    "        return self.fc_block(x)\n",
    "\n",
    "    def training_step(self, batch, batch_idx):\n",
    "        x, y = batch\n",
    "        y_hat = self(x)\n",
    "        loss = F.mse_loss(y_hat, y.unsqueeze(-1))\n",
    "        self.log('train_loss', loss, prog_bar=True)\n",
    "        return loss\n",
    "\n",
    "    def validation_step(self, batch, batch_idx):\n",
    "        x, y = batch\n",
    "        y_hat = self(x)\n",
    "        loss = F.mse_loss(y_hat, y.unsqueeze(-1))\n",
    "        self.log('val_loss', loss)\n",
    "        return loss\n",
    "\n",
    "    def test_step(self, batch, batch_idx):\n",
    "        x, y = batch\n",
    "        y_hat = self(x)\n",
    "        loss = F.mse_loss(y_hat, y.unsqueeze(-1))\n",
    "        self.log('test_loss', loss)\n",
    "\n",
    "    def predict_step(self, batch):\n",
    "        x, y = batch\n",
    "        return torch.cat([self(x), y.unsqueeze(-1)], axis=-1)\n",
    "\n",
    "    def configure_optimizers(self):\n",
    "        return torch.optim.Adam(self.parameters(), lr=1e-3)\n",
    "\n",
    "cnn2d_model = SimpleCNN2D()\n",
    "\n",
    "tb_logger = TensorBoardLogger('tb_logs', name='SimpleCNN2D')\n",
    "trainer2d = Trainer(max_epochs=10, devices=1, logger=tb_logger, callbacks=[EarlyStopping(monitor='val_loss', mode='min')])\n",
    "trainer2d.fit(cnn2d_model, train_loader, val_loader)"
   ]
  },
  {
   "cell_type": "markdown",
   "metadata": {},
   "source": [
    "Finalizado el entrenamiento, procedemos a validar los resultados en el conjunto de prueba."
   ]
  },
  {
   "cell_type": "code",
   "execution_count": 9,
   "metadata": {},
   "outputs": [
    {
     "name": "stderr",
     "output_type": "stream",
     "text": [
      "Restoring states from the checkpoint path at tb_logs/SimpleCNN2D/version_3/checkpoints/epoch=9-step=23650.ckpt\n",
      "LOCAL_RANK: 0 - CUDA_VISIBLE_DEVICES: [0]\n",
      "Loaded model weights from the checkpoint at tb_logs/SimpleCNN2D/version_3/checkpoints/epoch=9-step=23650.ckpt\n"
     ]
    },
    {
     "name": "stdout",
     "output_type": "stream",
     "text": [
      "Testing DataLoader 0: 100%|██████████| 82/82 [00:30<00:00,  2.70it/s]\n",
      "────────────────────────────────────────────────────────────────────────────────────────────────────────────────────────\n",
      "       Test metric             DataLoader 0\n",
      "────────────────────────────────────────────────────────────────────────────────────────────────────────────────────────\n",
      "        test_loss            33.35602569580078\n",
      "────────────────────────────────────────────────────────────────────────────────────────────────────────────────────────\n"
     ]
    }
   ],
   "source": [
    "cnn2d_model.eval()\n",
    "test_dataset = TimeSeriesDataset(\n",
    "    test_set[columns], \n",
    "    target_col='T (degC)', \n",
    "    feature_cols=['p (mbar)', 'Tdew (degC)', 'H2OC (mmol/mol)'],\n",
    "    sequence_length = sequence_length\n",
    "    )\n",
    "test_loader = DataLoader(test_dataset, batch_size=512)\n",
    "result2d = trainer2d.test(dataloaders=test_loader)"
   ]
  },
  {
   "cell_type": "markdown",
   "metadata": {},
   "source": [
    "#### Definición de modelo convolucional 1D\n",
    "\n",
    "Ahora vamos a definir un segundo modelo, esta vez utilizando capas convolucionales 1D. Las reglas de cálculo para el output shape siguen siendo las mismas, sin embargo la forma como las operamos y pasamos el input es ligeramente distinta. El resto del modelo y entrenamiento siguen siendo los mismos."
   ]
  },
  {
   "cell_type": "code",
   "execution_count": 10,
   "metadata": {},
   "outputs": [
    {
     "name": "stderr",
     "output_type": "stream",
     "text": [
      "GPU available: True (cuda), used: True\n",
      "TPU available: False, using: 0 TPU cores\n",
      "IPU available: False, using: 0 IPUs\n",
      "HPU available: False, using: 0 HPUs\n",
      "LOCAL_RANK: 0 - CUDA_VISIBLE_DEVICES: [0]\n",
      "\n",
      "  | Name      | Type       | Params\n",
      "-----------------------------------------\n",
      "0 | cnn_block | Sequential | 3.3 K \n",
      "1 | fc_block  | Sequential | 360 K \n",
      "-----------------------------------------\n",
      "364 K     Trainable params\n",
      "0         Non-trainable params\n",
      "364 K     Total params\n",
      "1.457     Total estimated model params size (MB)\n"
     ]
    },
    {
     "name": "stdout",
     "output_type": "stream",
     "text": [
      "Sanity Checking: |          | 0/? [00:00<?, ?it/s]"
     ]
    },
    {
     "name": "stdout",
     "output_type": "stream",
     "text": [
      "Epoch 9: 100%|██████████| 2365/2365 [00:17<00:00, 132.74it/s, v_num=3, train_loss=3.020]"
     ]
    },
    {
     "name": "stderr",
     "output_type": "stream",
     "text": [
      "`Trainer.fit` stopped: `max_epochs=10` reached.\n"
     ]
    },
    {
     "name": "stdout",
     "output_type": "stream",
     "text": [
      "Epoch 9: 100%|██████████| 2365/2365 [00:17<00:00, 132.61it/s, v_num=3, train_loss=3.020]\n",
      "CPU times: user 2min 29s, sys: 26.7 s, total: 2min 56s\n",
      "Wall time: 2min 58s\n"
     ]
    }
   ],
   "source": [
    "%%time\n",
    "from pytorch_lightning.callbacks.early_stopping import EarlyStopping\n",
    "\n",
    "class SimpleCNN1D(LightningModule):\n",
    "\n",
    "    def __init__(self):\n",
    "        super(SimpleCNN1D, self).__init__()\n",
    "\n",
    "        # entra (4, 200) => (un canal, longitud de la secuencia)\n",
    "        self.cnn_block = nn.Sequential(\n",
    "            nn.Conv1d(in_channels=4, out_channels=16, kernel_size=3, stride=1),  # sale (16, 198)\n",
    "            nn.ReLU(),\n",
    "            nn.MaxPool1d(kernel_size=3),  # sale (16, 66)\n",
    "            nn.ReLU(),\n",
    "            nn.Conv1d(16, 64, kernel_size=3, stride=1),  # sale (64, 64)\n",
    "            nn.ReLU(),\n",
    "            nn.MaxPool1d(kernel_size=3),  # sale (64, 21)\n",
    "            nn.Flatten(start_dim=1)  # sale (1344)\n",
    "        )\n",
    "\n",
    "        self.fc_block = nn.Sequential(\n",
    "            nn.Linear(1344, 256),\n",
    "            nn.ReLU(),\n",
    "            nn.Linear(256, 64),\n",
    "            nn.ReLU(),\n",
    "            nn.Linear(64, 1)\n",
    "        )\n",
    "\n",
    "        self.hparams['cnn_block'] = str(self.cnn_block)\n",
    "        self.hparams['fc_block'] = str(self.fc_block)\n",
    "        self.save_hyperparameters()\n",
    "\n",
    "    def forward(self, x):\n",
    "        # Debemos intercambiar las dimensiones del tensor de entrada\n",
    "        # Recordemos que entra (batch, sequence_length, feature_dim)\n",
    "        # Las capas Conv1D experan recibir la secuencia en la última dimension\n",
    "        # ya que los kernels se van a desplazar en esta dirección\n",
    "        x = x.permute(0, 2, 1)\n",
    "        x = self.cnn_block(x)\n",
    "        return self.fc_block(x)\n",
    "\n",
    "    def training_step(self, batch, batch_idx):\n",
    "        x, y = batch\n",
    "        y_hat = self(x)\n",
    "        loss = F.mse_loss(y_hat, y.unsqueeze(-1))\n",
    "        self.log('train_loss', loss, prog_bar=True)\n",
    "        return loss\n",
    "\n",
    "    def validation_step(self, batch, batch_idx):\n",
    "        x, y = batch\n",
    "        y_hat = self(x)\n",
    "        loss = F.mse_loss(y_hat, y.unsqueeze(-1))\n",
    "        self.log('val_loss', loss)\n",
    "        return loss\n",
    "\n",
    "    def test_step(self, batch, batch_idx):\n",
    "        x, y = batch\n",
    "        y_hat = self(x)\n",
    "        loss = F.mse_loss(y_hat, y.unsqueeze(-1))\n",
    "        self.log('test_loss', loss)\n",
    "\n",
    "    def predict_step(self, batch):\n",
    "        x, y = batch\n",
    "        return torch.cat([self(x), y.unsqueeze(-1)], axis=-1)\n",
    "\n",
    "    def configure_optimizers(self):\n",
    "        return torch.optim.Adam(self.parameters(), lr=1e-3)\n",
    "\n",
    "cnn1d_model = SimpleCNN1D()\n",
    "\n",
    "tb_logger = TensorBoardLogger('tb_logs', name='SimpleCNN1D')\n",
    "trainer1d = Trainer(max_epochs=10, devices=1, logger=tb_logger, callbacks=[EarlyStopping(monitor='val_loss', mode='min')])\n",
    "trainer1d.fit(cnn1d_model, train_loader, val_loader)"
   ]
  },
  {
   "cell_type": "markdown",
   "metadata": {},
   "source": [
    "Finalizado el entrenamiento procedemos a validar en el conjunto de prueba"
   ]
  },
  {
   "cell_type": "code",
   "execution_count": 11,
   "metadata": {},
   "outputs": [
    {
     "name": "stderr",
     "output_type": "stream",
     "text": [
      "Restoring states from the checkpoint path at tb_logs/SimpleCNN1D/version_3/checkpoints/epoch=9-step=23650.ckpt\n",
      "LOCAL_RANK: 0 - CUDA_VISIBLE_DEVICES: [0]\n",
      "Loaded model weights from the checkpoint at tb_logs/SimpleCNN1D/version_3/checkpoints/epoch=9-step=23650.ckpt\n"
     ]
    },
    {
     "name": "stdout",
     "output_type": "stream",
     "text": [
      "Testing DataLoader 0: 100%|██████████| 82/82 [00:30<00:00,  2.68it/s]\n",
      "────────────────────────────────────────────────────────────────────────────────────────────────────────────────────────\n",
      "       Test metric             DataLoader 0\n",
      "────────────────────────────────────────────────────────────────────────────────────────────────────────────────────────\n",
      "        test_loss            36.12657928466797\n",
      "────────────────────────────────────────────────────────────────────────────────────────────────────────────────────────\n"
     ]
    }
   ],
   "source": [
    "cnn1d_model.eval()\n",
    "test_loader = DataLoader(test_dataset, batch_size=512)\n",
    "result1d = trainer1d.test(dataloaders=test_loader)"
   ]
  },
  {
   "cell_type": "markdown",
   "metadata": {},
   "source": [
    "Ahora comparemos las curvas de aprendizaje de los modelos que hemos entrenado hasta ahora."
   ]
  },
  {
   "cell_type": "code",
   "execution_count": 12,
   "metadata": {},
   "outputs": [],
   "source": [
    "%load_ext tensorboard"
   ]
  },
  {
   "cell_type": "code",
   "execution_count": 13,
   "metadata": {},
   "outputs": [
    {
     "data": {
      "text/html": [
       "\n",
       "      <iframe id=\"tensorboard-frame-80900db1fe3c937d\" width=\"100%\" height=\"800\" frameborder=\"0\">\n",
       "      </iframe>\n",
       "      <script>\n",
       "        (function() {\n",
       "          const frame = document.getElementById(\"tensorboard-frame-80900db1fe3c937d\");\n",
       "          const url = new URL(\"/\", window.location);\n",
       "          const port = 6006;\n",
       "          if (port) {\n",
       "            url.port = port;\n",
       "          }\n",
       "          frame.src = url;\n",
       "        })();\n",
       "      </script>\n",
       "    "
      ],
      "text/plain": [
       "<IPython.core.display.HTML object>"
      ]
     },
     "metadata": {},
     "output_type": "display_data"
    }
   ],
   "source": [
    "%tensorboard --logdir tb_logs/"
   ]
  },
  {
   "cell_type": "markdown",
   "metadata": {},
   "source": [
    "### Resultados interesantes\n",
    "\n",
    "Observamos que en comparación con la pérdida en entrenamiento esta es significativamente mayor, lo cual sugiere que el modelo está memorizando los datos, es decir, estaría haciendo overfitting. Ya sabemos que esto lo podríamos tratar con regularización en la red y/o en la función de pérdida.\n",
    "\n",
    "También, desde el punto de vista de la comparación con los otros modelos, todos los modelos parecen ser superiores al modelo clásico en métricas. Pero recordemos siempre hacer una comprobación visual.\n",
    "\n",
    "| Modelo | MSE Loss |\n",
    "|--------|----------|\n",
    "| SARIMAX| 75.063  |\n",
    "| MLP    | 32.8617  |\n",
    "| LSTM   | 30.6136  |\n",
    "| CNN-2d   | 33.3560  |\n",
    "| CNN-1d   | 36.1265  |\n",
    "\n",
    "## Pronósticos\n",
    "\n",
    "Ya que tenemos varios modelos entrenados, podemos hacer comparaciones entre estos y ver cuales se ajustan mejor a los datos. Para ello vamos a cargar los modelos pre-entrenados que tenemos (estarán disponibles si se han ejecutado los notebooks anterioes y/o se han subido los archivos necesarios en las rutas especificadas)"
   ]
  },
  {
   "cell_type": "code",
   "execution_count": 98,
   "metadata": {},
   "outputs": [
    {
     "name": "stderr",
     "output_type": "stream",
     "text": [
      "GPU available: True (cuda), used: True\n",
      "TPU available: False, using: 0 TPU cores\n",
      "IPU available: False, using: 0 IPUs\n",
      "HPU available: False, using: 0 HPUs\n",
      "LOCAL_RANK: 0 - CUDA_VISIBLE_DEVICES: [0]\n"
     ]
    },
    {
     "name": "stdout",
     "output_type": "stream",
     "text": [
      "Usando tb_logs/SimpleMLP/version_1/checkpoints/epoch=9-step=23650.ckpt\n",
      "Predicting: |          | 0/? [00:00<?, ?it/s]"
     ]
    },
    {
     "name": "stdout",
     "output_type": "stream",
     "text": [
      "Predicting DataLoader 0: 100%|██████████| 82/82 [00:31<00:00,  2.63it/s]"
     ]
    },
    {
     "name": "stderr",
     "output_type": "stream",
     "text": [
      "GPU available: True (cuda), used: True\n",
      "TPU available: False, using: 0 TPU cores\n",
      "IPU available: False, using: 0 IPUs\n",
      "HPU available: False, using: 0 HPUs\n",
      "LOCAL_RANK: 0 - CUDA_VISIBLE_DEVICES: [0]\n"
     ]
    },
    {
     "name": "stdout",
     "output_type": "stream",
     "text": [
      "\n",
      "Usando tb_logs/SimpleLSTM/version_9/checkpoints/epoch=9-step=23650.ckpt\n",
      "Predicting DataLoader 0: 100%|██████████| 82/82 [00:33<00:00,  2.44it/s]"
     ]
    },
    {
     "name": "stderr",
     "output_type": "stream",
     "text": [
      "GPU available: True (cuda), used: True\n",
      "TPU available: False, using: 0 TPU cores\n",
      "IPU available: False, using: 0 IPUs\n",
      "HPU available: False, using: 0 HPUs\n",
      "LOCAL_RANK: 0 - CUDA_VISIBLE_DEVICES: [0]\n"
     ]
    },
    {
     "name": "stdout",
     "output_type": "stream",
     "text": [
      "\n",
      "Usando tb_logs/SimpleCNN1D/version_3/checkpoints/epoch=9-step=23650.ckpt\n",
      "Predicting DataLoader 0: 100%|██████████| 82/82 [00:31<00:00,  2.61it/s]"
     ]
    },
    {
     "name": "stderr",
     "output_type": "stream",
     "text": [
      "GPU available: True (cuda), used: True\n",
      "TPU available: False, using: 0 TPU cores\n",
      "IPU available: False, using: 0 IPUs\n",
      "HPU available: False, using: 0 HPUs\n",
      "LOCAL_RANK: 0 - CUDA_VISIBLE_DEVICES: [0]\n"
     ]
    },
    {
     "name": "stdout",
     "output_type": "stream",
     "text": [
      "\n",
      "Usando tb_logs/SimpleCNN2D/version_3/checkpoints/epoch=9-step=23650.ckpt\n",
      "Predicting DataLoader 0: 100%|██████████| 82/82 [00:30<00:00,  2.67it/s]\n"
     ]
    }
   ],
   "source": [
    "from time_series_models import SimpleMLP, SimpleLSTM\n",
    "\n",
    "steps = 2000\n",
    "# Por defecto se cargarán los últimos modelos en sus respectivos directorios.\n",
    "# Pueden modificar las rutas a un modelo fijo especifico si lo desean.\n",
    "models = {\n",
    "    \"mlp\": os.path.join(\"tb_logs/SimpleMLP\", sorted(os.listdir('tb_logs/SimpleMLP/'))[-1]),\n",
    "    \"lstm\": os.path.join(\"tb_logs/SimpleLSTM\", sorted(os.listdir('tb_logs/SimpleLSTM/'))[-1]),\n",
    "    \"cnn1d\": os.path.join(\"tb_logs/SimpleCNN1D\", sorted(os.listdir('tb_logs/SimpleCNN1D/'))[-1]),\n",
    "    \"cnn2d\": os.path.join(\"tb_logs/SimpleCNN2D\", sorted(os.listdir('tb_logs/SimpleCNN2D/'))[-1]),\n",
    "}\n",
    "\n",
    "predictions = {\n",
    "    \"sarimax\": sarimax_preds[-steps-10:][:-10],\n",
    "}\n",
    "\n",
    "added_ground_truth = False\n",
    "\n",
    "for name, path in models.items():\n",
    "    cp_path = os.path.join(path, 'checkpoints')\n",
    "    cp_file = os.path.join(cp_path, os.listdir(cp_path)[0])\n",
    "    relative_path = os.path.relpath(cp_file, os.getcwd())\n",
    "    print(f\"Usando {cp_file}\")\n",
    "    if name == \"mlp\":\n",
    "        model = SimpleMLP.load_from_checkpoint(cp_file)\n",
    "    elif name == \"lstm\":\n",
    "        model = SimpleLSTM.load_from_checkpoint(cp_file)\n",
    "    elif name == \"cnn1d\":\n",
    "        model = SimpleCNN1D.load_from_checkpoint(cp_file)\n",
    "    elif name == \"cnn2d\":\n",
    "        model = SimpleCNN2D.load_from_checkpoint(cp_file)\n",
    "    else:\n",
    "        raise ValueError(f\"Modelo no válido: {name}\")\n",
    "\n",
    "    trainer = Trainer()\n",
    "    batched_preds = trainer.predict(model, dataloaders=test_loader)\n",
    "    preds = np.concatenate([b.numpy() for b in batched_preds])\n",
    "    predictions[name] = preds[-steps:, 0]\n",
    "\n",
    "    if not added_ground_truth:\n",
    "        predictions['ground_truth'] = preds[-steps:, 1]\n",
    "        added_ground_truth = True\n",
    "    "
   ]
  },
  {
   "cell_type": "code",
   "execution_count": 99,
   "metadata": {},
   "outputs": [
    {
     "data": {
      "text/html": [
       "    <style>\n",
       "        .bk-notebook-logo {\n",
       "            display: block;\n",
       "            width: 20px;\n",
       "            height: 20px;\n",
       "            background-image: url(data:image/png;base64,iVBORw0KGgoAAAANSUhEUgAAABQAAAAUCAYAAACNiR0NAAAABHNCSVQICAgIfAhkiAAAAAlwSFlzAAALEgAACxIB0t1+/AAAABx0RVh0U29mdHdhcmUAQWRvYmUgRmlyZXdvcmtzIENTNui8sowAAAOkSURBVDiNjZRtaJVlGMd/1/08zzln5zjP1LWcU9N0NkN8m2CYjpgQYQXqSs0I84OLIC0hkEKoPtiH3gmKoiJDU7QpLgoLjLIQCpEsNJ1vqUOdO7ppbuec5+V+rj4ctwzd8IIbbi6u+8f1539dt3A78eXC7QizUF7gyV1fD1Yqg4JWz84yffhm0qkFqBogB9rM8tZdtwVsPUhWhGcFJngGeWrPzHm5oaMmkfEg1usvLFyc8jLRqDOMru7AyC8saQr7GG7f5fvDeH7Ej8CM66nIF+8yngt6HWaKh7k49Soy9nXurCi1o3qUbS3zWfrYeQDTB/Qj6kX6Ybhw4B+bOYoLKCC9H3Nu/leUTZ1JdRWkkn2ldcCamzrcf47KKXdAJllSlxAOkRgyHsGC/zRday5Qld9DyoM4/q/rUoy/CXh3jzOu3bHUVZeU+DEn8FInkPBFlu3+nW3Nw0mk6vCDiWg8CeJaxEwuHS3+z5RgY+YBR6V1Z1nxSOfoaPa4LASWxxdNp+VWTk7+4vzaou8v8PN+xo+KY2xsw6une2frhw05CTYOmQvsEhjhWjn0bmXPjpE1+kplmmkP3suftwTubK9Vq22qKmrBhpY4jvd5afdRA3wGjFAgcnTK2s4hY0/GPNIb0nErGMCRxWOOX64Z8RAC4oCXdklmEvcL8o0BfkNK4lUg9HTl+oPlQxdNo3Mg4Nv175e/1LDGzZen30MEjRUtmXSfiTVu1kK8W4txyV6BMKlbgk3lMwYCiusNy9fVfvvwMxv8Ynl6vxoByANLTWplvuj/nF9m2+PDtt1eiHPBr1oIfhCChQMBw6Aw0UulqTKZdfVvfG7VcfIqLG9bcldL/+pdWTLxLUy8Qq38heUIjh4XlzZxzQm19lLFlr8vdQ97rjZVOLf8nclzckbcD4wxXMidpX30sFd37Fv/GtwwhzhxGVAprjbg0gCAEeIgwCZyTV2Z1REEW8O4py0wsjeloKoMr6iCY6dP92H6Vw/oTyICIthibxjm/DfN9lVz8IqtqKYLUXfoKVMVQVVJOElGjrnnUt9T9wbgp8AyYKaGlqingHZU/uG2NTZSVqwHQTWkx9hxjkpWDaCg6Ckj5qebgBVbT3V3NNXMSiWSDdGV3hrtzla7J+duwPOToIg42ChPQOQjspnSlp1V+Gjdged7+8UN5CRAV7a5EdFNwCjEaBR27b3W890TE7g24NAP/mMDXRWrGoFPQI9ls/MWO2dWFAar/xcOIImbbpA3zgAAAABJRU5ErkJggg==);\n",
       "        }\n",
       "    </style>\n",
       "    <div>\n",
       "        <a href=\"https://bokeh.org\" target=\"_blank\" class=\"bk-notebook-logo\"></a>\n",
       "        <span id=\"b0ecd515-2d51-4270-a702-c8dfced36323\">Loading BokehJS ...</span>\n",
       "    </div>\n"
      ]
     },
     "metadata": {},
     "output_type": "display_data"
    },
    {
     "data": {
      "application/javascript": "(function(root) {\n  function now() {\n    return new Date();\n  }\n\n  const force = true;\n\n  if (typeof root._bokeh_onload_callbacks === \"undefined\" || force === true) {\n    root._bokeh_onload_callbacks = [];\n    root._bokeh_is_loading = undefined;\n  }\n\nconst JS_MIME_TYPE = 'application/javascript';\n  const HTML_MIME_TYPE = 'text/html';\n  const EXEC_MIME_TYPE = 'application/vnd.bokehjs_exec.v0+json';\n  const CLASS_NAME = 'output_bokeh rendered_html';\n\n  /**\n   * Render data to the DOM node\n   */\n  function render(props, node) {\n    const script = document.createElement(\"script\");\n    node.appendChild(script);\n  }\n\n  /**\n   * Handle when an output is cleared or removed\n   */\n  function handleClearOutput(event, handle) {\n    function drop(id) {\n      const view = Bokeh.index.get_by_id(id)\n      if (view != null) {\n        view.model.document.clear()\n        Bokeh.index.delete(view)\n      }\n    }\n\n    const cell = handle.cell;\n\n    const id = cell.output_area._bokeh_element_id;\n    const server_id = cell.output_area._bokeh_server_id;\n\n    // Clean up Bokeh references\n    if (id != null) {\n      drop(id)\n    }\n\n    if (server_id !== undefined) {\n      // Clean up Bokeh references\n      const cmd_clean = \"from bokeh.io.state import curstate; print(curstate().uuid_to_server['\" + server_id + \"'].get_sessions()[0].document.roots[0]._id)\";\n      cell.notebook.kernel.execute(cmd_clean, {\n        iopub: {\n          output: function(msg) {\n            const id = msg.content.text.trim()\n            drop(id)\n          }\n        }\n      });\n      // Destroy server and session\n      const cmd_destroy = \"import bokeh.io.notebook as ion; ion.destroy_server('\" + server_id + \"')\";\n      cell.notebook.kernel.execute(cmd_destroy);\n    }\n  }\n\n  /**\n   * Handle when a new output is added\n   */\n  function handleAddOutput(event, handle) {\n    const output_area = handle.output_area;\n    const output = handle.output;\n\n    // limit handleAddOutput to display_data with EXEC_MIME_TYPE content only\n    if ((output.output_type != \"display_data\") || (!Object.prototype.hasOwnProperty.call(output.data, EXEC_MIME_TYPE))) {\n      return\n    }\n\n    const toinsert = output_area.element.find(\".\" + CLASS_NAME.split(' ')[0]);\n\n    if (output.metadata[EXEC_MIME_TYPE][\"id\"] !== undefined) {\n      toinsert[toinsert.length - 1].firstChild.textContent = output.data[JS_MIME_TYPE];\n      // store reference to embed id on output_area\n      output_area._bokeh_element_id = output.metadata[EXEC_MIME_TYPE][\"id\"];\n    }\n    if (output.metadata[EXEC_MIME_TYPE][\"server_id\"] !== undefined) {\n      const bk_div = document.createElement(\"div\");\n      bk_div.innerHTML = output.data[HTML_MIME_TYPE];\n      const script_attrs = bk_div.children[0].attributes;\n      for (let i = 0; i < script_attrs.length; i++) {\n        toinsert[toinsert.length - 1].firstChild.setAttribute(script_attrs[i].name, script_attrs[i].value);\n        toinsert[toinsert.length - 1].firstChild.textContent = bk_div.children[0].textContent\n      }\n      // store reference to server id on output_area\n      output_area._bokeh_server_id = output.metadata[EXEC_MIME_TYPE][\"server_id\"];\n    }\n  }\n\n  function register_renderer(events, OutputArea) {\n\n    function append_mime(data, metadata, element) {\n      // create a DOM node to render to\n      const toinsert = this.create_output_subarea(\n        metadata,\n        CLASS_NAME,\n        EXEC_MIME_TYPE\n      );\n      this.keyboard_manager.register_events(toinsert);\n      // Render to node\n      const props = {data: data, metadata: metadata[EXEC_MIME_TYPE]};\n      render(props, toinsert[toinsert.length - 1]);\n      element.append(toinsert);\n      return toinsert\n    }\n\n    /* Handle when an output is cleared or removed */\n    events.on('clear_output.CodeCell', handleClearOutput);\n    events.on('delete.Cell', handleClearOutput);\n\n    /* Handle when a new output is added */\n    events.on('output_added.OutputArea', handleAddOutput);\n\n    /**\n     * Register the mime type and append_mime function with output_area\n     */\n    OutputArea.prototype.register_mime_type(EXEC_MIME_TYPE, append_mime, {\n      /* Is output safe? */\n      safe: true,\n      /* Index of renderer in `output_area.display_order` */\n      index: 0\n    });\n  }\n\n  // register the mime type if in Jupyter Notebook environment and previously unregistered\n  if (root.Jupyter !== undefined) {\n    const events = require('base/js/events');\n    const OutputArea = require('notebook/js/outputarea').OutputArea;\n\n    if (OutputArea.prototype.mime_types().indexOf(EXEC_MIME_TYPE) == -1) {\n      register_renderer(events, OutputArea);\n    }\n  }\n  if (typeof (root._bokeh_timeout) === \"undefined\" || force === true) {\n    root._bokeh_timeout = Date.now() + 5000;\n    root._bokeh_failed_load = false;\n  }\n\n  const NB_LOAD_WARNING = {'data': {'text/html':\n     \"<div style='background-color: #fdd'>\\n\"+\n     \"<p>\\n\"+\n     \"BokehJS does not appear to have successfully loaded. If loading BokehJS from CDN, this \\n\"+\n     \"may be due to a slow or bad network connection. Possible fixes:\\n\"+\n     \"</p>\\n\"+\n     \"<ul>\\n\"+\n     \"<li>re-rerun `output_notebook()` to attempt to load from CDN again, or</li>\\n\"+\n     \"<li>use INLINE resources instead, as so:</li>\\n\"+\n     \"</ul>\\n\"+\n     \"<code>\\n\"+\n     \"from bokeh.resources import INLINE\\n\"+\n     \"output_notebook(resources=INLINE)\\n\"+\n     \"</code>\\n\"+\n     \"</div>\"}};\n\n  function display_loaded() {\n    const el = document.getElementById(\"b0ecd515-2d51-4270-a702-c8dfced36323\");\n    if (el != null) {\n      el.textContent = \"BokehJS is loading...\";\n    }\n    if (root.Bokeh !== undefined) {\n      if (el != null) {\n        el.textContent = \"BokehJS \" + root.Bokeh.version + \" successfully loaded.\";\n      }\n    } else if (Date.now() < root._bokeh_timeout) {\n      setTimeout(display_loaded, 100)\n    }\n  }\n\n  function run_callbacks() {\n    try {\n      root._bokeh_onload_callbacks.forEach(function(callback) {\n        if (callback != null)\n          callback();\n      });\n    } finally {\n      delete root._bokeh_onload_callbacks\n    }\n    console.debug(\"Bokeh: all callbacks have finished\");\n  }\n\n  function load_libs(css_urls, js_urls, callback) {\n    if (css_urls == null) css_urls = [];\n    if (js_urls == null) js_urls = [];\n\n    root._bokeh_onload_callbacks.push(callback);\n    if (root._bokeh_is_loading > 0) {\n      console.debug(\"Bokeh: BokehJS is being loaded, scheduling callback at\", now());\n      return null;\n    }\n    if (js_urls == null || js_urls.length === 0) {\n      run_callbacks();\n      return null;\n    }\n    console.debug(\"Bokeh: BokehJS not loaded, scheduling load and callback at\", now());\n    root._bokeh_is_loading = css_urls.length + js_urls.length;\n\n    function on_load() {\n      root._bokeh_is_loading--;\n      if (root._bokeh_is_loading === 0) {\n        console.debug(\"Bokeh: all BokehJS libraries/stylesheets loaded\");\n        run_callbacks()\n      }\n    }\n\n    function on_error(url) {\n      console.error(\"failed to load \" + url);\n    }\n\n    for (let i = 0; i < css_urls.length; i++) {\n      const url = css_urls[i];\n      const element = document.createElement(\"link\");\n      element.onload = on_load;\n      element.onerror = on_error.bind(null, url);\n      element.rel = \"stylesheet\";\n      element.type = \"text/css\";\n      element.href = url;\n      console.debug(\"Bokeh: injecting link tag for BokehJS stylesheet: \", url);\n      document.body.appendChild(element);\n    }\n\n    for (let i = 0; i < js_urls.length; i++) {\n      const url = js_urls[i];\n      const element = document.createElement('script');\n      element.onload = on_load;\n      element.onerror = on_error.bind(null, url);\n      element.async = false;\n      element.src = url;\n      console.debug(\"Bokeh: injecting script tag for BokehJS library: \", url);\n      document.head.appendChild(element);\n    }\n  };\n\n  function inject_raw_css(css) {\n    const element = document.createElement(\"style\");\n    element.appendChild(document.createTextNode(css));\n    document.body.appendChild(element);\n  }\n\n  const js_urls = [\"https://cdn.bokeh.org/bokeh/release/bokeh-3.3.4.min.js\", \"https://cdn.bokeh.org/bokeh/release/bokeh-gl-3.3.4.min.js\", \"https://cdn.bokeh.org/bokeh/release/bokeh-widgets-3.3.4.min.js\", \"https://cdn.bokeh.org/bokeh/release/bokeh-tables-3.3.4.min.js\", \"https://cdn.bokeh.org/bokeh/release/bokeh-mathjax-3.3.4.min.js\"];\n  const css_urls = [];\n\n  const inline_js = [    function(Bokeh) {\n      Bokeh.set_log_level(\"info\");\n    },\nfunction(Bokeh) {\n    }\n  ];\n\n  function run_inline_js() {\n    if (root.Bokeh !== undefined || force === true) {\n          for (let i = 0; i < inline_js.length; i++) {\n      inline_js[i].call(root, root.Bokeh);\n    }\nif (force === true) {\n        display_loaded();\n      }} else if (Date.now() < root._bokeh_timeout) {\n      setTimeout(run_inline_js, 100);\n    } else if (!root._bokeh_failed_load) {\n      console.log(\"Bokeh: BokehJS failed to load within specified timeout.\");\n      root._bokeh_failed_load = true;\n    } else if (force !== true) {\n      const cell = $(document.getElementById(\"b0ecd515-2d51-4270-a702-c8dfced36323\")).parents('.cell').data().cell;\n      cell.output_area.append_execute_result(NB_LOAD_WARNING)\n    }\n  }\n\n  if (root._bokeh_is_loading === 0) {\n    console.debug(\"Bokeh: BokehJS loaded, going straight to plotting\");\n    run_inline_js();\n  } else {\n    load_libs(css_urls, js_urls, function() {\n      console.debug(\"Bokeh: BokehJS plotting callback run at\", now());\n      run_inline_js();\n    });\n  }\n}(window));",
      "application/vnd.bokehjs_load.v0+json": ""
     },
     "metadata": {},
     "output_type": "display_data"
    }
   ],
   "source": [
    "from bokeh.io import output_notebook\n",
    "\n",
    "output_notebook()"
   ]
  },
  {
   "cell_type": "code",
   "execution_count": 100,
   "metadata": {},
   "outputs": [
    {
     "data": {
      "text/html": [
       "\n",
       "  <div id=\"be2bc405-fbef-4c96-b4e8-97dee549c1a2\" data-root-id=\"p5994\" style=\"display: contents;\"></div>\n"
      ]
     },
     "metadata": {},
     "output_type": "display_data"
    },
    {
     "data": {
      "application/javascript": "(function(root) {\n  function embed_document(root) {\n  const docs_json = {\"45c64c0e-2702-4dc5-be66-4d3caeac1c97\":{\"version\":\"3.3.4\",\"title\":\"Bokeh Application\",\"roots\":[{\"type\":\"object\",\"name\":\"Figure\",\"id\":\"p5994\",\"attributes\":{\"width_policy\":\"max\",\"x_range\":{\"type\":\"object\",\"name\":\"DataRange1d\",\"id\":\"p5995\"},\"y_range\":{\"type\":\"object\",\"name\":\"DataRange1d\",\"id\":\"p5996\"},\"x_scale\":{\"type\":\"object\",\"name\":\"LinearScale\",\"id\":\"p6004\"},\"y_scale\":{\"type\":\"object\",\"name\":\"LinearScale\",\"id\":\"p6005\"},\"title\":{\"type\":\"object\",\"name\":\"Title\",\"id\":\"p5997\",\"attributes\":{\"text\":\"Comparaci\\u00f3n visual entre pron\\u00f3sticos y realidad\"}},\"renderers\":[{\"type\":\"object\",\"name\":\"GlyphRenderer\",\"id\":\"p6034\",\"attributes\":{\"data_source\":{\"type\":\"object\",\"name\":\"ColumnDataSource\",\"id\":\"p5991\",\"attributes\":{\"selected\":{\"type\":\"object\",\"name\":\"Selection\",\"id\":\"p5992\",\"attributes\":{\"indices\":[],\"line_indices\":[]}},\"selection_policy\":{\"type\":\"object\",\"name\":\"UnionRenderers\",\"id\":\"p5993\"},\"data\":{\"type\":\"map\",\"entries\":[[\"x\",[{\"type\":\"ndarray\",\"array\":{\"type\":\"bytes\",\"data\":\"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\"},\"shape\":[2000],\"dtype\":\"int32\",\"order\":\"little\"},{\"type\":\"ndarray\",\"array\":{\"type\":\"bytes\",\"data\":\"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\"},\"shape\":[2000],\"dtype\":\"int32\",\"order\":\"little\"},{\"type\":\"ndarray\",\"array\":{\"type\":\"bytes\",\"data\":\"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\"},\"shape\":[2000],\"dtype\":\"int32\",\"order\":\"little\"},{\"type\":\"ndarray\",\"array\":{\"type\":\"bytes\",\"data\":\"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\"},\"shape\":[2000],\"dtype\":\"int32\",\"order\":\"little\"},{\"type\":\"ndarray\",\"array\":{\"type\":\"bytes\",\"data\":\"7WIGAO5iBgDvYgYA8GIGAPFiBgDyYgYA82IGAPRiBgD1YgYA9mIGAPdiBgD4YgYA+WIGAPpiBgD7YgYA/GIGAP1iBgD+YgYA/2IGAABjBgABYwYAAmMGAANjBgAEYwYABWMGAAZjBgAHYwYACGMGAAljBgAKYwYAC2MGAAxjBgANYwYADmMGAA9jBgAQYwYAEWMGABJjBgATYwYAFGMGABVjBgAWYwYAF2MGABhjBgAZYwYAGmMGABtjBgAcYwYAHWMGAB5jBgAfYwYAIGMGACFjBgAiYwYAI2MGACRjBgAlYwYAJmMGACdjBgAoYwYAKWMGACpjBgArYwYALGMGAC1jBgAuYwYAL2MGADBjBgAxYwYAMmMGADNjBgA0YwYANWMGADZjBgA3YwYAOGMGADljBgA6YwYAO2MGADxjBgA9YwYAPmMGAD9jBgBAYwYAQWMGAEJjBgBDYwYARGMGAEVjBgBGYwYAR2MGAEhjBgBJYwYASmMGAEtjBgBMYwYATWMGAE5jBgBPYwYAUGMGAFFjBgBSYwYAU2MGAFRjBgBVYwYAVmMGAFdjBgBYYwYAWWMGAFpjBgBbYwYAXGMGAF1jBgBeYwYAX2MGAGBjBgBhYwYAYmMGAGNjBgBkYwYAZWMGAGZjBgBnYwYAaGMGAGljBgBqYwYAa2MGAGxjBgBtYwYAbmMGAG9jBgBwYwYAcWMGAHJjBgBzYwYAdGMGAHVjBgB2YwYAd2MGAHhjBgB5YwYAemMGAHtjBgB8YwYAfWMGAH5jBgB/YwYAgGMGAIFjBgCCYwYAg2MGAIRjBgCFYwYAhmMGAIdjBgCIYwYAiWMGAIpjBgCLYwYAjGMGAI1jBgCOYwYAj2MGAJBjBgCRYwYAkmMGAJNjBgCUYwYAlWMGAJZjBgCXYwYAmGMGAJljBgCaYwYAm2MGAJxjBgCdYwYAnmMGAJ9jBgCgYwYAoWMGAKJjBgCjYwYApGMGAKVjBgCmYwYAp2MGAKhjBgCpYwYAqmMGAKtjBgCsYwYArWMGAK5jBgCvYwYAsGMGALFjBgCyYwYAs2MGALRjBgC1YwYAtmMGALdjBgC4YwYAuWMGALpjBgC7YwYAvGMGAL1jBgC+YwYAv2MGAMBjBgDBYwYAwmMGAMNjBgDEYwYAxWMGAMZjBgDHYwYAyGMGAMljBgDKYwYAy2MGAMxjBgDNYwYAzmMGAM9jBgDQYwYA0WMGANJjBgDTYwYA1GMGANVjBgDWYwYA12MGANhjBgDZYwYA2mMGANtjBgDcYwYA3WMGAN5jBgDfYwYA4GMGAOFjBgDiYwYA42MGAORjBgDlYwYA5mMGAOdjBgDoYwYA6WMGAOpjBgDrYwYA7GMGAO1jBgDuYwYA72MGAPBjBgDxYwYA8mMGAPNjBgD0YwYA9WMGAPZjBgD3YwYA+GMGAPljBgD6YwYA+2MGAPxjBgD9YwYA/mMGAP9jBgAAZAYAAWQGAAJkBgADZAYABGQGAAVkBgAGZAYAB2QGAAhkBgAJZAYACmQGAAtkBgAMZAYADWQGAA5kBgAPZAYAEGQGABFkBgASZAYAE2QGABRkBgAVZAYAFmQGABdkBgAYZAYAGWQGABpkBgAbZAYAHGQGAB1kBgAeZAYAH2QGACBkBgAhZAYAImQGACNkBgAkZAYAJWQGACZkBgAnZAYAKGQGAClkBgAqZAYAK2QGACxkBgAtZAYALmQGAC9kBgAwZAYAMWQGADJkBgAzZAYANGQGADVkBgA2ZAYAN2QGADhkBgA5ZAYAOmQGADtkBgA8ZAYAPWQGAD5kBgA/ZAYAQGQGAEFkBgBCZAYAQ2QGAERkBgBFZAYARmQGAEdkBgBIZAYASWQGAEpkBgBLZAYATGQGAE1kBgBOZAYAT2QGAFBkBgBRZAYAUmQGAFNkBgBUZAYAVWQGAFZkBgBXZAYAWGQGAFlkBgBaZAYAW2QGAFxkBgBdZAYAXmQGAF9kBgBgZAYAYWQGAGJkBgBjZAYAZGQGAGVkBgBmZAYAZ2QGAGhkBgBpZAYAamQGAGtkBgBsZAYAbWQGAG5kBgBvZAYAcGQGAHFkBgByZAYAc2QGAHRkBgB1ZAYAdmQGAHdkBgB4ZAYAeWQGAHpkBgB7ZAYAfGQGAH1kBgB+ZAYAf2QGAIBkBgCBZAYAgmQGAINkBgCEZAYAhWQGAIZkBgCHZAYAiGQGAIlkBgCKZAYAi2QGAIxkBgCNZAYAjmQGAI9kBgCQZAYAkWQGAJJkBgCTZAYAlGQGAJVkBgCWZAYAl2QGAJhkBgCZZAYAmmQGAJtkBgCcZAYAnWQGAJ5kBgCfZAYAoGQGAKFkBgCiZAYAo2QGAKRkBgClZAYApmQGAKdkBgCoZAYAqWQGAKpkBgCrZAYArGQGAK1kBgCuZAYAr2QGALBkBgCxZAYAsmQGALNkBgC0ZAYAtWQGALZkBgC3ZAYAuGQGALlkBgC6ZAYAu2QGALxkBgC9ZAYAvmQGAL9kBgDAZAYAwWQGAMJkBgDDZAYAxGQGAMVkBgDGZAYAx2QGAMhkBgDJZAYAymQGAMtkBgDMZAYAzWQGAM5kBgDPZAYA0GQGANFkBgDSZAYA02QGANRkBgDVZAYA1mQGANdkBgDYZAYA2WQGANpkBgDbZAYA3GQGAN1kBgDeZAYA32QGAOBkBgDhZAYA4mQGAONkBgDkZAYA5WQGAOZkBgDnZAYA6GQGAOlkBgDqZAYA62QGAOxkBgDtZAYA7mQGAO9kBgDwZAYA8WQGAPJkBgDzZAYA9GQGAPVkBgD2ZAYA92QGAPhkBgD5ZAYA+mQGAPtkBgD8ZAYA/WQGAP5kBgD/ZAYAAGUGAAFlBgACZQYAA2UGAARlBgAFZQYABmUGAAdlBgAIZQYACWUGAAplBgALZQYADGUGAA1lBgAOZQYAD2UGABBlBgARZQYAEmUGABNlBgAUZQYAFWUGABZlBgAXZQYAGGUGABllBgAaZQYAG2UGABxlBgAdZQYAHmUGAB9lBgAgZQYAIWUGACJlBgAjZQYAJGUGACVlBgAmZQYAJ2UGAChlBgApZQYAKmUGACtlBgAsZQYALWUGAC5lBgAvZQYAMGUGADFlBgAyZQYAM2UGADRlBgA1ZQYANmUGADdlBgA4ZQYAOWUGADplBgA7ZQYAPGUGAD1lBgA+ZQYAP2UGAEBlBgBBZQYAQmUGAENlBgBEZQYARWUGAEZlBgBHZQYASGUGAEllBgBKZQYAS2UGAExlBgBNZQYATmUGAE9lBgBQZQYAUWUGAFJlBgBTZQYAVGUGAFVlBgBWZQYAV2UGAFhlBgBZZQYAWmUGAFtlBgBcZQYAXWUGAF5lBgBfZQYAYGUGAGFlBgBiZQYAY2UGAGRlBgBlZQYAZmUGAGdlBgBoZQYAaWUGAGplBgBrZQYAbGUGAG1lBgBuZQYAb2UGAHBlBgBxZQYAcmUGAHNlBgB0ZQYAdWUGAHZlBgB3ZQYAeGUGAHllBgB6ZQYAe2UGAHxlBgB9ZQYAfmUGAH9lBgCAZQYAgWUGAIJlBgCDZQYAhGUGAIVlBgCGZQYAh2UGAIhlBgCJZQYAimUGAItlBgCMZQYAjWUGAI5lBgCPZQYAkGUGAJFlBgCSZQYAk2UGAJRlBgCVZQYAlmUGAJdlBgCYZQYAmWUGAJplBgCbZQYAnGUGAJ1lBgCeZQYAn2UGAKBlBgChZQYAomUGAKNlBgCkZQYApWUGAKZlBgCnZQYAqGUGAKllBgCqZQYAq2UGAKxlBgCtZQYArmUGAK9lBgCwZQYAsWUGALJlBgCzZQYAtGUGALVlBgC2ZQYAt2UGALhlBgC5ZQYAumUGALtlBgC8ZQYAvWUGAL5lBgC/ZQYAwGUGAMFlBgDCZQYAw2UGAMRlBgDFZQYAxmUGAMdlBgDIZQYAyWUGAMplBgDLZQYAzGUGAM1lBgDOZQYAz2UGANBlBgDRZQYA0mUGANNlBgDUZQYA1WUGANZlBgDXZQYA2GUGANllBgDaZQYA22UGANxlBgDdZQYA3mUGAN9lBgDgZQYA4WUGAOJlBgDjZQYA5GUGAOVlBgDmZQYA52UGAOhlBgDpZQYA6mUGAOtlBgDsZQYA7WUGAO5lBgDvZQYA8GUGAPFlBgDyZQYA82UGAPRlBgD1ZQYA9mUGAPdlBgD4ZQYA+WUGAPplBgD7ZQYA/GUGAP1lBgD+ZQYA/2UGAABmBgABZgYAAmYGAANmBgAEZgYABWYGAAZmBgAHZgYACGYGAAlmBgAKZgYAC2YGAAxmBgANZgYADmYGAA9mBgAQZgYAEWYGABJmBgATZgYAFGYGABVmBgAWZgYAF2YGABhmBgAZZgYAGmYGABtmBgAcZgYAHWYGAB5mBgAfZgYAIGYGACFmBgAiZgYAI2YGACRmBgAlZgYAJmYGACdmBgAoZgYAKWYGACpmBgArZgYALGYGAC1mBgAuZgYAL2YGADBmBgAxZgYAMmYGADNmBgA0ZgYANWYGADZmBgA3ZgYAOGYGADlmBgA6ZgYAO2YGADxmBgA9ZgYAPmYGAD9mBgBAZgYAQWYGAEJmBgBDZgYARGYGAEVmBgBGZgYAR2YGAEhmBgBJZgYASmYGAEtmBgBMZgYATWYGAE5mBgBPZgYAUGYGAFFmBgBSZgYAU2YGAFRmBgBVZgYAVmYGAFdmBgBYZgYAWWYGAFpmBgBbZgYAXGYGAF1mBgBeZgYAX2YGAGBmBgBhZgYAYmYGAGNmBgBkZgYAZWYGAGZmBgBnZgYAaGYGAGlmBgBqZgYAa2YGAGxmBgBtZgYAbmYGAG9mBgBwZgYAcWYGAHJmBgBzZgYAdGYGAHVmBgB2ZgYAd2YGAHhmBgB5ZgYAemYGAHtmBgB8ZgYAfWYGAH5mBgB/ZgYAgGYGAIFmBgCCZgYAg2YGAIRmBgCFZgYAhmYGAIdmBgCIZgYAiWYGAIpmBgCLZgYAjGYGAI1mBgCOZgYAj2YGAJBmBgCRZgYAkmYGAJNmBgCUZgYAlWYGAJZmBgCXZgYAmGYGAJlmBgCaZgYAm2YGAJxmBgCdZgYAnmYGAJ9mBgCgZgYAoWYGAKJmBgCjZgYApGYGAKVmBgCmZgYAp2YGAKhmBgCpZgYAqmYGAKtmBgCsZgYArWYGAK5mBgCvZgYAsGYGALFmBgCyZgYAs2YGALRmBgC1ZgYAtmYGALdmBgC4ZgYAuWYGALpmBgC7ZgYAvGYGAL1mBgC+ZgYAv2YGAMBmBgDBZgYAwmYGAMNmBgDEZgYAxWYGAMZmBgDHZgYAyGYGAMlmBgDKZgYAy2YGAMxmBgDNZgYAzmYGAM9mBgDQZgYA0WYGANJmBgDTZgYA1GYGANVmBgDWZgYA12YGANhmBgDZZgYA2mYGANtmBgDcZgYA3WYGAN5mBgDfZgYA4GYGAOFmBgDiZgYA42YGAORmBgDlZgYA5mYGAOdmBgDoZgYA6WYGAOpmBgDrZgYA7GYGAO1mBgDuZgYA72YGAPBmBgDxZgYA8mYGAPNmBgD0ZgYA9WYGAPZmBgD3ZgYA+GYGAPlmBgD6ZgYA+2YGAPxmBgD9ZgYA/mYGAP9mBgAAZwYAAWcGAAJnBgADZwYABGcGAAVnBgAGZwYAB2cGAAhnBgAJZwYACmcGAAtnBgAMZwYADWcGAA5nBgAPZwYAEGcGABFnBgASZwYAE2cGABRnBgAVZwYAFmcGABdnBgAYZwYAGWcGABpnBgAbZwYAHGcGAB1nBgAeZwYAH2cGACBnBgAhZwYAImcGACNnBgAkZwYAJWcGACZnBgAnZwYAKGcGAClnBgAqZwYAK2cGACxnBgAtZwYALmcGAC9nBgAwZwYAMWcGADJnBgAzZwYANGcGADVnBgA2ZwYAN2cGADhnBgA5ZwYAOmcGADtnBgA8ZwYAPWcGAD5nBgA/ZwYAQGcGAEFnBgBCZwYAQ2cGAERnBgBFZwYARmcGAEdnBgBIZwYASWcGAEpnBgBLZwYATGcGAE1nBgBOZwYAT2cGAFBnBgBRZwYAUmcGAFNnBgBUZwYAVWcGAFZnBgBXZwYAWGcGAFlnBgBaZwYAW2cGAFxnBgBdZwYAXmcGAF9nBgBgZwYAYWcGAGJnBgBjZwYAZGcGAGVnBgBmZwYAZ2cGAGhnBgBpZwYAamcGAGtnBgBsZwYAbWcGAG5nBgBvZwYAcGcGAHFnBgByZwYAc2cGAHRnBgB1ZwYAdmcGAHdnBgB4ZwYAeWcGAHpnBgB7ZwYAfGcGAH1nBgB+ZwYAf2cGAIBnBgCBZwYAgmcGAINnBgCEZwYAhWcGAIZnBgCHZwYAiGcGAIlnBgCKZwYAi2cGAIxnBgCNZwYAjmcGAI9nBgCQZwYAkWcGAJJnBgCTZwYAlGcGAJVnBgCWZwYAl2cGAJhnBgCZZwYAmmcGAJtnBgCcZwYAnWcGAJ5nBgCfZwYAoGcGAKFnBgCiZwYAo2cGAKRnBgClZwYApmcGAKdnBgCoZwYAqWcGAKpnBgCrZwYArGcGAK1nBgCuZwYAr2cGALBnBgCxZwYAsmcGALNnBgC0ZwYAtWcGALZnBgC3ZwYAuGcGALlnBgC6ZwYAu2cGALxnBgC9ZwYAvmcGAL9nBgDAZwYAwWcGAMJnBgDDZwYAxGcGAMVnBgDGZwYAx2cGAMhnBgDJZwYAymcGAMtnBgDMZwYAzWcGAM5nBgDPZwYA0GcGANFnBgDSZwYA02cGANRnBgDVZwYA1mcGANdnBgDYZwYA2WcGANpnBgDbZwYA3GcGAN1nBgDeZwYA32cGAOBnBgDhZwYA4mcGAONnBgDkZwYA5WcGAOZnBgDnZwYA6GcGAOlnBgDqZwYA62cGAOxnBgDtZwYA7mcGAO9nBgDwZwYA8WcGAPJnBgDzZwYA9GcGAPVnBgD2ZwYA92cGAPhnBgD5ZwYA+mcGAPtnBgD8ZwYA/WcGAP5nBgD/ZwYAAGgGAAFoBgACaAYAA2gGAARoBgAFaAYABmgGAAdoBgAIaAYACWgGAApoBgALaAYADGgGAA1oBgAOaAYAD2gGABBoBgARaAYAEmgGABNoBgAUaAYAFWgGABZoBgAXaAYAGGgGABloBgAaaAYAG2gGABxoBgAdaAYAHmgGAB9oBgAgaAYAIWgGACJoBgAjaAYAJGgGACVoBgAmaAYAJ2gGAChoBgApaAYAKmgGACtoBgAsaAYALWgGAC5oBgAvaAYAMGgGADFoBgAyaAYAM2gGADRoBgA1aAYANmgGADdoBgA4aAYAOWgGADpoBgA7aAYAPGgGAD1oBgA+aAYAP2gGAEBoBgBBaAYAQmgGAENoBgBEaAYARWgGAEZoBgBHaAYASGgGAEloBgBKaAYAS2gGAExoBgBNaAYATmgGAE9oBgBQaAYAUWgGAFJoBgBTaAYAVGgGAFVoBgBWaAYAV2gGAFhoBgBZaAYAWmgGAFtoBgBcaAYAXWgGAF5oBgBfaAYAYGgGAGFoBgBiaAYAY2gGAGRoBgBlaAYAZmgGAGdoBgBoaAYAaWgGAGpoBgBraAYAbGgGAG1oBgBuaAYAb2gGAHBoBgBxaAYAcmgGAHNoBgB0aAYAdWgGAHZoBgB3aAYAeGgGAHloBgB6aAYAe2gGAHxoBgB9aAYAfmgGAH9oBgCAaAYAgWgGAIJoBgCDaAYAhGgGAIVoBgCGaAYAh2gGAIhoBgCJaAYAimgGAItoBgCMaAYAjWgGAI5oBgCPaAYAkGgGAJFoBgCSaAYAk2gGAJRoBgCVaAYAlmgGAJdoBgCYaAYAmWgGAJpoBgCbaAYAnGgGAJ1oBgCeaAYAn2gGAKBoBgChaAYAomgGAKNoBgCkaAYApWgGAKZoBgCnaAYAqGgGAKloBgCqaAYAq2gGAKxoBgCtaAYArmgGAK9oBgCwaAYAsWgGALJoBgCzaAYAtGgGALVoBgC2aAYAt2gGALhoBgC5aAYAumgGALtoBgC8aAYAvWgGAL5oBgC/aAYAwGgGAMFoBgDCaAYAw2gGAMRoBgDFaAYAxmgGAMdoBgDIaAYAyWgGAMpoBgDLaAYAzGgGAM1oBgDOaAYAz2gGANBoBgDRaAYA0mgGANNoBgDUaAYA1WgGANZoBgDXaAYA2GgGANloBgDaaAYA22gGANxoBgDdaAYA3mgGAN9oBgDgaAYA4WgGAOJoBgDjaAYA5GgGAOVoBgDmaAYA52gGAOhoBgDpaAYA6mgGAOtoBgDsaAYA7WgGAO5oBgDvaAYA8GgGAPFoBgDyaAYA82gGAPRoBgD1aAYA9mgGAPdoBgD4aAYA+WgGAPpoBgD7aAYA/GgGAP1oBgD+aAYA/2gGAABpBgABaQYAAmkGAANpBgAEaQYABWkGAAZpBgAHaQYACGkGAAlpBgAKaQYAC2kGAAxpBgANaQYADmkGAA9pBgAQaQYAEWkGABJpBgATaQYAFGkGABVpBgAWaQYAF2kGABhpBgAZaQYAGmkGABtpBgAcaQYAHWkGAB5pBgAfaQYAIGkGACFpBgAiaQYAI2kGACRpBgAlaQYAJmkGACdpBgAoaQYAKWkGACppBgAraQYALGkGAC1pBgAuaQYAL2kGADBpBgAxaQYAMmkGADNpBgA0aQYANWkGADZpBgA3aQYAOGkGADlpBgA6aQYAO2kGADxpBgA9aQYAPmkGAD9pBgBAaQYAQWkGAEJpBgBDaQYARGkGAEVpBgBGaQYAR2kGAEhpBgBJaQYASmkGAEtpBgBMaQYATWkGAE5pBgBPaQYAUGkGAFFpBgBSaQYAU2kGAFRpBgBVaQYAVmkGAFdpBgBYaQYAWWkGAFppBgBbaQYAXGkGAF1pBgBeaQYAX2kGAGBpBgBhaQYAYmkGAGNpBgBkaQYAZWkGAGZpBgBnaQYAaGkGAGlpBgBqaQYAa2kGAGxpBgBtaQYAbmkGAG9pBgBwaQYAcWkGAHJpBgBzaQYAdGkGAHVpBgB2aQYAd2kGAHhpBgB5aQYAemkGAHtpBgB8aQYAfWkGAH5pBgB/aQYAgGkGAIFpBgCCaQYAg2kGAIRpBgCFaQYAhmkGAIdpBgCIaQYAiWkGAIppBgCLaQYAjGkGAI1pBgCOaQYAj2kGAJBpBgCRaQYAkmkGAJNpBgCUaQYAlWkGAJZpBgCXaQYAmGkGAJlpBgCaaQYAm2kGAJxpBgCdaQYAnmkGAJ9pBgCgaQYAoWkGAKJpBgCjaQYApGkGAKVpBgCmaQYAp2kGAKhpBgCpaQYAqmkGAKtpBgCsaQYArWkGAK5pBgCvaQYAsGkGALFpBgCyaQYAs2kGALRpBgC1aQYAtmkGALdpBgC4aQYAuWkGALppBgC7aQYAvGkGAL1pBgC+aQYAv2kGAMBpBgDBaQYAwmkGAMNpBgDEaQYAxWkGAMZpBgDHaQYAyGkGAMlpBgDKaQYAy2kGAMxpBgDNaQYAzmkGAM9pBgDQaQYA0WkGANJpBgDTaQYA1GkGANVpBgDWaQYA12kGANhpBgDZaQYA2mkGANtpBgDcaQYA3WkGAN5pBgDfaQYA4GkGAOFpBgDiaQYA42kGAORpBgDlaQYA5mkGAOdpBgDoaQYA6WkGAOppBgDraQYA7GkGAO1pBgDuaQYA72kGAPBpBgDxaQYA8mkGAPNpBgD0aQYA9WkGAPZpBgD3aQYA+GkGAPlpBgD6aQYA+2kGAPxpBgD9aQYA/mkGAP9pBgAAagYAAWoGAAJqBgADagYABGoGAAVqBgAGagYAB2oGAAhqBgAJagYACmoGAAtqBgAMagYADWoGAA5qBgAPagYAEGoGABFqBgASagYAE2oGABRqBgAVagYAFmoGABdqBgAYagYAGWoGABpqBgAbagYAHGoGAB1qBgAeagYAH2oGACBqBgAhagYAImoGACNqBgAkagYAJWoGACZqBgAnagYAKGoGAClqBgAqagYAK2oGACxqBgAtagYALmoGAC9qBgAwagYAMWoGADJqBgAzagYANGoGADVqBgA2agYAN2oGADhqBgA5agYAOmoGADtqBgA8agYAPWoGAD5qBgA/agYAQGoGAEFqBgBCagYAQ2oGAERqBgBFagYARmoGAEdqBgBIagYASWoGAEpqBgBLagYATGoGAE1qBgBOagYAT2oGAFBqBgBRagYAUmoGAFNqBgBUagYAVWoGAFZqBgBXagYAWGoGAFlqBgBaagYAW2oGAFxqBgBdagYAXmoGAF9qBgBgagYAYWoGAGJqBgBjagYAZGoGAGVqBgBmagYAZ2oGAGhqBgBpagYAamoGAGtqBgBsagYAbWoGAG5qBgBvagYAcGoGAHFqBgByagYAc2oGAHRqBgB1agYAdmoGAHdqBgB4agYAeWoGAHpqBgB7agYAfGoGAH1qBgB+agYAf2oGAIBqBgCBagYAgmoGAINqBgCEagYAhWoGAIZqBgCHagYAiGoGAIlqBgCKagYAi2oGAIxqBgCNagYAjmoGAI9qBgCQagYAkWoGAJJqBgCTagYAlGoGAJVqBgCWagYAl2oGAJhqBgCZagYAmmoGAJtqBgCcagYAnWoGAJ5qBgCfagYAoGoGAKFqBgCiagYAo2oGAKRqBgClagYApmoGAKdqBgCoagYAqWoGAKpqBgCragYArGoGAK1qBgCuagYAr2oGALBqBgCxagYAsmoGALNqBgC0agYAtWoGALZqBgC3agYAuGoGALlqBgC6agYAu2oGALxqBgA=\"},\"shape\":[2000],\"dtype\":\"int32\",\"order\":\"little\"},{\"type\":\"ndarray\",\"array\":{\"type\":\"bytes\",\"data\":\"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\"},\"shape\":[2000],\"dtype\":\"int32\",\"order\":\"little\"}]],[\"series\",[{\"type\":\"ndarray\",\"array\":{\"type\":\"bytes\",\"data\":\"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\"},\"shape\":[2000],\"dtype\":\"float64\",\"order\":\"little\"},{\"type\":\"ndarray\",\"array\":{\"type\":\"bytes\",\"data\":\"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\"},\"shape\":[2000],\"dtype\":\"float32\",\"order\":\"little\"},{\"type\":\"ndarray\",\"array\":{\"type\":\"bytes\",\"data\":\"H4XLPxSuxz97FK4/Uri+Px+Fqz9xPYo/9ihcP+xReD+kcJ0/AACgP9ejkD9SuJ4/uB7FP0jh2j9mZuY/ZmbmP2Zm5j+uR+E/pHDdP2Zm5j9mZuY/ZmbmPxSu5z/NzOw/uB7lP+xR2D8K18M/w/WoP+xRmD9SuJ4/PQq3PwrXoz9SuJ4/9iicP5qZuT/Xo7A/AACgP6RwnT/sUZg/FK6nPx+Fqz89Crc/Uri+P+F61D/NzOw/exTOP9ej0D/NzOw/16MAQEjhCkAK1yNArkcxQKRwXUBxPYpAAACYQDMzm0DsUZhAKVyXQMP1mECF65lAcT2aQKRwnUDXo6BAw/WgQHE9okDhepxAFK6XQKRwlUCkcJVACteTQDMzk0CuR5FAexSOQJqZiUDXo4hA16OIQNejiEDXo4hAw/WIQNejiEDXo4hA16OIQBSuh0D2KIRAcT2CQMP1gEAAAIBAmpl5QOF6dEAzM3NAXI9yQDMzc0DXo3BAAABwQNejcEBSuG5AexRuQEjhakBI4WpA7FFoQDMzY0B7FF5AKVxfQArXY0BxPWpAw/VoQGZmZkBmZmZAhethQLgeZUDhemRAhethQIXrYUCPwmVAPQpnQOF6ZEAzM2NAXI9iQD0KZ0BI4WpAuB5lQB+FW0AK12NA16NgQM3MXEBcj1JAMzNTQK5HUUDXo1BAj8JVQIXrUUBSuE5AcT1KQFK4TkBxPUpA4XpUQBSuR0Bcj0JAFK5HQHsUPkAfhTtA4Xo0QJqZOUAK1zNACtczQHsUPkB7FD5Aw/U4QOxROEAfhTtAH4U7QOF6NECamTlAuB41QDMzM0ApXC9AmpkpQMP1KEAfhStASOEqQEjhKkDNzCxAzcwsQMP1KEBI4SpA9igsQLgeNUDXozBApHAtQPYoLEDXozBArkcxQHsULkCkcC1ASOEqQM3MLECuRzFAexQuQAAAMEAfhStAUrguQAAAMEApXC9AmpkpQKRwLUCuRzFAuB41QI/CNUAUrkdA7FFIQOF6REBSuE5ApHBNQFK4TkBI4VpACtdTQK5HUUCF61FAXI9SQArXU0B7FE5A9ihMQHsUTkD2KExAFK5HQArXQ0BmZkZAH4VLQMP1SEBxPUpASOFKQClcT0B7FE5Aw/VIQEjhSkBI4UpAw/VIQLgeRUDhekRA7FFIQBSuR0DhekRAhetBQM3MPEAAAEBAAABAQAAAQEAAAEBAMzNDQOF6RECuR0FAH4U7QBSuN0AUrjdAFK43QHE9OkCamTlA7FE4QM3MPEB7FC5APQonQAAAIECamRlA4XoUQAAAEEBI4QpAXI8CQI/C9T/D9eg/XI/iPz0K1z8Ursc/pHC9PxSupz+PwpU/XI+CPz0KVz8zMzM/mpkZP83MDD8pXI8+CtcjvbgeBb4AAAAAAAAAAM3MzL57FC6/w/Uovx+FK79cj4K/16OQvzMzs79SuJ6/Uriev4/Ctb+uR8G/cT3Kv+F61L+F69G/exTuv/Yo/L8AAADAhevxv5qZ+b+amfm/Urj+v/YoDMAUrhfA9igMwNejAMA9CgfA9igcwMP1KMD2KBzAFK4HwNejAMAAAADArkcBwEjh+r8pXO+/uB7lvz0K178AAOC/Uri+vz0Kt78Urqe/Uriev4Xrkb8fhYu/j8J1v8P1aL8AAIC/exRuv83MTL8fhWu/Urhev6RwPb9xPUq/7FE4v4XrEb89Che/FK4Hv2Zm5r49Cte+Urievs3MzL5xPYq+zcxMvnsULr4pXA8+9ijcPnE9ij4K16M9KVyPPoXrET8AAAA/KVyPPgrXoz6uR+E+ZmZmP83MrD+uR6E/zcysP3E9qj89Crc/ZmbGP6Rw3T8AAABAj8IlQFyPMkAfhUtA16NgQIXrUUCkcF1AKVx/QK5HYUBxPTpASOE6QPYoLEAUridACtcjQIXrEUBxPeo/pHC9P0jhmj8K14M/16MwP7gehT57FC6+AAAAvwAAQL89Cle/exQuvwrXI78pXA+/Urhev/YoXL9cj0K/AABAv6RwPb9I4Tq/SOE6v4XrUb+4HoW/exSOv3E9ir8zM5O/9iicv0jhmr+uR6G/MzOzv3E9yr8Urue/rkcBwAAAAMBxPeq/Zmbmv4Xr8b9SuP6/hesBwK5HAcAAAADAAAAAwAAAAMBmZgbASOEKwLgeFcCamRnAexQewIXrIcCF6yHAexQewHsUHsAK1yPASOEqwMP1KMAAACDACtcjwD0KJ8AUrifAhesxwOF6RMCamUnAPQpHwPYoPMBSuD7ASOFKwPYoTMApXE/AexR+wI/ChcCF63HAPQpXwKRwXcDNzGzAZmZ2wPYohMD2KITA16OIwB+Fk8Bcj5rACtebwArXk8AUrpfAw/WYwHE9msBcj5rArkeZwNejmMAUrpfAMzObwOxRmMCF65nAj8KdwArXm8Bcj5rACteTwK5HkcDsUZDAKVyPwEjhmsDsUZjAPQqHwAAAiMDNzIzArkeJwArXi8AAAIjAXI+KwClcl8BmZpbACteTwNejiMBxPYLAexRuwArXU8AUrjfAH4UrwFK4HsCPwgXAPQq3vx+Fq7/herS/4XqUv0jhOr/2KFy/cT1Kv4/C9b7NzEy9j8J1PlyPgj89Crc/H4XrP2ZmFkDNzCxAmpk5QBSuR0BmZlZAXI9iQGZmZkAzM2NA7FFoQKRwfUAK14NAw/WIQKRwhUDNzHxAmplZQKRwPUDXozBAexQuQClcD0AzMwNApHD9P8P16D89Ctc/mpm5P1yPoj/D9ag/H4WLPylcTz8pXA8/16PwPrgehT4K16O8PQpXvuxRuL4pXA+/Urgev5qZGb/2KBy/j8I1vx+Fa78AAIC/Urievx+Fq78K16O/PQq3vwAA4L/sUfi/Urjevylcz78zM9O/7FHYv7ge5b+F6/G/w/UIwGZmFsA9ChfAmpkZwB+FG8BI4RrAZmYWwHE9GsCkcB3ASOEawJqZGcBxPRrAKVwfwOF6JMCamSnAPQonwFK4HsCamRnAuB4VwLgeFcBxPRrAZmYWwI/CFcAzMxPAhesRwArXE8AUrhfAw/UYwBSuF8C4HhXAAAAQwHsUDsBSuA7Aw/UIwJqZ+b9xPeq/SOH6vylc77/Xo9C/MzPTv0jh2r9xPQrA16MAwFyPAsA9ChfA16MgwD0KF8AK1wPA4Xr0v0jh+r/D9QjArkcRwAAAEMBI4QrAuB4FwI/CBcBxPRrAZmYmwGZmJsAUrifACtcjwEjhGsAK1xPAZmYWwHE9GsBI4RrAcT0KwOF6BMDD9QjAAAAAwIXrAcDsUfi/w/Xov3sUzr8fhau/CteDv0jh+r4K1yO9w/WoPgAAQD89Cpc/j8K1P6Rw3T8AAOA/pHD9P6RwDUA9ChdAmpkZQAAAMEDD9ThAAABAQD0KR0BI4UpAuB5FQArXQ0AfhUtAH4VbQD0KV0AzM1NAMzNjQKRwbUB7FG5ASOFqQMP1SEAzMzNA16MwQI/CNUAzMzNAH4UrQFyPIkDXoyBAUrgeQM3MHEDhehRAZmYWQKRwHUBcjyJAmpkZQOxRCEAfhQtArkcBQAAA4D8fhcs/pHC9P4XrsT8AAKA/16OQP9ejkD8Uroc/j8J1P83MTD/D9Sg/4XoUPylcDz+PwvU+hevRPs3MzD7NzMw+exSuPhSuxz4Ursc+w/WoPnE9ij7hepQ+CtejPjMzsz4zM7M+KVyPPlK4nj6kcL0+zczMPhSuxz49Ctc+uB4FP5qZGT9SuB4/SOH6Pj0K1z7NzAw/SOH6Ptej8D6PwvU+hesRP83MDD/NzAw/KVwPPylcDz9xPQo/zcwMP4/C9T5I4fo+cT0KP83MDD8Urgc/16PwPj0K1z7Xo/A+CtcjP7geRT/NzEw/w/VoP+F6VD9cj0I/zcxMP0jhej+PwnU/cT1KPz0KVz+uR2E/XI+CP+F6lD+kcJ0/9iicP6RwnT97FI4/H4VrP65HYT+uR4E/j8J1P3sUbj+uR4E/XI+CP+xReD8AAIA/AACAPzMzcz8K14M/9ihcP/YoHD97FK4+j8J1PY/CdT3NzEw9j8J1Pc3MTD0AAIA+9ijcPgrXIz+PwnU/MzOTP0jhuj9xPeo/uB4VQDMzI0AK1yNASOEqQClcL0BcjzJAcT06QPYoTEDNzFxA7FFoQGZmdkDNzIxAXI+SQMP1mEB7FJZAzcyUQFK4nkCamalAKVyfQPYolEBxPZJAKVyXQI/CpUA9CqdA4XqkQLgepUBcj6JASOGSQK5HkUAAAIhAAABwQFyPYkD2KExAPQo3QPYoLEBcjyJAcT0aQKRwDUCF6wFAZmbmP3E9yj+uR6E/MzNzP4XrET8K16M+zcxMPo/C9TzsUTi+mpkZvuxRuL3NzEy+UrievjMzs76PwvW+mpkZv8P1KL8pXE+/Urhev1K4Xr8AAIC/KVyPv9ejkL/D9Yi/XI+Cv2ZmJr/NzEy/exRuv6RwPb8fhSu/H4Urv1yPQr+PwnW/H4WLv9ejkL8AAIC/9ihcv+F6VL+kcD2/4XoUv8P1KL9cjwK/pHC9vgAAgL4K1yO9AACAPhSuBz+amRk/j8L1PlK4Hj+PwjU/ZmZmP5qZGT+PwvU+7FE4P83MjD97FK4/FK7HP2ZmBkAAABBA7FEYQJqZGUDNzCxAKVw/QHE9SkBI4UpAj8JFQDMzQ0CF61FAFK5nQBSud0BI4YJAAACIQEjhikBI4YpAAACIQK5HgUDNzIRAXI+KQM3MlECuR5lAmpmZQK5HmUDsUZhAMzObQBSun0DsUaBAMzOjQOF6pECkcKVApHClQHsUpkBmZp5ASOGSQLgejUDD9YhA16OIQB+Fi0A9Co9APQqPQMP1kEBI4ZJApHCVQBSul0CF65lAj8KdQK5HoUAfhaNAKVynQArXq0BmZq5AheuxQLgetUCkcLVAmpm5QM3MxEDsUchAhevRQB+F00AUrs9AzczMQBSux0DD9cBAH4W7QKRwvUBxPcJAmpnJQIXr0UA9CtdAPQrXQD0Kz0CPwsVAw/XAQHE9wkCF68FAAADAQOxRwEAfhbtA9ii0QOxRsECPwq1APQqnQB+Fo0DsUaBAMzOjQAAAqEDheqxAZmauQI/CrUCPwq1AzcysQOF6rEBI4apAheupQNejqECkcKVAZmamQGZmpkCkcKVAFK6nQAAAqEBmZqZA4XqkQJqZoUCF66FASOGiQOF6pEAK16NAcT2iQOF6pEAAAKhA16OoQArXq0CambFACtezQKRwtUCkcLVA9ii0QI/CtUDsUbhAFK63QM3MtEDNzLRAmpm5QHsUvkBmZr5ACte7QFyPukDNzLxApHC9QNejwECF68FACtfDQBSux0Bcj8pAcT3KQNejyECPwsVACtfDQHE9wkCkcMVAw/XIQAAAyEDNzMRAFK7HQDMzy0DNzMxAH4XLQEjhykCF68lA9ijMQGZmzkBcj8pAPQrHQGZmxkBSuMZAw/XIQPYozECPws1APQrPQBSuz0AzM9NApHDVQI/C1UApXNdAexTWQFK41kC4HtVApHDVQKRw1UApXNdAXI/aQKRw3UDD9eBApHDlQBSu50DXo+hA16PoQClc50A9CudAUrjmQD0K50DXo+hA16PoQFyP6kBI4epAFK7nQMP16EApXO9A9ij0QArX80AK1/NA4Xr0QKRw9UAUrvdA4Xr8QFK4/kBxPQJBexQGQexRCEHD9QhBrkcJQRSuB0FmZgZBSOEGQZqZCUHXowxBUrgOQT0KD0FSuA5Bj8INQa5HDUGkcA1BzcwMQeF6DEEAAAxBUrgKQVyPCkFcjwpBXI8KQVyPCkFcjwpBKVwLQQAADEHXowxBmpkNQY/CDUFI4Q5BCtcPQdejEEGF6xFBexQSQZqZEUHXoxBBAAAQQQAAEEEAABBBw/UQQY/CEUF7FBJBexQSQTMzE0HNzBRBhesVQWZmFkFmZhZBZmYWQaRwFUHD9RRBAAAUQVK4EkFxPRJBXI8SQXsUEkG4HhFBCtcPQT0KD0GamQ1BAAAMQVK4CkFcjwpBUrgKQQrXC0HD9QxBexQOQTMzD0EAABBBAAAQQUjhDkFSuA5Bj8INQY/CDUF7FA5BUrgOQWZmDkFI4Q5BMzMPQR+FD0EK1w9BAAAQQfYoEEEpXA9BKVwPQSlcD0FI4Q5BFK4PQRSuD0FI4Q5BPQoPQQAAEEEAABBBAAAQQeF6EEHsURBBpHARQa5HEUG4HhFBexQSQY/CEUG4HhFBuB4RQeF6EEEAABBBCtcPQVyPDkFI4Q5BSOEOQQAAEEEUrg9BexQOQc3MDEEUrgtBKVwLQUjhCkFSuApBj8IJQeF6CEEUrgdBPQoHQVK4BkE9CgdBH4UHQRSuB0HheghBpHAJQVyPCkEpXAtBuB4NQVyPDkH2KBBBj8IRQUjhEkEAABRBmpkVQeF6GEEzMxtBH4UfQRSuI0FcjyJBw/UgQVyPIkFmZiZB7FEoQeF6KEEfhSdBZmYmQVyPJkEpXCdBzcwoQZqZLUEAADhBj8IxQdejLEG4HilBpHAVQT0K30DNzMRAMzO7QJqZuUCamblAMzO7QDMzu0AfhbtAmpm5QK5HuUApXLdApHC1QLgetUCuR7FAPQqvQPYorEBxPapAw/WoQI/CpUDheqRAMzOjQClcp0BmZq5A4Xq0QEjhukD2KLxAheu5QI/CtUBcj7JAuB6tQI/CpUBxPaJAAACgQHsUnkBSuJ5AexSeQB+Fm0B7FJZA7FGQQM3MjEAzM4tA16OIQD0Kh0BmZoZAAACIQBSuh0CPwoVArkeBQAAAgECkcH1Aj8J1QNejcEAfhWtAZmZmQHsUXkCPwlVAw/VYQKRwXUB7FF5AMzNjQDMzY0AfhVtAmplZQJqZWUAUrldAmplZQHE9WkCuR2FAZmZmQMP1aECuR2FA16NgQGZmZkCkcG1AMzNzQNejcEC4HnVAMzNzQIXrcUBmZnZAUrh+QB+Fg0DheoRAZmaGQOxRiEDXo4hA16OIQK5HiUDXo4hA16OIQNejiEDXo4hAheuJQNejiEDXo4hA16OIQNejiEBSuIZAKVyHQAAAiED2KIxAzcyMQEjhikBcj4pAFK6HQNejiEAfhYtAZmaOQD0Kj0ApXI9APQqPQIXrkUBxPZJA9iiUQClcl0BSuJ5A9iikQHE9okBxPaJAheuhQMP1qECkcLVA7FHAQMP1wECPwrVAmpmxQNejsEBxPbJAPQq3QDMzu0DD9bhAmpm5QB+Fu0AfhbtAj8K9QHsUvkAUrr9A16PAQPYoxEAUrsdAcT3KQGZmzkC4Hs1AuB7NQGZmzkDNzMxAmpnJQGZmxkDhesRAzczEQGZmxkBmZsZAexTGQOF6xEDhesRA9ijEQIXrwUDXo8BAFK6/QB+Fu0C4Hr1Aheu5QMP1uECamblAheu5QD0Kv0AK18NAexTGQDMzw0BSuMZA16PIQFyPykBI4cpArkfJQNejyEDD9chA16PIQJqZyUAzM8tAMzPLQPYozEAK18tA7FHIQHE9wkBSuL5A9ii8QAAAwEAfhcNAexTGQFK4xkDsUchAAADIQNejyEDXo8hAKVzHQOxRyEDXo8hA16PIQNejyEBmZsZAKVzHQNejyECuR8lA16PIQNejyEDXo8hA16PIQNejyEBSuMZAZmbGQGZmxkC4HsVA4XrEQArXw0BxPcJASOHCQEjhwkCamcFAFK6/QOF6vECamblAKVy3QKRwtUD2KLRAmpmxQD0Kr0A9Cq9AuB6tQOF6rEAzM6tASOGqQHE9qkDXo6hA7FGoQGZmpkC4HqVASOGiQFK4nkAfhZtAAACYQKRwlUCkcJVApHCVQOF6lEC4HpVAzcyUQKRwlUCkcJVApHCVQI/ClUApXJdAKVyXQClcl0AUrpdArkeZQJqZmUBcj5pAuB6dQHsUnkA9Cp9AKVyfQOxRoEBxPaJAcT2iQPYopEDNzKRAFK6nQHE9qkBcj6pA16OoQMP1qEAfhatAzcysQFK4tkC4HsVAw/XAQJqZuUBmZrZAPQq3QClct0AzM7NAj8KtQDMzq0Bcj6pAw/WoQAAAqEDXo6hAUrimQClcp0DXo6hAAACoQAAAqEDNzKRAw/WgQD0Kn0B7FJ5Aj8KdQLgenUDNzJxAXI+aQNejmEBmZpZAH4WTQMP1kECuR5FArkeRQK5HkUCuR5FArkeRQClcj0BSuI5AzcyMQJqZiUDNzIRAheuBQAAAgEBSuH5AH4V7QD0Kd0AzM3NAhetxQClcb0BSuG5AUrhuQEjhakBxPWpAZmZmQK5HYUB7FF5A16NgQGZmZkCF62FAAABgQHsUXkB7FF5ASOFaQFyPYkCPwmVAw/VoQGZmZkB7FF5AAABgQFyPYkBSuF5AXI9iQIXrYUAAAGBAmplZQEjhWkDhemRAexReQJqZWUAUrldAuB5VQArXU0AzM1NAw/VYQKRwXUB7FF5AexReQB+FW0BI4VpAw/VYQDMzU0DXo1BA16NQQM3MTEAK11NAXI9SQNejUED2KExAFK5HQGZmRkBmZkZA4XpEQOF6REDsUUhAj8JFQClcP0D2KDxAexQ+QGZmNkBI4SpAheshQI/CJUCF6zFApHAtQEjhGkBcjyJASOEqQKRwLUBmZiZAZmYmQGZmJkA9CidASOEqQFK4LkDXozBArkcxQLgeJUAUridAFK4nQFK4LkAK1zNAPQo3QHsUPkAK10NAXI9CQI/CRUCuR1FAw/VYQAAAYEBxPVpAKVxfQFK4XkAUrldArkdRQHE9WkApXF9AzcxcQPYobECuR3FAj8J1QFyPckAAAHBAAABwQHsUbkApXG9ASOF6QPYohECF64FAexR+QMP1gECamYFAH4WDQKRwhUCuR4lAMzOLQK5HkUAAAJBA7FGIQJqZiUCamZFA9iiMQLgehUBmZoZArkeBQIXrgUDsUXhAFK53QMP1gEAzM4NACteDQDMzg0DhemRAUrhOQMP1SECF60FAKVw/QClcP0A9CjdAcT0aQFK4DkCPwgVApHDdP5qZuT/herQ/9iicP0jhOj9xPQo/9ijcPpqZGT6PwvW9H4VrvhSux75mZia/7FE4vxSuR789Cle/Urhevz0KV79mZoa/zcyMv4Xrkb8zM5O/Uriev3sUrr+4HsW/hevRv83M7L8fheu/w/Xov0jh+r+F6wHA4XoEwOF6BMAAABDAMzMTwArXE8BI4RrAFK4nwIXrMcAAADDAZmYmwArXI8DsUSjAzcwswBSuN8AK10PAH4VLwHE9SsCamUnAhetRwLgeVcAzM1PAhetRwClcT8D2KEzA4XpEwOF6RMDD9UjApHBNwPYoXMB7FF7A7FFYwNejYMApXG/AUrhuwHsUbsA9CnfAexR+wKRwfcC4HoXAMzODwI/ChcBSuIbAAACQwB+Fk8DhepTAuB6VwHE9ksAAAJDAuB6NwClcj8C4HpXAMzObwNejoMBcj5LAw/WIwLgehcAAAIDASOF6wKRwbcBI4VrAUrhOwPYoTMAUrjfAZmYmwGZmFsAzMwPApHDdvxSux78Urqe/H4Vrv9ejML89Che/hevRvpqZGb6uR+E99ijcPqRwPT9I4Xo/exSuPylczz+kcN0/PQoHQHE9KkAK11NAUrheQMP1aEBI4WpAMzNjQPYoXEAzM2NAmplpQMP1aEBI4UpAuB41QMP1KEBSuB5AFK4XQNejEEC4HgVAcT3qP83MzD89Crc/cT2qP4XrkT9cjwI/XI/CPgrXIz6PwvW9XI8Cvx+F677NzAy/FK5Hvx+Fi7+4HqW/zczMv/Yo3L9mZua/KVzvv6Rw/b9mZgbAhesRwOF6FMCkcA3AuB4FwFK4/r/2KAzAPQoXwKRwLcDsUSjAZmY2wBSuN8DsUTjAhesxwDMzM8BSuD7AuB5VwI/CZcCkcG3Aw/V4wNejgMBI4YLApHCFwKRwhcBI4YLArkeBwOF6hMCamYnA7FGIwFyPksCPwpXAcT2awFK4nsBcj6LAmpmhwAAAqMBI4arAzcykwHE9osBSuJ7ApHCVwKRwhcBxPYLAexR+wOF6hMDNzITAPQqPwB+Fk8AfhZvApHCdwArXo8A9CqfAzcycwB+Fm8AUrp/ApHCdwHE9osDXo6jApHClwArXq8CPwq3ACtezwNejuMBI4cLAZmbGwK5HwcDsUcjAMzPLwFK4zsCamdnASOHawOF61MAK19vAhevJwKRwzcAfhcvAhevJwArXy8BI4cLAUri+wDMzs8AUrqfA16OgwClcj8AzM5PAuB6NwM3MhMDXo3DACtdTwKRwPcCuRyHAj8L1v4Xr8b/sUZi/j8I1v83MTL7hehQ/rkehP8P1yD+F69E/9ij8P0jhCkAzMyNAuB5FQEjhekB7FH5AzcyEQLgejUDD9ZhAexSmQFK4pkBI4aJAPQqfQDMzk0CkcI1AUrh+QArXY0AUrjdA9igcQOxRCECkcP0/j8LVP3sUzj/herQ/uB6lP3E9Sj+uR+E+j8J1Po/Cdb0K16O9PQrXvjMzc78K16O/j8LVvwAAoL8K14O/SOF6vzMzs7/2KLy/exTOvzMz079cj8K/MzOzv5qZCcD2KEzAMzNTwKRwXcCPwkXAAAAwwD0KJ8DXoyDAUrgewFK4HsCPwiXAw/U4wHsUTsBcj4LAZmaOwEjhgsDXo3DAH4V7wJqZgcBmZlbAcT1KwClch8A=\"},\"shape\":[2000],\"dtype\":\"float32\",\"order\":\"little\"},{\"type\":\"ndarray\",\"array\":{\"type\":\"bytes\",\"data\":\"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\"},\"shape\":[2000],\"dtype\":\"float32\",\"order\":\"little\"},{\"type\":\"ndarray\",\"array\":{\"type\":\"bytes\",\"data\":\"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\"},\"shape\":[2000],\"dtype\":\"float32\",\"order\":\"little\"},{\"type\":\"ndarray\",\"array\":{\"type\":\"bytes\",\"data\":\"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\"},\"shape\":[2000],\"dtype\":\"float32\",\"order\":\"little\"}]],[\"name\",[\"sarimax\",\"mlp\",\"ground_truth\",\"lstm\",\"cnn1d\",\"cnn2d\"]],[\"color\",[\"#1f77b4\",\"#ff7f0e\",\"#2ca02c\",\"#d62728\",\"#9467bd\",\"#8c564b\"]]]}}},\"view\":{\"type\":\"object\",\"name\":\"CDSView\",\"id\":\"p6035\",\"attributes\":{\"filter\":{\"type\":\"object\",\"name\":\"AllIndices\",\"id\":\"p6036\"}}},\"glyph\":{\"type\":\"object\",\"name\":\"MultiLine\",\"id\":\"p6030\",\"attributes\":{\"xs\":{\"type\":\"field\",\"field\":\"x\"},\"ys\":{\"type\":\"field\",\"field\":\"series\"},\"line_color\":{\"type\":\"field\",\"field\":\"color\"},\"line_alpha\":{\"type\":\"value\",\"value\":0.6},\"line_width\":{\"type\":\"value\",\"value\":2}}},\"nonselection_glyph\":{\"type\":\"object\",\"name\":\"MultiLine\",\"id\":\"p6031\",\"attributes\":{\"xs\":{\"type\":\"field\",\"field\":\"x\"},\"ys\":{\"type\":\"field\",\"field\":\"series\"},\"line_color\":{\"type\":\"field\",\"field\":\"color\"},\"line_alpha\":{\"type\":\"value\",\"value\":0.1},\"line_width\":{\"type\":\"value\",\"value\":2}}},\"hover_glyph\":{\"type\":\"object\",\"name\":\"MultiLine\",\"id\":\"p6032\",\"attributes\":{\"xs\":{\"type\":\"field\",\"field\":\"x\"},\"ys\":{\"type\":\"field\",\"field\":\"series\"},\"line_color\":{\"type\":\"field\",\"field\":\"color\"},\"line_width\":{\"type\":\"value\",\"value\":3}}},\"muted_glyph\":{\"type\":\"object\",\"name\":\"MultiLine\",\"id\":\"p6033\",\"attributes\":{\"xs\":{\"type\":\"field\",\"field\":\"x\"},\"ys\":{\"type\":\"field\",\"field\":\"series\"},\"line_color\":{\"type\":\"field\",\"field\":\"color\"},\"line_alpha\":{\"type\":\"value\",\"value\":0.2},\"line_width\":{\"type\":\"value\",\"value\":2}}}}}],\"toolbar\":{\"type\":\"object\",\"name\":\"Toolbar\",\"id\":\"p6003\",\"attributes\":{\"tools\":[{\"type\":\"object\",\"name\":\"PanTool\",\"id\":\"p6016\"},{\"type\":\"object\",\"name\":\"BoxZoomTool\",\"id\":\"p6017\",\"attributes\":{\"overlay\":{\"type\":\"object\",\"name\":\"BoxAnnotation\",\"id\":\"p6018\",\"attributes\":{\"syncable\":false,\"level\":\"overlay\",\"visible\":false,\"left\":{\"type\":\"number\",\"value\":\"nan\"},\"right\":{\"type\":\"number\",\"value\":\"nan\"},\"top\":{\"type\":\"number\",\"value\":\"nan\"},\"bottom\":{\"type\":\"number\",\"value\":\"nan\"},\"left_units\":\"canvas\",\"right_units\":\"canvas\",\"top_units\":\"canvas\",\"bottom_units\":\"canvas\",\"line_color\":\"black\",\"line_alpha\":1.0,\"line_width\":2,\"line_dash\":[4,4],\"fill_color\":\"lightgrey\",\"fill_alpha\":0.5}}}},{\"type\":\"object\",\"name\":\"ResetTool\",\"id\":\"p6023\"},{\"type\":\"object\",\"name\":\"SaveTool\",\"id\":\"p6024\"},{\"type\":\"object\",\"name\":\"HoverTool\",\"id\":\"p6025\",\"attributes\":{\"renderers\":\"auto\",\"tooltips\":[[\"Serie\",\"@name\"],[\"Temperatura\",\"$y{0.0 a}\\u00b0\"]]}},{\"type\":\"object\",\"name\":\"TapTool\",\"id\":\"p6026\",\"attributes\":{\"renderers\":\"auto\"}}]}},\"left\":[{\"type\":\"object\",\"name\":\"LinearAxis\",\"id\":\"p6011\",\"attributes\":{\"ticker\":{\"type\":\"object\",\"name\":\"BasicTicker\",\"id\":\"p6012\",\"attributes\":{\"mantissas\":[1,2,5]}},\"formatter\":{\"type\":\"object\",\"name\":\"BasicTickFormatter\",\"id\":\"p6013\"},\"axis_label\":\"Temperatura\",\"major_label_policy\":{\"type\":\"object\",\"name\":\"AllLabels\",\"id\":\"p6014\"}}}],\"below\":[{\"type\":\"object\",\"name\":\"LinearAxis\",\"id\":\"p6006\",\"attributes\":{\"ticker\":{\"type\":\"object\",\"name\":\"BasicTicker\",\"id\":\"p6007\",\"attributes\":{\"mantissas\":[1,2,5]}},\"formatter\":{\"type\":\"object\",\"name\":\"BasicTickFormatter\",\"id\":\"p6008\"},\"axis_label\":\"Tiempo\",\"major_label_policy\":{\"type\":\"object\",\"name\":\"AllLabels\",\"id\":\"p6009\"}}}],\"center\":[{\"type\":\"object\",\"name\":\"Grid\",\"id\":\"p6010\",\"attributes\":{\"axis\":{\"id\":\"p6006\"}}},{\"type\":\"object\",\"name\":\"Grid\",\"id\":\"p6015\",\"attributes\":{\"dimension\":1,\"axis\":{\"id\":\"p6011\"}}},{\"type\":\"object\",\"name\":\"Legend\",\"id\":\"p6037\",\"attributes\":{\"items\":[{\"type\":\"object\",\"name\":\"LegendItem\",\"id\":\"p6038\",\"attributes\":{\"label\":{\"type\":\"field\",\"field\":\"name\"},\"renderers\":[{\"id\":\"p6034\"}]}}]}}]}}]}};\n  const render_items = [{\"docid\":\"45c64c0e-2702-4dc5-be66-4d3caeac1c97\",\"roots\":{\"p5994\":\"be2bc405-fbef-4c96-b4e8-97dee549c1a2\"},\"root_ids\":[\"p5994\"]}];\n  root.Bokeh.embed.embed_items_notebook(docs_json, render_items);\n  }\n  if (root.Bokeh !== undefined) {\n    embed_document(root);\n  } else {\n    let attempts = 0;\n    const timer = setInterval(function(root) {\n      if (root.Bokeh !== undefined) {\n        clearInterval(timer);\n        embed_document(root);\n      } else {\n        attempts++;\n        if (attempts > 100) {\n          clearInterval(timer);\n          console.log(\"Bokeh: ERROR: Unable to run BokehJS code because BokehJS library is missing\");\n        }\n      }\n    }, 10, root)\n  }\n})(window);",
      "application/vnd.bokehjs_exec.v0+json": ""
     },
     "metadata": {
      "application/vnd.bokehjs_exec.v0+json": {
       "id": "p5994"
      }
     },
     "output_type": "display_data"
    }
   ],
   "source": [
    "from collections import defaultdict\n",
    "from bokeh.layouts import gridplot\n",
    "from bokeh.plotting import figure, show\n",
    "from bokeh.palettes import Category10\n",
    "from bokeh.models import ColumnDataSource\n",
    "\n",
    "\n",
    "bokeh_data = defaultdict(list)\n",
    "for column in visual_check.columns:\n",
    "    bokeh_data['x'].append(visual_check.index.values)\n",
    "    bokeh_data['series'].append(visual_check[column].values)\n",
    "    bokeh_data['name'].append(column)\n",
    "\n",
    "bokeh_data['color'] = Category10[6]\n",
    "\n",
    "source = ColumnDataSource(bokeh_data)\n",
    "\n",
    "TOOLS = \"pan,box_zoom,reset,save,hover,tap\"\n",
    "TOOLTIPS=[\n",
    "    (\"Serie\", \"@name\"),\n",
    "    (\"Temperatura\", \"$y{0.0 a}°\")\n",
    "]\n",
    "p = figure(\n",
    "    title='Comparación visual entre pronósticos y realidad', \n",
    "    tools=TOOLS,\n",
    "    tooltips=TOOLTIPS,\n",
    "    width_policy='max'\n",
    "    )\n",
    "\n",
    "alpha_values = [1.0 if col == 'ground_truth' else 0.3 for col in visual_check.columns]\n",
    "p.multi_line(\n",
    "    xs='x',\n",
    "    ys='series',\n",
    "    line_color='color',\n",
    "    line_alpha=0.6,\n",
    "    hover_line_alpha=1.0,\n",
    "    line_width=2,\n",
    "    hover_line_width=3,\n",
    "    legend_field='name',\n",
    "    source=source\n",
    ")\n",
    "\n",
    "\n",
    "p.yaxis.axis_label = \"Temperatura\"\n",
    "p.xaxis.axis_label = \"Tiempo\"\n",
    "\n",
    "show(p)\n"
   ]
  },
  {
   "cell_type": "markdown",
   "metadata": {},
   "source": [
    "Observamos que en geneal cada modelo tiene varios aciertos y errores. Algo interesante que vale la pena seguir resaltando es que si bien todos los modelos de DL tienen mejores métricas en general, al graficarlos todos tiene un comportamiento errático en comparación con el modelo SARIMAX. Esto puede deberse a múltiples factores y quizás se pueda mejorar haciendo ajustes a los modelos. Sin embargo, los modelos de DL tienden a capturar mejor los altibajos de de la serie, solo que con una magnitud mayor a la esperada.\n",
    "\n",
    "La elección del mejor modelo debe basarse en múltiples factores. Para algunos casos la precisión es un aspecto no negociable pero por otros lados, lograr una alta precisión puede ser una tarea \"imposible\" por factores incluso externos a la información de la que disponemos. Aquí por ejemplo es donde ensambles de modelos pueden llegar a ser útiles para llegar a un consenso sobre las predicciones de los modelos. También hay otros factores a considerar como la simplicidad y la cantidad de recursos necesarios para modelar. No en todas las ocasiones se puede o debe usar un modelo clásico e igualmente un modelo de DL.\n",
    "\n",
    "Un detalle final para este ejercicio es que se ha trabajado con arquitecturas simples y genéricas, dando libertad de implenetación a quien estudie el problema. En la siguiente lección vamos a explorar una arquitectura especifica para series de tiempo y vamos a poder cerrar el ciclo de conocimientos en el tema."
   ]
  },
  {
   "cell_type": "markdown",
   "metadata": {},
   "source": []
  }
 ],
 "metadata": {
  "kernelspec": {
   "display_name": "icesi-advanced-dl",
   "language": "python",
   "name": "python3"
  },
  "language_info": {
   "codemirror_mode": {
    "name": "ipython",
    "version": 3
   },
   "file_extension": ".py",
   "mimetype": "text/x-python",
   "name": "python",
   "nbconvert_exporter": "python",
   "pygments_lexer": "ipython3",
   "version": "3.10.13"
  }
 },
 "nbformat": 4,
 "nbformat_minor": 2
}
