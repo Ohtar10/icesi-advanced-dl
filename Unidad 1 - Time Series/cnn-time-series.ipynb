{
 "cells": [
  {
   "cell_type": "markdown",
   "metadata": {},
   "source": [
    "# Hands-On Deep Learning modelo CNN para series de tiempo\n",
    "[![Open In Colab](https://colab.research.google.com/assets/colab-badge.svg)](https://colab.research.google.com/github/Ohtar10/icesi-advanced-dl/blob/main/Unidad%201%20-%20Time%20Series/cnn-time-series.ipynb)\n",
    "\n",
    "En este notebook vamos a usar capas CNN o Convotional Neural Networks para casos de series de tiempo. Vamos a continuar con el mismo dataset de la lección anterior con el fin de tener una visión holística de como se comparan las diferentes técnicas que hemos visto hasta ahora para el mismo problema. \n",
    "\n",
    "## Serie de tiempo del clima del laboratorio Max Planck\n",
    "Para este notebook vamos a trabajar sobre una serie de datos climáticos cuyo dataset pueden encontrar aquí: https://www.kaggle.com/datasets/arashnic/max-planck-weather-dataset/data. Debido a que el dataset son 42MB y requiere autenticación en kaggle para descargar, esto deberán hacerlo manualmente antes de continuar con el notebook.\n",
    "\n",
    "El objetivo de este caso es modelar la serie de tiempo de la temperatura atmosférica en grados centigrados. Para ello, contamos no solo con datos desde el 2009 al 2016 sobre la temperatura misma sino de otras mediciones como la presión atmosférica, presión de vapor, humedad, entre otros. Los datos fueron tomados especificamente en la estación del clima Beuternberg\n",
    "\n",
    "### Enlaces de interés\n",
    "- [Max-Planck Institut](https://mpimet.mpg.de/en/research/observations)\n",
    "- [Max-Planck Institut - Weather Station](https://www.bgc-jena.mpg.de/wetter/)\n",
    "- [Weather Station Beutenberg](https://www.bgc-jena.mpg.de/wetter/towercam.html)\n",
    "- [Beutenberg Campus](https://maps.app.goo.gl/fGJX1T9bjTJhueqJ9)"
   ]
  },
  {
   "cell_type": "code",
   "execution_count": 1,
   "metadata": {},
   "outputs": [],
   "source": [
    "import pkg_resources\n",
    "import warnings\n",
    "import os\n",
    "\n",
    "warnings.filterwarnings('ignore')\n",
    "\n",
    "installed_packages = [package.key for package in pkg_resources.working_set]\n",
    "IN_COLAB = 'google-colab' in installed_packages\n",
    "\n",
    "datasets_path = './datasets/' if IN_COLAB else '../datasets'\n",
    "# Para guardar modelos entrenados y re-utilizarlos luego\n",
    "models_path = os.path.join(os.getcwd(), 'models')\n",
    "os.makedirs(models_path, exist_ok=True)"
   ]
  },
  {
   "cell_type": "code",
   "execution_count": 2,
   "metadata": {},
   "outputs": [],
   "source": [
    "!test '{IN_COLAB}' = 'True' && wget https://github.com/Ohtar10/icesi-advanced-dl/raw/main/Unidad%201%20-%20Time%20Series/requirements.txt  && pip install -r requirements.txt"
   ]
  },
  {
   "cell_type": "code",
   "execution_count": 3,
   "metadata": {},
   "outputs": [],
   "source": [
    "!test '{IN_COLAB}' = 'True' && wget https://tinyurl.com/ym2zrzp3 -O cnn-ts.zip && unzip cnn-ts.zip\n",
    "!test '{IN_COLAB}' = 'True' && wget https://tinyurl.com/3aamktz3 -O datasets.zip && unzip datasets.zip\n",
    "!test '{IN_COLAB}' = 'True' && wget https://tinyurl.com/39t3duhu -O sarimax.zip && unzip sarimax.zip"
   ]
  },
  {
   "cell_type": "markdown",
   "metadata": {},
   "source": [
    "Primero, vamos a observar los datos y hacernos una idea de con que estamos lidiando"
   ]
  },
  {
   "cell_type": "code",
   "execution_count": 4,
   "metadata": {},
   "outputs": [
    {
     "data": {
      "text/html": [
       "<div>\n",
       "<style scoped>\n",
       "    .dataframe tbody tr th:only-of-type {\n",
       "        vertical-align: middle;\n",
       "    }\n",
       "\n",
       "    .dataframe tbody tr th {\n",
       "        vertical-align: top;\n",
       "    }\n",
       "\n",
       "    .dataframe thead th {\n",
       "        text-align: right;\n",
       "    }\n",
       "</style>\n",
       "<table border=\"1\" class=\"dataframe\">\n",
       "  <thead>\n",
       "    <tr style=\"text-align: right;\">\n",
       "      <th></th>\n",
       "      <th>T (degC)</th>\n",
       "      <th>p (mbar)</th>\n",
       "      <th>VPact (mbar)</th>\n",
       "      <th>sh (g/kg)</th>\n",
       "      <th>Tdew (degC)</th>\n",
       "      <th>H2OC (mmol/mol)</th>\n",
       "    </tr>\n",
       "  </thead>\n",
       "  <tbody>\n",
       "    <tr>\n",
       "      <th>0</th>\n",
       "      <td>-8.02</td>\n",
       "      <td>996.52</td>\n",
       "      <td>3.11</td>\n",
       "      <td>1.94</td>\n",
       "      <td>-8.90</td>\n",
       "      <td>3.12</td>\n",
       "    </tr>\n",
       "    <tr>\n",
       "      <th>1</th>\n",
       "      <td>-8.41</td>\n",
       "      <td>996.57</td>\n",
       "      <td>3.02</td>\n",
       "      <td>1.89</td>\n",
       "      <td>-9.28</td>\n",
       "      <td>3.03</td>\n",
       "    </tr>\n",
       "    <tr>\n",
       "      <th>2</th>\n",
       "      <td>-8.51</td>\n",
       "      <td>996.53</td>\n",
       "      <td>3.01</td>\n",
       "      <td>1.88</td>\n",
       "      <td>-9.31</td>\n",
       "      <td>3.02</td>\n",
       "    </tr>\n",
       "    <tr>\n",
       "      <th>3</th>\n",
       "      <td>-8.31</td>\n",
       "      <td>996.51</td>\n",
       "      <td>3.07</td>\n",
       "      <td>1.92</td>\n",
       "      <td>-9.07</td>\n",
       "      <td>3.08</td>\n",
       "    </tr>\n",
       "    <tr>\n",
       "      <th>4</th>\n",
       "      <td>-8.27</td>\n",
       "      <td>996.51</td>\n",
       "      <td>3.08</td>\n",
       "      <td>1.92</td>\n",
       "      <td>-9.04</td>\n",
       "      <td>3.09</td>\n",
       "    </tr>\n",
       "    <tr>\n",
       "      <th>5</th>\n",
       "      <td>-8.05</td>\n",
       "      <td>996.50</td>\n",
       "      <td>3.14</td>\n",
       "      <td>1.96</td>\n",
       "      <td>-8.78</td>\n",
       "      <td>3.15</td>\n",
       "    </tr>\n",
       "    <tr>\n",
       "      <th>6</th>\n",
       "      <td>-7.62</td>\n",
       "      <td>996.50</td>\n",
       "      <td>3.26</td>\n",
       "      <td>2.04</td>\n",
       "      <td>-8.30</td>\n",
       "      <td>3.27</td>\n",
       "    </tr>\n",
       "    <tr>\n",
       "      <th>7</th>\n",
       "      <td>-7.62</td>\n",
       "      <td>996.50</td>\n",
       "      <td>3.25</td>\n",
       "      <td>2.03</td>\n",
       "      <td>-8.36</td>\n",
       "      <td>3.26</td>\n",
       "    </tr>\n",
       "    <tr>\n",
       "      <th>8</th>\n",
       "      <td>-7.91</td>\n",
       "      <td>996.50</td>\n",
       "      <td>3.15</td>\n",
       "      <td>1.97</td>\n",
       "      <td>-8.73</td>\n",
       "      <td>3.16</td>\n",
       "    </tr>\n",
       "    <tr>\n",
       "      <th>9</th>\n",
       "      <td>-8.43</td>\n",
       "      <td>996.53</td>\n",
       "      <td>3.00</td>\n",
       "      <td>1.88</td>\n",
       "      <td>-9.34</td>\n",
       "      <td>3.02</td>\n",
       "    </tr>\n",
       "    <tr>\n",
       "      <th>10</th>\n",
       "      <td>-8.76</td>\n",
       "      <td>996.62</td>\n",
       "      <td>2.93</td>\n",
       "      <td>1.83</td>\n",
       "      <td>-9.66</td>\n",
       "      <td>2.94</td>\n",
       "    </tr>\n",
       "    <tr>\n",
       "      <th>11</th>\n",
       "      <td>-8.88</td>\n",
       "      <td>996.62</td>\n",
       "      <td>2.90</td>\n",
       "      <td>1.81</td>\n",
       "      <td>-9.77</td>\n",
       "      <td>2.91</td>\n",
       "    </tr>\n",
       "    <tr>\n",
       "      <th>12</th>\n",
       "      <td>-8.85</td>\n",
       "      <td>996.63</td>\n",
       "      <td>2.92</td>\n",
       "      <td>1.82</td>\n",
       "      <td>-9.70</td>\n",
       "      <td>2.93</td>\n",
       "    </tr>\n",
       "    <tr>\n",
       "      <th>13</th>\n",
       "      <td>-8.83</td>\n",
       "      <td>996.74</td>\n",
       "      <td>2.92</td>\n",
       "      <td>1.83</td>\n",
       "      <td>-9.68</td>\n",
       "      <td>2.93</td>\n",
       "    </tr>\n",
       "    <tr>\n",
       "      <th>14</th>\n",
       "      <td>-8.66</td>\n",
       "      <td>996.81</td>\n",
       "      <td>2.98</td>\n",
       "      <td>1.86</td>\n",
       "      <td>-9.46</td>\n",
       "      <td>2.99</td>\n",
       "    </tr>\n",
       "  </tbody>\n",
       "</table>\n",
       "</div>"
      ],
      "text/plain": [
       "    T (degC)  p (mbar)  VPact (mbar)  sh (g/kg)  Tdew (degC)  H2OC (mmol/mol)\n",
       "0      -8.02    996.52          3.11       1.94        -8.90             3.12\n",
       "1      -8.41    996.57          3.02       1.89        -9.28             3.03\n",
       "2      -8.51    996.53          3.01       1.88        -9.31             3.02\n",
       "3      -8.31    996.51          3.07       1.92        -9.07             3.08\n",
       "4      -8.27    996.51          3.08       1.92        -9.04             3.09\n",
       "5      -8.05    996.50          3.14       1.96        -8.78             3.15\n",
       "6      -7.62    996.50          3.26       2.04        -8.30             3.27\n",
       "7      -7.62    996.50          3.25       2.03        -8.36             3.26\n",
       "8      -7.91    996.50          3.15       1.97        -8.73             3.16\n",
       "9      -8.43    996.53          3.00       1.88        -9.34             3.02\n",
       "10     -8.76    996.62          2.93       1.83        -9.66             2.94\n",
       "11     -8.88    996.62          2.90       1.81        -9.77             2.91\n",
       "12     -8.85    996.63          2.92       1.82        -9.70             2.93\n",
       "13     -8.83    996.74          2.92       1.83        -9.68             2.93\n",
       "14     -8.66    996.81          2.98       1.86        -9.46             2.99"
      ]
     },
     "execution_count": 4,
     "metadata": {},
     "output_type": "execute_result"
    }
   ],
   "source": [
    "import pandas as pd\n",
    "import numpy as np\n",
    "\n",
    "# El dataset cuenta con temperatura en grados Kelvin también\n",
    "# Pero no queremos incluir esta columna porque está midiendo exactamente lo mismo\n",
    "columns = ['T (degC)', 'p (mbar)', 'VPact (mbar)', 'sh (g/kg)', 'Tdew (degC)', 'H2OC (mmol/mol)']\n",
    "# Cambiar según la localización del archivo.\n",
    "dataset = pd.read_csv(os.path.join(datasets_path, 'max_planck_weather_ts.csv'))[columns]\n",
    "\n",
    "dataset.head(15)"
   ]
  },
  {
   "cell_type": "markdown",
   "metadata": {},
   "source": [
    "## Train-test split\n",
    "Como este es un experimento un poco más realista, vamos a separar los conjuntos de datos en train y test. Como ya debemos saber, el conjunto de entrenamiento es exclusivamente para ese fin y el conjunto de prueba únicamente debemos usarlo para validar el modelo ante información no vista durante el entrenamiento y así poner a prueba su capacidad predictiva.\n",
    "\n",
    "Como esto es una serie de tiempo, no podemos hacer un random sample ya que romperíamos la estructura secuencial de los datos. Asi que vamos a hacer algo más simple y dividir el conjunto en un punto particular. Vamos a trabajar con un train set correspondiente al 90% del conjunto original."
   ]
  },
  {
   "cell_type": "code",
   "execution_count": 5,
   "metadata": {},
   "outputs": [],
   "source": [
    "train_chunk = int(dataset.shape[0] * 0.9)\n",
    "\n",
    "# Solo nos interesa trabajar con estas columnas por ahora\n",
    "columns = ['T (degC)', 'p (mbar)', 'Tdew (degC)', 'H2OC (mmol/mol)']\n",
    "\n",
    "# Necesitamos trabajar solo con datos informados, por lo que debemos descartar registros que no los tengan\n",
    "train_set = dataset.iloc[:train_chunk][columns].dropna()\n",
    "test_set = dataset.iloc[train_chunk:][columns].dropna()"
   ]
  },
  {
   "cell_type": "markdown",
   "metadata": {},
   "source": [
    "## Baseline - Modelo SARIMAX\n",
    "Preparamos un modelo SARIMAX como en la lección anterior para tenerlo como comparativa."
   ]
  },
  {
   "cell_type": "code",
   "execution_count": 6,
   "metadata": {},
   "outputs": [
    {
     "name": "stdout",
     "output_type": "stream",
     "text": [
      "Usando un modelo pre-entrenado en models/sarimax_model.pkl\n",
      "                                     SARIMAX Results                                     \n",
      "=========================================================================================\n",
      "Dep. Variable:                          T (degC)   No. Observations:               200000\n",
      "Model:             SARIMAX(1, 1, 2)x(1, 1, 2, 4)   Log Likelihood               46387.378\n",
      "Date:                           Sun, 03 Mar 2024   AIC                         -92754.757\n",
      "Time:                                   15:49:33   BIC                         -92652.696\n",
      "Sample:                                        0   HQIC                        -92724.718\n",
      "                                        - 200000                                         \n",
      "Covariance Type:                             opg                                         \n",
      "==============================================================================\n",
      "                 coef    std err          z      P>|z|      [0.025      0.975]\n",
      "------------------------------------------------------------------------------\n",
      "x1            -0.2265      0.002   -115.573      0.000      -0.230      -0.223\n",
      "x2             0.5336      0.003    212.567      0.000       0.529       0.538\n",
      "x3            -0.3794      0.003   -135.322      0.000      -0.385      -0.374\n",
      "ar.L1          0.9506      0.001    988.397      0.000       0.949       0.952\n",
      "ma.L1         -0.4467      0.001   -328.095      0.000      -0.449      -0.444\n",
      "ma.L2         -0.3308      0.001   -242.867      0.000      -0.333      -0.328\n",
      "ar.S.L4       -0.9877      0.003   -344.821      0.000      -0.993      -0.982\n",
      "ma.S.L4       -0.0102      0.003     -3.932      0.000      -0.015      -0.005\n",
      "ma.S.L8       -0.9897      0.003   -380.882      0.000      -0.995      -0.985\n",
      "sigma2         0.0368   3.84e-05    958.260      0.000       0.037       0.037\n",
      "===================================================================================\n",
      "Ljung-Box (L1) (Q):                   1.48   Jarque-Bera (JB):           3702156.27\n",
      "Prob(Q):                              0.22   Prob(JB):                         0.00\n",
      "Heteroskedasticity (H):               0.98   Skew:                            -1.14\n",
      "Prob(H) (two-sided):                  0.03   Kurtosis:                        23.95\n",
      "===================================================================================\n",
      "\n",
      "Warnings:\n",
      "[1] Covariance matrix calculated using the outer product of gradients (complex-step).\n",
      "CPU times: user 1min 21s, sys: 1min 43s, total: 3min 5s\n",
      "Wall time: 28.5 s\n"
     ]
    }
   ],
   "source": [
    "%%time\n",
    "import pickle\n",
    "from statsmodels.tsa.statespace.sarimax import SARIMAX\n",
    "\n",
    "sarimax_model_path = os.path.join(models_path, 'sarimax_model.pkl')\n",
    "relative_path = os.path.relpath(sarimax_model_path, os.getcwd())\n",
    "if os.path.exists(sarimax_model_path):\n",
    "    with open(sarimax_model_path, 'rb') as f:\n",
    "        sarimax_model = pickle.load(f)\n",
    "    \n",
    "    print(f'Usando un modelo pre-entrenado en {relative_path}')\n",
    "else:\n",
    "    # Trabajaremos con los últimos 200k pasos de tiempo solamente.\n",
    "    endog = train_set.loc[len(train_set)-200000:, 'T (degC)']\n",
    "    exog = train_set.loc[len(train_set)-200000:, ['p (mbar)', 'Tdew (degC)', 'H2OC (mmol/mol)']].values\n",
    "\n",
    "    sarimax = SARIMAX(endog, exog, order=(1, 1, 2), seasonal_order=(1, 1, 2, 4), simple_differencing=False)\n",
    "    sarimax_model = sarimax.fit(disp=False)\n",
    "\n",
    "    sarimax_model.save(sarimax_model_path)\n",
    "\n",
    "    print(f'Guardando modelo en {relative_path}')\n",
    "\n",
    "print(sarimax_model.summary())"
   ]
  },
  {
   "cell_type": "code",
   "execution_count": 7,
   "metadata": {},
   "outputs": [
    {
     "name": "stdout",
     "output_type": "stream",
     "text": [
      "MSE Modelo SARIMAX: 75.0673\n"
     ]
    }
   ],
   "source": [
    "from sklearn.metrics import mean_squared_error\n",
    "\n",
    "test_endog = test_set['T (degC)']\n",
    "test_exog = test_set[['p (mbar)', 'Tdew (degC)', 'H2OC (mmol/mol)']]\n",
    "\n",
    "sarimax_preds = sarimax_model.get_forecast(steps=test_endog.shape[0], exog=test_exog).predicted_mean\n",
    "\n",
    "validation = pd.DataFrame({'data': test_endog.values, 'prediction': sarimax_preds.values})\n",
    "\n",
    "mse = mean_squared_error(validation['data'], validation['prediction'])\n",
    "print(f\"MSE Modelo SARIMAX: {mse:.4f}\")\n",
    "# Ya no necesitamos mas el modelo sarimax en memoria\n",
    "del sarimax_model"
   ]
  },
  {
   "cell_type": "markdown",
   "metadata": {},
   "source": [
    "## Modelo CNN simple\n",
    "\n",
    "![](../assets/TS-SimpleCNN.drawio-wbg.png)\n",
    "\n",
    "En este caso vamos a trabajar dos versiones diferentes de un modelo CNN simple para este caso. En el primero, vamos a usar convoluciones 2D, para lo cual necesitaremos hacer algunos ajustes a los datos mientras pasan por la red. Luego, vamos a usar un modelo con convoluciones 1D, donde los datos que tenemos se facilitan más para este caso."
   ]
  },
  {
   "cell_type": "code",
   "execution_count": 8,
   "metadata": {},
   "outputs": [
    {
     "name": "stdout",
     "output_type": "stream",
     "text": [
      "CPU times: user 21min 57s, sys: 3.06 s, total: 22min\n",
      "Wall time: 22min 1s\n"
     ]
    }
   ],
   "source": [
    "%%time\n",
    "import torch\n",
    "import torch.nn as nn\n",
    "from torch.utils.data import Dataset, DataLoader\n",
    "from sklearn.preprocessing import StandardScaler\n",
    "from pytorch_lightning import LightningModule, Trainer\n",
    "from typing import List, Tuple\n",
    "from torch.nn import functional as F\n",
    "from lightning.pytorch.loggers import TensorBoardLogger\n",
    "from sklearn.model_selection import train_test_split\n",
    "\n",
    "\n",
    "class TimeSeriesDataset(Dataset):\n",
    "    \"\"\"Time Series Dataset.\n",
    "    Define un pytorch dataset desde un pandas dataframe.\n",
    "    Asume que el dataframe provisto es una serie donde\n",
    "    cada fila corresponde a un paso de tiempo t y cada\n",
    "    columna son el vector a procesar.\n",
    "    \"\"\"\n",
    "    def __init__(self, \n",
    "                 dataframe: pd.DataFrame,\n",
    "                 target_col: str,\n",
    "                 feature_cols:  List[str],\n",
    "                 sequence_length: int = 10) -> None:\n",
    "        super().__init__()\n",
    "        self._dataframe = dataframe.reset_index(drop=True)\n",
    "        self.sequence_length = sequence_length\n",
    "        self.target_col = target_col\n",
    "        self.feature_cols = feature_cols\n",
    "        self.scaler = StandardScaler()\n",
    "        self.cache = {}\n",
    "\n",
    "    \n",
    "    def __len__(self):\n",
    "        # Porque a partir de n - sequence length, no se podrán extraer más secuencias.\n",
    "        return len(self._dataframe) - self.sequence_length\n",
    "    \n",
    "    def __getitem__(self, index) -> Tuple[torch.Tensor]:\n",
    "        if index in self.cache:\n",
    "            return self.cache[index]\n",
    "\n",
    "        start_idx = index\n",
    "        end_idx = index + self.sequence_length - 1\n",
    "\n",
    "        # Extraemos las secuencias, el valor objetivo debe estar incluido en la secuencia.\n",
    "        sequence = self._dataframe.loc[start_idx:end_idx, [self.target_col] + self.feature_cols].values\n",
    "        # Aplicamos escala si es necesario\n",
    "        sequence = self.scaler.fit_transform(sequence)\n",
    "        \n",
    "        # Extraemos el objetivo\n",
    "        target = self._dataframe.loc[end_idx, self.target_col]\n",
    "\n",
    "        # Convertimos a tensores de pytorch\n",
    "        sequence = torch.tensor(sequence, dtype=torch.float32)\n",
    "        target = torch.tensor(target, dtype=torch.float32)\n",
    "\n",
    "        self.cache[index] = (sequence, target)\n",
    "\n",
    "        return sequence, target\n",
    "\n",
    "\n",
    "sequence_length = 200\n",
    "train_dataset = TimeSeriesDataset(\n",
    "    train_set[columns], \n",
    "    target_col='T (degC)', \n",
    "    feature_cols=['p (mbar)', 'Tdew (degC)', 'H2OC (mmol/mol)'],\n",
    "    sequence_length = sequence_length\n",
    "    )\n",
    "\n",
    "# Este split puede tomar ~15min\n",
    "train_dataset, val_dataset = train_test_split(train_dataset, test_size=0.2, train_size=0.8)\n",
    "\n",
    "# Creamos los dataloaders para el entrenamiento de la red\n",
    "train_loader = DataLoader(train_dataset, batch_size=1024, shuffle=True, num_workers=6)\n",
    "val_loader = DataLoader(val_dataset, batch_size=1024, num_workers=6)"
   ]
  },
  {
   "cell_type": "markdown",
   "metadata": {},
   "source": [
    "### Definición del modelo y entrenamiento\n",
    "\n",
    "Ahora vamos a definir un modelo convolucional 2D. Recordemos que en redes convolucionales hay que ser cuidadosos con las dimensiones de entrada y salida de las capas ya que estas se van cambiando, en función de algunos hiper-parámetros, a medida que van pasando por las capas. Siempre tener presente las siguiente formulas:\n",
    "\n",
    "#### Dimensiones de salida de capa convolucional y pooling\n",
    "$$\n",
    "W_{out} = \\frac{W_{in} - K + 2P}{S} + 1 \\\\\n",
    "H_{out} = \\frac{H_{in} - K + 2P}{S} + 1\n",
    "$$\n",
    "\n",
    "Donde: \n",
    "- $W$ y $H$, en un tensor de rango 2, representarían el largo y ancho del mismo (si fuera una imágen), para tensores de rango 1, es único vector que lo compone.\n",
    "- $K$ es el tamaño del kernel que se usa en la capa\n",
    "- $P$ es el tamaño del padding definido. Cuando especificamos un padding tipo `same`, quiere decir que vamos a agregar padding hasta que el output tenga el mismo shape que el input.\n",
    "- $S$ es el stride of desplazamiento del kernel\n",
    "\n",
    "Por ejemplo, si esperamos un tensor de entrada de $200 \\times 4$ y definimos una capa convolucional 2D, con `kernel_size=4`, `padding=1` y `stride=1`, el output shape sería:\n",
    "$$\n",
    "W_{out} = \\frac{200 - 4 + 2 \\cdot 1}{1} + 1 = 199 \n",
    "$$\n"
   ]
  },
  {
   "cell_type": "code",
   "execution_count": 11,
   "metadata": {},
   "outputs": [
    {
     "name": "stderr",
     "output_type": "stream",
     "text": [
      "GPU available: True (cuda), used: True\n",
      "TPU available: False, using: 0 TPU cores\n",
      "IPU available: False, using: 0 IPUs\n",
      "HPU available: False, using: 0 HPUs\n",
      "LOCAL_RANK: 0 - CUDA_VISIBLE_DEVICES: [0]\n"
     ]
    },
    {
     "name": "stderr",
     "output_type": "stream",
     "text": [
      "\n",
      "  | Name      | Type       | Params\n",
      "-----------------------------------------\n",
      "0 | cnn_block | Sequential | 9.6 K \n",
      "1 | fc_block  | Sequential | 557 K \n",
      "-----------------------------------------\n",
      "566 K     Trainable params\n",
      "0         Non-trainable params\n",
      "566 K     Total params\n",
      "2.268     Total estimated model params size (MB)\n"
     ]
    },
    {
     "name": "stdout",
     "output_type": "stream",
     "text": [
      "Epoch 9: 100%|██████████| 296/296 [00:06<00:00, 43.28it/s, v_num=10, train_loss=15.80]"
     ]
    },
    {
     "name": "stderr",
     "output_type": "stream",
     "text": [
      "`Trainer.fit` stopped: `max_epochs=10` reached.\n"
     ]
    },
    {
     "name": "stdout",
     "output_type": "stream",
     "text": [
      "Epoch 9: 100%|██████████| 296/296 [00:06<00:00, 43.14it/s, v_num=10, train_loss=15.80]\n",
      "CPU times: user 57.5 s, sys: 12.2 s, total: 1min 9s\n",
      "Wall time: 1min 10s\n"
     ]
    }
   ],
   "source": [
    "%%time\n",
    "from pytorch_lightning.callbacks.early_stopping import EarlyStopping\n",
    "\n",
    "class SimpleCNN2D(LightningModule):\n",
    "\n",
    "    def __init__(self):\n",
    "        super(SimpleCNN2D, self).__init__()\n",
    "\n",
    "        # entra (1, 200, 4) => (un canal, longitud de la secuencia, features del time step)\n",
    "        self.cnn_block = nn.Sequential(\n",
    "            nn.Conv2d(in_channels=1, out_channels=16, kernel_size=4, padding='same', padding_mode='replicate', stride=1),  # sale (16, 200, 4)\n",
    "            nn.ReLU(),\n",
    "            nn.MaxPool2d(kernel_size=2, padding=1),  # sale (16, 101, 3)\n",
    "            nn.Conv2d(16, 64, kernel_size=3, padding='same', stride=1),  # sale (64, 101, 3)\n",
    "            nn.ReLU(),\n",
    "            nn.MaxPool2d(kernel_size=3),  # sale (64, 33, 1)\n",
    "            nn.Flatten(start_dim=1)  # sale (2112)\n",
    "        )\n",
    "\n",
    "        self.fc_block = nn.Sequential(\n",
    "            nn.Linear(2112, 256),\n",
    "            nn.ReLU(),\n",
    "            nn.Linear(256, 64),\n",
    "            nn.ReLU(),\n",
    "            nn.Linear(64, 1)\n",
    "        )\n",
    "\n",
    "        self.hparams['cnn_block'] = str(self.cnn_block)\n",
    "        self.hparams['fc_block'] = str(self.fc_block)\n",
    "        self.save_hyperparameters()\n",
    "\n",
    "    def forward(self, x):\n",
    "        # Como nuestro dato de entrada solo tiene un valor por cada par tiempo-feature y\n",
    "        # Las capas convolucionales esperan un tensor de tercer rango, debemos\n",
    "        # expandir el rango del tensor, entonces pasamos de\n",
    "        # (batch, sequence_length, feature_dim) a (batch, channel, sequence_length, feature_dim)\n",
    "        # aquí channel es un placeholder para reservar el espacio para esa dimension.\n",
    "        x = x.unsqueeze(1)\n",
    "        x = self.cnn_block(x)\n",
    "        return self.fc_block(x)\n",
    "\n",
    "    def training_step(self, batch, batch_idx):\n",
    "        x, y = batch\n",
    "        y_hat = self(x)\n",
    "        loss = F.mse_loss(y_hat, y.unsqueeze(-1))\n",
    "        self.log('train_loss', loss, prog_bar=True)\n",
    "        return loss\n",
    "\n",
    "    def validation_step(self, batch, batch_idx):\n",
    "        x, y = batch\n",
    "        y_hat = self(x)\n",
    "        loss = F.mse_loss(y_hat, y.unsqueeze(-1))\n",
    "        self.log('val_loss', loss)\n",
    "        return loss\n",
    "\n",
    "    def test_step(self, batch, batch_idx):\n",
    "        x, y = batch\n",
    "        y_hat = self(x)\n",
    "        loss = F.mse_loss(y_hat, y.unsqueeze(-1))\n",
    "        self.log('test_loss', loss)\n",
    "\n",
    "    def predict_step(self, batch):\n",
    "        x, y = batch\n",
    "        return torch.cat([self(x), y.unsqueeze(-1)], axis=-1)\n",
    "\n",
    "    def configure_optimizers(self):\n",
    "        return torch.optim.Adam(self.parameters(), lr=1e-3)\n",
    "\n",
    "cnn2d_model = SimpleCNN2D()\n",
    "\n",
    "tb_logger = TensorBoardLogger('tb_logs', name='SimpleCNN2D')\n",
    "trainer2d = Trainer(max_epochs=10, devices=1, logger=tb_logger, callbacks=[EarlyStopping(monitor='val_loss', mode='min')])\n",
    "trainer2d.fit(cnn2d_model, train_loader, val_loader)"
   ]
  },
  {
   "cell_type": "markdown",
   "metadata": {},
   "source": [
    "Finalizado el entrenamiento, procedemos a validar los resultados en el conjunto de prueba."
   ]
  },
  {
   "cell_type": "code",
   "execution_count": 12,
   "metadata": {},
   "outputs": [
    {
     "name": "stderr",
     "output_type": "stream",
     "text": [
      "Restoring states from the checkpoint path at tb_logs/SimpleCNN2D/version_10/checkpoints/epoch=9-step=2960.ckpt\n",
      "LOCAL_RANK: 0 - CUDA_VISIBLE_DEVICES: [0]\n",
      "Loaded model weights from the checkpoint at tb_logs/SimpleCNN2D/version_10/checkpoints/epoch=9-step=2960.ckpt\n"
     ]
    },
    {
     "name": "stdout",
     "output_type": "stream",
     "text": [
      "Testing DataLoader 0: 100%|██████████| 82/82 [00:33<00:00,  2.43it/s]\n",
      "────────────────────────────────────────────────────────────────────────────────────────────────────────────────────────\n",
      "       Test metric             DataLoader 0\n",
      "────────────────────────────────────────────────────────────────────────────────────────────────────────────────────────\n",
      "        test_loss           24.903310775756836\n",
      "────────────────────────────────────────────────────────────────────────────────────────────────────────────────────────\n"
     ]
    }
   ],
   "source": [
    "cnn2d_model.eval()\n",
    "test_dataset = TimeSeriesDataset(\n",
    "    test_set[columns], \n",
    "    target_col='T (degC)', \n",
    "    feature_cols=['p (mbar)', 'Tdew (degC)', 'H2OC (mmol/mol)'],\n",
    "    sequence_length = sequence_length\n",
    "    )\n",
    "test_loader = DataLoader(test_dataset, batch_size=512)\n",
    "result2d = trainer2d.test(dataloaders=test_loader)"
   ]
  },
  {
   "cell_type": "markdown",
   "metadata": {},
   "source": [
    "#### Definición de modelo convolucional 1D\n",
    "\n",
    "Ahora vamos a definir un segundo modelo, esta vez utilizando capas convolucionales 1D. Las reglas de cálculo para el output shape siguen siendo las mismas, sin embargo la forma como las operamos y pasamos el input es ligeramente distinta. El resto del modelo y entrenamiento siguen siendo los mismos."
   ]
  },
  {
   "cell_type": "code",
   "execution_count": 13,
   "metadata": {},
   "outputs": [
    {
     "name": "stderr",
     "output_type": "stream",
     "text": [
      "GPU available: True (cuda), used: True\n",
      "TPU available: False, using: 0 TPU cores\n",
      "IPU available: False, using: 0 IPUs\n",
      "HPU available: False, using: 0 HPUs\n",
      "LOCAL_RANK: 0 - CUDA_VISIBLE_DEVICES: [0]\n",
      "\n",
      "  | Name      | Type       | Params\n",
      "-----------------------------------------\n",
      "0 | cnn_block | Sequential | 3.3 K \n",
      "1 | fc_block  | Sequential | 360 K \n",
      "-----------------------------------------\n",
      "364 K     Trainable params\n",
      "0         Non-trainable params\n",
      "364 K     Total params\n",
      "1.457     Total estimated model params size (MB)\n"
     ]
    },
    {
     "name": "stdout",
     "output_type": "stream",
     "text": [
      "Sanity Checking: |          | 0/? [00:00<?, ?it/s]"
     ]
    },
    {
     "name": "stdout",
     "output_type": "stream",
     "text": [
      "Epoch 9: 100%|██████████| 296/296 [00:04<00:00, 66.15it/s, v_num=8, train_loss=18.60] "
     ]
    },
    {
     "name": "stderr",
     "output_type": "stream",
     "text": [
      "`Trainer.fit` stopped: `max_epochs=10` reached.\n"
     ]
    },
    {
     "name": "stdout",
     "output_type": "stream",
     "text": [
      "Epoch 9: 100%|██████████| 296/296 [00:04<00:00, 65.88it/s, v_num=8, train_loss=18.60]\n",
      "CPU times: user 31.8 s, sys: 12.5 s, total: 44.3 s\n",
      "Wall time: 45.9 s\n"
     ]
    }
   ],
   "source": [
    "%%time\n",
    "from pytorch_lightning.callbacks.early_stopping import EarlyStopping\n",
    "\n",
    "class SimpleCNN1D(LightningModule):\n",
    "\n",
    "    def __init__(self):\n",
    "        super(SimpleCNN1D, self).__init__()\n",
    "\n",
    "        # entra (4, 200) => (un canal, longitud de la secuencia)\n",
    "        self.cnn_block = nn.Sequential(\n",
    "            nn.Conv1d(in_channels=4, out_channels=16, kernel_size=3, stride=1),  # sale (16, 198)\n",
    "            nn.ReLU(),\n",
    "            nn.MaxPool1d(kernel_size=3),  # sale (16, 66)\n",
    "            nn.ReLU(),\n",
    "            nn.Conv1d(16, 64, kernel_size=3, stride=1),  # sale (64, 64)\n",
    "            nn.ReLU(),\n",
    "            nn.MaxPool1d(kernel_size=3),  # sale (64, 21)\n",
    "            nn.Flatten(start_dim=1)  # sale (1344)\n",
    "        )\n",
    "\n",
    "        self.fc_block = nn.Sequential(\n",
    "            nn.Linear(1344, 256),\n",
    "            nn.ReLU(),\n",
    "            nn.Linear(256, 64),\n",
    "            nn.ReLU(),\n",
    "            nn.Linear(64, 1)\n",
    "        )\n",
    "\n",
    "        self.hparams['cnn_block'] = str(self.cnn_block)\n",
    "        self.hparams['fc_block'] = str(self.fc_block)\n",
    "        self.save_hyperparameters()\n",
    "\n",
    "    def forward(self, x):\n",
    "        # Debemos intercambiar las dimensiones del tensor de entrada\n",
    "        # Recordemos que entra (batch, sequence_length, feature_dim)\n",
    "        # Las capas Conv1D experan recibir la secuencia en la última dimension\n",
    "        # ya que los kernels se van a desplazar en esta dirección\n",
    "        x = x.permute(0, 2, 1)\n",
    "        x = self.cnn_block(x)\n",
    "        return self.fc_block(x)\n",
    "\n",
    "    def training_step(self, batch, batch_idx):\n",
    "        x, y = batch\n",
    "        y_hat = self(x)\n",
    "        loss = F.mse_loss(y_hat, y.unsqueeze(-1))\n",
    "        self.log('train_loss', loss, prog_bar=True)\n",
    "        return loss\n",
    "\n",
    "    def validation_step(self, batch, batch_idx):\n",
    "        x, y = batch\n",
    "        y_hat = self(x)\n",
    "        loss = F.mse_loss(y_hat, y.unsqueeze(-1))\n",
    "        self.log('val_loss', loss)\n",
    "        return loss\n",
    "\n",
    "    def test_step(self, batch, batch_idx):\n",
    "        x, y = batch\n",
    "        y_hat = self(x)\n",
    "        loss = F.mse_loss(y_hat, y.unsqueeze(-1))\n",
    "        self.log('test_loss', loss)\n",
    "\n",
    "    def predict_step(self, batch):\n",
    "        x, y = batch\n",
    "        return torch.cat([self(x), y.unsqueeze(-1)], axis=-1)\n",
    "\n",
    "    def configure_optimizers(self):\n",
    "        return torch.optim.Adam(self.parameters(), lr=1e-3)\n",
    "\n",
    "cnn1d_model = SimpleCNN1D()\n",
    "\n",
    "tb_logger = TensorBoardLogger('tb_logs', name='SimpleCNN1D')\n",
    "trainer1d = Trainer(max_epochs=10, devices=1, logger=tb_logger, callbacks=[EarlyStopping(monitor='val_loss', mode='min')])\n",
    "trainer1d.fit(cnn1d_model, train_loader, val_loader)"
   ]
  },
  {
   "cell_type": "markdown",
   "metadata": {},
   "source": [
    "Finalizado el entrenamiento procedemos a validar en el conjunto de prueba"
   ]
  },
  {
   "cell_type": "code",
   "execution_count": 14,
   "metadata": {},
   "outputs": [
    {
     "name": "stderr",
     "output_type": "stream",
     "text": [
      "Restoring states from the checkpoint path at tb_logs/SimpleCNN1D/version_8/checkpoints/epoch=9-step=2960.ckpt\n",
      "LOCAL_RANK: 0 - CUDA_VISIBLE_DEVICES: [0]\n",
      "Loaded model weights from the checkpoint at tb_logs/SimpleCNN1D/version_8/checkpoints/epoch=9-step=2960.ckpt\n"
     ]
    },
    {
     "name": "stdout",
     "output_type": "stream",
     "text": [
      "Testing DataLoader 0: 100%|██████████| 82/82 [00:00<00:00, 217.76it/s]\n",
      "────────────────────────────────────────────────────────────────────────────────────────────────────────────────────────\n",
      "       Test metric             DataLoader 0\n",
      "────────────────────────────────────────────────────────────────────────────────────────────────────────────────────────\n",
      "        test_loss           25.353471755981445\n",
      "────────────────────────────────────────────────────────────────────────────────────────────────────────────────────────\n"
     ]
    }
   ],
   "source": [
    "cnn1d_model.eval()\n",
    "test_loader = DataLoader(test_dataset, batch_size=512)\n",
    "result1d = trainer1d.test(dataloaders=test_loader)"
   ]
  },
  {
   "cell_type": "markdown",
   "metadata": {},
   "source": [
    "Ahora comparemos las curvas de aprendizaje de los modelos que hemos entrenado hasta ahora."
   ]
  },
  {
   "cell_type": "code",
   "execution_count": 15,
   "metadata": {},
   "outputs": [],
   "source": [
    "%load_ext tensorboard"
   ]
  },
  {
   "cell_type": "code",
   "execution_count": 16,
   "metadata": {},
   "outputs": [
    {
     "data": {
      "text/plain": [
       "Reusing TensorBoard on port 6006 (pid 289111), started 3 days, 7:52:20 ago. (Use '!kill 289111' to kill it.)"
      ]
     },
     "metadata": {},
     "output_type": "display_data"
    },
    {
     "data": {
      "text/html": [
       "\n",
       "      <iframe id=\"tensorboard-frame-aee7727af2afccb6\" width=\"100%\" height=\"800\" frameborder=\"0\">\n",
       "      </iframe>\n",
       "      <script>\n",
       "        (function() {\n",
       "          const frame = document.getElementById(\"tensorboard-frame-aee7727af2afccb6\");\n",
       "          const url = new URL(\"http://localhost\");\n",
       "          const port = 6006;\n",
       "          if (port) {\n",
       "            url.port = port;\n",
       "          }\n",
       "          frame.src = url;\n",
       "        })();\n",
       "      </script>\n",
       "    "
      ],
      "text/plain": [
       "<IPython.core.display.HTML object>"
      ]
     },
     "metadata": {},
     "output_type": "display_data"
    }
   ],
   "source": [
    "%tensorboard --logdir tb_logs/"
   ]
  },
  {
   "cell_type": "markdown",
   "metadata": {},
   "source": [
    "### Resultados interesantes\n",
    "\n",
    "Observamos que en comparación con la pérdida en entrenamiento esta es significativamente mayor, lo cual sugiere que el modelo está memorizando los datos, es decir, estaría haciendo overfitting. Ya sabemos que esto lo podríamos tratar con regularización en la red y/o en la función de pérdida.\n",
    "\n",
    "También, desde el punto de vista de la comparación con los otros modelos, todos los modelos parecen ser superiores al modelo clásico en métricas. Pero recordemos siempre hacer una comprobación visual.\n",
    "\n",
    "\n",
    "| Modelo  | MSE Loss|\n",
    "| ------- | ------- |\n",
    "| SARIMAX | 75.0673 |\n",
    "| CNN2D   | 24.9033 |\n",
    "| CNN1D   | 28.0748 |\n",
    "| MLP     | 30.8823 |\n",
    "| LSTM    | 32.1435 |\n",
    "\n",
    "## Pronósticos\n",
    "\n",
    "Ya que tenemos varios modelos entrenados, podemos hacer comparaciones entre estos y ver cuales se ajustan mejor a los datos. Para ello vamos a cargar los modelos pre-entrenados que tenemos (estarán disponibles si se han ejecutado los notebooks anterioes y/o se han subido los archivos necesarios en las rutas especificadas)"
   ]
  },
  {
   "cell_type": "code",
   "execution_count": 18,
   "metadata": {},
   "outputs": [
    {
     "name": "stderr",
     "output_type": "stream",
     "text": [
      "GPU available: True (cuda), used: True\n",
      "TPU available: False, using: 0 TPU cores\n",
      "IPU available: False, using: 0 IPUs\n",
      "HPU available: False, using: 0 HPUs\n",
      "LOCAL_RANK: 0 - CUDA_VISIBLE_DEVICES: [0]\n"
     ]
    },
    {
     "name": "stdout",
     "output_type": "stream",
     "text": [
      "Usando tb_logs/SimpleMLP/version_2/checkpoints/epoch=9-step=2960.ckpt\n",
      "Predicting DataLoader 0:   4%|▎         | 3/82 [00:00<00:00, 401.24it/s]"
     ]
    },
    {
     "name": "stdout",
     "output_type": "stream",
     "text": [
      "Predicting DataLoader 0: 100%|██████████| 82/82 [00:00<00:00, 308.28it/s]\n",
      "Usando tb_logs/SimpleLSTM/version_9/checkpoints/epoch=9-step=23650.ckpt\n"
     ]
    },
    {
     "name": "stderr",
     "output_type": "stream",
     "text": [
      "GPU available: True (cuda), used: True\n",
      "TPU available: False, using: 0 TPU cores\n",
      "IPU available: False, using: 0 IPUs\n",
      "HPU available: False, using: 0 HPUs\n",
      "LOCAL_RANK: 0 - CUDA_VISIBLE_DEVICES: [0]\n"
     ]
    },
    {
     "name": "stdout",
     "output_type": "stream",
     "text": [
      "Predicting DataLoader 0: 100%|██████████| 82/82 [00:02<00:00, 38.86it/s]\n",
      "Usando tb_logs/SimpleCNN1D/version_8/checkpoints/epoch=9-step=2960.ckpt\n"
     ]
    },
    {
     "name": "stderr",
     "output_type": "stream",
     "text": [
      "GPU available: True (cuda), used: True\n",
      "TPU available: False, using: 0 TPU cores\n",
      "IPU available: False, using: 0 IPUs\n",
      "HPU available: False, using: 0 HPUs\n",
      "LOCAL_RANK: 0 - CUDA_VISIBLE_DEVICES: [0]\n"
     ]
    },
    {
     "name": "stdout",
     "output_type": "stream",
     "text": [
      "Predicting DataLoader 0: 100%|██████████| 82/82 [00:00<00:00, 307.72it/s]\n",
      "Usando tb_logs/SimpleCNN2D/version_9/checkpoints/epoch=9-step=2960.ckpt\n"
     ]
    },
    {
     "name": "stderr",
     "output_type": "stream",
     "text": [
      "GPU available: True (cuda), used: True\n",
      "TPU available: False, using: 0 TPU cores\n",
      "IPU available: False, using: 0 IPUs\n",
      "HPU available: False, using: 0 HPUs\n",
      "LOCAL_RANK: 0 - CUDA_VISIBLE_DEVICES: [0]\n"
     ]
    },
    {
     "name": "stdout",
     "output_type": "stream",
     "text": [
      "Predicting DataLoader 0: 100%|██████████| 82/82 [00:00<00:00, 263.55it/s]\n"
     ]
    }
   ],
   "source": [
    "from time_series_models import SimpleMLP, SimpleLSTM\n",
    "\n",
    "steps = 2000\n",
    "# Por defecto se cargarán los últimos modelos en sus respectivos directorios.\n",
    "# Pueden modificar las rutas a un modelo fijo especifico si lo desean.\n",
    "models = {\n",
    "    \"mlp\": os.path.join(\"tb_logs/SimpleMLP\", sorted(os.listdir('tb_logs/SimpleMLP/'))[-1]),\n",
    "    \"lstm\": os.path.join(\"tb_logs/SimpleLSTM\", sorted(os.listdir('tb_logs/SimpleLSTM/'))[-1]),\n",
    "    \"cnn1d\": os.path.join(\"tb_logs/SimpleCNN1D\", sorted(os.listdir('tb_logs/SimpleCNN1D/'))[-1]),\n",
    "    \"cnn2d\": os.path.join(\"tb_logs/SimpleCNN2D\", sorted(os.listdir('tb_logs/SimpleCNN2D/'))[-1]),\n",
    "}\n",
    "\n",
    "predictions = {\n",
    "    \"sarimax\": sarimax_preds[-steps-10:][:-10],\n",
    "}\n",
    "\n",
    "added_ground_truth = False\n",
    "\n",
    "for name, path in models.items():\n",
    "    cp_path = os.path.join(path, 'checkpoints')\n",
    "    cp_file = os.path.join(cp_path, os.listdir(cp_path)[0])\n",
    "    relative_path = os.path.relpath(cp_file, os.getcwd())\n",
    "    print(f\"Usando {cp_file}\")\n",
    "    if name == \"mlp\":\n",
    "        model = SimpleMLP.load_from_checkpoint(cp_file)\n",
    "    elif name == \"lstm\":\n",
    "        model = SimpleLSTM.load_from_checkpoint(cp_file)\n",
    "    elif name == \"cnn1d\":\n",
    "        model = SimpleCNN1D.load_from_checkpoint(cp_file)\n",
    "    elif name == \"cnn2d\":\n",
    "        model = SimpleCNN2D.load_from_checkpoint(cp_file)\n",
    "    else:\n",
    "        raise ValueError(f\"Modelo no válido: {name}\")\n",
    "\n",
    "    trainer = Trainer()\n",
    "    batched_preds = trainer.predict(model, dataloaders=test_loader)\n",
    "    preds = np.concatenate([b.numpy() for b in batched_preds])\n",
    "    predictions[name] = preds[-steps:, 0]\n",
    "\n",
    "    if not added_ground_truth:\n",
    "        predictions['ground_truth'] = preds[-steps:, 1]\n",
    "        added_ground_truth = True\n",
    "\n",
    "visual_check = pd.DataFrame(predictions)\n",
    "    "
   ]
  },
  {
   "cell_type": "code",
   "execution_count": 19,
   "metadata": {},
   "outputs": [
    {
     "data": {
      "text/html": [
       "    <style>\n",
       "        .bk-notebook-logo {\n",
       "            display: block;\n",
       "            width: 20px;\n",
       "            height: 20px;\n",
       "            background-image: url(data:image/png;base64,iVBORw0KGgoAAAANSUhEUgAAABQAAAAUCAYAAACNiR0NAAAABHNCSVQICAgIfAhkiAAAAAlwSFlzAAALEgAACxIB0t1+/AAAABx0RVh0U29mdHdhcmUAQWRvYmUgRmlyZXdvcmtzIENTNui8sowAAAOkSURBVDiNjZRtaJVlGMd/1/08zzln5zjP1LWcU9N0NkN8m2CYjpgQYQXqSs0I84OLIC0hkEKoPtiH3gmKoiJDU7QpLgoLjLIQCpEsNJ1vqUOdO7ppbuec5+V+rj4ctwzd8IIbbi6u+8f1539dt3A78eXC7QizUF7gyV1fD1Yqg4JWz84yffhm0qkFqBogB9rM8tZdtwVsPUhWhGcFJngGeWrPzHm5oaMmkfEg1usvLFyc8jLRqDOMru7AyC8saQr7GG7f5fvDeH7Ej8CM66nIF+8yngt6HWaKh7k49Soy9nXurCi1o3qUbS3zWfrYeQDTB/Qj6kX6Ybhw4B+bOYoLKCC9H3Nu/leUTZ1JdRWkkn2ldcCamzrcf47KKXdAJllSlxAOkRgyHsGC/zRday5Qld9DyoM4/q/rUoy/CXh3jzOu3bHUVZeU+DEn8FInkPBFlu3+nW3Nw0mk6vCDiWg8CeJaxEwuHS3+z5RgY+YBR6V1Z1nxSOfoaPa4LASWxxdNp+VWTk7+4vzaou8v8PN+xo+KY2xsw6une2frhw05CTYOmQvsEhjhWjn0bmXPjpE1+kplmmkP3suftwTubK9Vq22qKmrBhpY4jvd5afdRA3wGjFAgcnTK2s4hY0/GPNIb0nErGMCRxWOOX64Z8RAC4oCXdklmEvcL8o0BfkNK4lUg9HTl+oPlQxdNo3Mg4Nv175e/1LDGzZen30MEjRUtmXSfiTVu1kK8W4txyV6BMKlbgk3lMwYCiusNy9fVfvvwMxv8Ynl6vxoByANLTWplvuj/nF9m2+PDtt1eiHPBr1oIfhCChQMBw6Aw0UulqTKZdfVvfG7VcfIqLG9bcldL/+pdWTLxLUy8Qq38heUIjh4XlzZxzQm19lLFlr8vdQ97rjZVOLf8nclzckbcD4wxXMidpX30sFd37Fv/GtwwhzhxGVAprjbg0gCAEeIgwCZyTV2Z1REEW8O4py0wsjeloKoMr6iCY6dP92H6Vw/oTyICIthibxjm/DfN9lVz8IqtqKYLUXfoKVMVQVVJOElGjrnnUt9T9wbgp8AyYKaGlqingHZU/uG2NTZSVqwHQTWkx9hxjkpWDaCg6Ckj5qebgBVbT3V3NNXMSiWSDdGV3hrtzla7J+duwPOToIg42ChPQOQjspnSlp1V+Gjdged7+8UN5CRAV7a5EdFNwCjEaBR27b3W890TE7g24NAP/mMDXRWrGoFPQI9ls/MWO2dWFAar/xcOIImbbpA3zgAAAABJRU5ErkJggg==);\n",
       "        }\n",
       "    </style>\n",
       "    <div>\n",
       "        <a href=\"https://bokeh.org\" target=\"_blank\" class=\"bk-notebook-logo\"></a>\n",
       "        <span id=\"e17cb7ca-b833-4bed-9127-c67c0af65859\">Loading BokehJS ...</span>\n",
       "    </div>\n"
      ]
     },
     "metadata": {},
     "output_type": "display_data"
    },
    {
     "data": {
      "application/javascript": "(function(root) {\n  function now() {\n    return new Date();\n  }\n\n  const force = true;\n\n  if (typeof root._bokeh_onload_callbacks === \"undefined\" || force === true) {\n    root._bokeh_onload_callbacks = [];\n    root._bokeh_is_loading = undefined;\n  }\n\nconst JS_MIME_TYPE = 'application/javascript';\n  const HTML_MIME_TYPE = 'text/html';\n  const EXEC_MIME_TYPE = 'application/vnd.bokehjs_exec.v0+json';\n  const CLASS_NAME = 'output_bokeh rendered_html';\n\n  /**\n   * Render data to the DOM node\n   */\n  function render(props, node) {\n    const script = document.createElement(\"script\");\n    node.appendChild(script);\n  }\n\n  /**\n   * Handle when an output is cleared or removed\n   */\n  function handleClearOutput(event, handle) {\n    function drop(id) {\n      const view = Bokeh.index.get_by_id(id)\n      if (view != null) {\n        view.model.document.clear()\n        Bokeh.index.delete(view)\n      }\n    }\n\n    const cell = handle.cell;\n\n    const id = cell.output_area._bokeh_element_id;\n    const server_id = cell.output_area._bokeh_server_id;\n\n    // Clean up Bokeh references\n    if (id != null) {\n      drop(id)\n    }\n\n    if (server_id !== undefined) {\n      // Clean up Bokeh references\n      const cmd_clean = \"from bokeh.io.state import curstate; print(curstate().uuid_to_server['\" + server_id + \"'].get_sessions()[0].document.roots[0]._id)\";\n      cell.notebook.kernel.execute(cmd_clean, {\n        iopub: {\n          output: function(msg) {\n            const id = msg.content.text.trim()\n            drop(id)\n          }\n        }\n      });\n      // Destroy server and session\n      const cmd_destroy = \"import bokeh.io.notebook as ion; ion.destroy_server('\" + server_id + \"')\";\n      cell.notebook.kernel.execute(cmd_destroy);\n    }\n  }\n\n  /**\n   * Handle when a new output is added\n   */\n  function handleAddOutput(event, handle) {\n    const output_area = handle.output_area;\n    const output = handle.output;\n\n    // limit handleAddOutput to display_data with EXEC_MIME_TYPE content only\n    if ((output.output_type != \"display_data\") || (!Object.prototype.hasOwnProperty.call(output.data, EXEC_MIME_TYPE))) {\n      return\n    }\n\n    const toinsert = output_area.element.find(\".\" + CLASS_NAME.split(' ')[0]);\n\n    if (output.metadata[EXEC_MIME_TYPE][\"id\"] !== undefined) {\n      toinsert[toinsert.length - 1].firstChild.textContent = output.data[JS_MIME_TYPE];\n      // store reference to embed id on output_area\n      output_area._bokeh_element_id = output.metadata[EXEC_MIME_TYPE][\"id\"];\n    }\n    if (output.metadata[EXEC_MIME_TYPE][\"server_id\"] !== undefined) {\n      const bk_div = document.createElement(\"div\");\n      bk_div.innerHTML = output.data[HTML_MIME_TYPE];\n      const script_attrs = bk_div.children[0].attributes;\n      for (let i = 0; i < script_attrs.length; i++) {\n        toinsert[toinsert.length - 1].firstChild.setAttribute(script_attrs[i].name, script_attrs[i].value);\n        toinsert[toinsert.length - 1].firstChild.textContent = bk_div.children[0].textContent\n      }\n      // store reference to server id on output_area\n      output_area._bokeh_server_id = output.metadata[EXEC_MIME_TYPE][\"server_id\"];\n    }\n  }\n\n  function register_renderer(events, OutputArea) {\n\n    function append_mime(data, metadata, element) {\n      // create a DOM node to render to\n      const toinsert = this.create_output_subarea(\n        metadata,\n        CLASS_NAME,\n        EXEC_MIME_TYPE\n      );\n      this.keyboard_manager.register_events(toinsert);\n      // Render to node\n      const props = {data: data, metadata: metadata[EXEC_MIME_TYPE]};\n      render(props, toinsert[toinsert.length - 1]);\n      element.append(toinsert);\n      return toinsert\n    }\n\n    /* Handle when an output is cleared or removed */\n    events.on('clear_output.CodeCell', handleClearOutput);\n    events.on('delete.Cell', handleClearOutput);\n\n    /* Handle when a new output is added */\n    events.on('output_added.OutputArea', handleAddOutput);\n\n    /**\n     * Register the mime type and append_mime function with output_area\n     */\n    OutputArea.prototype.register_mime_type(EXEC_MIME_TYPE, append_mime, {\n      /* Is output safe? */\n      safe: true,\n      /* Index of renderer in `output_area.display_order` */\n      index: 0\n    });\n  }\n\n  // register the mime type if in Jupyter Notebook environment and previously unregistered\n  if (root.Jupyter !== undefined) {\n    const events = require('base/js/events');\n    const OutputArea = require('notebook/js/outputarea').OutputArea;\n\n    if (OutputArea.prototype.mime_types().indexOf(EXEC_MIME_TYPE) == -1) {\n      register_renderer(events, OutputArea);\n    }\n  }\n  if (typeof (root._bokeh_timeout) === \"undefined\" || force === true) {\n    root._bokeh_timeout = Date.now() + 5000;\n    root._bokeh_failed_load = false;\n  }\n\n  const NB_LOAD_WARNING = {'data': {'text/html':\n     \"<div style='background-color: #fdd'>\\n\"+\n     \"<p>\\n\"+\n     \"BokehJS does not appear to have successfully loaded. If loading BokehJS from CDN, this \\n\"+\n     \"may be due to a slow or bad network connection. Possible fixes:\\n\"+\n     \"</p>\\n\"+\n     \"<ul>\\n\"+\n     \"<li>re-rerun `output_notebook()` to attempt to load from CDN again, or</li>\\n\"+\n     \"<li>use INLINE resources instead, as so:</li>\\n\"+\n     \"</ul>\\n\"+\n     \"<code>\\n\"+\n     \"from bokeh.resources import INLINE\\n\"+\n     \"output_notebook(resources=INLINE)\\n\"+\n     \"</code>\\n\"+\n     \"</div>\"}};\n\n  function display_loaded() {\n    const el = document.getElementById(\"e17cb7ca-b833-4bed-9127-c67c0af65859\");\n    if (el != null) {\n      el.textContent = \"BokehJS is loading...\";\n    }\n    if (root.Bokeh !== undefined) {\n      if (el != null) {\n        el.textContent = \"BokehJS \" + root.Bokeh.version + \" successfully loaded.\";\n      }\n    } else if (Date.now() < root._bokeh_timeout) {\n      setTimeout(display_loaded, 100)\n    }\n  }\n\n  function run_callbacks() {\n    try {\n      root._bokeh_onload_callbacks.forEach(function(callback) {\n        if (callback != null)\n          callback();\n      });\n    } finally {\n      delete root._bokeh_onload_callbacks\n    }\n    console.debug(\"Bokeh: all callbacks have finished\");\n  }\n\n  function load_libs(css_urls, js_urls, callback) {\n    if (css_urls == null) css_urls = [];\n    if (js_urls == null) js_urls = [];\n\n    root._bokeh_onload_callbacks.push(callback);\n    if (root._bokeh_is_loading > 0) {\n      console.debug(\"Bokeh: BokehJS is being loaded, scheduling callback at\", now());\n      return null;\n    }\n    if (js_urls == null || js_urls.length === 0) {\n      run_callbacks();\n      return null;\n    }\n    console.debug(\"Bokeh: BokehJS not loaded, scheduling load and callback at\", now());\n    root._bokeh_is_loading = css_urls.length + js_urls.length;\n\n    function on_load() {\n      root._bokeh_is_loading--;\n      if (root._bokeh_is_loading === 0) {\n        console.debug(\"Bokeh: all BokehJS libraries/stylesheets loaded\");\n        run_callbacks()\n      }\n    }\n\n    function on_error(url) {\n      console.error(\"failed to load \" + url);\n    }\n\n    for (let i = 0; i < css_urls.length; i++) {\n      const url = css_urls[i];\n      const element = document.createElement(\"link\");\n      element.onload = on_load;\n      element.onerror = on_error.bind(null, url);\n      element.rel = \"stylesheet\";\n      element.type = \"text/css\";\n      element.href = url;\n      console.debug(\"Bokeh: injecting link tag for BokehJS stylesheet: \", url);\n      document.body.appendChild(element);\n    }\n\n    for (let i = 0; i < js_urls.length; i++) {\n      const url = js_urls[i];\n      const element = document.createElement('script');\n      element.onload = on_load;\n      element.onerror = on_error.bind(null, url);\n      element.async = false;\n      element.src = url;\n      console.debug(\"Bokeh: injecting script tag for BokehJS library: \", url);\n      document.head.appendChild(element);\n    }\n  };\n\n  function inject_raw_css(css) {\n    const element = document.createElement(\"style\");\n    element.appendChild(document.createTextNode(css));\n    document.body.appendChild(element);\n  }\n\n  const js_urls = [\"https://cdn.bokeh.org/bokeh/release/bokeh-3.3.4.min.js\", \"https://cdn.bokeh.org/bokeh/release/bokeh-gl-3.3.4.min.js\", \"https://cdn.bokeh.org/bokeh/release/bokeh-widgets-3.3.4.min.js\", \"https://cdn.bokeh.org/bokeh/release/bokeh-tables-3.3.4.min.js\", \"https://cdn.bokeh.org/bokeh/release/bokeh-mathjax-3.3.4.min.js\"];\n  const css_urls = [];\n\n  const inline_js = [    function(Bokeh) {\n      Bokeh.set_log_level(\"info\");\n    },\nfunction(Bokeh) {\n    }\n  ];\n\n  function run_inline_js() {\n    if (root.Bokeh !== undefined || force === true) {\n          for (let i = 0; i < inline_js.length; i++) {\n      inline_js[i].call(root, root.Bokeh);\n    }\nif (force === true) {\n        display_loaded();\n      }} else if (Date.now() < root._bokeh_timeout) {\n      setTimeout(run_inline_js, 100);\n    } else if (!root._bokeh_failed_load) {\n      console.log(\"Bokeh: BokehJS failed to load within specified timeout.\");\n      root._bokeh_failed_load = true;\n    } else if (force !== true) {\n      const cell = $(document.getElementById(\"e17cb7ca-b833-4bed-9127-c67c0af65859\")).parents('.cell').data().cell;\n      cell.output_area.append_execute_result(NB_LOAD_WARNING)\n    }\n  }\n\n  if (root._bokeh_is_loading === 0) {\n    console.debug(\"Bokeh: BokehJS loaded, going straight to plotting\");\n    run_inline_js();\n  } else {\n    load_libs(css_urls, js_urls, function() {\n      console.debug(\"Bokeh: BokehJS plotting callback run at\", now());\n      run_inline_js();\n    });\n  }\n}(window));",
      "application/vnd.bokehjs_load.v0+json": ""
     },
     "metadata": {},
     "output_type": "display_data"
    }
   ],
   "source": [
    "from bokeh.io import output_notebook\n",
    "\n",
    "output_notebook()"
   ]
  },
  {
   "cell_type": "code",
   "execution_count": 20,
   "metadata": {},
   "outputs": [
    {
     "data": {
      "text/html": [
       "\n",
       "  <div id=\"cfe1bae7-865c-4c73-b66b-ae15d089a13f\" data-root-id=\"p1004\" style=\"display: contents;\"></div>\n"
      ]
     },
     "metadata": {},
     "output_type": "display_data"
    },
    {
     "data": {
      "application/javascript": "(function(root) {\n  function embed_document(root) {\n  const docs_json = {\"40d011bd-0062-428a-98b2-46785b77bf66\":{\"version\":\"3.3.4\",\"title\":\"Bokeh Application\",\"roots\":[{\"type\":\"object\",\"name\":\"Figure\",\"id\":\"p1004\",\"attributes\":{\"width_policy\":\"max\",\"x_range\":{\"type\":\"object\",\"name\":\"DataRange1d\",\"id\":\"p1005\"},\"y_range\":{\"type\":\"object\",\"name\":\"DataRange1d\",\"id\":\"p1006\"},\"x_scale\":{\"type\":\"object\",\"name\":\"LinearScale\",\"id\":\"p1014\"},\"y_scale\":{\"type\":\"object\",\"name\":\"LinearScale\",\"id\":\"p1015\"},\"title\":{\"type\":\"object\",\"name\":\"Title\",\"id\":\"p1007\",\"attributes\":{\"text\":\"Comparaci\\u00f3n visual entre pron\\u00f3sticos y realidad\"}},\"renderers\":[{\"type\":\"object\",\"name\":\"GlyphRenderer\",\"id\":\"p1044\",\"attributes\":{\"data_source\":{\"type\":\"object\",\"name\":\"ColumnDataSource\",\"id\":\"p1001\",\"attributes\":{\"selected\":{\"type\":\"object\",\"name\":\"Selection\",\"id\":\"p1002\",\"attributes\":{\"indices\":[],\"line_indices\":[]}},\"selection_policy\":{\"type\":\"object\",\"name\":\"UnionRenderers\",\"id\":\"p1003\"},\"data\":{\"type\":\"map\",\"entries\":[[\"x\",[{\"type\":\"ndarray\",\"array\":{\"type\":\"bytes\",\"data\":\"7WIGAO5iBgDvYgYA8GIGAPFiBgDyYgYA82IGAPRiBgD1YgYA9mIGAPdiBgD4YgYA+WIGAPpiBgD7YgYA/GIGAP1iBgD+YgYA/2IGAABjBgABYwYAAmMGAANjBgAEYwYABWMGAAZjBgAHYwYACGMGAAljBgAKYwYAC2MGAAxjBgANYwYADmMGAA9jBgAQYwYAEWMGABJjBgATYwYAFGMGABVjBgAWYwYAF2MGABhjBgAZYwYAGmMGABtjBgAcYwYAHWMGAB5jBgAfYwYAIGMGACFjBgAiYwYAI2MGACRjBgAlYwYAJmMGACdjBgAoYwYAKWMGACpjBgArYwYALGMGAC1jBgAuYwYAL2MGADBjBgAxYwYAMmMGADNjBgA0YwYANWMGADZjBgA3YwYAOGMGADljBgA6YwYAO2MGADxjBgA9YwYAPmMGAD9jBgBAYwYAQWMGAEJjBgBDYwYARGMGAEVjBgBGYwYAR2MGAEhjBgBJYwYASmMGAEtjBgBMYwYATWMGAE5jBgBPYwYAUGMGAFFjBgBSYwYAU2MGAFRjBgBVYwYAVmMGAFdjBgBYYwYAWWMGAFpjBgBbYwYAXGMGAF1jBgBeYwYAX2MGAGBjBgBhYwYAYmMGAGNjBgBkYwYAZWMGAGZjBgBnYwYAaGMGAGljBgBqYwYAa2MGAGxjBgBtYwYAbmMGAG9jBgBwYwYAcWMGAHJjBgBzYwYAdGMGAHVjBgB2YwYAd2MGAHhjBgB5YwYAemMGAHtjBgB8YwYAfWMGAH5jBgB/YwYAgGMGAIFjBgCCYwYAg2MGAIRjBgCFYwYAhmMGAIdjBgCIYwYAiWMGAIpjBgCLYwYAjGMGAI1jBgCOYwYAj2MGAJBjBgCRYwYAkmMGAJNjBgCUYwYAlWMGAJZjBgCXYwYAmGMGAJljBgCaYwYAm2MGAJxjBgCdYwYAnmMGAJ9jBgCgYwYAoWMGAKJjBgCjYwYApGMGAKVjBgCmYwYAp2MGAKhjBgCpYwYAqmMGAKtjBgCsYwYArWMGAK5jBgCvYwYAsGMGALFjBgCyYwYAs2MGALRjBgC1YwYAtmMGALdjBgC4YwYAuWMGALpjBgC7YwYAvGMGAL1jBgC+YwYAv2MGAMBjBgDBYwYAwmMGAMNjBgDEYwYAxWMGAMZjBgDHYwYAyGMGAMljBgDKYwYAy2MGAMxjBgDNYwYAzmMGAM9jBgDQYwYA0WMGANJjBgDTYwYA1GMGANVjBgDWYwYA12MGANhjBgDZYwYA2mMGANtjBgDcYwYA3WMGAN5jBgDfYwYA4GMGAOFjBgDiYwYA42MGAORjBgDlYwYA5mMGAOdjBgDoYwYA6WMGAOpjBgDrYwYA7GMGAO1jBgDuYwYA72MGAPBjBgDxYwYA8mMGAPNjBgD0YwYA9WMGAPZjBgD3YwYA+GMGAPljBgD6YwYA+2MGAPxjBgD9YwYA/mMGAP9jBgAAZAYAAWQGAAJkBgADZAYABGQGAAVkBgAGZAYAB2QGAAhkBgAJZAYACmQGAAtkBgAMZAYADWQGAA5kBgAPZAYAEGQGABFkBgASZAYAE2QGABRkBgAVZAYAFmQGABdkBgAYZAYAGWQGABpkBgAbZAYAHGQGAB1kBgAeZAYAH2QGACBkBgAhZAYAImQGACNkBgAkZAYAJWQGACZkBgAnZAYAKGQGAClkBgAqZAYAK2QGACxkBgAtZAYALmQGAC9kBgAwZAYAMWQGADJkBgAzZAYANGQGADVkBgA2ZAYAN2QGADhkBgA5ZAYAOmQGADtkBgA8ZAYAPWQGAD5kBgA/ZAYAQGQGAEFkBgBCZAYAQ2QGAERkBgBFZAYARmQGAEdkBgBIZAYASWQGAEpkBgBLZAYATGQGAE1kBgBOZAYAT2QGAFBkBgBRZAYAUmQGAFNkBgBUZAYAVWQGAFZkBgBXZAYAWGQGAFlkBgBaZAYAW2QGAFxkBgBdZAYAXmQGAF9kBgBgZAYAYWQGAGJkBgBjZAYAZGQGAGVkBgBmZAYAZ2QGAGhkBgBpZAYAamQGAGtkBgBsZAYAbWQGAG5kBgBvZAYAcGQGAHFkBgByZAYAc2QGAHRkBgB1ZAYAdmQGAHdkBgB4ZAYAeWQGAHpkBgB7ZAYAfGQGAH1kBgB+ZAYAf2QGAIBkBgCBZAYAgmQGAINkBgCEZAYAhWQGAIZkBgCHZAYAiGQGAIlkBgCKZAYAi2QGAIxkBgCNZAYAjmQGAI9kBgCQZAYAkWQGAJJkBgCTZAYAlGQGAJVkBgCWZAYAl2QGAJhkBgCZZAYAmmQGAJtkBgCcZAYAnWQGAJ5kBgCfZAYAoGQGAKFkBgCiZAYAo2QGAKRkBgClZAYApmQGAKdkBgCoZAYAqWQGAKpkBgCrZAYArGQGAK1kBgCuZAYAr2QGALBkBgCxZAYAsmQGALNkBgC0ZAYAtWQGALZkBgC3ZAYAuGQGALlkBgC6ZAYAu2QGALxkBgC9ZAYAvmQGAL9kBgDAZAYAwWQGAMJkBgDDZAYAxGQGAMVkBgDGZAYAx2QGAMhkBgDJZAYAymQGAMtkBgDMZAYAzWQGAM5kBgDPZAYA0GQGANFkBgDSZAYA02QGANRkBgDVZAYA1mQGANdkBgDYZAYA2WQGANpkBgDbZAYA3GQGAN1kBgDeZAYA32QGAOBkBgDhZAYA4mQGAONkBgDkZAYA5WQGAOZkBgDnZAYA6GQGAOlkBgDqZAYA62QGAOxkBgDtZAYA7mQGAO9kBgDwZAYA8WQGAPJkBgDzZAYA9GQGAPVkBgD2ZAYA92QGAPhkBgD5ZAYA+mQGAPtkBgD8ZAYA/WQGAP5kBgD/ZAYAAGUGAAFlBgACZQYAA2UGAARlBgAFZQYABmUGAAdlBgAIZQYACWUGAAplBgALZQYADGUGAA1lBgAOZQYAD2UGABBlBgARZQYAEmUGABNlBgAUZQYAFWUGABZlBgAXZQYAGGUGABllBgAaZQYAG2UGABxlBgAdZQYAHmUGAB9lBgAgZQYAIWUGACJlBgAjZQYAJGUGACVlBgAmZQYAJ2UGAChlBgApZQYAKmUGACtlBgAsZQYALWUGAC5lBgAvZQYAMGUGADFlBgAyZQYAM2UGADRlBgA1ZQYANmUGADdlBgA4ZQYAOWUGADplBgA7ZQYAPGUGAD1lBgA+ZQYAP2UGAEBlBgBBZQYAQmUGAENlBgBEZQYARWUGAEZlBgBHZQYASGUGAEllBgBKZQYAS2UGAExlBgBNZQYATmUGAE9lBgBQZQYAUWUGAFJlBgBTZQYAVGUGAFVlBgBWZQYAV2UGAFhlBgBZZQYAWmUGAFtlBgBcZQYAXWUGAF5lBgBfZQYAYGUGAGFlBgBiZQYAY2UGAGRlBgBlZQYAZmUGAGdlBgBoZQYAaWUGAGplBgBrZQYAbGUGAG1lBgBuZQYAb2UGAHBlBgBxZQYAcmUGAHNlBgB0ZQYAdWUGAHZlBgB3ZQYAeGUGAHllBgB6ZQYAe2UGAHxlBgB9ZQYAfmUGAH9lBgCAZQYAgWUGAIJlBgCDZQYAhGUGAIVlBgCGZQYAh2UGAIhlBgCJZQYAimUGAItlBgCMZQYAjWUGAI5lBgCPZQYAkGUGAJFlBgCSZQYAk2UGAJRlBgCVZQYAlmUGAJdlBgCYZQYAmWUGAJplBgCbZQYAnGUGAJ1lBgCeZQYAn2UGAKBlBgChZQYAomUGAKNlBgCkZQYApWUGAKZlBgCnZQYAqGUGAKllBgCqZQYAq2UGAKxlBgCtZQYArmUGAK9lBgCwZQYAsWUGALJlBgCzZQYAtGUGALVlBgC2ZQYAt2UGALhlBgC5ZQYAumUGALtlBgC8ZQYAvWUGAL5lBgC/ZQYAwGUGAMFlBgDCZQYAw2UGAMRlBgDFZQYAxmUGAMdlBgDIZQYAyWUGAMplBgDLZQYAzGUGAM1lBgDOZQYAz2UGANBlBgDRZQYA0mUGANNlBgDUZQYA1WUGANZlBgDXZQYA2GUGANllBgDaZQYA22UGANxlBgDdZQYA3mUGAN9lBgDgZQYA4WUGAOJlBgDjZQYA5GUGAOVlBgDmZQYA52UGAOhlBgDpZQYA6mUGAOtlBgDsZQYA7WUGAO5lBgDvZQYA8GUGAPFlBgDyZQYA82UGAPRlBgD1ZQYA9mUGAPdlBgD4ZQYA+WUGAPplBgD7ZQYA/GUGAP1lBgD+ZQYA/2UGAABmBgABZgYAAmYGAANmBgAEZgYABWYGAAZmBgAHZgYACGYGAAlmBgAKZgYAC2YGAAxmBgANZgYADmYGAA9mBgAQZgYAEWYGABJmBgATZgYAFGYGABVmBgAWZgYAF2YGABhmBgAZZgYAGmYGABtmBgAcZgYAHWYGAB5mBgAfZgYAIGYGACFmBgAiZgYAI2YGACRmBgAlZgYAJmYGACdmBgAoZgYAKWYGACpmBgArZgYALGYGAC1mBgAuZgYAL2YGADBmBgAxZgYAMmYGADNmBgA0ZgYANWYGADZmBgA3ZgYAOGYGADlmBgA6ZgYAO2YGADxmBgA9ZgYAPmYGAD9mBgBAZgYAQWYGAEJmBgBDZgYARGYGAEVmBgBGZgYAR2YGAEhmBgBJZgYASmYGAEtmBgBMZgYATWYGAE5mBgBPZgYAUGYGAFFmBgBSZgYAU2YGAFRmBgBVZgYAVmYGAFdmBgBYZgYAWWYGAFpmBgBbZgYAXGYGAF1mBgBeZgYAX2YGAGBmBgBhZgYAYmYGAGNmBgBkZgYAZWYGAGZmBgBnZgYAaGYGAGlmBgBqZgYAa2YGAGxmBgBtZgYAbmYGAG9mBgBwZgYAcWYGAHJmBgBzZgYAdGYGAHVmBgB2ZgYAd2YGAHhmBgB5ZgYAemYGAHtmBgB8ZgYAfWYGAH5mBgB/ZgYAgGYGAIFmBgCCZgYAg2YGAIRmBgCFZgYAhmYGAIdmBgCIZgYAiWYGAIpmBgCLZgYAjGYGAI1mBgCOZgYAj2YGAJBmBgCRZgYAkmYGAJNmBgCUZgYAlWYGAJZmBgCXZgYAmGYGAJlmBgCaZgYAm2YGAJxmBgCdZgYAnmYGAJ9mBgCgZgYAoWYGAKJmBgCjZgYApGYGAKVmBgCmZgYAp2YGAKhmBgCpZgYAqmYGAKtmBgCsZgYArWYGAK5mBgCvZgYAsGYGALFmBgCyZgYAs2YGALRmBgC1ZgYAtmYGALdmBgC4ZgYAuWYGALpmBgC7ZgYAvGYGAL1mBgC+ZgYAv2YGAMBmBgDBZgYAwmYGAMNmBgDEZgYAxWYGAMZmBgDHZgYAyGYGAMlmBgDKZgYAy2YGAMxmBgDNZgYAzmYGAM9mBgDQZgYA0WYGANJmBgDTZgYA1GYGANVmBgDWZgYA12YGANhmBgDZZgYA2mYGANtmBgDcZgYA3WYGAN5mBgDfZgYA4GYGAOFmBgDiZgYA42YGAORmBgDlZgYA5mYGAOdmBgDoZgYA6WYGAOpmBgDrZgYA7GYGAO1mBgDuZgYA72YGAPBmBgDxZgYA8mYGAPNmBgD0ZgYA9WYGAPZmBgD3ZgYA+GYGAPlmBgD6ZgYA+2YGAPxmBgD9ZgYA/mYGAP9mBgAAZwYAAWcGAAJnBgADZwYABGcGAAVnBgAGZwYAB2cGAAhnBgAJZwYACmcGAAtnBgAMZwYADWcGAA5nBgAPZwYAEGcGABFnBgASZwYAE2cGABRnBgAVZwYAFmcGABdnBgAYZwYAGWcGABpnBgAbZwYAHGcGAB1nBgAeZwYAH2cGACBnBgAhZwYAImcGACNnBgAkZwYAJWcGACZnBgAnZwYAKGcGAClnBgAqZwYAK2cGACxnBgAtZwYALmcGAC9nBgAwZwYAMWcGADJnBgAzZwYANGcGADVnBgA2ZwYAN2cGADhnBgA5ZwYAOmcGADtnBgA8ZwYAPWcGAD5nBgA/ZwYAQGcGAEFnBgBCZwYAQ2cGAERnBgBFZwYARmcGAEdnBgBIZwYASWcGAEpnBgBLZwYATGcGAE1nBgBOZwYAT2cGAFBnBgBRZwYAUmcGAFNnBgBUZwYAVWcGAFZnBgBXZwYAWGcGAFlnBgBaZwYAW2cGAFxnBgBdZwYAXmcGAF9nBgBgZwYAYWcGAGJnBgBjZwYAZGcGAGVnBgBmZwYAZ2cGAGhnBgBpZwYAamcGAGtnBgBsZwYAbWcGAG5nBgBvZwYAcGcGAHFnBgByZwYAc2cGAHRnBgB1ZwYAdmcGAHdnBgB4ZwYAeWcGAHpnBgB7ZwYAfGcGAH1nBgB+ZwYAf2cGAIBnBgCBZwYAgmcGAINnBgCEZwYAhWcGAIZnBgCHZwYAiGcGAIlnBgCKZwYAi2cGAIxnBgCNZwYAjmcGAI9nBgCQZwYAkWcGAJJnBgCTZwYAlGcGAJVnBgCWZwYAl2cGAJhnBgCZZwYAmmcGAJtnBgCcZwYAnWcGAJ5nBgCfZwYAoGcGAKFnBgCiZwYAo2cGAKRnBgClZwYApmcGAKdnBgCoZwYAqWcGAKpnBgCrZwYArGcGAK1nBgCuZwYAr2cGALBnBgCxZwYAsmcGALNnBgC0ZwYAtWcGALZnBgC3ZwYAuGcGALlnBgC6ZwYAu2cGALxnBgC9ZwYAvmcGAL9nBgDAZwYAwWcGAMJnBgDDZwYAxGcGAMVnBgDGZwYAx2cGAMhnBgDJZwYAymcGAMtnBgDMZwYAzWcGAM5nBgDPZwYA0GcGANFnBgDSZwYA02cGANRnBgDVZwYA1mcGANdnBgDYZwYA2WcGANpnBgDbZwYA3GcGAN1nBgDeZwYA32cGAOBnBgDhZwYA4mcGAONnBgDkZwYA5WcGAOZnBgDnZwYA6GcGAOlnBgDqZwYA62cGAOxnBgDtZwYA7mcGAO9nBgDwZwYA8WcGAPJnBgDzZwYA9GcGAPVnBgD2ZwYA92cGAPhnBgD5ZwYA+mcGAPtnBgD8ZwYA/WcGAP5nBgD/ZwYAAGgGAAFoBgACaAYAA2gGAARoBgAFaAYABmgGAAdoBgAIaAYACWgGAApoBgALaAYADGgGAA1oBgAOaAYAD2gGABBoBgARaAYAEmgGABNoBgAUaAYAFWgGABZoBgAXaAYAGGgGABloBgAaaAYAG2gGABxoBgAdaAYAHmgGAB9oBgAgaAYAIWgGACJoBgAjaAYAJGgGACVoBgAmaAYAJ2gGAChoBgApaAYAKmgGACtoBgAsaAYALWgGAC5oBgAvaAYAMGgGADFoBgAyaAYAM2gGADRoBgA1aAYANmgGADdoBgA4aAYAOWgGADpoBgA7aAYAPGgGAD1oBgA+aAYAP2gGAEBoBgBBaAYAQmgGAENoBgBEaAYARWgGAEZoBgBHaAYASGgGAEloBgBKaAYAS2gGAExoBgBNaAYATmgGAE9oBgBQaAYAUWgGAFJoBgBTaAYAVGgGAFVoBgBWaAYAV2gGAFhoBgBZaAYAWmgGAFtoBgBcaAYAXWgGAF5oBgBfaAYAYGgGAGFoBgBiaAYAY2gGAGRoBgBlaAYAZmgGAGdoBgBoaAYAaWgGAGpoBgBraAYAbGgGAG1oBgBuaAYAb2gGAHBoBgBxaAYAcmgGAHNoBgB0aAYAdWgGAHZoBgB3aAYAeGgGAHloBgB6aAYAe2gGAHxoBgB9aAYAfmgGAH9oBgCAaAYAgWgGAIJoBgCDaAYAhGgGAIVoBgCGaAYAh2gGAIhoBgCJaAYAimgGAItoBgCMaAYAjWgGAI5oBgCPaAYAkGgGAJFoBgCSaAYAk2gGAJRoBgCVaAYAlmgGAJdoBgCYaAYAmWgGAJpoBgCbaAYAnGgGAJ1oBgCeaAYAn2gGAKBoBgChaAYAomgGAKNoBgCkaAYApWgGAKZoBgCnaAYAqGgGAKloBgCqaAYAq2gGAKxoBgCtaAYArmgGAK9oBgCwaAYAsWgGALJoBgCzaAYAtGgGALVoBgC2aAYAt2gGALhoBgC5aAYAumgGALtoBgC8aAYAvWgGAL5oBgC/aAYAwGgGAMFoBgDCaAYAw2gGAMRoBgDFaAYAxmgGAMdoBgDIaAYAyWgGAMpoBgDLaAYAzGgGAM1oBgDOaAYAz2gGANBoBgDRaAYA0mgGANNoBgDUaAYA1WgGANZoBgDXaAYA2GgGANloBgDaaAYA22gGANxoBgDdaAYA3mgGAN9oBgDgaAYA4WgGAOJoBgDjaAYA5GgGAOVoBgDmaAYA52gGAOhoBgDpaAYA6mgGAOtoBgDsaAYA7WgGAO5oBgDvaAYA8GgGAPFoBgDyaAYA82gGAPRoBgD1aAYA9mgGAPdoBgD4aAYA+WgGAPpoBgD7aAYA/GgGAP1oBgD+aAYA/2gGAABpBgABaQYAAmkGAANpBgAEaQYABWkGAAZpBgAHaQYACGkGAAlpBgAKaQYAC2kGAAxpBgANaQYADmkGAA9pBgAQaQYAEWkGABJpBgATaQYAFGkGABVpBgAWaQYAF2kGABhpBgAZaQYAGmkGABtpBgAcaQYAHWkGAB5pBgAfaQYAIGkGACFpBgAiaQYAI2kGACRpBgAlaQYAJmkGACdpBgAoaQYAKWkGACppBgAraQYALGkGAC1pBgAuaQYAL2kGADBpBgAxaQYAMmkGADNpBgA0aQYANWkGADZpBgA3aQYAOGkGADlpBgA6aQYAO2kGADxpBgA9aQYAPmkGAD9pBgBAaQYAQWkGAEJpBgBDaQYARGkGAEVpBgBGaQYAR2kGAEhpBgBJaQYASmkGAEtpBgBMaQYATWkGAE5pBgBPaQYAUGkGAFFpBgBSaQYAU2kGAFRpBgBVaQYAVmkGAFdpBgBYaQYAWWkGAFppBgBbaQYAXGkGAF1pBgBeaQYAX2kGAGBpBgBhaQYAYmkGAGNpBgBkaQYAZWkGAGZpBgBnaQYAaGkGAGlpBgBqaQYAa2kGAGxpBgBtaQYAbmkGAG9pBgBwaQYAcWkGAHJpBgBzaQYAdGkGAHVpBgB2aQYAd2kGAHhpBgB5aQYAemkGAHtpBgB8aQYAfWkGAH5pBgB/aQYAgGkGAIFpBgCCaQYAg2kGAIRpBgCFaQYAhmkGAIdpBgCIaQYAiWkGAIppBgCLaQYAjGkGAI1pBgCOaQYAj2kGAJBpBgCRaQYAkmkGAJNpBgCUaQYAlWkGAJZpBgCXaQYAmGkGAJlpBgCaaQYAm2kGAJxpBgCdaQYAnmkGAJ9pBgCgaQYAoWkGAKJpBgCjaQYApGkGAKVpBgCmaQYAp2kGAKhpBgCpaQYAqmkGAKtpBgCsaQYArWkGAK5pBgCvaQYAsGkGALFpBgCyaQYAs2kGALRpBgC1aQYAtmkGALdpBgC4aQYAuWkGALppBgC7aQYAvGkGAL1pBgC+aQYAv2kGAMBpBgDBaQYAwmkGAMNpBgDEaQYAxWkGAMZpBgDHaQYAyGkGAMlpBgDKaQYAy2kGAMxpBgDNaQYAzmkGAM9pBgDQaQYA0WkGANJpBgDTaQYA1GkGANVpBgDWaQYA12kGANhpBgDZaQYA2mkGANtpBgDcaQYA3WkGAN5pBgDfaQYA4GkGAOFpBgDiaQYA42kGAORpBgDlaQYA5mkGAOdpBgDoaQYA6WkGAOppBgDraQYA7GkGAO1pBgDuaQYA72kGAPBpBgDxaQYA8mkGAPNpBgD0aQYA9WkGAPZpBgD3aQYA+GkGAPlpBgD6aQYA+2kGAPxpBgD9aQYA/mkGAP9pBgAAagYAAWoGAAJqBgADagYABGoGAAVqBgAGagYAB2oGAAhqBgAJagYACmoGAAtqBgAMagYADWoGAA5qBgAPagYAEGoGABFqBgASagYAE2oGABRqBgAVagYAFmoGABdqBgAYagYAGWoGABpqBgAbagYAHGoGAB1qBgAeagYAH2oGACBqBgAhagYAImoGACNqBgAkagYAJWoGACZqBgAnagYAKGoGAClqBgAqagYAK2oGACxqBgAtagYALmoGAC9qBgAwagYAMWoGADJqBgAzagYANGoGADVqBgA2agYAN2oGADhqBgA5agYAOmoGADtqBgA8agYAPWoGAD5qBgA/agYAQGoGAEFqBgBCagYAQ2oGAERqBgBFagYARmoGAEdqBgBIagYASWoGAEpqBgBLagYATGoGAE1qBgBOagYAT2oGAFBqBgBRagYAUmoGAFNqBgBUagYAVWoGAFZqBgBXagYAWGoGAFlqBgBaagYAW2oGAFxqBgBdagYAXmoGAF9qBgBgagYAYWoGAGJqBgBjagYAZGoGAGVqBgBmagYAZ2oGAGhqBgBpagYAamoGAGtqBgBsagYAbWoGAG5qBgBvagYAcGoGAHFqBgByagYAc2oGAHRqBgB1agYAdmoGAHdqBgB4agYAeWoGAHpqBgB7agYAfGoGAH1qBgB+agYAf2oGAIBqBgCBagYAgmoGAINqBgCEagYAhWoGAIZqBgCHagYAiGoGAIlqBgCKagYAi2oGAIxqBgCNagYAjmoGAI9qBgCQagYAkWoGAJJqBgCTagYAlGoGAJVqBgCWagYAl2oGAJhqBgCZagYAmmoGAJtqBgCcagYAnWoGAJ5qBgCfagYAoGoGAKFqBgCiagYAo2oGAKRqBgClagYApmoGAKdqBgCoagYAqWoGAKpqBgCragYArGoGAK1qBgCuagYAr2oGALBqBgCxagYAsmoGALNqBgC0agYAtWoGALZqBgC3agYAuGoGALlqBgC6agYAu2oGALxqBgA=\"},\"shape\":[2000],\"dtype\":\"int32\",\"order\":\"little\"},{\"type\":\"ndarray\",\"array\":{\"type\":\"bytes\",\"data\":\"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\"},\"shape\":[2000],\"dtype\":\"int32\",\"order\":\"little\"},{\"type\":\"ndarray\",\"array\":{\"type\":\"bytes\",\"data\":\"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\"},\"shape\":[2000],\"dtype\":\"int32\",\"order\":\"little\"},{\"type\":\"ndarray\",\"array\":{\"type\":\"bytes\",\"data\":\"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\"},\"shape\":[2000],\"dtype\":\"int32\",\"order\":\"little\"},{\"type\":\"ndarray\",\"array\":{\"type\":\"bytes\",\"data\":\"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\"},\"shape\":[2000],\"dtype\":\"int32\",\"order\":\"little\"},{\"type\":\"ndarray\",\"array\":{\"type\":\"bytes\",\"data\":\"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\"},\"shape\":[2000],\"dtype\":\"int32\",\"order\":\"little\"}]],[\"series\",[{\"type\":\"ndarray\",\"array\":{\"type\":\"bytes\",\"data\":\"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\"},\"shape\":[2000],\"dtype\":\"float64\",\"order\":\"little\"},{\"type\":\"ndarray\",\"array\":{\"type\":\"bytes\",\"data\":\"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\"},\"shape\":[2000],\"dtype\":\"float32\",\"order\":\"little\"},{\"type\":\"ndarray\",\"array\":{\"type\":\"bytes\",\"data\":\"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\"},\"shape\":[2000],\"dtype\":\"float32\",\"order\":\"little\"},{\"type\":\"ndarray\",\"array\":{\"type\":\"bytes\",\"data\":\"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\"},\"shape\":[2000],\"dtype\":\"float32\",\"order\":\"little\"},{\"type\":\"ndarray\",\"array\":{\"type\":\"bytes\",\"data\":\"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\"},\"shape\":[2000],\"dtype\":\"float32\",\"order\":\"little\"},{\"type\":\"ndarray\",\"array\":{\"type\":\"bytes\",\"data\":\"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\"},\"shape\":[2000],\"dtype\":\"float32\",\"order\":\"little\"}]],[\"name\",[\"sarimax\",\"mlp\",\"ground_truth\",\"lstm\",\"cnn1d\",\"cnn2d\"]],[\"color\",[\"#1f77b4\",\"#ff7f0e\",\"#2ca02c\",\"#d62728\",\"#9467bd\",\"#8c564b\"]]]}}},\"view\":{\"type\":\"object\",\"name\":\"CDSView\",\"id\":\"p1045\",\"attributes\":{\"filter\":{\"type\":\"object\",\"name\":\"AllIndices\",\"id\":\"p1046\"}}},\"glyph\":{\"type\":\"object\",\"name\":\"MultiLine\",\"id\":\"p1040\",\"attributes\":{\"xs\":{\"type\":\"field\",\"field\":\"x\"},\"ys\":{\"type\":\"field\",\"field\":\"series\"},\"line_color\":{\"type\":\"field\",\"field\":\"color\"},\"line_alpha\":{\"type\":\"value\",\"value\":0.6},\"line_width\":{\"type\":\"value\",\"value\":2}}},\"nonselection_glyph\":{\"type\":\"object\",\"name\":\"MultiLine\",\"id\":\"p1041\",\"attributes\":{\"xs\":{\"type\":\"field\",\"field\":\"x\"},\"ys\":{\"type\":\"field\",\"field\":\"series\"},\"line_color\":{\"type\":\"field\",\"field\":\"color\"},\"line_alpha\":{\"type\":\"value\",\"value\":0.1},\"line_width\":{\"type\":\"value\",\"value\":2}}},\"hover_glyph\":{\"type\":\"object\",\"name\":\"MultiLine\",\"id\":\"p1042\",\"attributes\":{\"xs\":{\"type\":\"field\",\"field\":\"x\"},\"ys\":{\"type\":\"field\",\"field\":\"series\"},\"line_color\":{\"type\":\"field\",\"field\":\"color\"},\"line_width\":{\"type\":\"value\",\"value\":3}}},\"muted_glyph\":{\"type\":\"object\",\"name\":\"MultiLine\",\"id\":\"p1043\",\"attributes\":{\"xs\":{\"type\":\"field\",\"field\":\"x\"},\"ys\":{\"type\":\"field\",\"field\":\"series\"},\"line_color\":{\"type\":\"field\",\"field\":\"color\"},\"line_alpha\":{\"type\":\"value\",\"value\":0.2},\"line_width\":{\"type\":\"value\",\"value\":2}}}}}],\"toolbar\":{\"type\":\"object\",\"name\":\"Toolbar\",\"id\":\"p1013\",\"attributes\":{\"tools\":[{\"type\":\"object\",\"name\":\"PanTool\",\"id\":\"p1026\"},{\"type\":\"object\",\"name\":\"BoxZoomTool\",\"id\":\"p1027\",\"attributes\":{\"overlay\":{\"type\":\"object\",\"name\":\"BoxAnnotation\",\"id\":\"p1028\",\"attributes\":{\"syncable\":false,\"level\":\"overlay\",\"visible\":false,\"left\":{\"type\":\"number\",\"value\":\"nan\"},\"right\":{\"type\":\"number\",\"value\":\"nan\"},\"top\":{\"type\":\"number\",\"value\":\"nan\"},\"bottom\":{\"type\":\"number\",\"value\":\"nan\"},\"left_units\":\"canvas\",\"right_units\":\"canvas\",\"top_units\":\"canvas\",\"bottom_units\":\"canvas\",\"line_color\":\"black\",\"line_alpha\":1.0,\"line_width\":2,\"line_dash\":[4,4],\"fill_color\":\"lightgrey\",\"fill_alpha\":0.5}}}},{\"type\":\"object\",\"name\":\"ResetTool\",\"id\":\"p1033\"},{\"type\":\"object\",\"name\":\"SaveTool\",\"id\":\"p1034\"},{\"type\":\"object\",\"name\":\"HoverTool\",\"id\":\"p1035\",\"attributes\":{\"renderers\":\"auto\",\"tooltips\":[[\"Serie\",\"@name\"],[\"Temperatura\",\"$y{0.0 a}\\u00b0\"]]}},{\"type\":\"object\",\"name\":\"TapTool\",\"id\":\"p1036\",\"attributes\":{\"renderers\":\"auto\"}}]}},\"left\":[{\"type\":\"object\",\"name\":\"LinearAxis\",\"id\":\"p1021\",\"attributes\":{\"ticker\":{\"type\":\"object\",\"name\":\"BasicTicker\",\"id\":\"p1022\",\"attributes\":{\"mantissas\":[1,2,5]}},\"formatter\":{\"type\":\"object\",\"name\":\"BasicTickFormatter\",\"id\":\"p1023\"},\"axis_label\":\"Temperatura\",\"major_label_policy\":{\"type\":\"object\",\"name\":\"AllLabels\",\"id\":\"p1024\"}}}],\"below\":[{\"type\":\"object\",\"name\":\"LinearAxis\",\"id\":\"p1016\",\"attributes\":{\"ticker\":{\"type\":\"object\",\"name\":\"BasicTicker\",\"id\":\"p1017\",\"attributes\":{\"mantissas\":[1,2,5]}},\"formatter\":{\"type\":\"object\",\"name\":\"BasicTickFormatter\",\"id\":\"p1018\"},\"axis_label\":\"Tiempo\",\"major_label_policy\":{\"type\":\"object\",\"name\":\"AllLabels\",\"id\":\"p1019\"}}}],\"center\":[{\"type\":\"object\",\"name\":\"Grid\",\"id\":\"p1020\",\"attributes\":{\"axis\":{\"id\":\"p1016\"}}},{\"type\":\"object\",\"name\":\"Grid\",\"id\":\"p1025\",\"attributes\":{\"dimension\":1,\"axis\":{\"id\":\"p1021\"}}},{\"type\":\"object\",\"name\":\"Legend\",\"id\":\"p1047\",\"attributes\":{\"items\":[{\"type\":\"object\",\"name\":\"LegendItem\",\"id\":\"p1048\",\"attributes\":{\"label\":{\"type\":\"field\",\"field\":\"name\"},\"renderers\":[{\"id\":\"p1044\"}]}}]}}]}}]}};\n  const render_items = [{\"docid\":\"40d011bd-0062-428a-98b2-46785b77bf66\",\"roots\":{\"p1004\":\"cfe1bae7-865c-4c73-b66b-ae15d089a13f\"},\"root_ids\":[\"p1004\"]}];\n  root.Bokeh.embed.embed_items_notebook(docs_json, render_items);\n  }\n  if (root.Bokeh !== undefined) {\n    embed_document(root);\n  } else {\n    let attempts = 0;\n    const timer = setInterval(function(root) {\n      if (root.Bokeh !== undefined) {\n        clearInterval(timer);\n        embed_document(root);\n      } else {\n        attempts++;\n        if (attempts > 100) {\n          clearInterval(timer);\n          console.log(\"Bokeh: ERROR: Unable to run BokehJS code because BokehJS library is missing\");\n        }\n      }\n    }, 10, root)\n  }\n})(window);",
      "application/vnd.bokehjs_exec.v0+json": ""
     },
     "metadata": {
      "application/vnd.bokehjs_exec.v0+json": {
       "id": "p1004"
      }
     },
     "output_type": "display_data"
    }
   ],
   "source": [
    "from collections import defaultdict\n",
    "from bokeh.layouts import gridplot\n",
    "from bokeh.plotting import figure, show\n",
    "from bokeh.palettes import Category10\n",
    "from bokeh.models import ColumnDataSource\n",
    "\n",
    "bokeh_data = defaultdict(list)\n",
    "for column in visual_check.columns:\n",
    "    bokeh_data['x'].append(visual_check.index.values)\n",
    "    bokeh_data['series'].append(visual_check[column].values)\n",
    "    bokeh_data['name'].append(column)\n",
    "\n",
    "bokeh_data['color'] = Category10[6]\n",
    "\n",
    "source = ColumnDataSource(bokeh_data)\n",
    "\n",
    "TOOLS = \"pan,box_zoom,reset,save,hover,tap\"\n",
    "TOOLTIPS=[\n",
    "    (\"Serie\", \"@name\"),\n",
    "    (\"Temperatura\", \"$y{0.0 a}°\")\n",
    "]\n",
    "p = figure(\n",
    "    title='Comparación visual entre pronósticos y realidad', \n",
    "    tools=TOOLS,\n",
    "    tooltips=TOOLTIPS,\n",
    "    width_policy='max'\n",
    "    )\n",
    "\n",
    "alpha_values = [1.0 if col == 'ground_truth' else 0.3 for col in visual_check.columns]\n",
    "p.multi_line(\n",
    "    xs='x',\n",
    "    ys='series',\n",
    "    line_color='color',\n",
    "    line_alpha=0.6,\n",
    "    hover_line_alpha=1.0,\n",
    "    line_width=2,\n",
    "    hover_line_width=3,\n",
    "    legend_field='name',\n",
    "    source=source\n",
    ")\n",
    "\n",
    "\n",
    "p.yaxis.axis_label = \"Temperatura\"\n",
    "p.xaxis.axis_label = \"Tiempo\"\n",
    "\n",
    "show(p)\n"
   ]
  },
  {
   "cell_type": "markdown",
   "metadata": {},
   "source": [
    "Observamos que en geneal cada modelo tiene varios aciertos y errores. Algo interesante que vale la pena seguir resaltando es que si bien todos los modelos de DL tienen mejores métricas en general, al graficarlos todos tiene un comportamiento errático en comparación con el modelo SARIMAX. Esto puede deberse a múltiples factores y quizás se pueda mejorar haciendo ajustes a los modelos. Sin embargo, los modelos de DL tienden a capturar mejor los altibajos de de la serie, solo que con una magnitud mayor a la esperada.\n",
    "\n",
    "La elección del mejor modelo debe basarse en múltiples factores. Para algunos casos la precisión es un aspecto no negociable pero por otros lados, lograr una alta precisión puede ser una tarea \"imposible\" por factores incluso externos a la información de la que disponemos. Aquí por ejemplo es donde ensambles de modelos pueden llegar a ser útiles para llegar a un consenso sobre las predicciones de los modelos. También hay otros factores a considerar como la simplicidad y la cantidad de recursos necesarios para modelar. No en todas las ocasiones se puede o debe usar un modelo clásico e igualmente un modelo de DL.\n",
    "\n",
    "Un detalle final para este ejercicio es que se ha trabajado con arquitecturas simples y genéricas, dando libertad de implenetación a quien estudie el problema. En la siguiente lección vamos a explorar una arquitectura especifica para series de tiempo y vamos a poder cerrar el ciclo de conocimientos en el tema."
   ]
  },
  {
   "cell_type": "markdown",
   "metadata": {},
   "source": []
  }
 ],
 "metadata": {
  "kernelspec": {
   "display_name": "icesi-advanced-dl",
   "language": "python",
   "name": "python3"
  },
  "language_info": {
   "codemirror_mode": {
    "name": "ipython",
    "version": 3
   },
   "file_extension": ".py",
   "mimetype": "text/x-python",
   "name": "python",
   "nbconvert_exporter": "python",
   "pygments_lexer": "ipython3",
   "version": "3.10.14"
  }
 },
 "nbformat": 4,
 "nbformat_minor": 2
}
